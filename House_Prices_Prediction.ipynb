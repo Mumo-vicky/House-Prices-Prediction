{
  "nbformat": 4,
  "nbformat_minor": 0,
  "metadata": {
    "colab": {
      "name": "House Prices Prediction.ipynb",
      "provenance": [],
      "authorship_tag": "ABX9TyOEzHZ7UYvmb2Kx20faNQ2b",
      "include_colab_link": true
    },
    "kernelspec": {
      "name": "python3",
      "display_name": "Python 3"
    }
  },
  "cells": [
    {
      "cell_type": "markdown",
      "metadata": {
        "id": "view-in-github",
        "colab_type": "text"
      },
      "source": [
        "<a href=\"https://colab.research.google.com/github/Mumo-vicky/House-Prices-Prediction/blob/master/House_Prices_Prediction.ipynb\" target=\"_parent\"><img src=\"https://colab.research.google.com/assets/colab-badge.svg\" alt=\"Open In Colab\"/></a>"
      ]
    },
    {
      "cell_type": "markdown",
      "metadata": {
        "id": "TgY1gaubK8BH",
        "colab_type": "text"
      },
      "source": [
        "# New section"
      ]
    },
    {
      "cell_type": "markdown",
      "metadata": {
        "id": "WOPxTArku-9M",
        "colab_type": "text"
      },
      "source": [
        "### **Problem definition**"
      ]
    },
    {
      "cell_type": "markdown",
      "metadata": {
        "id": "k4ut_UMTt6qQ",
        "colab_type": "text"
      },
      "source": [
        "I work for Hass Consulting Company which is a real estate leader with over 25 years of experience. I have been tasked to study the factors that affect housing prices using the given information on real estate properties that was collected over the past few months.\n",
        "\n",
        "I am suppossed to evaluate different regression models in order to find the most accurate for prediction of house prices based on the variables provided."
      ]
    },
    {
      "cell_type": "markdown",
      "metadata": {
        "id": "RkY55hHPuuyq",
        "colab_type": "text"
      },
      "source": [
        "### **Data Understanding**"
      ]
    },
    {
      "cell_type": "markdown",
      "metadata": {
        "id": "vm3pn2U2ZB7C",
        "colab_type": "text"
      },
      "source": [
        "Our data Contains the following columns.\n",
        "* Id\n",
        "* price  - Price of the house\n",
        "* bedrooms - Number of Bedrooms\n",
        "* bathrooms - Number of Bathrooms\n",
        "* sqft_living - Square feet area of living area\n",
        "* sqft_lot  - Square feet area of parking Layout\n",
        "* floors - Number of Floors\n",
        "* waterfront - Whether waterfront is there or not\n",
        "* view - Number of Views\n",
        "* grade - Grades\n",
        "* sqft_above\n",
        "* sqft_basement - Square feet area off basement\n",
        "* yr_built - Year the house is built\n",
        "* yr_renovated - Year the house is renovated\n",
        "* zipcode - zipcode os the house\n",
        "* lat : Latitude of the house\n",
        "* lon : Longitude of the house\n",
        "* sqft_living15\n",
        "* sqft_lot15"
      ]
    },
    {
      "cell_type": "markdown",
      "metadata": {
        "id": "nPGlw0gnuihV",
        "colab_type": "text"
      },
      "source": [
        "### **Experimental design**"
      ]
    },
    {
      "cell_type": "markdown",
      "metadata": {
        "id": "L1ltrNQ2uLeS",
        "colab_type": "text"
      },
      "source": [
        "The following are the tasks that I am going to perform:\n",
        "* Load the datasets\n",
        "* Data preparation\n",
        "* Perform Exploratory analysis\n",
        "* Check  for multicollinearity\n",
        "* Fit regression models to the data\n",
        "* Evaluate the models\n",
        "* Conclusion\n",
        "* Recommendations"
      ]
    },
    {
      "cell_type": "markdown",
      "metadata": {
        "id": "Cmk5OfWEVqrE",
        "colab_type": "text"
      },
      "source": [
        "**Loading apprpriate ibraries**"
      ]
    },
    {
      "cell_type": "code",
      "metadata": {
        "id": "BDgcvcoMqpK0",
        "colab_type": "code",
        "colab": {}
      },
      "source": [
        "import pandas as pd\n",
        "import numpy as np\n",
        "import matplotlib.pyplot as plt\n",
        "import seaborn as sns\n",
        "from sklearn.linear_model import LinearRegression\n",
        "from sklearn.model_selection import train_test_split\n",
        "from sklearn.metrics import mean_squared_error\n",
        "import scipy as sp\n",
        "import statsmodels.formula.api as smf\n",
        "from sklearn.model_selection import GridSearchCV\n",
        "from sklearn.linear_model import Ridge\n",
        "from sklearn.preprocessing import StandardScaler\n",
        "from sklearn import linear_model\n",
        "from sklearn.linear_model import ElasticNet"
      ],
      "execution_count": 3,
      "outputs": []
    },
    {
      "cell_type": "markdown",
      "metadata": {
        "id": "DV9_Azb2LVWf",
        "colab_type": "text"
      },
      "source": [
        "# **Data Preparation**"
      ]
    },
    {
      "cell_type": "markdown",
      "metadata": {
        "id": "NJCjy8MPLZwa",
        "colab_type": "text"
      },
      "source": [
        "**Loading the Data**"
      ]
    },
    {
      "cell_type": "code",
      "metadata": {
        "id": "XowvBrWjrTZO",
        "colab_type": "code",
        "colab": {}
      },
      "source": [
        "#loading the data from the url provided.\n",
        "data = pd.read_csv(\"http://bit.ly/IndependentProjectWeek7Dataset\")"
      ],
      "execution_count": 4,
      "outputs": []
    },
    {
      "cell_type": "markdown",
      "metadata": {
        "id": "A7zUfQ_BLoPE",
        "colab_type": "text"
      },
      "source": [
        "## **Previewing Data**"
      ]
    },
    {
      "cell_type": "code",
      "metadata": {
        "id": "oyd9OndHL9Wv",
        "colab_type": "code",
        "colab": {
          "base_uri": "https://localhost:8080/",
          "height": 224
        },
        "outputId": "df62231f-4de7-47f1-e31a-14004f3f74a7"
      },
      "source": [
        "#previewing the bottom\n",
        "data.head()"
      ],
      "execution_count": 5,
      "outputs": [
        {
          "output_type": "execute_result",
          "data": {
            "text/html": [
              "<div>\n",
              "<style scoped>\n",
              "    .dataframe tbody tr th:only-of-type {\n",
              "        vertical-align: middle;\n",
              "    }\n",
              "\n",
              "    .dataframe tbody tr th {\n",
              "        vertical-align: top;\n",
              "    }\n",
              "\n",
              "    .dataframe thead th {\n",
              "        text-align: right;\n",
              "    }\n",
              "</style>\n",
              "<table border=\"1\" class=\"dataframe\">\n",
              "  <thead>\n",
              "    <tr style=\"text-align: right;\">\n",
              "      <th></th>\n",
              "      <th>id</th>\n",
              "      <th>price</th>\n",
              "      <th>bedrooms</th>\n",
              "      <th>bathrooms</th>\n",
              "      <th>sqft_living</th>\n",
              "      <th>sqft_lot</th>\n",
              "      <th>floors</th>\n",
              "      <th>waterfront</th>\n",
              "      <th>view</th>\n",
              "      <th>condition</th>\n",
              "      <th>grade</th>\n",
              "      <th>sqft_above</th>\n",
              "      <th>sqft_basement</th>\n",
              "      <th>yr_built</th>\n",
              "      <th>yr_renovated</th>\n",
              "      <th>zipcode</th>\n",
              "      <th>lat</th>\n",
              "      <th>long</th>\n",
              "      <th>sqft_living15</th>\n",
              "      <th>sqft_lot15</th>\n",
              "    </tr>\n",
              "  </thead>\n",
              "  <tbody>\n",
              "    <tr>\n",
              "      <th>0</th>\n",
              "      <td>7129300520</td>\n",
              "      <td>221900.0</td>\n",
              "      <td>3</td>\n",
              "      <td>1.00</td>\n",
              "      <td>1180</td>\n",
              "      <td>5650</td>\n",
              "      <td>1.0</td>\n",
              "      <td>0</td>\n",
              "      <td>0</td>\n",
              "      <td>3</td>\n",
              "      <td>7</td>\n",
              "      <td>1180</td>\n",
              "      <td>0</td>\n",
              "      <td>1955</td>\n",
              "      <td>0</td>\n",
              "      <td>98178</td>\n",
              "      <td>47.5112</td>\n",
              "      <td>-122.257</td>\n",
              "      <td>1340</td>\n",
              "      <td>5650</td>\n",
              "    </tr>\n",
              "    <tr>\n",
              "      <th>1</th>\n",
              "      <td>6414100192</td>\n",
              "      <td>538000.0</td>\n",
              "      <td>3</td>\n",
              "      <td>2.25</td>\n",
              "      <td>2570</td>\n",
              "      <td>7242</td>\n",
              "      <td>2.0</td>\n",
              "      <td>0</td>\n",
              "      <td>0</td>\n",
              "      <td>3</td>\n",
              "      <td>7</td>\n",
              "      <td>2170</td>\n",
              "      <td>400</td>\n",
              "      <td>1951</td>\n",
              "      <td>1991</td>\n",
              "      <td>98125</td>\n",
              "      <td>47.7210</td>\n",
              "      <td>-122.319</td>\n",
              "      <td>1690</td>\n",
              "      <td>7639</td>\n",
              "    </tr>\n",
              "    <tr>\n",
              "      <th>2</th>\n",
              "      <td>5631500400</td>\n",
              "      <td>180000.0</td>\n",
              "      <td>2</td>\n",
              "      <td>1.00</td>\n",
              "      <td>770</td>\n",
              "      <td>10000</td>\n",
              "      <td>1.0</td>\n",
              "      <td>0</td>\n",
              "      <td>0</td>\n",
              "      <td>3</td>\n",
              "      <td>6</td>\n",
              "      <td>770</td>\n",
              "      <td>0</td>\n",
              "      <td>1933</td>\n",
              "      <td>0</td>\n",
              "      <td>98028</td>\n",
              "      <td>47.7379</td>\n",
              "      <td>-122.233</td>\n",
              "      <td>2720</td>\n",
              "      <td>8062</td>\n",
              "    </tr>\n",
              "    <tr>\n",
              "      <th>3</th>\n",
              "      <td>2487200875</td>\n",
              "      <td>604000.0</td>\n",
              "      <td>4</td>\n",
              "      <td>3.00</td>\n",
              "      <td>1960</td>\n",
              "      <td>5000</td>\n",
              "      <td>1.0</td>\n",
              "      <td>0</td>\n",
              "      <td>0</td>\n",
              "      <td>5</td>\n",
              "      <td>7</td>\n",
              "      <td>1050</td>\n",
              "      <td>910</td>\n",
              "      <td>1965</td>\n",
              "      <td>0</td>\n",
              "      <td>98136</td>\n",
              "      <td>47.5208</td>\n",
              "      <td>-122.393</td>\n",
              "      <td>1360</td>\n",
              "      <td>5000</td>\n",
              "    </tr>\n",
              "    <tr>\n",
              "      <th>4</th>\n",
              "      <td>1954400510</td>\n",
              "      <td>510000.0</td>\n",
              "      <td>3</td>\n",
              "      <td>2.00</td>\n",
              "      <td>1680</td>\n",
              "      <td>8080</td>\n",
              "      <td>1.0</td>\n",
              "      <td>0</td>\n",
              "      <td>0</td>\n",
              "      <td>3</td>\n",
              "      <td>8</td>\n",
              "      <td>1680</td>\n",
              "      <td>0</td>\n",
              "      <td>1987</td>\n",
              "      <td>0</td>\n",
              "      <td>98074</td>\n",
              "      <td>47.6168</td>\n",
              "      <td>-122.045</td>\n",
              "      <td>1800</td>\n",
              "      <td>7503</td>\n",
              "    </tr>\n",
              "  </tbody>\n",
              "</table>\n",
              "</div>"
            ],
            "text/plain": [
              "           id     price  bedrooms  ...     long  sqft_living15  sqft_lot15\n",
              "0  7129300520  221900.0         3  ... -122.257           1340        5650\n",
              "1  6414100192  538000.0         3  ... -122.319           1690        7639\n",
              "2  5631500400  180000.0         2  ... -122.233           2720        8062\n",
              "3  2487200875  604000.0         4  ... -122.393           1360        5000\n",
              "4  1954400510  510000.0         3  ... -122.045           1800        7503\n",
              "\n",
              "[5 rows x 20 columns]"
            ]
          },
          "metadata": {
            "tags": []
          },
          "execution_count": 5
        }
      ]
    },
    {
      "cell_type": "code",
      "metadata": {
        "id": "HMcThud1Lkkz",
        "colab_type": "code",
        "colab": {
          "base_uri": "https://localhost:8080/",
          "height": 224
        },
        "outputId": "df868102-2fc1-4d51-8a67-0adfeee9b203"
      },
      "source": [
        "#previwing the bottom\n",
        "data.tail()"
      ],
      "execution_count": 6,
      "outputs": [
        {
          "output_type": "execute_result",
          "data": {
            "text/html": [
              "<div>\n",
              "<style scoped>\n",
              "    .dataframe tbody tr th:only-of-type {\n",
              "        vertical-align: middle;\n",
              "    }\n",
              "\n",
              "    .dataframe tbody tr th {\n",
              "        vertical-align: top;\n",
              "    }\n",
              "\n",
              "    .dataframe thead th {\n",
              "        text-align: right;\n",
              "    }\n",
              "</style>\n",
              "<table border=\"1\" class=\"dataframe\">\n",
              "  <thead>\n",
              "    <tr style=\"text-align: right;\">\n",
              "      <th></th>\n",
              "      <th>id</th>\n",
              "      <th>price</th>\n",
              "      <th>bedrooms</th>\n",
              "      <th>bathrooms</th>\n",
              "      <th>sqft_living</th>\n",
              "      <th>sqft_lot</th>\n",
              "      <th>floors</th>\n",
              "      <th>waterfront</th>\n",
              "      <th>view</th>\n",
              "      <th>condition</th>\n",
              "      <th>grade</th>\n",
              "      <th>sqft_above</th>\n",
              "      <th>sqft_basement</th>\n",
              "      <th>yr_built</th>\n",
              "      <th>yr_renovated</th>\n",
              "      <th>zipcode</th>\n",
              "      <th>lat</th>\n",
              "      <th>long</th>\n",
              "      <th>sqft_living15</th>\n",
              "      <th>sqft_lot15</th>\n",
              "    </tr>\n",
              "  </thead>\n",
              "  <tbody>\n",
              "    <tr>\n",
              "      <th>21608</th>\n",
              "      <td>263000018</td>\n",
              "      <td>360000.0</td>\n",
              "      <td>3</td>\n",
              "      <td>2.50</td>\n",
              "      <td>1530</td>\n",
              "      <td>1131</td>\n",
              "      <td>3.0</td>\n",
              "      <td>0</td>\n",
              "      <td>0</td>\n",
              "      <td>3</td>\n",
              "      <td>8</td>\n",
              "      <td>1530</td>\n",
              "      <td>0</td>\n",
              "      <td>2009</td>\n",
              "      <td>0</td>\n",
              "      <td>98103</td>\n",
              "      <td>47.6993</td>\n",
              "      <td>-122.346</td>\n",
              "      <td>1530</td>\n",
              "      <td>1509</td>\n",
              "    </tr>\n",
              "    <tr>\n",
              "      <th>21609</th>\n",
              "      <td>6600060120</td>\n",
              "      <td>400000.0</td>\n",
              "      <td>4</td>\n",
              "      <td>2.50</td>\n",
              "      <td>2310</td>\n",
              "      <td>5813</td>\n",
              "      <td>2.0</td>\n",
              "      <td>0</td>\n",
              "      <td>0</td>\n",
              "      <td>3</td>\n",
              "      <td>8</td>\n",
              "      <td>2310</td>\n",
              "      <td>0</td>\n",
              "      <td>2014</td>\n",
              "      <td>0</td>\n",
              "      <td>98146</td>\n",
              "      <td>47.5107</td>\n",
              "      <td>-122.362</td>\n",
              "      <td>1830</td>\n",
              "      <td>7200</td>\n",
              "    </tr>\n",
              "    <tr>\n",
              "      <th>21610</th>\n",
              "      <td>1523300141</td>\n",
              "      <td>402101.0</td>\n",
              "      <td>2</td>\n",
              "      <td>0.75</td>\n",
              "      <td>1020</td>\n",
              "      <td>1350</td>\n",
              "      <td>2.0</td>\n",
              "      <td>0</td>\n",
              "      <td>0</td>\n",
              "      <td>3</td>\n",
              "      <td>7</td>\n",
              "      <td>1020</td>\n",
              "      <td>0</td>\n",
              "      <td>2009</td>\n",
              "      <td>0</td>\n",
              "      <td>98144</td>\n",
              "      <td>47.5944</td>\n",
              "      <td>-122.299</td>\n",
              "      <td>1020</td>\n",
              "      <td>2007</td>\n",
              "    </tr>\n",
              "    <tr>\n",
              "      <th>21611</th>\n",
              "      <td>291310100</td>\n",
              "      <td>400000.0</td>\n",
              "      <td>3</td>\n",
              "      <td>2.50</td>\n",
              "      <td>1600</td>\n",
              "      <td>2388</td>\n",
              "      <td>2.0</td>\n",
              "      <td>0</td>\n",
              "      <td>0</td>\n",
              "      <td>3</td>\n",
              "      <td>8</td>\n",
              "      <td>1600</td>\n",
              "      <td>0</td>\n",
              "      <td>2004</td>\n",
              "      <td>0</td>\n",
              "      <td>98027</td>\n",
              "      <td>47.5345</td>\n",
              "      <td>-122.069</td>\n",
              "      <td>1410</td>\n",
              "      <td>1287</td>\n",
              "    </tr>\n",
              "    <tr>\n",
              "      <th>21612</th>\n",
              "      <td>1523300157</td>\n",
              "      <td>325000.0</td>\n",
              "      <td>2</td>\n",
              "      <td>0.75</td>\n",
              "      <td>1020</td>\n",
              "      <td>1076</td>\n",
              "      <td>2.0</td>\n",
              "      <td>0</td>\n",
              "      <td>0</td>\n",
              "      <td>3</td>\n",
              "      <td>7</td>\n",
              "      <td>1020</td>\n",
              "      <td>0</td>\n",
              "      <td>2008</td>\n",
              "      <td>0</td>\n",
              "      <td>98144</td>\n",
              "      <td>47.5941</td>\n",
              "      <td>-122.299</td>\n",
              "      <td>1020</td>\n",
              "      <td>1357</td>\n",
              "    </tr>\n",
              "  </tbody>\n",
              "</table>\n",
              "</div>"
            ],
            "text/plain": [
              "               id     price  bedrooms  ...     long  sqft_living15  sqft_lot15\n",
              "21608   263000018  360000.0         3  ... -122.346           1530        1509\n",
              "21609  6600060120  400000.0         4  ... -122.362           1830        7200\n",
              "21610  1523300141  402101.0         2  ... -122.299           1020        2007\n",
              "21611   291310100  400000.0         3  ... -122.069           1410        1287\n",
              "21612  1523300157  325000.0         2  ... -122.299           1020        1357\n",
              "\n",
              "[5 rows x 20 columns]"
            ]
          },
          "metadata": {
            "tags": []
          },
          "execution_count": 6
        }
      ]
    },
    {
      "cell_type": "code",
      "metadata": {
        "id": "UUVXiEYqsIf-",
        "colab_type": "code",
        "colab": {
          "base_uri": "https://localhost:8080/",
          "height": 34
        },
        "outputId": "2395e6bf-3e47-4b96-fcdd-9dd0de04bfb3"
      },
      "source": [
        "#viewing the rows and columns.\n",
        "data.shape"
      ],
      "execution_count": 7,
      "outputs": [
        {
          "output_type": "execute_result",
          "data": {
            "text/plain": [
              "(21613, 20)"
            ]
          },
          "metadata": {
            "tags": []
          },
          "execution_count": 7
        }
      ]
    },
    {
      "cell_type": "code",
      "metadata": {
        "id": "k1BHHmGGrmUu",
        "colab_type": "code",
        "colab": {
          "base_uri": "https://localhost:8080/",
          "height": 782
        },
        "outputId": "cdf3d022-e74e-4631-e89f-5e811cca3efe"
      },
      "source": [
        "#checking for null, missing and duplicated values.\n",
        "print(\"Null Values\")\n",
        "print(data.isnull().sum())\n",
        "print(\"Missing Values\")\n",
        "print(data.isna().sum())\n",
        "print(\"Duplicated Values:\",data.duplicated().sum())"
      ],
      "execution_count": 8,
      "outputs": [
        {
          "output_type": "stream",
          "text": [
            "Null Values\n",
            "id               0\n",
            "price            0\n",
            "bedrooms         0\n",
            "bathrooms        0\n",
            "sqft_living      0\n",
            "sqft_lot         0\n",
            "floors           0\n",
            "waterfront       0\n",
            "view             0\n",
            "condition        0\n",
            "grade            0\n",
            "sqft_above       0\n",
            "sqft_basement    0\n",
            "yr_built         0\n",
            "yr_renovated     0\n",
            "zipcode          0\n",
            "lat              0\n",
            "long             0\n",
            "sqft_living15    0\n",
            "sqft_lot15       0\n",
            "dtype: int64\n",
            "Missing Values\n",
            "id               0\n",
            "price            0\n",
            "bedrooms         0\n",
            "bathrooms        0\n",
            "sqft_living      0\n",
            "sqft_lot         0\n",
            "floors           0\n",
            "waterfront       0\n",
            "view             0\n",
            "condition        0\n",
            "grade            0\n",
            "sqft_above       0\n",
            "sqft_basement    0\n",
            "yr_built         0\n",
            "yr_renovated     0\n",
            "zipcode          0\n",
            "lat              0\n",
            "long             0\n",
            "sqft_living15    0\n",
            "sqft_lot15       0\n",
            "dtype: int64\n",
            "Duplicated Values: 3\n"
          ],
          "name": "stdout"
        }
      ]
    },
    {
      "cell_type": "code",
      "metadata": {
        "id": "i49q8DZKcSqf",
        "colab_type": "code",
        "colab": {
          "base_uri": "https://localhost:8080/",
          "height": 34
        },
        "outputId": "cc6c64f7-6402-48dc-f5ec-560b658cc506"
      },
      "source": [
        "#dropping the duplicated values noted.\n",
        "data = data.drop_duplicates()\n",
        "data.duplicated().sum()"
      ],
      "execution_count": 14,
      "outputs": [
        {
          "output_type": "execute_result",
          "data": {
            "text/plain": [
              "0"
            ]
          },
          "metadata": {
            "tags": []
          },
          "execution_count": 14
        }
      ]
    },
    {
      "cell_type": "code",
      "metadata": {
        "id": "YuqBrVVkTNHC",
        "colab_type": "code",
        "colab": {
          "base_uri": "https://localhost:8080/",
          "height": 357
        },
        "outputId": "6fdbee4d-d85a-4d1d-8c30-23cb948b7e0a"
      },
      "source": [
        "data.nunique()"
      ],
      "execution_count": 15,
      "outputs": [
        {
          "output_type": "execute_result",
          "data": {
            "text/plain": [
              "price            3625\n",
              "bedrooms           13\n",
              "bathrooms          30\n",
              "sqft_living      1038\n",
              "sqft_lot         9782\n",
              "floors              6\n",
              "waterfront          2\n",
              "view                5\n",
              "condition           5\n",
              "grade              12\n",
              "sqft_above        946\n",
              "sqft_basement     306\n",
              "yr_built          116\n",
              "yr_renovated       70\n",
              "zipcode            70\n",
              "lat              5034\n",
              "long              752\n",
              "sqft_living15     777\n",
              "sqft_lot15       8689\n",
              "dtype: int64"
            ]
          },
          "metadata": {
            "tags": []
          },
          "execution_count": 15
        }
      ]
    },
    {
      "cell_type": "code",
      "metadata": {
        "id": "1tN4CLt1bTle",
        "colab_type": "code",
        "colab": {
          "base_uri": "https://localhost:8080/",
          "height": 317
        },
        "outputId": "098353c4-2dc2-4f83-a34f-cc13337f950b"
      },
      "source": [
        "#previewing numerical aspects of our data.\n",
        "data.describe()"
      ],
      "execution_count": 16,
      "outputs": [
        {
          "output_type": "execute_result",
          "data": {
            "text/html": [
              "<div>\n",
              "<style scoped>\n",
              "    .dataframe tbody tr th:only-of-type {\n",
              "        vertical-align: middle;\n",
              "    }\n",
              "\n",
              "    .dataframe tbody tr th {\n",
              "        vertical-align: top;\n",
              "    }\n",
              "\n",
              "    .dataframe thead th {\n",
              "        text-align: right;\n",
              "    }\n",
              "</style>\n",
              "<table border=\"1\" class=\"dataframe\">\n",
              "  <thead>\n",
              "    <tr style=\"text-align: right;\">\n",
              "      <th></th>\n",
              "      <th>price</th>\n",
              "      <th>bedrooms</th>\n",
              "      <th>bathrooms</th>\n",
              "      <th>sqft_living</th>\n",
              "      <th>sqft_lot</th>\n",
              "      <th>floors</th>\n",
              "      <th>waterfront</th>\n",
              "      <th>view</th>\n",
              "      <th>condition</th>\n",
              "      <th>grade</th>\n",
              "      <th>sqft_above</th>\n",
              "      <th>sqft_basement</th>\n",
              "      <th>yr_built</th>\n",
              "      <th>yr_renovated</th>\n",
              "      <th>zipcode</th>\n",
              "      <th>lat</th>\n",
              "      <th>long</th>\n",
              "      <th>sqft_living15</th>\n",
              "      <th>sqft_lot15</th>\n",
              "    </tr>\n",
              "  </thead>\n",
              "  <tbody>\n",
              "    <tr>\n",
              "      <th>count</th>\n",
              "      <td>2.160800e+04</td>\n",
              "      <td>21608.000000</td>\n",
              "      <td>21608.000000</td>\n",
              "      <td>21608.000000</td>\n",
              "      <td>2.160800e+04</td>\n",
              "      <td>21608.000000</td>\n",
              "      <td>21608.000000</td>\n",
              "      <td>21608.000000</td>\n",
              "      <td>21608.000000</td>\n",
              "      <td>21608.000000</td>\n",
              "      <td>21608.000000</td>\n",
              "      <td>21608.000000</td>\n",
              "      <td>21608.000000</td>\n",
              "      <td>21608.000000</td>\n",
              "      <td>21608.000000</td>\n",
              "      <td>21608.000000</td>\n",
              "      <td>21608.000000</td>\n",
              "      <td>21608.000000</td>\n",
              "      <td>21608.000000</td>\n",
              "    </tr>\n",
              "    <tr>\n",
              "      <th>mean</th>\n",
              "      <td>5.401924e+05</td>\n",
              "      <td>3.370927</td>\n",
              "      <td>2.114738</td>\n",
              "      <td>2079.958950</td>\n",
              "      <td>1.510962e+04</td>\n",
              "      <td>1.494146</td>\n",
              "      <td>0.007544</td>\n",
              "      <td>0.234219</td>\n",
              "      <td>3.409478</td>\n",
              "      <td>7.656655</td>\n",
              "      <td>1788.414846</td>\n",
              "      <td>291.544104</td>\n",
              "      <td>1970.999907</td>\n",
              "      <td>84.330155</td>\n",
              "      <td>98077.942614</td>\n",
              "      <td>47.560050</td>\n",
              "      <td>-122.213894</td>\n",
              "      <td>1986.583164</td>\n",
              "      <td>12770.108340</td>\n",
              "    </tr>\n",
              "    <tr>\n",
              "      <th>std</th>\n",
              "      <td>3.673996e+05</td>\n",
              "      <td>0.930103</td>\n",
              "      <td>0.770238</td>\n",
              "      <td>918.505805</td>\n",
              "      <td>4.142491e+04</td>\n",
              "      <td>0.539910</td>\n",
              "      <td>0.086527</td>\n",
              "      <td>0.766169</td>\n",
              "      <td>0.650782</td>\n",
              "      <td>1.175484</td>\n",
              "      <td>828.141155</td>\n",
              "      <td>442.612560</td>\n",
              "      <td>29.371463</td>\n",
              "      <td>401.517026</td>\n",
              "      <td>53.506883</td>\n",
              "      <td>0.138578</td>\n",
              "      <td>0.140830</td>\n",
              "      <td>685.421474</td>\n",
              "      <td>27307.006892</td>\n",
              "    </tr>\n",
              "    <tr>\n",
              "      <th>min</th>\n",
              "      <td>7.500000e+04</td>\n",
              "      <td>0.000000</td>\n",
              "      <td>0.000000</td>\n",
              "      <td>290.000000</td>\n",
              "      <td>5.200000e+02</td>\n",
              "      <td>1.000000</td>\n",
              "      <td>0.000000</td>\n",
              "      <td>0.000000</td>\n",
              "      <td>1.000000</td>\n",
              "      <td>1.000000</td>\n",
              "      <td>290.000000</td>\n",
              "      <td>0.000000</td>\n",
              "      <td>1900.000000</td>\n",
              "      <td>0.000000</td>\n",
              "      <td>98001.000000</td>\n",
              "      <td>47.155900</td>\n",
              "      <td>-122.519000</td>\n",
              "      <td>399.000000</td>\n",
              "      <td>651.000000</td>\n",
              "    </tr>\n",
              "    <tr>\n",
              "      <th>25%</th>\n",
              "      <td>3.218375e+05</td>\n",
              "      <td>3.000000</td>\n",
              "      <td>1.750000</td>\n",
              "      <td>1429.250000</td>\n",
              "      <td>5.040000e+03</td>\n",
              "      <td>1.000000</td>\n",
              "      <td>0.000000</td>\n",
              "      <td>0.000000</td>\n",
              "      <td>3.000000</td>\n",
              "      <td>7.000000</td>\n",
              "      <td>1190.000000</td>\n",
              "      <td>0.000000</td>\n",
              "      <td>1951.000000</td>\n",
              "      <td>0.000000</td>\n",
              "      <td>98033.000000</td>\n",
              "      <td>47.470875</td>\n",
              "      <td>-122.328000</td>\n",
              "      <td>1490.000000</td>\n",
              "      <td>5100.000000</td>\n",
              "    </tr>\n",
              "    <tr>\n",
              "      <th>50%</th>\n",
              "      <td>4.500000e+05</td>\n",
              "      <td>3.000000</td>\n",
              "      <td>2.250000</td>\n",
              "      <td>1910.000000</td>\n",
              "      <td>7.620000e+03</td>\n",
              "      <td>1.500000</td>\n",
              "      <td>0.000000</td>\n",
              "      <td>0.000000</td>\n",
              "      <td>3.000000</td>\n",
              "      <td>7.000000</td>\n",
              "      <td>1560.000000</td>\n",
              "      <td>0.000000</td>\n",
              "      <td>1975.000000</td>\n",
              "      <td>0.000000</td>\n",
              "      <td>98065.000000</td>\n",
              "      <td>47.571800</td>\n",
              "      <td>-122.230500</td>\n",
              "      <td>1840.000000</td>\n",
              "      <td>7620.000000</td>\n",
              "    </tr>\n",
              "    <tr>\n",
              "      <th>75%</th>\n",
              "      <td>6.450000e+05</td>\n",
              "      <td>4.000000</td>\n",
              "      <td>2.500000</td>\n",
              "      <td>2550.000000</td>\n",
              "      <td>1.069050e+04</td>\n",
              "      <td>2.000000</td>\n",
              "      <td>0.000000</td>\n",
              "      <td>0.000000</td>\n",
              "      <td>4.000000</td>\n",
              "      <td>8.000000</td>\n",
              "      <td>2210.000000</td>\n",
              "      <td>560.000000</td>\n",
              "      <td>1997.000000</td>\n",
              "      <td>0.000000</td>\n",
              "      <td>98118.000000</td>\n",
              "      <td>47.678000</td>\n",
              "      <td>-122.125000</td>\n",
              "      <td>2360.000000</td>\n",
              "      <td>10083.250000</td>\n",
              "    </tr>\n",
              "    <tr>\n",
              "      <th>max</th>\n",
              "      <td>7.700000e+06</td>\n",
              "      <td>33.000000</td>\n",
              "      <td>8.000000</td>\n",
              "      <td>13540.000000</td>\n",
              "      <td>1.651359e+06</td>\n",
              "      <td>3.500000</td>\n",
              "      <td>1.000000</td>\n",
              "      <td>4.000000</td>\n",
              "      <td>5.000000</td>\n",
              "      <td>13.000000</td>\n",
              "      <td>9410.000000</td>\n",
              "      <td>4820.000000</td>\n",
              "      <td>2015.000000</td>\n",
              "      <td>2015.000000</td>\n",
              "      <td>98199.000000</td>\n",
              "      <td>47.777600</td>\n",
              "      <td>-121.315000</td>\n",
              "      <td>6210.000000</td>\n",
              "      <td>871200.000000</td>\n",
              "    </tr>\n",
              "  </tbody>\n",
              "</table>\n",
              "</div>"
            ],
            "text/plain": [
              "              price      bedrooms  ...  sqft_living15     sqft_lot15\n",
              "count  2.160800e+04  21608.000000  ...   21608.000000   21608.000000\n",
              "mean   5.401924e+05      3.370927  ...    1986.583164   12770.108340\n",
              "std    3.673996e+05      0.930103  ...     685.421474   27307.006892\n",
              "min    7.500000e+04      0.000000  ...     399.000000     651.000000\n",
              "25%    3.218375e+05      3.000000  ...    1490.000000    5100.000000\n",
              "50%    4.500000e+05      3.000000  ...    1840.000000    7620.000000\n",
              "75%    6.450000e+05      4.000000  ...    2360.000000   10083.250000\n",
              "max    7.700000e+06     33.000000  ...    6210.000000  871200.000000\n",
              "\n",
              "[8 rows x 19 columns]"
            ]
          },
          "metadata": {
            "tags": []
          },
          "execution_count": 16
        }
      ]
    },
    {
      "cell_type": "code",
      "metadata": {
        "id": "5Uvl8rVS-bMR",
        "colab_type": "code",
        "colab": {
          "base_uri": "https://localhost:8080/",
          "height": 459
        },
        "outputId": "6deb2cd3-c28a-4e7e-c5c3-42bf02826492"
      },
      "source": [
        "#checking for the data types for our columns.\n",
        "data.info()"
      ],
      "execution_count": 17,
      "outputs": [
        {
          "output_type": "stream",
          "text": [
            "<class 'pandas.core.frame.DataFrame'>\n",
            "Int64Index: 21608 entries, 0 to 21612\n",
            "Data columns (total 19 columns):\n",
            " #   Column         Non-Null Count  Dtype  \n",
            "---  ------         --------------  -----  \n",
            " 0   price          21608 non-null  float64\n",
            " 1   bedrooms       21608 non-null  int64  \n",
            " 2   bathrooms      21608 non-null  float64\n",
            " 3   sqft_living    21608 non-null  int64  \n",
            " 4   sqft_lot       21608 non-null  int64  \n",
            " 5   floors         21608 non-null  float64\n",
            " 6   waterfront     21608 non-null  int64  \n",
            " 7   view           21608 non-null  int64  \n",
            " 8   condition      21608 non-null  int64  \n",
            " 9   grade          21608 non-null  int64  \n",
            " 10  sqft_above     21608 non-null  int64  \n",
            " 11  sqft_basement  21608 non-null  int64  \n",
            " 12  yr_built       21608 non-null  int64  \n",
            " 13  yr_renovated   21608 non-null  int64  \n",
            " 14  zipcode        21608 non-null  int64  \n",
            " 15  lat            21608 non-null  float64\n",
            " 16  long           21608 non-null  float64\n",
            " 17  sqft_living15  21608 non-null  int64  \n",
            " 18  sqft_lot15     21608 non-null  int64  \n",
            "dtypes: float64(5), int64(14)\n",
            "memory usage: 3.3 MB\n"
          ],
          "name": "stdout"
        }
      ]
    },
    {
      "cell_type": "markdown",
      "metadata": {
        "id": "9anCW5L1NYYS",
        "colab_type": "text"
      },
      "source": [
        "## **Cleaning and Tidying of the Data.**"
      ]
    },
    {
      "cell_type": "code",
      "metadata": {
        "id": "W3LDnr47-eL8",
        "colab_type": "code",
        "colab": {}
      },
      "source": [
        "#dropping the id column since we do not need it.\n",
        "#defining the columns for later use in plotting.\n",
        "data = data.drop(columns='id')\n",
        "columns = data.columns\n",
        "columns"
      ],
      "execution_count": null,
      "outputs": []
    },
    {
      "cell_type": "code",
      "metadata": {
        "id": "N2ob8pWidK67",
        "colab_type": "code",
        "colab": {
          "base_uri": "https://localhost:8080/",
          "height": 1000
        },
        "outputId": "8c93b719-dd5d-40f6-c4ec-49cf0cd276ba"
      },
      "source": [
        "#plotting outliers in the data.\n",
        "fig, ax = plt.subplots(len(columns), figsize = (10, 60))\n",
        "\n",
        "for i, col_val in enumerate(columns):\n",
        "\n",
        "  sns.boxplot(y= data[col_val], ax=ax[i])\n",
        "  ax[i].set_xlabel(col_val, fontsize=8)\n",
        "\n",
        "plt.show()"
      ],
      "execution_count": 19,
      "outputs": [
        {
          "output_type": "display_data",
          "data": {
            "image/png": "[encoded data removed]",
            "text/plain": [
              "<Figure size 720x4320 with 19 Axes>"
            ]
          },
          "metadata": {
            "tags": [],
            "needs_background": "light"
          }
        }
      ]
    },
    {
      "cell_type": "markdown",
      "metadata": {
        "id": "6hZ0nb06MsmZ",
        "colab_type": "text"
      },
      "source": [
        "Our data looks fairly clean, not having as many outliers. The only visible outlier that we can see is that in the bedrooms column that has a value of 30 bedrooms and this is an outlier. I will thus drop it."
      ]
    },
    {
      "cell_type": "code",
      "metadata": {
        "id": "F_HAoCjeNmuo",
        "colab_type": "code",
        "colab": {}
      },
      "source": [
        "#dropping the bedroom outlier.\n",
        "data = data[data.bedrooms < 30]"
      ],
      "execution_count": 20,
      "outputs": []
    },
    {
      "cell_type": "markdown",
      "metadata": {
        "id": "-Zuq8HG8Nsc5",
        "colab_type": "text"
      },
      "source": [
        "## **Data Exploration**"
      ]
    },
    {
      "cell_type": "markdown",
      "metadata": {
        "id": "kpyxXmMbfCEW",
        "colab_type": "text"
      },
      "source": [
        "### **Univariate Analysis.**"
      ]
    },
    {
      "cell_type": "code",
      "metadata": {
        "id": "Z_11ySX_Q08K",
        "colab_type": "code",
        "colab": {
          "base_uri": "https://localhost:8080/",
          "height": 971
        },
        "outputId": "807b4027-e064-439c-9630-3268dff17cc2"
      },
      "source": [
        "#plotting the histograms for the variables.\n",
        "data.hist(bins=10, figsize=(15,15))\n",
        "plt.suptitle(\"Histogram of numeric variables in house_data dataset\")\n",
        "plt.show()"
      ],
      "execution_count": 21,
      "outputs": [
        {
          "output_type": "display_data",
          "data": {
            "image/png": "[encoded data removed]",
            "text/plain": [
              "<Figure size 1080x1080 with 20 Axes>"
            ]
          },
          "metadata": {
            "tags": [],
            "needs_background": "light"
          }
        }
      ]
    },
    {
      "cell_type": "markdown",
      "metadata": {
        "id": "iFXGp1jNkfnM",
        "colab_type": "text"
      },
      "source": [
        "### **Bivariate Analysis**"
      ]
    },
    {
      "cell_type": "code",
      "metadata": {
        "id": "fHu_LCCYfU58",
        "colab_type": "code",
        "colab": {
          "base_uri": "https://localhost:8080/",
          "height": 308
        },
        "outputId": "5fca83d1-bff8-4b0b-c33d-b63682e8f6f1"
      },
      "source": [
        "sns.regplot(y=data[\"price\"], x=data[\"sqft_living\"], fit_reg=False)"
      ],
      "execution_count": 67,
      "outputs": [
        {
          "output_type": "execute_result",
          "data": {
            "text/plain": [
              "<matplotlib.axes._subplots.AxesSubplot at 0x7f096bcc8978>"
            ]
          },
          "metadata": {
            "tags": []
          },
          "execution_count": 67
        },
        {
          "output_type": "display_data",
          "data": {
            "image/png": "[encoded data removed]",
            "text/plain": [
              "<Figure size 432x288 with 1 Axes>"
            ]
          },
          "metadata": {
            "tags": [],
            "needs_background": "light"
          }
        }
      ]
    },
    {
      "cell_type": "code",
      "metadata": {
        "id": "fSpU7FjBjdnc",
        "colab_type": "code",
        "colab": {
          "base_uri": "https://localhost:8080/",
          "height": 308
        },
        "outputId": "95741a81-49a1-4ae0-b51b-cbb86b2207b5"
      },
      "source": [
        "sns.regplot(y=data[\"price\"], x=data[\"sqft_lot\"], fit_reg=False)"
      ],
      "execution_count": 66,
      "outputs": [
        {
          "output_type": "execute_result",
          "data": {
            "text/plain": [
              "<matplotlib.axes._subplots.AxesSubplot at 0x7f095fab2c88>"
            ]
          },
          "metadata": {
            "tags": []
          },
          "execution_count": 66
        },
        {
          "output_type": "display_data",
          "data": {
            "image/png": "[encoded data removed]",
            "text/plain": [
              "<Figure size 432x288 with 1 Axes>"
            ]
          },
          "metadata": {
            "tags": [],
            "needs_background": "light"
          }
        }
      ]
    },
    {
      "cell_type": "code",
      "metadata": {
        "id": "-lB03Ggsjk3x",
        "colab_type": "code",
        "colab": {
          "base_uri": "https://localhost:8080/",
          "height": 308
        },
        "outputId": "2fe563c5-d069-484f-e843-2145dd00fb6d"
      },
      "source": [
        "sns.regplot(y=data[\"price\"], x=data[\"sqft_above\"], fit_reg=False)"
      ],
      "execution_count": 65,
      "outputs": [
        {
          "output_type": "execute_result",
          "data": {
            "text/plain": [
              "<matplotlib.axes._subplots.AxesSubplot at 0x7f095fb663c8>"
            ]
          },
          "metadata": {
            "tags": []
          },
          "execution_count": 65
        },
        {
          "output_type": "display_data",
          "data": {
            "image/png": "[encoded data removed]",
            "text/plain": [
              "<Figure size 432x288 with 1 Axes>"
            ]
          },
          "metadata": {
            "tags": [],
            "needs_background": "light"
          }
        }
      ]
    },
    {
      "cell_type": "code",
      "metadata": {
        "id": "mB14jRUNlhS3",
        "colab_type": "code",
        "colab": {
          "base_uri": "https://localhost:8080/",
          "height": 308
        },
        "outputId": "ba87c4f3-9189-4b17-c668-40496749441d"
      },
      "source": [
        "sns.regplot(y=data[\"price\"], x=data[\"sqft_basement\"], fit_reg=False)"
      ],
      "execution_count": 72,
      "outputs": [
        {
          "output_type": "execute_result",
          "data": {
            "text/plain": [
              "<matplotlib.axes._subplots.AxesSubplot at 0x7f095efbac50>"
            ]
          },
          "metadata": {
            "tags": []
          },
          "execution_count": 72
        },
        {
          "output_type": "display_data",
          "data": {
            "image/png": "[encoded data removed]",
            "text/plain": [
              "<Figure size 432x288 with 1 Axes>"
            ]
          },
          "metadata": {
            "tags": [],
            "needs_background": "light"
          }
        }
      ]
    },
    {
      "cell_type": "code",
      "metadata": {
        "id": "XxL837NnjrkC",
        "colab_type": "code",
        "colab": {
          "base_uri": "https://localhost:8080/",
          "height": 307
        },
        "outputId": "a908835a-c615-4bd9-ce6c-af83b1f5782f"
      },
      "source": [
        "sns.regplot(y=data[\"price\"], x=data[\"lat\"], fit_reg=False)"
      ],
      "execution_count": 64,
      "outputs": [
        {
          "output_type": "execute_result",
          "data": {
            "text/plain": [
              "<matplotlib.axes._subplots.AxesSubplot at 0x7f097d71d898>"
            ]
          },
          "metadata": {
            "tags": []
          },
          "execution_count": 64
        },
        {
          "output_type": "display_data",
          "data": {
            "image/png": "[encoded data removed]",
            "text/plain": [
              "<Figure size 432x288 with 1 Axes>"
            ]
          },
          "metadata": {
            "tags": [],
            "needs_background": "light"
          }
        }
      ]
    },
    {
      "cell_type": "code",
      "metadata": {
        "id": "2bo866V9lcoG",
        "colab_type": "code",
        "colab": {
          "base_uri": "https://localhost:8080/",
          "height": 307
        },
        "outputId": "e640d6e2-0fec-4e3e-85aa-b7c0f1bec729"
      },
      "source": [
        "sns.regplot(y=data[\"price\"], x=data[\"long\"], fit_reg=False)"
      ],
      "execution_count": 71,
      "outputs": [
        {
          "output_type": "execute_result",
          "data": {
            "text/plain": [
              "<matplotlib.axes._subplots.AxesSubplot at 0x7f095f4ebdd8>"
            ]
          },
          "metadata": {
            "tags": []
          },
          "execution_count": 71
        },
        {
          "output_type": "display_data",
          "data": {
            "image/png": "[encoded data removed]",
            "text/plain": [
              "<Figure size 432x288 with 1 Axes>"
            ]
          },
          "metadata": {
            "tags": [],
            "needs_background": "light"
          }
        }
      ]
    },
    {
      "cell_type": "code",
      "metadata": {
        "id": "bOTPyH5llnfG",
        "colab_type": "code",
        "colab": {
          "base_uri": "https://localhost:8080/",
          "height": 308
        },
        "outputId": "c563094b-f009-4d0b-d4e2-7bb4760cf661"
      },
      "source": [
        "sns.regplot(y=data[\"price\"], x=data[\"yr_built\"], fit_reg=False)"
      ],
      "execution_count": 73,
      "outputs": [
        {
          "output_type": "execute_result",
          "data": {
            "text/plain": [
              "<matplotlib.axes._subplots.AxesSubplot at 0x7f095efd3748>"
            ]
          },
          "metadata": {
            "tags": []
          },
          "execution_count": 73
        },
        {
          "output_type": "display_data",
          "data": {
            "image/png": "[encoded data removed]",
            "text/plain": [
              "<Figure size 432x288 with 1 Axes>"
            ]
          },
          "metadata": {
            "tags": [],
            "needs_background": "light"
          }
        }
      ]
    },
    {
      "cell_type": "markdown",
      "metadata": {
        "id": "X0epWLHAltuL",
        "colab_type": "text"
      },
      "source": [
        "From our bivariate analysis, we can infer that the relations between the different variables and the price of the houses differs. The building of the houses is spread out over the years and they don't seem to factor a lot in the price of the house."
      ]
    },
    {
      "cell_type": "markdown",
      "metadata": {
        "id": "ST2GZljwknbw",
        "colab_type": "text"
      },
      "source": [
        "### **Multivariate Analysis.**"
      ]
    },
    {
      "cell_type": "code",
      "metadata": {
        "id": "DQXfQ68oDj-r",
        "colab_type": "code",
        "colab": {
          "base_uri": "https://localhost:8080/",
          "height": 658
        },
        "outputId": "92cab09b-6450-4a53-e7f6-ce1ffa7807fb"
      },
      "source": [
        "#finding the correlations between the columns.\n",
        "correlation = data.corr()\n",
        "correlation"
      ],
      "execution_count": 70,
      "outputs": [
        {
          "output_type": "execute_result",
          "data": {
            "text/html": [
              "<div>\n",
              "<style scoped>\n",
              "    .dataframe tbody tr th:only-of-type {\n",
              "        vertical-align: middle;\n",
              "    }\n",
              "\n",
              "    .dataframe tbody tr th {\n",
              "        vertical-align: top;\n",
              "    }\n",
              "\n",
              "    .dataframe thead th {\n",
              "        text-align: right;\n",
              "    }\n",
              "</style>\n",
              "<table border=\"1\" class=\"dataframe\">\n",
              "  <thead>\n",
              "    <tr style=\"text-align: right;\">\n",
              "      <th></th>\n",
              "      <th>price</th>\n",
              "      <th>bedrooms</th>\n",
              "      <th>bathrooms</th>\n",
              "      <th>sqft_living</th>\n",
              "      <th>sqft_lot</th>\n",
              "      <th>floors</th>\n",
              "      <th>waterfront</th>\n",
              "      <th>view</th>\n",
              "      <th>condition</th>\n",
              "      <th>grade</th>\n",
              "      <th>sqft_above</th>\n",
              "      <th>sqft_basement</th>\n",
              "      <th>yr_built</th>\n",
              "      <th>yr_renovated</th>\n",
              "      <th>zipcode</th>\n",
              "      <th>lat</th>\n",
              "      <th>long</th>\n",
              "      <th>sqft_living15</th>\n",
              "      <th>sqft_lot15</th>\n",
              "    </tr>\n",
              "  </thead>\n",
              "  <tbody>\n",
              "    <tr>\n",
              "      <th>price</th>\n",
              "      <td>1.000000</td>\n",
              "      <td>0.315442</td>\n",
              "      <td>0.525149</td>\n",
              "      <td>0.702057</td>\n",
              "      <td>0.089661</td>\n",
              "      <td>0.256810</td>\n",
              "      <td>0.266333</td>\n",
              "      <td>0.397471</td>\n",
              "      <td>0.036371</td>\n",
              "      <td>0.667491</td>\n",
              "      <td>0.605593</td>\n",
              "      <td>0.323844</td>\n",
              "      <td>0.053992</td>\n",
              "      <td>0.126506</td>\n",
              "      <td>-0.053168</td>\n",
              "      <td>0.306917</td>\n",
              "      <td>0.021578</td>\n",
              "      <td>0.585408</td>\n",
              "      <td>0.082461</td>\n",
              "    </tr>\n",
              "    <tr>\n",
              "      <th>bedrooms</th>\n",
              "      <td>0.315442</td>\n",
              "      <td>1.000000</td>\n",
              "      <td>0.529212</td>\n",
              "      <td>0.591471</td>\n",
              "      <td>0.032803</td>\n",
              "      <td>0.181105</td>\n",
              "      <td>-0.006612</td>\n",
              "      <td>0.081829</td>\n",
              "      <td>0.025426</td>\n",
              "      <td>0.366539</td>\n",
              "      <td>0.490619</td>\n",
              "      <td>0.309473</td>\n",
              "      <td>0.159268</td>\n",
              "      <td>0.019468</td>\n",
              "      <td>-0.157146</td>\n",
              "      <td>-0.010563</td>\n",
              "      <td>0.133883</td>\n",
              "      <td>0.402621</td>\n",
              "      <td>0.030391</td>\n",
              "    </tr>\n",
              "    <tr>\n",
              "      <th>bathrooms</th>\n",
              "      <td>0.525149</td>\n",
              "      <td>0.529212</td>\n",
              "      <td>1.000000</td>\n",
              "      <td>0.754685</td>\n",
              "      <td>0.087746</td>\n",
              "      <td>0.500661</td>\n",
              "      <td>0.063745</td>\n",
              "      <td>0.187886</td>\n",
              "      <td>-0.124904</td>\n",
              "      <td>0.664986</td>\n",
              "      <td>0.685348</td>\n",
              "      <td>0.283833</td>\n",
              "      <td>0.505989</td>\n",
              "      <td>0.050875</td>\n",
              "      <td>-0.203823</td>\n",
              "      <td>0.024611</td>\n",
              "      <td>0.223033</td>\n",
              "      <td>0.568659</td>\n",
              "      <td>0.087185</td>\n",
              "    </tr>\n",
              "    <tr>\n",
              "      <th>sqft_living</th>\n",
              "      <td>0.702057</td>\n",
              "      <td>0.591471</td>\n",
              "      <td>0.754685</td>\n",
              "      <td>1.000000</td>\n",
              "      <td>0.172826</td>\n",
              "      <td>0.353941</td>\n",
              "      <td>0.103819</td>\n",
              "      <td>0.284636</td>\n",
              "      <td>-0.058720</td>\n",
              "      <td>0.762716</td>\n",
              "      <td>0.876601</td>\n",
              "      <td>0.435076</td>\n",
              "      <td>0.318087</td>\n",
              "      <td>0.055310</td>\n",
              "      <td>-0.199426</td>\n",
              "      <td>0.052544</td>\n",
              "      <td>0.240207</td>\n",
              "      <td>0.756418</td>\n",
              "      <td>0.183280</td>\n",
              "    </tr>\n",
              "    <tr>\n",
              "      <th>sqft_lot</th>\n",
              "      <td>0.089661</td>\n",
              "      <td>0.032803</td>\n",
              "      <td>0.087746</td>\n",
              "      <td>0.172826</td>\n",
              "      <td>1.000000</td>\n",
              "      <td>-0.005181</td>\n",
              "      <td>0.021600</td>\n",
              "      <td>0.074750</td>\n",
              "      <td>-0.008944</td>\n",
              "      <td>0.113640</td>\n",
              "      <td>0.183521</td>\n",
              "      <td>0.015278</td>\n",
              "      <td>0.053098</td>\n",
              "      <td>0.007675</td>\n",
              "      <td>-0.129607</td>\n",
              "      <td>-0.085672</td>\n",
              "      <td>0.229547</td>\n",
              "      <td>0.144614</td>\n",
              "      <td>0.718555</td>\n",
              "    </tr>\n",
              "    <tr>\n",
              "      <th>floors</th>\n",
              "      <td>0.256810</td>\n",
              "      <td>0.181105</td>\n",
              "      <td>0.500661</td>\n",
              "      <td>0.353941</td>\n",
              "      <td>-0.005181</td>\n",
              "      <td>1.000000</td>\n",
              "      <td>0.023708</td>\n",
              "      <td>0.029312</td>\n",
              "      <td>-0.263717</td>\n",
              "      <td>0.458140</td>\n",
              "      <td>0.523856</td>\n",
              "      <td>-0.245653</td>\n",
              "      <td>0.489330</td>\n",
              "      <td>0.006147</td>\n",
              "      <td>-0.059007</td>\n",
              "      <td>0.049634</td>\n",
              "      <td>0.125312</td>\n",
              "      <td>0.279832</td>\n",
              "      <td>-0.011263</td>\n",
              "    </tr>\n",
              "    <tr>\n",
              "      <th>waterfront</th>\n",
              "      <td>0.266333</td>\n",
              "      <td>-0.006612</td>\n",
              "      <td>0.063745</td>\n",
              "      <td>0.103819</td>\n",
              "      <td>0.021600</td>\n",
              "      <td>0.023708</td>\n",
              "      <td>1.000000</td>\n",
              "      <td>0.401992</td>\n",
              "      <td>0.016665</td>\n",
              "      <td>0.082783</td>\n",
              "      <td>0.072078</td>\n",
              "      <td>0.080588</td>\n",
              "      <td>-0.026163</td>\n",
              "      <td>0.092950</td>\n",
              "      <td>0.030279</td>\n",
              "      <td>-0.014268</td>\n",
              "      <td>-0.041908</td>\n",
              "      <td>0.086467</td>\n",
              "      <td>0.030700</td>\n",
              "    </tr>\n",
              "    <tr>\n",
              "      <th>view</th>\n",
              "      <td>0.397471</td>\n",
              "      <td>0.081829</td>\n",
              "      <td>0.187886</td>\n",
              "      <td>0.284636</td>\n",
              "      <td>0.074750</td>\n",
              "      <td>0.029312</td>\n",
              "      <td>0.401992</td>\n",
              "      <td>1.000000</td>\n",
              "      <td>0.045877</td>\n",
              "      <td>0.251372</td>\n",
              "      <td>0.167650</td>\n",
              "      <td>0.277009</td>\n",
              "      <td>-0.053242</td>\n",
              "      <td>0.103206</td>\n",
              "      <td>0.084845</td>\n",
              "      <td>0.006062</td>\n",
              "      <td>-0.078573</td>\n",
              "      <td>0.280397</td>\n",
              "      <td>0.072573</td>\n",
              "    </tr>\n",
              "    <tr>\n",
              "      <th>condition</th>\n",
              "      <td>0.036371</td>\n",
              "      <td>0.025426</td>\n",
              "      <td>-0.124904</td>\n",
              "      <td>-0.058720</td>\n",
              "      <td>-0.008944</td>\n",
              "      <td>-0.263717</td>\n",
              "      <td>0.016665</td>\n",
              "      <td>0.045877</td>\n",
              "      <td>1.000000</td>\n",
              "      <td>-0.144612</td>\n",
              "      <td>-0.158135</td>\n",
              "      <td>0.174023</td>\n",
              "      <td>-0.361310</td>\n",
              "      <td>-0.060847</td>\n",
              "      <td>0.002910</td>\n",
              "      <td>-0.015078</td>\n",
              "      <td>-0.106435</td>\n",
              "      <td>-0.092760</td>\n",
              "      <td>-0.003391</td>\n",
              "    </tr>\n",
              "    <tr>\n",
              "      <th>grade</th>\n",
              "      <td>0.667491</td>\n",
              "      <td>0.366539</td>\n",
              "      <td>0.664986</td>\n",
              "      <td>0.762716</td>\n",
              "      <td>0.113640</td>\n",
              "      <td>0.458140</td>\n",
              "      <td>0.082783</td>\n",
              "      <td>0.251372</td>\n",
              "      <td>-0.144612</td>\n",
              "      <td>1.000000</td>\n",
              "      <td>0.755915</td>\n",
              "      <td>0.168463</td>\n",
              "      <td>0.446955</td>\n",
              "      <td>0.014367</td>\n",
              "      <td>-0.184785</td>\n",
              "      <td>0.114113</td>\n",
              "      <td>0.198330</td>\n",
              "      <td>0.713204</td>\n",
              "      <td>0.119259</td>\n",
              "    </tr>\n",
              "    <tr>\n",
              "      <th>sqft_above</th>\n",
              "      <td>0.605593</td>\n",
              "      <td>0.490619</td>\n",
              "      <td>0.685348</td>\n",
              "      <td>0.876601</td>\n",
              "      <td>0.183521</td>\n",
              "      <td>0.523856</td>\n",
              "      <td>0.072078</td>\n",
              "      <td>0.167650</td>\n",
              "      <td>-0.158135</td>\n",
              "      <td>0.755915</td>\n",
              "      <td>1.000000</td>\n",
              "      <td>-0.051897</td>\n",
              "      <td>0.423903</td>\n",
              "      <td>0.023225</td>\n",
              "      <td>-0.261149</td>\n",
              "      <td>-0.000785</td>\n",
              "      <td>0.343768</td>\n",
              "      <td>0.731859</td>\n",
              "      <td>0.194051</td>\n",
              "    </tr>\n",
              "    <tr>\n",
              "      <th>sqft_basement</th>\n",
              "      <td>0.323844</td>\n",
              "      <td>0.309473</td>\n",
              "      <td>0.283833</td>\n",
              "      <td>0.435076</td>\n",
              "      <td>0.015278</td>\n",
              "      <td>-0.245653</td>\n",
              "      <td>0.080588</td>\n",
              "      <td>0.277009</td>\n",
              "      <td>0.174023</td>\n",
              "      <td>0.168463</td>\n",
              "      <td>-0.051897</td>\n",
              "      <td>1.000000</td>\n",
              "      <td>-0.133040</td>\n",
              "      <td>0.071327</td>\n",
              "      <td>0.074768</td>\n",
              "      <td>0.110510</td>\n",
              "      <td>-0.144722</td>\n",
              "      <td>0.200402</td>\n",
              "      <td>0.017269</td>\n",
              "    </tr>\n",
              "    <tr>\n",
              "      <th>yr_built</th>\n",
              "      <td>0.053992</td>\n",
              "      <td>0.159268</td>\n",
              "      <td>0.505989</td>\n",
              "      <td>0.318087</td>\n",
              "      <td>0.053098</td>\n",
              "      <td>0.489330</td>\n",
              "      <td>-0.026163</td>\n",
              "      <td>-0.053242</td>\n",
              "      <td>-0.361310</td>\n",
              "      <td>0.446955</td>\n",
              "      <td>0.423903</td>\n",
              "      <td>-0.133040</td>\n",
              "      <td>1.000000</td>\n",
              "      <td>-0.224740</td>\n",
              "      <td>-0.346797</td>\n",
              "      <td>-0.148069</td>\n",
              "      <td>0.409376</td>\n",
              "      <td>0.326273</td>\n",
              "      <td>0.070989</td>\n",
              "    </tr>\n",
              "    <tr>\n",
              "      <th>yr_renovated</th>\n",
              "      <td>0.126506</td>\n",
              "      <td>0.019468</td>\n",
              "      <td>0.050875</td>\n",
              "      <td>0.055310</td>\n",
              "      <td>0.007675</td>\n",
              "      <td>0.006147</td>\n",
              "      <td>0.092950</td>\n",
              "      <td>0.103206</td>\n",
              "      <td>-0.060847</td>\n",
              "      <td>0.014367</td>\n",
              "      <td>0.023225</td>\n",
              "      <td>0.071327</td>\n",
              "      <td>-0.224740</td>\n",
              "      <td>1.000000</td>\n",
              "      <td>0.064393</td>\n",
              "      <td>0.029280</td>\n",
              "      <td>-0.068604</td>\n",
              "      <td>-0.002851</td>\n",
              "      <td>0.007834</td>\n",
              "    </tr>\n",
              "    <tr>\n",
              "      <th>zipcode</th>\n",
              "      <td>-0.053168</td>\n",
              "      <td>-0.157146</td>\n",
              "      <td>-0.203823</td>\n",
              "      <td>-0.199426</td>\n",
              "      <td>-0.129607</td>\n",
              "      <td>-0.059007</td>\n",
              "      <td>0.030279</td>\n",
              "      <td>0.084845</td>\n",
              "      <td>0.002910</td>\n",
              "      <td>-0.184785</td>\n",
              "      <td>-0.261149</td>\n",
              "      <td>0.074768</td>\n",
              "      <td>-0.346797</td>\n",
              "      <td>0.064393</td>\n",
              "      <td>1.000000</td>\n",
              "      <td>0.267051</td>\n",
              "      <td>-0.564063</td>\n",
              "      <td>-0.279019</td>\n",
              "      <td>-0.147252</td>\n",
              "    </tr>\n",
              "    <tr>\n",
              "      <th>lat</th>\n",
              "      <td>0.306917</td>\n",
              "      <td>-0.010563</td>\n",
              "      <td>0.024611</td>\n",
              "      <td>0.052544</td>\n",
              "      <td>-0.085672</td>\n",
              "      <td>0.049634</td>\n",
              "      <td>-0.014268</td>\n",
              "      <td>0.006062</td>\n",
              "      <td>-0.015078</td>\n",
              "      <td>0.114113</td>\n",
              "      <td>-0.000785</td>\n",
              "      <td>0.110510</td>\n",
              "      <td>-0.148069</td>\n",
              "      <td>0.029280</td>\n",
              "      <td>0.267051</td>\n",
              "      <td>1.000000</td>\n",
              "      <td>-0.135514</td>\n",
              "      <td>0.048881</td>\n",
              "      <td>-0.086412</td>\n",
              "    </tr>\n",
              "    <tr>\n",
              "      <th>long</th>\n",
              "      <td>0.021578</td>\n",
              "      <td>0.133883</td>\n",
              "      <td>0.223033</td>\n",
              "      <td>0.240207</td>\n",
              "      <td>0.229547</td>\n",
              "      <td>0.125312</td>\n",
              "      <td>-0.041908</td>\n",
              "      <td>-0.078573</td>\n",
              "      <td>-0.106435</td>\n",
              "      <td>0.198330</td>\n",
              "      <td>0.343768</td>\n",
              "      <td>-0.144722</td>\n",
              "      <td>0.409376</td>\n",
              "      <td>-0.068604</td>\n",
              "      <td>-0.564063</td>\n",
              "      <td>-0.135514</td>\n",
              "      <td>1.000000</td>\n",
              "      <td>0.334567</td>\n",
              "      <td>0.254468</td>\n",
              "    </tr>\n",
              "    <tr>\n",
              "      <th>sqft_living15</th>\n",
              "      <td>0.585408</td>\n",
              "      <td>0.402621</td>\n",
              "      <td>0.568659</td>\n",
              "      <td>0.756418</td>\n",
              "      <td>0.144614</td>\n",
              "      <td>0.279832</td>\n",
              "      <td>0.086467</td>\n",
              "      <td>0.280397</td>\n",
              "      <td>-0.092760</td>\n",
              "      <td>0.713204</td>\n",
              "      <td>0.731859</td>\n",
              "      <td>0.200402</td>\n",
              "      <td>0.326273</td>\n",
              "      <td>-0.002851</td>\n",
              "      <td>-0.279019</td>\n",
              "      <td>0.048881</td>\n",
              "      <td>0.334567</td>\n",
              "      <td>1.000000</td>\n",
              "      <td>0.183185</td>\n",
              "    </tr>\n",
              "    <tr>\n",
              "      <th>sqft_lot15</th>\n",
              "      <td>0.082461</td>\n",
              "      <td>0.030391</td>\n",
              "      <td>0.087185</td>\n",
              "      <td>0.183280</td>\n",
              "      <td>0.718555</td>\n",
              "      <td>-0.011263</td>\n",
              "      <td>0.030700</td>\n",
              "      <td>0.072573</td>\n",
              "      <td>-0.003391</td>\n",
              "      <td>0.119259</td>\n",
              "      <td>0.194051</td>\n",
              "      <td>0.017269</td>\n",
              "      <td>0.070989</td>\n",
              "      <td>0.007834</td>\n",
              "      <td>-0.147252</td>\n",
              "      <td>-0.086412</td>\n",
              "      <td>0.254468</td>\n",
              "      <td>0.183185</td>\n",
              "      <td>1.000000</td>\n",
              "    </tr>\n",
              "  </tbody>\n",
              "</table>\n",
              "</div>"
            ],
            "text/plain": [
              "                  price  bedrooms  ...  sqft_living15  sqft_lot15\n",
              "price          1.000000  0.315442  ...       0.585408    0.082461\n",
              "bedrooms       0.315442  1.000000  ...       0.402621    0.030391\n",
              "bathrooms      0.525149  0.529212  ...       0.568659    0.087185\n",
              "sqft_living    0.702057  0.591471  ...       0.756418    0.183280\n",
              "sqft_lot       0.089661  0.032803  ...       0.144614    0.718555\n",
              "floors         0.256810  0.181105  ...       0.279832   -0.011263\n",
              "waterfront     0.266333 -0.006612  ...       0.086467    0.030700\n",
              "view           0.397471  0.081829  ...       0.280397    0.072573\n",
              "condition      0.036371  0.025426  ...      -0.092760   -0.003391\n",
              "grade          0.667491  0.366539  ...       0.713204    0.119259\n",
              "sqft_above     0.605593  0.490619  ...       0.731859    0.194051\n",
              "sqft_basement  0.323844  0.309473  ...       0.200402    0.017269\n",
              "yr_built       0.053992  0.159268  ...       0.326273    0.070989\n",
              "yr_renovated   0.126506  0.019468  ...      -0.002851    0.007834\n",
              "zipcode       -0.053168 -0.157146  ...      -0.279019   -0.147252\n",
              "lat            0.306917 -0.010563  ...       0.048881   -0.086412\n",
              "long           0.021578  0.133883  ...       0.334567    0.254468\n",
              "sqft_living15  0.585408  0.402621  ...       1.000000    0.183185\n",
              "sqft_lot15     0.082461  0.030391  ...       0.183185    1.000000\n",
              "\n",
              "[19 rows x 19 columns]"
            ]
          },
          "metadata": {
            "tags": []
          },
          "execution_count": 70
        }
      ]
    },
    {
      "cell_type": "markdown",
      "metadata": {
        "id": "hyxia86Ja2eF",
        "colab_type": "text"
      },
      "source": [
        "We can see that there is higher correlation between price and the following:\n",
        "\n",
        "* Bathrooms\n",
        "* Living room area\n",
        "* Grade\n",
        "* Squarefeet above\n",
        "* Sqft_living15"
      ]
    },
    {
      "cell_type": "code",
      "metadata": {
        "id": "E1plj9j-aCU4",
        "colab_type": "code",
        "colab": {
          "base_uri": "https://localhost:8080/",
          "height": 894
        },
        "outputId": "82753e13-c426-4045-c720-d636dae5a8cb"
      },
      "source": [
        "#viewing the correlations heatmap\n",
        "plt.figure(figsize=(17, 14))\n",
        "sns.heatmap(correlation, annot = True)"
      ],
      "execution_count": 120,
      "outputs": [
        {
          "output_type": "execute_result",
          "data": {
            "text/plain": [
              "<matplotlib.axes._subplots.AxesSubplot at 0x7f0dbc84eb38>"
            ]
          },
          "metadata": {
            "tags": []
          },
          "execution_count": 120
        },
        {
          "output_type": "display_data",
          "data": {
            "image/png": "[encoded data removed]",
            "text/plain": [
              "<Figure size 1224x1008 with 2 Axes>"
            ]
          },
          "metadata": {
            "tags": [],
            "needs_background": "light"
          }
        }
      ]
    },
    {
      "cell_type": "markdown",
      "metadata": {
        "id": "thqD93zme4np",
        "colab_type": "text"
      },
      "source": [
        "### **Multicollinearity**"
      ]
    },
    {
      "cell_type": "markdown",
      "metadata": {
        "id": "BiHydJnlmOL1",
        "colab_type": "text"
      },
      "source": [
        "We create a new data frame where we only have our independent variables so that we can check for multicolliearity within them using the variance inflation factor."
      ]
    },
    {
      "cell_type": "code",
      "metadata": {
        "id": "Qqn3ssiCcCMS",
        "colab_type": "code",
        "colab": {}
      },
      "source": [
        "#creating the dataframe\n",
        "independent = data.drop(columns='price')"
      ],
      "execution_count": 84,
      "outputs": []
    },
    {
      "cell_type": "code",
      "metadata": {
        "id": "qhMLCEpdcH_k",
        "colab_type": "code",
        "colab": {
          "base_uri": "https://localhost:8080/",
          "height": 627
        },
        "outputId": "a16feef7-eb0c-4839-9a13-083e851d1734"
      },
      "source": [
        "#viewing their correlation\n",
        "ind_corr = independent.corr()\n",
        "ind_corr"
      ],
      "execution_count": 75,
      "outputs": [
        {
          "output_type": "execute_result",
          "data": {
            "text/html": [
              "<div>\n",
              "<style scoped>\n",
              "    .dataframe tbody tr th:only-of-type {\n",
              "        vertical-align: middle;\n",
              "    }\n",
              "\n",
              "    .dataframe tbody tr th {\n",
              "        vertical-align: top;\n",
              "    }\n",
              "\n",
              "    .dataframe thead th {\n",
              "        text-align: right;\n",
              "    }\n",
              "</style>\n",
              "<table border=\"1\" class=\"dataframe\">\n",
              "  <thead>\n",
              "    <tr style=\"text-align: right;\">\n",
              "      <th></th>\n",
              "      <th>bedrooms</th>\n",
              "      <th>bathrooms</th>\n",
              "      <th>sqft_living</th>\n",
              "      <th>sqft_lot</th>\n",
              "      <th>floors</th>\n",
              "      <th>waterfront</th>\n",
              "      <th>view</th>\n",
              "      <th>condition</th>\n",
              "      <th>grade</th>\n",
              "      <th>sqft_above</th>\n",
              "      <th>sqft_basement</th>\n",
              "      <th>yr_built</th>\n",
              "      <th>yr_renovated</th>\n",
              "      <th>zipcode</th>\n",
              "      <th>lat</th>\n",
              "      <th>long</th>\n",
              "      <th>sqft_living15</th>\n",
              "      <th>sqft_lot15</th>\n",
              "    </tr>\n",
              "  </thead>\n",
              "  <tbody>\n",
              "    <tr>\n",
              "      <th>bedrooms</th>\n",
              "      <td>1.000000</td>\n",
              "      <td>0.529235</td>\n",
              "      <td>0.591438</td>\n",
              "      <td>0.032774</td>\n",
              "      <td>0.181269</td>\n",
              "      <td>-0.006620</td>\n",
              "      <td>0.081807</td>\n",
              "      <td>0.025373</td>\n",
              "      <td>0.366683</td>\n",
              "      <td>0.490569</td>\n",
              "      <td>0.309490</td>\n",
              "      <td>0.159406</td>\n",
              "      <td>0.019450</td>\n",
              "      <td>-0.157108</td>\n",
              "      <td>-0.010581</td>\n",
              "      <td>0.133803</td>\n",
              "      <td>0.402559</td>\n",
              "      <td>0.030354</td>\n",
              "    </tr>\n",
              "    <tr>\n",
              "      <th>bathrooms</th>\n",
              "      <td>0.529235</td>\n",
              "      <td>1.000000</td>\n",
              "      <td>0.754715</td>\n",
              "      <td>0.087747</td>\n",
              "      <td>0.500746</td>\n",
              "      <td>0.063745</td>\n",
              "      <td>0.187887</td>\n",
              "      <td>-0.124906</td>\n",
              "      <td>0.665025</td>\n",
              "      <td>0.685373</td>\n",
              "      <td>0.283842</td>\n",
              "      <td>0.506030</td>\n",
              "      <td>0.050875</td>\n",
              "      <td>-0.203829</td>\n",
              "      <td>0.024607</td>\n",
              "      <td>0.223052</td>\n",
              "      <td>0.568686</td>\n",
              "      <td>0.087186</td>\n",
              "    </tr>\n",
              "    <tr>\n",
              "      <th>sqft_living</th>\n",
              "      <td>0.591438</td>\n",
              "      <td>0.754715</td>\n",
              "      <td>1.000000</td>\n",
              "      <td>0.172805</td>\n",
              "      <td>0.354168</td>\n",
              "      <td>0.103816</td>\n",
              "      <td>0.284623</td>\n",
              "      <td>-0.058776</td>\n",
              "      <td>0.762890</td>\n",
              "      <td>0.876593</td>\n",
              "      <td>0.435083</td>\n",
              "      <td>0.318240</td>\n",
              "      <td>0.055294</td>\n",
              "      <td>-0.199387</td>\n",
              "      <td>0.052537</td>\n",
              "      <td>0.240136</td>\n",
              "      <td>0.756397</td>\n",
              "      <td>0.183253</td>\n",
              "    </tr>\n",
              "    <tr>\n",
              "      <th>sqft_lot</th>\n",
              "      <td>0.032774</td>\n",
              "      <td>0.087747</td>\n",
              "      <td>0.172805</td>\n",
              "      <td>1.000000</td>\n",
              "      <td>-0.005123</td>\n",
              "      <td>0.021597</td>\n",
              "      <td>0.074741</td>\n",
              "      <td>-0.008964</td>\n",
              "      <td>0.113684</td>\n",
              "      <td>0.183502</td>\n",
              "      <td>0.015270</td>\n",
              "      <td>0.053146</td>\n",
              "      <td>0.007669</td>\n",
              "      <td>-0.129591</td>\n",
              "      <td>-0.085675</td>\n",
              "      <td>0.229526</td>\n",
              "      <td>0.144589</td>\n",
              "      <td>0.718552</td>\n",
              "    </tr>\n",
              "    <tr>\n",
              "      <th>floors</th>\n",
              "      <td>0.181269</td>\n",
              "      <td>0.500746</td>\n",
              "      <td>0.354168</td>\n",
              "      <td>-0.005123</td>\n",
              "      <td>1.000000</td>\n",
              "      <td>0.023728</td>\n",
              "      <td>0.029371</td>\n",
              "      <td>-0.263666</td>\n",
              "      <td>0.458062</td>\n",
              "      <td>0.524099</td>\n",
              "      <td>-0.245625</td>\n",
              "      <td>0.489226</td>\n",
              "      <td>0.006184</td>\n",
              "      <td>-0.059134</td>\n",
              "      <td>0.049636</td>\n",
              "      <td>0.125561</td>\n",
              "      <td>0.280051</td>\n",
              "      <td>-0.011192</td>\n",
              "    </tr>\n",
              "    <tr>\n",
              "      <th>waterfront</th>\n",
              "      <td>-0.006620</td>\n",
              "      <td>0.063745</td>\n",
              "      <td>0.103816</td>\n",
              "      <td>0.021597</td>\n",
              "      <td>0.023728</td>\n",
              "      <td>1.000000</td>\n",
              "      <td>0.401992</td>\n",
              "      <td>0.016660</td>\n",
              "      <td>0.082797</td>\n",
              "      <td>0.072074</td>\n",
              "      <td>0.080587</td>\n",
              "      <td>-0.026154</td>\n",
              "      <td>0.092948</td>\n",
              "      <td>0.030285</td>\n",
              "      <td>-0.014269</td>\n",
              "      <td>-0.041920</td>\n",
              "      <td>0.086463</td>\n",
              "      <td>0.030697</td>\n",
              "    </tr>\n",
              "    <tr>\n",
              "      <th>view</th>\n",
              "      <td>0.081807</td>\n",
              "      <td>0.187887</td>\n",
              "      <td>0.284623</td>\n",
              "      <td>0.074741</td>\n",
              "      <td>0.029371</td>\n",
              "      <td>0.401992</td>\n",
              "      <td>1.000000</td>\n",
              "      <td>0.045860</td>\n",
              "      <td>0.251421</td>\n",
              "      <td>0.167633</td>\n",
              "      <td>0.277005</td>\n",
              "      <td>-0.053208</td>\n",
              "      <td>0.103200</td>\n",
              "      <td>0.084865</td>\n",
              "      <td>0.006061</td>\n",
              "      <td>-0.078612</td>\n",
              "      <td>0.280384</td>\n",
              "      <td>0.072562</td>\n",
              "    </tr>\n",
              "    <tr>\n",
              "      <th>condition</th>\n",
              "      <td>0.025373</td>\n",
              "      <td>-0.124906</td>\n",
              "      <td>-0.058776</td>\n",
              "      <td>-0.008964</td>\n",
              "      <td>-0.263666</td>\n",
              "      <td>0.016660</td>\n",
              "      <td>0.045860</td>\n",
              "      <td>1.000000</td>\n",
              "      <td>-0.144557</td>\n",
              "      <td>-0.158195</td>\n",
              "      <td>0.174013</td>\n",
              "      <td>-0.361269</td>\n",
              "      <td>-0.060860</td>\n",
              "      <td>0.002946</td>\n",
              "      <td>-0.015082</td>\n",
              "      <td>-0.106512</td>\n",
              "      <td>-0.092826</td>\n",
              "      <td>-0.003416</td>\n",
              "    </tr>\n",
              "    <tr>\n",
              "      <th>grade</th>\n",
              "      <td>0.366683</td>\n",
              "      <td>0.665025</td>\n",
              "      <td>0.762890</td>\n",
              "      <td>0.113684</td>\n",
              "      <td>0.458062</td>\n",
              "      <td>0.082797</td>\n",
              "      <td>0.251421</td>\n",
              "      <td>-0.144557</td>\n",
              "      <td>1.000000</td>\n",
              "      <td>0.756086</td>\n",
              "      <td>0.168502</td>\n",
              "      <td>0.446876</td>\n",
              "      <td>0.014390</td>\n",
              "      <td>-0.184865</td>\n",
              "      <td>0.114126</td>\n",
              "      <td>0.198479</td>\n",
              "      <td>0.713392</td>\n",
              "      <td>0.119312</td>\n",
              "    </tr>\n",
              "    <tr>\n",
              "      <th>sqft_above</th>\n",
              "      <td>0.490569</td>\n",
              "      <td>0.685373</td>\n",
              "      <td>0.876593</td>\n",
              "      <td>0.183502</td>\n",
              "      <td>0.524099</td>\n",
              "      <td>0.072074</td>\n",
              "      <td>0.167633</td>\n",
              "      <td>-0.158195</td>\n",
              "      <td>0.756086</td>\n",
              "      <td>1.000000</td>\n",
              "      <td>-0.051906</td>\n",
              "      <td>0.424064</td>\n",
              "      <td>0.023209</td>\n",
              "      <td>-0.261119</td>\n",
              "      <td>-0.000798</td>\n",
              "      <td>0.343716</td>\n",
              "      <td>0.731835</td>\n",
              "      <td>0.194027</td>\n",
              "    </tr>\n",
              "    <tr>\n",
              "      <th>sqft_basement</th>\n",
              "      <td>0.309490</td>\n",
              "      <td>0.283842</td>\n",
              "      <td>0.435083</td>\n",
              "      <td>0.015270</td>\n",
              "      <td>-0.245625</td>\n",
              "      <td>0.080587</td>\n",
              "      <td>0.277005</td>\n",
              "      <td>0.174013</td>\n",
              "      <td>0.168502</td>\n",
              "      <td>-0.051906</td>\n",
              "      <td>1.000000</td>\n",
              "      <td>-0.133016</td>\n",
              "      <td>0.071322</td>\n",
              "      <td>0.074789</td>\n",
              "      <td>0.110518</td>\n",
              "      <td>-0.144768</td>\n",
              "      <td>0.200402</td>\n",
              "      <td>0.017259</td>\n",
              "    </tr>\n",
              "    <tr>\n",
              "      <th>yr_built</th>\n",
              "      <td>0.159406</td>\n",
              "      <td>0.506030</td>\n",
              "      <td>0.318240</td>\n",
              "      <td>0.053146</td>\n",
              "      <td>0.489226</td>\n",
              "      <td>-0.026154</td>\n",
              "      <td>-0.053208</td>\n",
              "      <td>-0.361269</td>\n",
              "      <td>0.446876</td>\n",
              "      <td>0.424064</td>\n",
              "      <td>-0.133016</td>\n",
              "      <td>1.000000</td>\n",
              "      <td>-0.224734</td>\n",
              "      <td>-0.346912</td>\n",
              "      <td>-0.148077</td>\n",
              "      <td>0.409588</td>\n",
              "      <td>0.326444</td>\n",
              "      <td>0.071049</td>\n",
              "    </tr>\n",
              "    <tr>\n",
              "      <th>yr_renovated</th>\n",
              "      <td>0.019450</td>\n",
              "      <td>0.050875</td>\n",
              "      <td>0.055294</td>\n",
              "      <td>0.007669</td>\n",
              "      <td>0.006184</td>\n",
              "      <td>0.092948</td>\n",
              "      <td>0.103200</td>\n",
              "      <td>-0.060860</td>\n",
              "      <td>0.014390</td>\n",
              "      <td>0.023209</td>\n",
              "      <td>0.071322</td>\n",
              "      <td>-0.224734</td>\n",
              "      <td>1.000000</td>\n",
              "      <td>0.064406</td>\n",
              "      <td>0.029279</td>\n",
              "      <td>-0.068631</td>\n",
              "      <td>-0.002871</td>\n",
              "      <td>0.007825</td>\n",
              "    </tr>\n",
              "    <tr>\n",
              "      <th>zipcode</th>\n",
              "      <td>-0.157108</td>\n",
              "      <td>-0.203829</td>\n",
              "      <td>-0.199387</td>\n",
              "      <td>-0.129591</td>\n",
              "      <td>-0.059134</td>\n",
              "      <td>0.030285</td>\n",
              "      <td>0.084865</td>\n",
              "      <td>0.002946</td>\n",
              "      <td>-0.184865</td>\n",
              "      <td>-0.261119</td>\n",
              "      <td>0.074789</td>\n",
              "      <td>-0.346912</td>\n",
              "      <td>0.064406</td>\n",
              "      <td>1.000000</td>\n",
              "      <td>0.267058</td>\n",
              "      <td>-0.564041</td>\n",
              "      <td>-0.278983</td>\n",
              "      <td>-0.147231</td>\n",
              "    </tr>\n",
              "    <tr>\n",
              "      <th>lat</th>\n",
              "      <td>-0.010581</td>\n",
              "      <td>0.024607</td>\n",
              "      <td>0.052537</td>\n",
              "      <td>-0.085675</td>\n",
              "      <td>0.049636</td>\n",
              "      <td>-0.014269</td>\n",
              "      <td>0.006061</td>\n",
              "      <td>-0.015082</td>\n",
              "      <td>0.114126</td>\n",
              "      <td>-0.000798</td>\n",
              "      <td>0.110518</td>\n",
              "      <td>-0.148077</td>\n",
              "      <td>0.029279</td>\n",
              "      <td>0.267058</td>\n",
              "      <td>1.000000</td>\n",
              "      <td>-0.135527</td>\n",
              "      <td>0.048872</td>\n",
              "      <td>-0.086415</td>\n",
              "    </tr>\n",
              "    <tr>\n",
              "      <th>long</th>\n",
              "      <td>0.133803</td>\n",
              "      <td>0.223052</td>\n",
              "      <td>0.240136</td>\n",
              "      <td>0.229526</td>\n",
              "      <td>0.125561</td>\n",
              "      <td>-0.041920</td>\n",
              "      <td>-0.078612</td>\n",
              "      <td>-0.106512</td>\n",
              "      <td>0.198479</td>\n",
              "      <td>0.343716</td>\n",
              "      <td>-0.144768</td>\n",
              "      <td>0.409588</td>\n",
              "      <td>-0.068631</td>\n",
              "      <td>-0.564041</td>\n",
              "      <td>-0.135527</td>\n",
              "      <td>1.000000</td>\n",
              "      <td>0.334501</td>\n",
              "      <td>0.254441</td>\n",
              "    </tr>\n",
              "    <tr>\n",
              "      <th>sqft_living15</th>\n",
              "      <td>0.402559</td>\n",
              "      <td>0.568686</td>\n",
              "      <td>0.756397</td>\n",
              "      <td>0.144589</td>\n",
              "      <td>0.280051</td>\n",
              "      <td>0.086463</td>\n",
              "      <td>0.280384</td>\n",
              "      <td>-0.092826</td>\n",
              "      <td>0.713392</td>\n",
              "      <td>0.731835</td>\n",
              "      <td>0.200402</td>\n",
              "      <td>0.326444</td>\n",
              "      <td>-0.002871</td>\n",
              "      <td>-0.278983</td>\n",
              "      <td>0.048872</td>\n",
              "      <td>0.334501</td>\n",
              "      <td>1.000000</td>\n",
              "      <td>0.183156</td>\n",
              "    </tr>\n",
              "    <tr>\n",
              "      <th>sqft_lot15</th>\n",
              "      <td>0.030354</td>\n",
              "      <td>0.087186</td>\n",
              "      <td>0.183253</td>\n",
              "      <td>0.718552</td>\n",
              "      <td>-0.011192</td>\n",
              "      <td>0.030697</td>\n",
              "      <td>0.072562</td>\n",
              "      <td>-0.003416</td>\n",
              "      <td>0.119312</td>\n",
              "      <td>0.194027</td>\n",
              "      <td>0.017259</td>\n",
              "      <td>0.071049</td>\n",
              "      <td>0.007825</td>\n",
              "      <td>-0.147231</td>\n",
              "      <td>-0.086415</td>\n",
              "      <td>0.254441</td>\n",
              "      <td>0.183156</td>\n",
              "      <td>1.000000</td>\n",
              "    </tr>\n",
              "  </tbody>\n",
              "</table>\n",
              "</div>"
            ],
            "text/plain": [
              "               bedrooms  bathrooms  ...  sqft_living15  sqft_lot15\n",
              "bedrooms       1.000000   0.529235  ...       0.402559    0.030354\n",
              "bathrooms      0.529235   1.000000  ...       0.568686    0.087186\n",
              "sqft_living    0.591438   0.754715  ...       0.756397    0.183253\n",
              "sqft_lot       0.032774   0.087747  ...       0.144589    0.718552\n",
              "floors         0.181269   0.500746  ...       0.280051   -0.011192\n",
              "waterfront    -0.006620   0.063745  ...       0.086463    0.030697\n",
              "view           0.081807   0.187887  ...       0.280384    0.072562\n",
              "condition      0.025373  -0.124906  ...      -0.092826   -0.003416\n",
              "grade          0.366683   0.665025  ...       0.713392    0.119312\n",
              "sqft_above     0.490569   0.685373  ...       0.731835    0.194027\n",
              "sqft_basement  0.309490   0.283842  ...       0.200402    0.017259\n",
              "yr_built       0.159406   0.506030  ...       0.326444    0.071049\n",
              "yr_renovated   0.019450   0.050875  ...      -0.002871    0.007825\n",
              "zipcode       -0.157108  -0.203829  ...      -0.278983   -0.147231\n",
              "lat           -0.010581   0.024607  ...       0.048872   -0.086415\n",
              "long           0.133803   0.223052  ...       0.334501    0.254441\n",
              "sqft_living15  0.402559   0.568686  ...       1.000000    0.183156\n",
              "sqft_lot15     0.030354   0.087186  ...       0.183156    1.000000\n",
              "\n",
              "[18 rows x 18 columns]"
            ]
          },
          "metadata": {
            "tags": []
          },
          "execution_count": 75
        }
      ]
    },
    {
      "cell_type": "code",
      "metadata": {
        "id": "ycpJUmGlRfUx",
        "colab_type": "code",
        "colab": {
          "base_uri": "https://localhost:8080/",
          "height": 627
        },
        "outputId": "2d05cd17-388c-4315-f0af-e09609807576"
      },
      "source": [
        "#plotting the VIF scores.\n",
        "VIF=pd.DataFrame(np.linalg.inv(ind_corr.values), index = ind_corr.index, columns=ind_corr.columns)\n",
        "VIF"
      ],
      "execution_count": 129,
      "outputs": [
        {
          "output_type": "execute_result",
          "data": {
            "text/html": [
              "<div>\n",
              "<style scoped>\n",
              "    .dataframe tbody tr th:only-of-type {\n",
              "        vertical-align: middle;\n",
              "    }\n",
              "\n",
              "    .dataframe tbody tr th {\n",
              "        vertical-align: top;\n",
              "    }\n",
              "\n",
              "    .dataframe thead th {\n",
              "        text-align: right;\n",
              "    }\n",
              "</style>\n",
              "<table border=\"1\" class=\"dataframe\">\n",
              "  <thead>\n",
              "    <tr style=\"text-align: right;\">\n",
              "      <th></th>\n",
              "      <th>bedrooms</th>\n",
              "      <th>bathrooms</th>\n",
              "      <th>sqft_living</th>\n",
              "      <th>sqft_lot</th>\n",
              "      <th>floors</th>\n",
              "      <th>waterfront</th>\n",
              "      <th>view</th>\n",
              "      <th>condition</th>\n",
              "      <th>grade</th>\n",
              "      <th>sqft_above</th>\n",
              "      <th>sqft_basement</th>\n",
              "      <th>yr_built</th>\n",
              "      <th>yr_renovated</th>\n",
              "      <th>zipcode</th>\n",
              "      <th>lat</th>\n",
              "      <th>long</th>\n",
              "      <th>sqft_living15</th>\n",
              "      <th>sqft_lot15</th>\n",
              "    </tr>\n",
              "  </thead>\n",
              "  <tbody>\n",
              "    <tr>\n",
              "      <th>bedrooms</th>\n",
              "      <td>1.708179</td>\n",
              "      <td>-0.488648</td>\n",
              "      <td>2.067323e-01</td>\n",
              "      <td>0.052558</td>\n",
              "      <td>0.051429</td>\n",
              "      <td>0.066943</td>\n",
              "      <td>0.120389</td>\n",
              "      <td>-0.047054</td>\n",
              "      <td>0.325733</td>\n",
              "      <td>-1.107333e+00</td>\n",
              "      <td>-6.092774e-01</td>\n",
              "      <td>0.144744</td>\n",
              "      <td>0.048712</td>\n",
              "      <td>0.084913</td>\n",
              "      <td>0.056560</td>\n",
              "      <td>0.017398</td>\n",
              "      <td>0.024038</td>\n",
              "      <td>0.090219</td>\n",
              "    </tr>\n",
              "    <tr>\n",
              "      <th>bathrooms</th>\n",
              "      <td>-0.488648</td>\n",
              "      <td>3.362129</td>\n",
              "      <td>-1.209962e+00</td>\n",
              "      <td>-0.025292</td>\n",
              "      <td>-0.676183</td>\n",
              "      <td>0.008564</td>\n",
              "      <td>-0.044867</td>\n",
              "      <td>-0.137923</td>\n",
              "      <td>-0.275381</td>\n",
              "      <td>-1.736268e-01</td>\n",
              "      <td>-4.910383e-01</td>\n",
              "      <td>-0.939565</td>\n",
              "      <td>-0.261578</td>\n",
              "      <td>0.039889</td>\n",
              "      <td>-0.043060</td>\n",
              "      <td>0.053665</td>\n",
              "      <td>0.092202</td>\n",
              "      <td>0.069490</td>\n",
              "    </tr>\n",
              "    <tr>\n",
              "      <th>sqft_living</th>\n",
              "      <td>0.194005</td>\n",
              "      <td>-1.197846</td>\n",
              "      <td>-4.827045e+13</td>\n",
              "      <td>0.049658</td>\n",
              "      <td>0.983513</td>\n",
              "      <td>-0.005151</td>\n",
              "      <td>-0.214448</td>\n",
              "      <td>-0.840275</td>\n",
              "      <td>-0.261274</td>\n",
              "      <td>4.352106e+13</td>\n",
              "      <td>2.325994e+13</td>\n",
              "      <td>-0.065527</td>\n",
              "      <td>-0.606935</td>\n",
              "      <td>-0.260367</td>\n",
              "      <td>-0.184712</td>\n",
              "      <td>0.343203</td>\n",
              "      <td>-0.875919</td>\n",
              "      <td>-0.165058</td>\n",
              "    </tr>\n",
              "    <tr>\n",
              "      <th>sqft_lot</th>\n",
              "      <td>0.052558</td>\n",
              "      <td>-0.025292</td>\n",
              "      <td>4.603029e-02</td>\n",
              "      <td>2.102667</td>\n",
              "      <td>0.045271</td>\n",
              "      <td>0.027546</td>\n",
              "      <td>-0.058823</td>\n",
              "      <td>0.030596</td>\n",
              "      <td>-0.053004</td>\n",
              "      <td>-2.426676e-01</td>\n",
              "      <td>-6.596182e-02</td>\n",
              "      <td>0.099175</td>\n",
              "      <td>0.021426</td>\n",
              "      <td>-0.002361</td>\n",
              "      <td>0.053566</td>\n",
              "      <td>-0.133195</td>\n",
              "      <td>0.163908</td>\n",
              "      <td>-1.459078</td>\n",
              "    </tr>\n",
              "    <tr>\n",
              "      <th>floors</th>\n",
              "      <td>0.051429</td>\n",
              "      <td>-0.676183</td>\n",
              "      <td>9.908513e-01</td>\n",
              "      <td>0.045271</td>\n",
              "      <td>2.011953</td>\n",
              "      <td>-0.005413</td>\n",
              "      <td>-0.039886</td>\n",
              "      <td>0.089866</td>\n",
              "      <td>-0.230281</td>\n",
              "      <td>-1.397198e+00</td>\n",
              "      <td>1.375796e-01</td>\n",
              "      <td>-0.481030</td>\n",
              "      <td>-0.079901</td>\n",
              "      <td>-0.170674</td>\n",
              "      <td>-0.127372</td>\n",
              "      <td>0.164281</td>\n",
              "      <td>0.272608</td>\n",
              "      <td>0.072797</td>\n",
              "    </tr>\n",
              "    <tr>\n",
              "      <th>waterfront</th>\n",
              "      <td>0.066943</td>\n",
              "      <td>0.008564</td>\n",
              "      <td>-4.953600e-03</td>\n",
              "      <td>0.027546</td>\n",
              "      <td>-0.005413</td>\n",
              "      <td>1.204185</td>\n",
              "      <td>-0.492505</td>\n",
              "      <td>-0.012723</td>\n",
              "      <td>0.050319</td>\n",
              "      <td>-1.103144e-01</td>\n",
              "      <td>-2.734635e-03</td>\n",
              "      <td>-0.020563</td>\n",
              "      <td>-0.065690</td>\n",
              "      <td>0.022829</td>\n",
              "      <td>0.010093</td>\n",
              "      <td>0.027251</td>\n",
              "      <td>0.054370</td>\n",
              "      <td>-0.018206</td>\n",
              "    </tr>\n",
              "    <tr>\n",
              "      <th>view</th>\n",
              "      <td>0.120389</td>\n",
              "      <td>-0.044867</td>\n",
              "      <td>-2.152069e-01</td>\n",
              "      <td>-0.058823</td>\n",
              "      <td>-0.039886</td>\n",
              "      <td>-0.492505</td>\n",
              "      <td>1.435878</td>\n",
              "      <td>-0.020969</td>\n",
              "      <td>-0.183574</td>\n",
              "      <td>2.277786e-01</td>\n",
              "      <td>-1.556890e-01</td>\n",
              "      <td>0.152555</td>\n",
              "      <td>-0.038859</td>\n",
              "      <td>-0.140206</td>\n",
              "      <td>0.119081</td>\n",
              "      <td>0.071950</td>\n",
              "      <td>-0.325422</td>\n",
              "      <td>-0.007025</td>\n",
              "    </tr>\n",
              "    <tr>\n",
              "      <th>condition</th>\n",
              "      <td>-0.047054</td>\n",
              "      <td>-0.137923</td>\n",
              "      <td>-8.395335e-01</td>\n",
              "      <td>0.030596</td>\n",
              "      <td>0.089866</td>\n",
              "      <td>-0.012723</td>\n",
              "      <td>-0.020969</td>\n",
              "      <td>1.249197</td>\n",
              "      <td>-0.054037</td>\n",
              "      <td>8.108383e-01</td>\n",
              "      <td>3.062585e-01</td>\n",
              "      <td>0.561662</td>\n",
              "      <td>0.206956</td>\n",
              "      <td>0.161374</td>\n",
              "      <td>0.063840</td>\n",
              "      <td>-0.006870</td>\n",
              "      <td>0.075885</td>\n",
              "      <td>-0.028117</td>\n",
              "    </tr>\n",
              "    <tr>\n",
              "      <th>grade</th>\n",
              "      <td>0.325733</td>\n",
              "      <td>-0.275381</td>\n",
              "      <td>-2.534438e-01</td>\n",
              "      <td>-0.053004</td>\n",
              "      <td>-0.230281</td>\n",
              "      <td>0.050319</td>\n",
              "      <td>-0.183574</td>\n",
              "      <td>-0.054037</td>\n",
              "      <td>3.422025</td>\n",
              "      <td>-1.393599e+00</td>\n",
              "      <td>-3.712849e-01</td>\n",
              "      <td>-0.636270</td>\n",
              "      <td>-0.070690</td>\n",
              "      <td>0.084451</td>\n",
              "      <td>-0.329498</td>\n",
              "      <td>0.393758</td>\n",
              "      <td>-0.911700</td>\n",
              "      <td>0.073197</td>\n",
              "    </tr>\n",
              "    <tr>\n",
              "      <th>sqft_above</th>\n",
              "      <td>-1.101287</td>\n",
              "      <td>-0.172478</td>\n",
              "      <td>4.352106e+13</td>\n",
              "      <td>-0.246466</td>\n",
              "      <td>-1.392610</td>\n",
              "      <td>-0.110250</td>\n",
              "      <td>0.228012</td>\n",
              "      <td>0.811821</td>\n",
              "      <td>-1.388122</td>\n",
              "      <td>-3.923897e+13</td>\n",
              "      <td>-2.097136e+13</td>\n",
              "      <td>0.571714</td>\n",
              "      <td>0.543930</td>\n",
              "      <td>0.155530</td>\n",
              "      <td>0.343817</td>\n",
              "      <td>-0.651301</td>\n",
              "      <td>-0.745516</td>\n",
              "      <td>-0.030576</td>\n",
              "    </tr>\n",
              "    <tr>\n",
              "      <th>sqft_basement</th>\n",
              "      <td>-0.605774</td>\n",
              "      <td>-0.490921</td>\n",
              "      <td>2.325994e+13</td>\n",
              "      <td>-0.067811</td>\n",
              "      <td>0.140448</td>\n",
              "      <td>-0.002766</td>\n",
              "      <td>-0.155634</td>\n",
              "      <td>0.306706</td>\n",
              "      <td>-0.368133</td>\n",
              "      <td>-2.097136e+13</td>\n",
              "      <td>-1.120819e+13</td>\n",
              "      <td>0.272850</td>\n",
              "      <td>0.277220</td>\n",
              "      <td>0.042224</td>\n",
              "      <td>0.005777</td>\n",
              "      <td>-0.017709</td>\n",
              "      <td>-0.048823</td>\n",
              "      <td>0.017954</td>\n",
              "    </tr>\n",
              "    <tr>\n",
              "      <th>yr_built</th>\n",
              "      <td>0.144744</td>\n",
              "      <td>-0.939565</td>\n",
              "      <td>-6.772535e-02</td>\n",
              "      <td>0.099175</td>\n",
              "      <td>-0.481030</td>\n",
              "      <td>-0.020563</td>\n",
              "      <td>0.152555</td>\n",
              "      <td>0.561662</td>\n",
              "      <td>-0.636270</td>\n",
              "      <td>5.736959e-01</td>\n",
              "      <td>2.739095e-01</td>\n",
              "      <td>2.431498</td>\n",
              "      <td>0.534118</td>\n",
              "      <td>0.257463</td>\n",
              "      <td>0.311108</td>\n",
              "      <td>-0.505453</td>\n",
              "      <td>0.077628</td>\n",
              "      <td>-0.033058</td>\n",
              "    </tr>\n",
              "    <tr>\n",
              "      <th>yr_renovated</th>\n",
              "      <td>0.048712</td>\n",
              "      <td>-0.261578</td>\n",
              "      <td>-6.075184e-01</td>\n",
              "      <td>0.021426</td>\n",
              "      <td>-0.079901</td>\n",
              "      <td>-0.065690</td>\n",
              "      <td>-0.038859</td>\n",
              "      <td>0.206956</td>\n",
              "      <td>-0.070690</td>\n",
              "      <td>5.444557e-01</td>\n",
              "      <td>2.775008e-01</td>\n",
              "      <td>0.534118</td>\n",
              "      <td>1.150616</td>\n",
              "      <td>0.037005</td>\n",
              "      <td>0.046353</td>\n",
              "      <td>-0.054093</td>\n",
              "      <td>0.099244</td>\n",
              "      <td>-0.021991</td>\n",
              "    </tr>\n",
              "    <tr>\n",
              "      <th>zipcode</th>\n",
              "      <td>0.084913</td>\n",
              "      <td>0.039889</td>\n",
              "      <td>-2.572605e-01</td>\n",
              "      <td>-0.002361</td>\n",
              "      <td>-0.170674</td>\n",
              "      <td>0.022829</td>\n",
              "      <td>-0.140206</td>\n",
              "      <td>0.161374</td>\n",
              "      <td>0.084451</td>\n",
              "      <td>1.527292e-01</td>\n",
              "      <td>4.072702e-02</td>\n",
              "      <td>0.257463</td>\n",
              "      <td>0.037005</td>\n",
              "      <td>1.662455</td>\n",
              "      <td>-0.307757</td>\n",
              "      <td>0.733909</td>\n",
              "      <td>0.210202</td>\n",
              "      <td>-0.015148</td>\n",
              "    </tr>\n",
              "    <tr>\n",
              "      <th>lat</th>\n",
              "      <td>0.056560</td>\n",
              "      <td>-0.043060</td>\n",
              "      <td>-1.860216e-01</td>\n",
              "      <td>0.053566</td>\n",
              "      <td>-0.127372</td>\n",
              "      <td>0.010093</td>\n",
              "      <td>0.119081</td>\n",
              "      <td>0.063840</td>\n",
              "      <td>-0.329498</td>\n",
              "      <td>3.449975e-01</td>\n",
              "      <td>6.408372e-03</td>\n",
              "      <td>0.311108</td>\n",
              "      <td>0.046353</td>\n",
              "      <td>-0.307757</td>\n",
              "      <td>1.180958</td>\n",
              "      <td>-0.100799</td>\n",
              "      <td>-0.094822</td>\n",
              "      <td>0.037010</td>\n",
              "    </tr>\n",
              "    <tr>\n",
              "      <th>long</th>\n",
              "      <td>0.017398</td>\n",
              "      <td>0.053665</td>\n",
              "      <td>3.488945e-01</td>\n",
              "      <td>-0.133195</td>\n",
              "      <td>0.164281</td>\n",
              "      <td>0.027251</td>\n",
              "      <td>0.071950</td>\n",
              "      <td>-0.006870</td>\n",
              "      <td>0.393758</td>\n",
              "      <td>-6.564328e-01</td>\n",
              "      <td>-2.045156e-02</td>\n",
              "      <td>-0.505453</td>\n",
              "      <td>-0.054093</td>\n",
              "      <td>0.733909</td>\n",
              "      <td>-0.100799</td>\n",
              "      <td>1.825606</td>\n",
              "      <td>-0.354481</td>\n",
              "      <td>-0.160859</td>\n",
              "    </tr>\n",
              "    <tr>\n",
              "      <th>sqft_living15</th>\n",
              "      <td>0.024038</td>\n",
              "      <td>0.092202</td>\n",
              "      <td>-8.842416e-01</td>\n",
              "      <td>0.163908</td>\n",
              "      <td>0.272608</td>\n",
              "      <td>0.054370</td>\n",
              "      <td>-0.325422</td>\n",
              "      <td>0.075885</td>\n",
              "      <td>-0.911700</td>\n",
              "      <td>-7.380122e-01</td>\n",
              "      <td>-4.481312e-02</td>\n",
              "      <td>0.077628</td>\n",
              "      <td>0.099244</td>\n",
              "      <td>0.210202</td>\n",
              "      <td>-0.094822</td>\n",
              "      <td>-0.354481</td>\n",
              "      <td>2.979524</td>\n",
              "      <td>-0.125623</td>\n",
              "    </tr>\n",
              "    <tr>\n",
              "      <th>sqft_lot15</th>\n",
              "      <td>0.090219</td>\n",
              "      <td>0.069490</td>\n",
              "      <td>-1.607310e-01</td>\n",
              "      <td>-1.459078</td>\n",
              "      <td>0.072797</td>\n",
              "      <td>-0.018206</td>\n",
              "      <td>-0.007025</td>\n",
              "      <td>-0.028117</td>\n",
              "      <td>0.073197</td>\n",
              "      <td>-3.447731e-02</td>\n",
              "      <td>1.586855e-02</td>\n",
              "      <td>-0.033058</td>\n",
              "      <td>-0.021991</td>\n",
              "      <td>-0.015148</td>\n",
              "      <td>0.037010</td>\n",
              "      <td>-0.160859</td>\n",
              "      <td>-0.125623</td>\n",
              "      <td>2.136000</td>\n",
              "    </tr>\n",
              "  </tbody>\n",
              "</table>\n",
              "</div>"
            ],
            "text/plain": [
              "               bedrooms  bathrooms  ...  sqft_living15  sqft_lot15\n",
              "bedrooms       1.708179  -0.488648  ...       0.024038    0.090219\n",
              "bathrooms     -0.488648   3.362129  ...       0.092202    0.069490\n",
              "sqft_living    0.194005  -1.197846  ...      -0.875919   -0.165058\n",
              "sqft_lot       0.052558  -0.025292  ...       0.163908   -1.459078\n",
              "floors         0.051429  -0.676183  ...       0.272608    0.072797\n",
              "waterfront     0.066943   0.008564  ...       0.054370   -0.018206\n",
              "view           0.120389  -0.044867  ...      -0.325422   -0.007025\n",
              "condition     -0.047054  -0.137923  ...       0.075885   -0.028117\n",
              "grade          0.325733  -0.275381  ...      -0.911700    0.073197\n",
              "sqft_above    -1.101287  -0.172478  ...      -0.745516   -0.030576\n",
              "sqft_basement -0.605774  -0.490921  ...      -0.048823    0.017954\n",
              "yr_built       0.144744  -0.939565  ...       0.077628   -0.033058\n",
              "yr_renovated   0.048712  -0.261578  ...       0.099244   -0.021991\n",
              "zipcode        0.084913   0.039889  ...       0.210202   -0.015148\n",
              "lat            0.056560  -0.043060  ...      -0.094822    0.037010\n",
              "long           0.017398   0.053665  ...      -0.354481   -0.160859\n",
              "sqft_living15  0.024038   0.092202  ...       2.979524   -0.125623\n",
              "sqft_lot15     0.090219   0.069490  ...      -0.125623    2.136000\n",
              "\n",
              "[18 rows x 18 columns]"
            ]
          },
          "metadata": {
            "tags": []
          },
          "execution_count": 129
        }
      ]
    },
    {
      "cell_type": "markdown",
      "metadata": {
        "id": "4MSKBAMimzys",
        "colab_type": "text"
      },
      "source": [
        "We are able to see that sqft_living, sqft_above and sqft_basement have very high values(higher than 5) and we are going to remove them inorder to see if there will be any change."
      ]
    },
    {
      "cell_type": "code",
      "metadata": {
        "id": "WiDNecA5dw81",
        "colab_type": "code",
        "colab": {}
      },
      "source": [
        "#dropping the columns.\n",
        "#creating a new data frame without the columns.\n",
        "vif_most = ['sqft_living', 'sqft_above', 'sqft_basement']\n",
        "independent_new = independent.drop(columns = vif_most, axis = 1)"
      ],
      "execution_count": 85,
      "outputs": []
    },
    {
      "cell_type": "code",
      "metadata": {
        "id": "rRZxnWCod8CJ",
        "colab_type": "code",
        "colab": {
          "base_uri": "https://localhost:8080/",
          "height": 534
        },
        "outputId": "8828dfaf-ee37-4113-8fb4-7d7700f52126"
      },
      "source": [
        "#a new vifs for the independent variables.\n",
        "new_corr = independent_new.corr()\n",
        "pd.DataFrame(np.linalg.inv(new_corr.values), index = new_corr.index, columns = new_corr.columns)"
      ],
      "execution_count": 78,
      "outputs": [
        {
          "output_type": "execute_result",
          "data": {
            "text/html": [
              "<div>\n",
              "<style scoped>\n",
              "    .dataframe tbody tr th:only-of-type {\n",
              "        vertical-align: middle;\n",
              "    }\n",
              "\n",
              "    .dataframe tbody tr th {\n",
              "        vertical-align: top;\n",
              "    }\n",
              "\n",
              "    .dataframe thead th {\n",
              "        text-align: right;\n",
              "    }\n",
              "</style>\n",
              "<table border=\"1\" class=\"dataframe\">\n",
              "  <thead>\n",
              "    <tr style=\"text-align: right;\">\n",
              "      <th></th>\n",
              "      <th>bedrooms</th>\n",
              "      <th>bathrooms</th>\n",
              "      <th>sqft_lot</th>\n",
              "      <th>floors</th>\n",
              "      <th>waterfront</th>\n",
              "      <th>view</th>\n",
              "      <th>condition</th>\n",
              "      <th>grade</th>\n",
              "      <th>yr_built</th>\n",
              "      <th>yr_renovated</th>\n",
              "      <th>zipcode</th>\n",
              "      <th>lat</th>\n",
              "      <th>long</th>\n",
              "      <th>sqft_living15</th>\n",
              "      <th>sqft_lot15</th>\n",
              "    </tr>\n",
              "  </thead>\n",
              "  <tbody>\n",
              "    <tr>\n",
              "      <th>bedrooms</th>\n",
              "      <td>1.494584</td>\n",
              "      <td>-0.836110</td>\n",
              "      <td>0.016684</td>\n",
              "      <td>0.075021</td>\n",
              "      <td>0.049603</td>\n",
              "      <td>0.084769</td>\n",
              "      <td>-0.054653</td>\n",
              "      <td>0.014561</td>\n",
              "      <td>0.256157</td>\n",
              "      <td>0.045842</td>\n",
              "      <td>0.060461</td>\n",
              "      <td>0.069028</td>\n",
              "      <td>-0.008542</td>\n",
              "      <td>-0.270282</td>\n",
              "      <td>0.054770</td>\n",
              "    </tr>\n",
              "    <tr>\n",
              "      <th>bathrooms</th>\n",
              "      <td>-0.836110</td>\n",
              "      <td>2.727387</td>\n",
              "      <td>-0.071226</td>\n",
              "      <td>-0.473109</td>\n",
              "      <td>-0.008911</td>\n",
              "      <td>-0.154112</td>\n",
              "      <td>-0.173965</td>\n",
              "      <td>-0.707327</td>\n",
              "      <td>-0.765927</td>\n",
              "      <td>-0.268725</td>\n",
              "      <td>-0.007166</td>\n",
              "      <td>-0.056205</td>\n",
              "      <td>0.073626</td>\n",
              "      <td>-0.317264</td>\n",
              "      <td>0.018712</td>\n",
              "    </tr>\n",
              "    <tr>\n",
              "      <th>sqft_lot</th>\n",
              "      <td>0.016684</td>\n",
              "      <td>-0.071226</td>\n",
              "      <td>2.094368</td>\n",
              "      <td>0.019547</td>\n",
              "      <td>0.022695</td>\n",
              "      <td>-0.055570</td>\n",
              "      <td>0.033577</td>\n",
              "      <td>-0.118665</td>\n",
              "      <td>0.119309</td>\n",
              "      <td>0.021391</td>\n",
              "      <td>-0.005159</td>\n",
              "      <td>0.061679</td>\n",
              "      <td>-0.148741</td>\n",
              "      <td>0.101852</td>\n",
              "      <td>-1.466264</td>\n",
              "    </tr>\n",
              "    <tr>\n",
              "      <th>floors</th>\n",
              "      <td>0.075021</td>\n",
              "      <td>-0.473109</td>\n",
              "      <td>0.019547</td>\n",
              "      <td>1.616587</td>\n",
              "      <td>-0.029085</td>\n",
              "      <td>0.086114</td>\n",
              "      <td>0.146998</td>\n",
              "      <td>-0.372804</td>\n",
              "      <td>-0.474482</td>\n",
              "      <td>-0.073662</td>\n",
              "      <td>-0.150633</td>\n",
              "      <td>-0.049177</td>\n",
              "      <td>0.019097</td>\n",
              "      <td>0.138913</td>\n",
              "      <td>0.060205</td>\n",
              "    </tr>\n",
              "    <tr>\n",
              "      <th>waterfront</th>\n",
              "      <td>0.049603</td>\n",
              "      <td>-0.008911</td>\n",
              "      <td>0.022695</td>\n",
              "      <td>-0.029085</td>\n",
              "      <td>1.201107</td>\n",
              "      <td>-0.487436</td>\n",
              "      <td>-0.009674</td>\n",
              "      <td>0.013490</td>\n",
              "      <td>-0.010303</td>\n",
              "      <td>-0.065539</td>\n",
              "      <td>0.021971</td>\n",
              "      <td>0.016292</td>\n",
              "      <td>0.015510</td>\n",
              "      <td>0.019639</td>\n",
              "      <td>-0.022162</td>\n",
              "    </tr>\n",
              "    <tr>\n",
              "      <th>view</th>\n",
              "      <td>0.084769</td>\n",
              "      <td>-0.154112</td>\n",
              "      <td>-0.055570</td>\n",
              "      <td>0.086114</td>\n",
              "      <td>-0.487436</td>\n",
              "      <td>1.391943</td>\n",
              "      <td>-0.039743</td>\n",
              "      <td>-0.180323</td>\n",
              "      <td>0.165365</td>\n",
              "      <td>-0.041170</td>\n",
              "      <td>-0.149665</td>\n",
              "      <td>0.096406</td>\n",
              "      <td>0.113603</td>\n",
              "      <td>-0.322884</td>\n",
              "      <td>-0.007802</td>\n",
              "    </tr>\n",
              "    <tr>\n",
              "      <th>condition</th>\n",
              "      <td>-0.054653</td>\n",
              "      <td>-0.173965</td>\n",
              "      <td>0.033577</td>\n",
              "      <td>0.146998</td>\n",
              "      <td>-0.009674</td>\n",
              "      <td>-0.039743</td>\n",
              "      <td>1.240822</td>\n",
              "      <td>-0.039639</td>\n",
              "      <td>0.562949</td>\n",
              "      <td>0.206007</td>\n",
              "      <td>0.158016</td>\n",
              "      <td>0.052872</td>\n",
              "      <td>0.013359</td>\n",
              "      <td>0.089147</td>\n",
              "      <td>-0.027008</td>\n",
              "    </tr>\n",
              "    <tr>\n",
              "      <th>grade</th>\n",
              "      <td>0.014561</td>\n",
              "      <td>-0.707327</td>\n",
              "      <td>-0.118665</td>\n",
              "      <td>-0.372804</td>\n",
              "      <td>0.013490</td>\n",
              "      <td>-0.180323</td>\n",
              "      <td>-0.039639</td>\n",
              "      <td>2.889939</td>\n",
              "      <td>-0.464984</td>\n",
              "      <td>-0.072167</td>\n",
              "      <td>0.056689</td>\n",
              "      <td>-0.275544</td>\n",
              "      <td>0.288734</td>\n",
              "      <td>-1.416302</td>\n",
              "      <td>0.014128</td>\n",
              "    </tr>\n",
              "    <tr>\n",
              "      <th>yr_built</th>\n",
              "      <td>0.256157</td>\n",
              "      <td>-0.765927</td>\n",
              "      <td>0.119309</td>\n",
              "      <td>-0.474482</td>\n",
              "      <td>-0.010303</td>\n",
              "      <td>0.165365</td>\n",
              "      <td>0.562949</td>\n",
              "      <td>-0.464984</td>\n",
              "      <td>2.372154</td>\n",
              "      <td>0.535301</td>\n",
              "      <td>0.269389</td>\n",
              "      <td>0.300786</td>\n",
              "      <td>-0.485009</td>\n",
              "      <td>0.238951</td>\n",
              "      <td>-0.013751</td>\n",
              "    </tr>\n",
              "    <tr>\n",
              "      <th>yr_renovated</th>\n",
              "      <td>0.045842</td>\n",
              "      <td>-0.268725</td>\n",
              "      <td>0.021391</td>\n",
              "      <td>-0.073662</td>\n",
              "      <td>-0.065539</td>\n",
              "      <td>-0.041170</td>\n",
              "      <td>0.206007</td>\n",
              "      <td>-0.072167</td>\n",
              "      <td>0.535301</td>\n",
              "      <td>1.150485</td>\n",
              "      <td>0.036417</td>\n",
              "      <td>0.045323</td>\n",
              "      <td>-0.052231</td>\n",
              "      <td>0.097761</td>\n",
              "      <td>-0.022217</td>\n",
              "    </tr>\n",
              "    <tr>\n",
              "      <th>zipcode</th>\n",
              "      <td>0.060461</td>\n",
              "      <td>-0.007166</td>\n",
              "      <td>-0.005159</td>\n",
              "      <td>-0.150633</td>\n",
              "      <td>0.021971</td>\n",
              "      <td>-0.149665</td>\n",
              "      <td>0.158016</td>\n",
              "      <td>0.056689</td>\n",
              "      <td>0.269389</td>\n",
              "      <td>0.036417</td>\n",
              "      <td>1.658834</td>\n",
              "      <td>-0.309838</td>\n",
              "      <td>0.737388</td>\n",
              "      <td>0.183778</td>\n",
              "      <td>-0.018477</td>\n",
              "    </tr>\n",
              "    <tr>\n",
              "      <th>lat</th>\n",
              "      <td>0.069028</td>\n",
              "      <td>-0.056205</td>\n",
              "      <td>0.061679</td>\n",
              "      <td>-0.049177</td>\n",
              "      <td>0.016292</td>\n",
              "      <td>0.096406</td>\n",
              "      <td>0.052872</td>\n",
              "      <td>-0.275544</td>\n",
              "      <td>0.300786</td>\n",
              "      <td>0.045323</td>\n",
              "      <td>-0.309838</td>\n",
              "      <td>1.164111</td>\n",
              "      <td>-0.069283</td>\n",
              "      <td>-0.043918</td>\n",
              "      <td>0.042422</td>\n",
              "    </tr>\n",
              "    <tr>\n",
              "      <th>long</th>\n",
              "      <td>-0.008542</td>\n",
              "      <td>0.073626</td>\n",
              "      <td>-0.148741</td>\n",
              "      <td>0.019097</td>\n",
              "      <td>0.015510</td>\n",
              "      <td>0.113603</td>\n",
              "      <td>0.013359</td>\n",
              "      <td>0.288734</td>\n",
              "      <td>-0.485009</td>\n",
              "      <td>-0.052231</td>\n",
              "      <td>0.737388</td>\n",
              "      <td>-0.069283</td>\n",
              "      <td>1.766727</td>\n",
              "      <td>-0.452504</td>\n",
              "      <td>-0.171392</td>\n",
              "    </tr>\n",
              "    <tr>\n",
              "      <th>sqft_living15</th>\n",
              "      <td>-0.270282</td>\n",
              "      <td>-0.317264</td>\n",
              "      <td>0.101852</td>\n",
              "      <td>0.138913</td>\n",
              "      <td>0.019639</td>\n",
              "      <td>-0.322884</td>\n",
              "      <td>0.089147</td>\n",
              "      <td>-1.416302</td>\n",
              "      <td>0.238951</td>\n",
              "      <td>0.097761</td>\n",
              "      <td>0.183778</td>\n",
              "      <td>-0.043918</td>\n",
              "      <td>-0.452504</td>\n",
              "      <td>2.503387</td>\n",
              "      <td>-0.181508</td>\n",
              "    </tr>\n",
              "    <tr>\n",
              "      <th>sqft_lot15</th>\n",
              "      <td>0.054770</td>\n",
              "      <td>0.018712</td>\n",
              "      <td>-1.466264</td>\n",
              "      <td>0.060205</td>\n",
              "      <td>-0.022162</td>\n",
              "      <td>-0.007802</td>\n",
              "      <td>-0.027008</td>\n",
              "      <td>0.014128</td>\n",
              "      <td>-0.013751</td>\n",
              "      <td>-0.022217</td>\n",
              "      <td>-0.018477</td>\n",
              "      <td>0.042422</td>\n",
              "      <td>-0.171392</td>\n",
              "      <td>-0.181508</td>\n",
              "      <td>2.129385</td>\n",
              "    </tr>\n",
              "  </tbody>\n",
              "</table>\n",
              "</div>"
            ],
            "text/plain": [
              "               bedrooms  bathrooms  ...  sqft_living15  sqft_lot15\n",
              "bedrooms       1.494584  -0.836110  ...      -0.270282    0.054770\n",
              "bathrooms     -0.836110   2.727387  ...      -0.317264    0.018712\n",
              "sqft_lot       0.016684  -0.071226  ...       0.101852   -1.466264\n",
              "floors         0.075021  -0.473109  ...       0.138913    0.060205\n",
              "waterfront     0.049603  -0.008911  ...       0.019639   -0.022162\n",
              "view           0.084769  -0.154112  ...      -0.322884   -0.007802\n",
              "condition     -0.054653  -0.173965  ...       0.089147   -0.027008\n",
              "grade          0.014561  -0.707327  ...      -1.416302    0.014128\n",
              "yr_built       0.256157  -0.765927  ...       0.238951   -0.013751\n",
              "yr_renovated   0.045842  -0.268725  ...       0.097761   -0.022217\n",
              "zipcode        0.060461  -0.007166  ...       0.183778   -0.018477\n",
              "lat            0.069028  -0.056205  ...      -0.043918    0.042422\n",
              "long          -0.008542   0.073626  ...      -0.452504   -0.171392\n",
              "sqft_living15 -0.270282  -0.317264  ...       2.503387   -0.181508\n",
              "sqft_lot15     0.054770   0.018712  ...      -0.181508    2.129385\n",
              "\n",
              "[15 rows x 15 columns]"
            ]
          },
          "metadata": {
            "tags": []
          },
          "execution_count": 78
        }
      ]
    },
    {
      "cell_type": "markdown",
      "metadata": {
        "id": "sGdkdkUvpX3J",
        "colab_type": "text"
      },
      "source": [
        "Bathrooms, grade and floors are the variables that have shown a significant chage and this shows that they were highly corellated to the dropped columns. However, while bathrooms and grade decrease, floors increases."
      ]
    },
    {
      "cell_type": "markdown",
      "metadata": {
        "id": "2fTsjd21coXx",
        "colab_type": "text"
      },
      "source": [
        "# **Regressions.**"
      ]
    },
    {
      "cell_type": "markdown",
      "metadata": {
        "id": "e6ktOA3gUuVM",
        "colab_type": "text"
      },
      "source": [
        "## **Linear regression**"
      ]
    },
    {
      "cell_type": "markdown",
      "metadata": {
        "id": "WeIzaFxGcBc8",
        "colab_type": "text"
      },
      "source": [
        "I am going to perform linear regression first for my data inorder to have a baseline model for comparison and also see if its perfomance."
      ]
    },
    {
      "cell_type": "code",
      "metadata": {
        "id": "Z3gCcRh5U08q",
        "colab_type": "code",
        "colab": {}
      },
      "source": [
        "#specification of the independent and dependent variables.\n",
        "independent = ['bedrooms', 'bathrooms', 'sqft_living', 'sqft_lot', 'floors', 'waterfront', 'view', 'condition', 'grade', 'sqft_above', 'sqft_basement', 'yr_built', 'yr_renovated', 'zipcode', 'lat', 'long', 'sqft_living15', 'sqft_lot15']\n",
        "dependent = ['price']"
      ],
      "execution_count": 114,
      "outputs": []
    },
    {
      "cell_type": "code",
      "metadata": {
        "id": "HW_yUKmCR7S3",
        "colab_type": "code",
        "colab": {
          "base_uri": "https://localhost:8080/",
          "height": 34
        },
        "outputId": "475e7987-c61a-4d82-91ad-38e446f4b9f3"
      },
      "source": [
        "#Splitting the independent and dependent variables.\n",
        "#spliting using train_test_split to training and test dataframes.\n",
        "#fitting of the linear regression\n",
        "x1 = data[independent].values\n",
        "y1 = data[dependent].values\n",
        "\n",
        "x1_train, x1_test, y1_train, y1_test = train_test_split(x1, y1, test_size=0.2,random_state=0)\n",
        "\n",
        "lin_reg = LinearRegression()\n",
        "lin_reg.fit(x1_train, y1_train)"
      ],
      "execution_count": 115,
      "outputs": [
        {
          "output_type": "execute_result",
          "data": {
            "text/plain": [
              "LinearRegression(copy_X=True, fit_intercept=True, n_jobs=None, normalize=False)"
            ]
          },
          "metadata": {
            "tags": []
          },
          "execution_count": 115
        }
      ]
    },
    {
      "cell_type": "code",
      "metadata": {
        "id": "MGP8t-IMVTeO",
        "colab_type": "code",
        "colab": {
          "base_uri": "https://localhost:8080/",
          "height": 34
        },
        "outputId": "e119d99b-08c8-4f13-fdb5-90fa14aa7b87"
      },
      "source": [
        "#predicting the y using the linear regression and calculating the mean squared error.\n",
        "y1_pred = lin_reg.predict(x1_test)\n",
        "lin_mod_mse = (mean_squared_error(y1_test, y1_pred)) \n",
        "print(\"Mean Squared Error for the linear model is:\",lin_mod_mse)"
      ],
      "execution_count": 116,
      "outputs": [
        {
          "output_type": "stream",
          "text": [
            "Mean Squared Error for the linear model is: 37536264732.91042\n"
          ],
          "name": "stdout"
        }
      ]
    },
    {
      "cell_type": "code",
      "metadata": {
        "id": "qD-1EVuCgfWU",
        "colab_type": "code",
        "colab": {
          "base_uri": "https://localhost:8080/",
          "height": 119
        },
        "outputId": "6da40b70-75a1-48cd-ade4-adcbdd531dab"
      },
      "source": [
        "#reviewing the intercept and the coefficients.\n",
        "print(lin_reg.intercept_)\n",
        "print(lin_reg.coef_)"
      ],
      "execution_count": 117,
      "outputs": [
        {
          "output_type": "stream",
          "text": [
            "[6947052.53365926]\n",
            "[[-3.95980868e+04  3.83649477e+04  1.15231399e+02  1.56712385e-01\n",
            "   6.20770904e+03  6.10571416e+05  5.17087306e+04  2.76472740e+04\n",
            "   9.65264948e+04  7.47370380e+01  4.04943608e+01 -2.56248606e+03\n",
            "   2.26736489e+01 -6.03190838e+02  6.03701119e+05 -2.28001292e+05\n",
            "   1.82361929e+01 -4.12292285e-01]]\n"
          ],
          "name": "stdout"
        }
      ]
    },
    {
      "cell_type": "markdown",
      "metadata": {
        "id": "VmXvd1Zkdn09",
        "colab_type": "text"
      },
      "source": [
        "**Regularization**"
      ]
    },
    {
      "cell_type": "markdown",
      "metadata": {
        "id": "rF0pcsaBdrIC",
        "colab_type": "text"
      },
      "source": [
        "I use the Variance Inflation factor in order for me to regularize the model to see if I will get better results.\n",
        "I had already calculated the variance inflation factor and thus I know the columns that I have specified for use."
      ]
    },
    {
      "cell_type": "code",
      "metadata": {
        "id": "mdpao4HBWJHw",
        "colab_type": "code",
        "colab": {}
      },
      "source": [
        "#creating a new dataframe excluding the columns specified according to the VIF\n",
        "data_vif = data.drop(columns=vif_most)"
      ],
      "execution_count": 106,
      "outputs": []
    },
    {
      "cell_type": "code",
      "metadata": {
        "id": "qMLqGLwienQD",
        "colab_type": "code",
        "colab": {}
      },
      "source": [
        "#specifying the independent columns.\n",
        "independent_a = ['bedrooms', 'bathrooms', 'sqft_lot', 'floors', 'waterfront', 'view', 'condition', 'grade', 'yr_built', 'yr_renovated', 'zipcode', 'lat', 'long', 'sqft_living15', 'sqft_lot15']"
      ],
      "execution_count": 107,
      "outputs": []
    },
    {
      "cell_type": "code",
      "metadata": {
        "id": "HeTAjVQkf3bD",
        "colab_type": "code",
        "colab": {
          "base_uri": "https://localhost:8080/",
          "height": 34
        },
        "outputId": "a684f235-602f-48c5-b9f6-2401a09b6192"
      },
      "source": [
        "#splitting the data into the independent and dependent variables.\n",
        "#splitting using train_test_split into training and testing dataframes.\n",
        "#fitting the linear regression.\n",
        "xa = data_vif[independent_a].values\n",
        "ya = data_vif[dependent].values.reshape(-1,1)\n",
        "\n",
        "xa_train, xa_test, ya_train, ya_test = train_test_split(xa, ya, test_size=0.2,random_state=0)\n",
        "\n",
        "lin_reg = LinearRegression()\n",
        "lin_reg.fit(xa_train, ya_train)"
      ],
      "execution_count": 108,
      "outputs": [
        {
          "output_type": "execute_result",
          "data": {
            "text/plain": [
              "LinearRegression(copy_X=True, fit_intercept=True, n_jobs=None, normalize=False)"
            ]
          },
          "metadata": {
            "tags": []
          },
          "execution_count": 108
        }
      ]
    },
    {
      "cell_type": "code",
      "metadata": {
        "id": "t84XmK7OgDOM",
        "colab_type": "code",
        "colab": {
          "base_uri": "https://localhost:8080/",
          "height": 34
        },
        "outputId": "357c0ce0-6603-4c88-d846-48f3ca8f157e"
      },
      "source": [
        "#predicting the y variables using the linear regression\n",
        "#calculating the mean squared error.\n",
        "ya_pred = lin_reg.predict(xa_test)\n",
        "lin_mod_a_mse = (mean_squared_error(ya_test, ya_pred))\n",
        "print(\"Mean Squared Error for the linear model with the VIF analysed is:\",lin_mod_a_mse)"
      ],
      "execution_count": 109,
      "outputs": [
        {
          "output_type": "stream",
          "text": [
            "Mean Squared Error for the linear model with the VIF analysed is: 40993999773.183586\n"
          ],
          "name": "stdout"
        }
      ]
    },
    {
      "cell_type": "markdown",
      "metadata": {
        "id": "_XDH4F6msJbK",
        "colab_type": "text"
      },
      "source": [
        "The mean squared error for the regularized linear model is higher than the initial linear model and thus the initial/base linear model is better."
      ]
    },
    {
      "cell_type": "code",
      "metadata": {
        "id": "uNRNZ8Y4gKNP",
        "colab_type": "code",
        "colab": {
          "base_uri": "https://localhost:8080/",
          "height": 102
        },
        "outputId": "46cb5a7a-5793-4e1d-bc02-5771bfbc2512"
      },
      "source": [
        "#displaying the itercept and the coefficients.\n",
        "print(lin_reg.intercept_)\n",
        "print(lin_reg.coef_)"
      ],
      "execution_count": 110,
      "outputs": [
        {
          "output_type": "stream",
          "text": [
            "[8718565.1388233]\n",
            "[[-3.07533441e+03  1.04863375e+05  2.89136356e-01  1.34570797e+04\n",
            "   6.60401954e+05  5.55288477e+04  2.72243817e+04  1.41510573e+05\n",
            "  -3.17390886e+03  2.44167489e+01 -5.38651594e+02  5.74961495e+05\n",
            "  -1.79635322e+05  9.03550493e+01 -2.10504796e-01]]\n"
          ],
          "name": "stdout"
        }
      ]
    },
    {
      "cell_type": "code",
      "metadata": {
        "id": "2GtW2RQHgdZ2",
        "colab_type": "code",
        "colab": {
          "base_uri": "https://localhost:8080/",
          "height": 34
        },
        "outputId": "1f69b33a-5109-4270-a172-bc26c65cd034"
      },
      "source": [
        "#finding residuals.\n",
        "residuals = np.subtract(y1_pred, y1_test)\n",
        "pd.DataFrame(residuals).describe()\n",
        "residuals.mean()"
      ],
      "execution_count": 118,
      "outputs": [
        {
          "output_type": "execute_result",
          "data": {
            "text/plain": [
              "4424.071998266017"
            ]
          },
          "metadata": {
            "tags": []
          },
          "execution_count": 118
        }
      ]
    },
    {
      "cell_type": "code",
      "metadata": {
        "id": "NjkzopEghn5r",
        "colab_type": "code",
        "colab": {
          "base_uri": "https://localhost:8080/",
          "height": 290
        },
        "outputId": "1c1ac28d-8e89-4b06-8bfb-2a1ec1d38fa9"
      },
      "source": [
        "#plotting the residuals against the predicted values to see the shape of the plot for heteroscedisticity.\n",
        "plt.scatter(y1_pred, residuals, color='blue')\n",
        "plt.ylabel('residual')\n",
        "plt.xlabel('fitted values')\n",
        "plt.axhline(y= residuals.mean(), color='red', linewidth=2)\n",
        "plt.show()"
      ],
      "execution_count": 119,
      "outputs": [
        {
          "output_type": "display_data",
          "data": {
            "image/png": "[encoded data removed]",
            "text/plain": [
              "<Figure size 432x288 with 1 Axes>"
            ]
          },
          "metadata": {
            "tags": [],
            "needs_background": "light"
          }
        }
      ]
    },
    {
      "cell_type": "code",
      "metadata": {
        "id": "QpBcs2hbh6H7",
        "colab_type": "code",
        "colab": {
          "base_uri": "https://localhost:8080/",
          "height": 51
        },
        "outputId": "e54f2c1e-1d29-4cc0-c7c6-8bcb09970fce"
      },
      "source": [
        "#performing bartlett's test\n",
        "test_result, p_value = sp.stats.bartlett(y1_pred.flatten(), residuals.flatten())\n",
        "\n",
        "degree_of_freedom = len(y1_pred)-1\n",
        "probability = 1 - p_value\n",
        "\n",
        "critical_value = sp.stats.chi2.ppf(probability, degree_of_freedom)\n",
        "print(critical_value)\n",
        "if (test_result > critical_value):\n",
        "  print('the variances are unequal, and the model should be reassessed')\n",
        "else:\n",
        "  print('the variances are homogeneous!')"
      ],
      "execution_count": 120,
      "outputs": [
        {
          "output_type": "stream",
          "text": [
            "inf\n",
            "the variances are homogeneous!\n"
          ],
          "name": "stdout"
        }
      ]
    },
    {
      "cell_type": "markdown",
      "metadata": {
        "id": "-q0eg-W8j9T1",
        "colab_type": "text"
      },
      "source": [
        "## **Quantile Regression**"
      ]
    },
    {
      "cell_type": "markdown",
      "metadata": {
        "id": "A4A-xW8ytBjX",
        "colab_type": "text"
      },
      "source": [
        "I have performed the quantile regression with the dataframe that had vif regularization performed on it as errors arose with the initial dataset."
      ]
    },
    {
      "cell_type": "code",
      "metadata": {
        "id": "59I5zEE7jnkf",
        "colab_type": "code",
        "colab": {}
      },
      "source": [
        "#splitting the dataset into dependent and independent variables.\n",
        "x2 = data[independent_a]\n",
        "y2 = data[dependent]"
      ],
      "execution_count": 122,
      "outputs": []
    },
    {
      "cell_type": "code",
      "metadata": {
        "id": "Y6GbQ9d4kVkO",
        "colab_type": "code",
        "colab": {
          "base_uri": "https://localhost:8080/",
          "height": 598
        },
        "outputId": "7d1cdd90-6f00-4bc5-ca81-5665a93766c2"
      },
      "source": [
        "#fitting the quantile regression.\n",
        "quant_mod = smf.quantreg('y2 ~ x2', data)\n",
        "res = quant_mod.fit(q = 0.5)\n",
        "print(res.summary())"
      ],
      "execution_count": 123,
      "outputs": [
        {
          "output_type": "stream",
          "text": [
            "                         QuantReg Regression Results                          \n",
            "==============================================================================\n",
            "Dep. Variable:                     y2   Pseudo R-squared:               0.4550\n",
            "Model:                       QuantReg   Bandwidth:                   2.010e+04\n",
            "Method:                 Least Squares   Sparsity:                    2.727e+05\n",
            "Date:                Fri, 25 Sep 2020   No. Observations:                21607\n",
            "Time:                        14:41:44   Df Residuals:                    21591\n",
            "                                        Df Model:                           15\n",
            "==============================================================================\n",
            "                 coef    std err          t      P>|t|      [0.025      0.975]\n",
            "------------------------------------------------------------------------------\n",
            "Intercept    564.5355      3.534    159.727      0.000     557.608     571.463\n",
            "x2[0]       -395.0186   1246.437     -0.317      0.751   -2838.127    2048.090\n",
            "x2[1]        6.14e+04   1986.947     30.903      0.000    5.75e+04    6.53e+04\n",
            "x2[2]          0.3072      0.032      9.490      0.000       0.244       0.371\n",
            "x2[3]       3.476e+04   2167.024     16.038      0.000    3.05e+04     3.9e+04\n",
            "x2[4]       4.814e+05   1.17e+04     40.983      0.000    4.58e+05    5.04e+05\n",
            "x2[5]         5.1e+04   1415.806     36.021      0.000    4.82e+04    5.38e+04\n",
            "x2[6]       2.469e+04   1571.332     15.713      0.000    2.16e+04    2.78e+04\n",
            "x2[7]       9.883e+04   1337.923     73.869      0.000    9.62e+04    1.01e+05\n",
            "x2[8]      -2417.3272     45.381    -53.268      0.000   -2506.277   -2328.378\n",
            "x2[9]         16.8301      2.471      6.810      0.000      11.986      21.674\n",
            "x2[10]      -238.8673     11.861    -20.139      0.000    -262.116    -215.618\n",
            "x2[11]      5.321e+05   7216.364     73.738      0.000    5.18e+05    5.46e+05\n",
            "x2[12]     -1.788e+04   8723.574     -2.050      0.040    -3.5e+04    -780.752\n",
            "x2[13]        83.8555      2.090     40.117      0.000      79.758      87.953\n",
            "x2[14]        -0.1241      0.050     -2.506      0.012      -0.221      -0.027\n",
            "==============================================================================\n",
            "\n",
            "The condition number is large, 2.13e+08. This might indicate that there are\n",
            "strong multicollinearity or other numerical problems.\n"
          ],
          "name": "stdout"
        },
        {
          "output_type": "stream",
          "text": [
            "/usr/local/lib/python3.6/dist-packages/statsmodels/regression/quantile_regression.py:192: IterationLimitWarning: Maximum number of iterations (1000) reached.\n",
            "  \") reached.\", IterationLimitWarning)\n"
          ],
          "name": "stderr"
        }
      ]
    },
    {
      "cell_type": "code",
      "metadata": {
        "id": "cBbRZiDEq1OJ",
        "colab_type": "code",
        "colab": {
          "base_uri": "https://localhost:8080/",
          "height": 540
        },
        "outputId": "a7bbf1e8-4af0-4cfc-b663-6eca77c2a698"
      },
      "source": [
        "#creating a fuction for perfomance of the different models and storing the parameters to a created dataframe.\n",
        "quantiles = np.arange(0.1, 1, 0.1)\n",
        "def fit_model(q):\n",
        "    res = quant_mod.fit(q=q)\n",
        "    return [q, res.params['Intercept'], res.params['x2[0]']] + res.conf_int().loc['x2[0]'].tolist()\n",
        "\n",
        "models = [fit_model(x) for x in quantiles]\n",
        "models = pd.DataFrame(data = params, columns=['qt', 'intercept', 'x2_coef', 'cf_lower_bound', 'cf_upper_bound'])\n",
        "print(models)"
      ],
      "execution_count": 126,
      "outputs": [
        {
          "output_type": "stream",
          "text": [
            "/usr/local/lib/python3.6/dist-packages/statsmodels/regression/quantile_regression.py:192: IterationLimitWarning: Maximum number of iterations (1000) reached.\n",
            "  \") reached.\", IterationLimitWarning)\n",
            "/usr/local/lib/python3.6/dist-packages/statsmodels/regression/quantile_regression.py:192: IterationLimitWarning: Maximum number of iterations (1000) reached.\n",
            "  \") reached.\", IterationLimitWarning)\n",
            "/usr/local/lib/python3.6/dist-packages/statsmodels/regression/quantile_regression.py:192: IterationLimitWarning: Maximum number of iterations (1000) reached.\n",
            "  \") reached.\", IterationLimitWarning)\n",
            "/usr/local/lib/python3.6/dist-packages/statsmodels/regression/quantile_regression.py:192: IterationLimitWarning: Maximum number of iterations (1000) reached.\n",
            "  \") reached.\", IterationLimitWarning)\n",
            "/usr/local/lib/python3.6/dist-packages/statsmodels/regression/quantile_regression.py:192: IterationLimitWarning: Maximum number of iterations (1000) reached.\n",
            "  \") reached.\", IterationLimitWarning)\n",
            "/usr/local/lib/python3.6/dist-packages/statsmodels/regression/quantile_regression.py:192: IterationLimitWarning: Maximum number of iterations (1000) reached.\n",
            "  \") reached.\", IterationLimitWarning)\n",
            "/usr/local/lib/python3.6/dist-packages/statsmodels/regression/quantile_regression.py:192: IterationLimitWarning: Maximum number of iterations (1000) reached.\n",
            "  \") reached.\", IterationLimitWarning)\n",
            "/usr/local/lib/python3.6/dist-packages/statsmodels/regression/quantile_regression.py:192: IterationLimitWarning: Maximum number of iterations (1000) reached.\n",
            "  \") reached.\", IterationLimitWarning)\n",
            "/usr/local/lib/python3.6/dist-packages/statsmodels/regression/quantile_regression.py:192: IterationLimitWarning: Maximum number of iterations (1000) reached.\n",
            "  \") reached.\", IterationLimitWarning)\n"
          ],
          "name": "stderr"
        },
        {
          "output_type": "error",
          "ename": "NameError",
          "evalue": "ignored",
          "traceback": [
            "\u001b[0;31m---------------------------------------------------------------------------\u001b[0m",
            "\u001b[0;31mNameError\u001b[0m                                 Traceback (most recent call last)",
            "\u001b[0;32m<ipython-input-126-5860a67b13e6>\u001b[0m in \u001b[0;36m<module>\u001b[0;34m()\u001b[0m\n\u001b[1;32m      6\u001b[0m \u001b[0;34m\u001b[0m\u001b[0m\n\u001b[1;32m      7\u001b[0m \u001b[0mmodels\u001b[0m \u001b[0;34m=\u001b[0m \u001b[0;34m[\u001b[0m\u001b[0mfit_model\u001b[0m\u001b[0;34m(\u001b[0m\u001b[0mx\u001b[0m\u001b[0;34m)\u001b[0m \u001b[0;32mfor\u001b[0m \u001b[0mx\u001b[0m \u001b[0;32min\u001b[0m \u001b[0mquantiles\u001b[0m\u001b[0;34m]\u001b[0m\u001b[0;34m\u001b[0m\u001b[0;34m\u001b[0m\u001b[0m\n\u001b[0;32m----> 8\u001b[0;31m \u001b[0mmodels\u001b[0m \u001b[0;34m=\u001b[0m \u001b[0mpd\u001b[0m\u001b[0;34m.\u001b[0m\u001b[0mDataFrame\u001b[0m\u001b[0;34m(\u001b[0m\u001b[0mdata\u001b[0m \u001b[0;34m=\u001b[0m \u001b[0mparams\u001b[0m\u001b[0;34m,\u001b[0m \u001b[0mcolumns\u001b[0m\u001b[0;34m=\u001b[0m\u001b[0;34m[\u001b[0m\u001b[0;34m'qt'\u001b[0m\u001b[0;34m,\u001b[0m \u001b[0;34m'intercept'\u001b[0m\u001b[0;34m,\u001b[0m \u001b[0;34m'x2_coef'\u001b[0m\u001b[0;34m,\u001b[0m \u001b[0;34m'cf_lower_bound'\u001b[0m\u001b[0;34m,\u001b[0m \u001b[0;34m'cf_upper_bound'\u001b[0m\u001b[0;34m]\u001b[0m\u001b[0;34m)\u001b[0m\u001b[0;34m\u001b[0m\u001b[0;34m\u001b[0m\u001b[0m\n\u001b[0m\u001b[1;32m      9\u001b[0m \u001b[0mprint\u001b[0m\u001b[0;34m(\u001b[0m\u001b[0mmodels\u001b[0m\u001b[0;34m)\u001b[0m\u001b[0;34m\u001b[0m\u001b[0;34m\u001b[0m\u001b[0m\n",
            "\u001b[0;31mNameError\u001b[0m: name 'params' is not defined"
          ]
        }
      ]
    },
    {
      "cell_type": "code",
      "metadata": {
        "id": "zEpAuLfPslN9",
        "colab_type": "code",
        "colab": {
          "base_uri": "https://localhost:8080/",
          "height": 88
        },
        "outputId": "5b981581-56a4-4993-e14c-223a165fd731"
      },
      "source": [
        "#calculating for the mean squared error.\n",
        "y2_pred = quant_mod.fit(q=.5).predict(x2)\n",
        "quant_reg_mse = (mean_squared_error(y2, y2_pred))\n",
        "print(\"The mean squared error for the quantile regression is:\",quant_reg_mse)"
      ],
      "execution_count": 262,
      "outputs": [
        {
          "output_type": "stream",
          "text": [
            "The mean squared error for the quantile regression is: 51150115603.320694\n"
          ],
          "name": "stdout"
        },
        {
          "output_type": "stream",
          "text": [
            "/usr/local/lib/python3.6/dist-packages/statsmodels/regression/quantile_regression.py:192: IterationLimitWarning: Maximum number of iterations (1000) reached.\n",
            "  \") reached.\", IterationLimitWarning)\n"
          ],
          "name": "stderr"
        }
      ]
    },
    {
      "cell_type": "markdown",
      "metadata": {
        "id": "kdYGYEoavfSU",
        "colab_type": "text"
      },
      "source": [
        "The mean squared error for the quantile regression is still huge and this shows that it is also not accurate for prediction"
      ]
    },
    {
      "cell_type": "markdown",
      "metadata": {
        "id": "zTp3bQRczMlJ",
        "colab_type": "text"
      },
      "source": [
        "## **Ridge Regression**"
      ]
    },
    {
      "cell_type": "code",
      "metadata": {
        "id": "T5CTi_xvzIvQ",
        "colab_type": "code",
        "colab": {}
      },
      "source": [
        "x3 = data[independent]\n",
        "y3 = data[dependent]"
      ],
      "execution_count": 264,
      "outputs": []
    },
    {
      "cell_type": "code",
      "metadata": {
        "id": "qCsbK4uL14lq",
        "colab_type": "code",
        "colab": {
          "base_uri": "https://localhost:8080/",
          "height": 34
        },
        "outputId": "fff78cad-ba7c-4759-9698-e1d5c2574dde"
      },
      "source": [
        "lin_reg.fit(x3,y3)\n",
        "y3_lin_pred = lin_reg.predict(x3)\n",
        "base_rid_mod = (mean_squared_error(y3,y3_lin_pred))\n",
        "print(\"The mean squared error for the base linear regression is:\",base_rid_mod)"
      ],
      "execution_count": 277,
      "outputs": [
        {
          "output_type": "stream",
          "text": [
            "The mean squared error for the base linear regression is: 40449409349.24975\n"
          ],
          "name": "stdout"
        }
      ]
    },
    {
      "cell_type": "code",
      "metadata": {
        "id": "i4-OuGag2lrK",
        "colab_type": "code",
        "colab": {}
      },
      "source": [
        "rid_reg = Ridge(normalize=True)\n",
        "search = GridSearchCV(estimator=rid_reg,param_grid={'alpha':np.logspace(-5,2,8)},scoring='neg_mean_squared_error',n_jobs=1,refit=True,cv=10)"
      ],
      "execution_count": 278,
      "outputs": []
    },
    {
      "cell_type": "code",
      "metadata": {
        "id": "sEwy2zOV3dqX",
        "colab_type": "code",
        "colab": {
          "base_uri": "https://localhost:8080/",
          "height": 51
        },
        "outputId": "a22cc8eb-9133-4df7-db73-578a92cd64e7"
      },
      "source": [
        "search.fit(x3,y3)\n",
        "print(search.best_params_)\n",
        "abs(search.best_score_) "
      ],
      "execution_count": 279,
      "outputs": [
        {
          "output_type": "stream",
          "text": [
            "{'alpha': 0.01}\n"
          ],
          "name": "stdout"
        },
        {
          "output_type": "execute_result",
          "data": {
            "text/plain": [
              "40938481941.3369"
            ]
          },
          "metadata": {
            "tags": []
          },
          "execution_count": 279
        }
      ]
    },
    {
      "cell_type": "code",
      "metadata": {
        "id": "eqm7WeMI3jbV",
        "colab_type": "code",
        "colab": {
          "base_uri": "https://localhost:8080/",
          "height": 34
        },
        "outputId": "42d7a4b0-253b-43b8-c4e8-c22146e82b51"
      },
      "source": [
        "rid_reg = Ridge(normalize=True,alpha=0.01)\n",
        "rid_reg.fit(x3,y3)\n",
        "y3_pred = rid_reg.predict(x3)\n",
        "rid_mod = (mean_squared_error(y3,y3_pred))\n",
        "print(\"The mean squared error for the ridge regression model is:\",rid_mod)"
      ],
      "execution_count": 282,
      "outputs": [
        {
          "output_type": "stream",
          "text": [
            "The mean squared error for the ridge regression model is: 40455851696.434715\n"
          ],
          "name": "stdout"
        }
      ]
    },
    {
      "cell_type": "code",
      "metadata": {
        "id": "vP1WyUQt5xbD",
        "colab_type": "code",
        "colab": {
          "base_uri": "https://localhost:8080/",
          "height": 102
        },
        "outputId": "107dd78b-4e78-4167-9970-8f86df363ccd"
      },
      "source": [
        "coef_dict_baseline = {}\n",
        "for coef, feat in zip(rid_reg.coef_,x3.columns):\n",
        "    coef_dict_baseline[feat] = coef\n",
        "coef_dict_baseline"
      ],
      "execution_count": 283,
      "outputs": [
        {
          "output_type": "execute_result",
          "data": {
            "text/plain": [
              "{'bedrooms': array([-3.77395046e+04,  4.18666204e+04,  8.91380681e+01,  1.24631960e-01,\n",
              "         7.28073079e+03,  5.77009662e+05,  5.28192430e+04,  2.67546781e+04,\n",
              "         9.37588405e+04,  9.19161243e+01,  6.21010900e+01, -2.56779598e+03,\n",
              "         2.09155434e+01, -5.63806073e+02,  5.97253881e+05, -2.13002008e+05,\n",
              "         2.45231688e+01, -3.76858755e-01])}"
            ]
          },
          "metadata": {
            "tags": []
          },
          "execution_count": 283
        }
      ]
    },
    {
      "cell_type": "code",
      "metadata": {
        "id": "zKGM2sss63X_",
        "colab_type": "code",
        "colab": {
          "base_uri": "https://localhost:8080/",
          "height": 102
        },
        "outputId": "8d6994ce-f86b-4287-f2dc-be05187125de"
      },
      "source": [
        "coef_dict_baseline = {}\n",
        "for coef, feat in zip(lin_reg.coef_,x3.columns):\n",
        "    coef_dict_baseline[feat] = coef\n",
        "coef_dict_baseline"
      ],
      "execution_count": 319,
      "outputs": [
        {
          "output_type": "execute_result",
          "data": {
            "text/plain": [
              "{'bedrooms': array([-34692.43330927,  34290.56323387,  78509.36063538,   6486.69021705,\n",
              "          5471.98032304,  51819.28272804,  38432.77330372,  18107.81951782,\n",
              "        113218.81490834,  72620.6929462 ,  27048.77607112, -78334.24637856,\n",
              "          7249.71519139, -30431.34400655,  82430.9945494 , -30065.95152685,\n",
              "         19937.91328063, -10961.48497262])}"
            ]
          },
          "metadata": {
            "tags": []
          },
          "execution_count": 319
        }
      ]
    },
    {
      "cell_type": "markdown",
      "metadata": {
        "id": "Wg3Mz7W_9y8X",
        "colab_type": "text"
      },
      "source": [
        "## **Lasso Regression**"
      ]
    },
    {
      "cell_type": "code",
      "metadata": {
        "id": "Cm_BMg5c-UjY",
        "colab_type": "code",
        "colab": {}
      },
      "source": [
        "x4 = data[independent]\n",
        "y4 = data[dependent]"
      ],
      "execution_count": 291,
      "outputs": []
    },
    {
      "cell_type": "code",
      "metadata": {
        "id": "ui-nr9PN7Ycp",
        "colab_type": "code",
        "colab": {}
      },
      "source": [
        "scaler = StandardScaler()\n",
        "scaler.fit(x4)\n",
        "x4 = scaler.transform(x4)"
      ],
      "execution_count": 294,
      "outputs": []
    },
    {
      "cell_type": "code",
      "metadata": {
        "id": "MhA8-PMb-c0Y",
        "colab_type": "code",
        "colab": {
          "base_uri": "https://localhost:8080/",
          "height": 190
        },
        "outputId": "5922582e-477b-4cf5-9583-894d9cba4bc3"
      },
      "source": [
        "las_reg = linear_model.Lasso() \n",
        "las_reg.fit(x4, y4) \n",
        "\n",
        "# Print scores, MSE, and coefficients\n",
        "# \n",
        "print(\"lasso score:\", las_reg.score(x4, y4)) \n",
        "print(\"lasso MSE:\", mean_squared_error(y4, las_reg.predict(x4))) \n",
        "print(\"lasso coef:\", las_reg.coef_) "
      ],
      "execution_count": 296,
      "outputs": [
        {
          "output_type": "stream",
          "text": [
            "lasso score: 0.7003152001327981\n",
            "lasso MSE: 40449409391.33033\n",
            "lasso coef: [-35512.0522111   32505.70501115 260770.93103211   5204.55409107\n",
            "   3595.01147401  50285.4946457   40437.77925534  17157.22321561\n",
            " 112241.27280229 -83314.80889036 -58285.7182856  -77322.87569952\n",
            "   7952.81409085 -31324.9315021   83387.30224596 -30246.69326199\n",
            "  14876.895913   -10592.66897802]\n"
          ],
          "name": "stdout"
        },
        {
          "output_type": "stream",
          "text": [
            "/usr/local/lib/python3.6/dist-packages/sklearn/linear_model/_coordinate_descent.py:476: ConvergenceWarning: Objective did not converge. You might want to increase the number of iterations. Duality gap: 27037400703598.0, tolerance: 291663537131.20624\n",
            "  positive)\n"
          ],
          "name": "stderr"
        }
      ]
    },
    {
      "cell_type": "code",
      "metadata": {
        "id": "6oJdX_ke-_FU",
        "colab_type": "code",
        "colab": {
          "base_uri": "https://localhost:8080/",
          "height": 153
        },
        "outputId": "3c1d3dce-6d6b-4e8d-947f-04188f3d3482"
      },
      "source": [
        "import warnings\n",
        "warnings.filterwarnings(\"ignore\")\n",
        "\n",
        "x4_train, x4_test, y4_train, y4_test = train_test_split(x4, y4, test_size=0.2, random_state=100)\n",
        "parameters = {'alpha': np.concatenate((np.arange(0.1,2,0.1), np.arange(2, 5, 0.5), np.arange(5, 25, 1)))}\n",
        "\n",
        "#linear = linear_model.LinearRegression()\n",
        "#lasso = linear_model.Lasso() \n",
        "grid_las_reg = GridSearchCV(las_reg, parameters, scoring ='r2') \n",
        "\n",
        "# Fitting models and print the best parameters, R-squared scores, MSE, and coefficients\n",
        "grid_las_reg.fit(x4_train, y4_train) \n",
        "lin_reg.fit(x4_train, y4_train) \n",
        "print(\"lasso best parameters:\", grid_las_reg.best_params_) \n",
        "print(\"lasso score:\", grid_las_reg.score(x4_test, y4_test))\n",
        "print(\"lasso MSE:\", mean_squared_error(y4_test, grid_las_reg.predict(x4_test)))\n",
        "print(\"lasso best estimator coef:\", grid_las_reg.best_estimator_.coef_)"
      ],
      "execution_count": 303,
      "outputs": [
        {
          "output_type": "stream",
          "text": [
            "lasso best parameters: {'alpha': 0.1}\n",
            "lasso score: 0.6785556834834163\n",
            "lasso MSE: 45553729423.40467\n",
            "lasso best estimator coef: [-34692.31753021  34289.89728997 256393.96962676   6486.37881759\n",
            "   5471.95358465  51819.20880249  38432.77837705  18107.71179465\n",
            " 113219.07585701 -87760.9500478  -58667.49099015 -78334.05567095\n",
            "   7249.64223852 -30431.08959319  82430.85362863 -30065.70016697\n",
            "  19937.30853856 -10961.22464649]\n"
          ],
          "name": "stdout"
        }
      ]
    },
    {
      "cell_type": "code",
      "metadata": {
        "id": "IWMyVe6IABGi",
        "colab_type": "code",
        "colab": {
          "base_uri": "https://localhost:8080/",
          "height": 34
        },
        "outputId": "4891cda4-7377-4ee4-dbff-36f22aeaa959"
      },
      "source": [
        "las_reg = linear_model.Lasso(alpha=0.1) \n",
        "las_reg.fit(x4, y4) \n",
        "print(\"The Lasso regression score is:\", las_reg.score(x4, y4)) \n"
      ],
      "execution_count": 308,
      "outputs": [
        {
          "output_type": "stream",
          "text": [
            "The Lasso regression score is: 0.7003152004414503\n"
          ],
          "name": "stdout"
        }
      ]
    },
    {
      "cell_type": "code",
      "metadata": {
        "id": "aAS4ShEuCJmF",
        "colab_type": "code",
        "colab": {
          "base_uri": "https://localhost:8080/",
          "height": 34
        },
        "outputId": "816dc8f7-de3c-495f-d9d8-cab872498515"
      },
      "source": [
        "y4_pred = las_reg.predict(x4)\n",
        "las_reg_mse = mean_squared_error(y4, y4_pred)\n",
        "print(\"The mean squared error for the Lasso Regression is :\", las_reg_mse) "
      ],
      "execution_count": 305,
      "outputs": [
        {
          "output_type": "stream",
          "text": [
            "The mean squared error for the Lasso Regression is : 40449409349.670555\n"
          ],
          "name": "stdout"
        }
      ]
    },
    {
      "cell_type": "code",
      "metadata": {
        "id": "BKWvnAz7DgZl",
        "colab_type": "code",
        "colab": {
          "base_uri": "https://localhost:8080/",
          "height": 102
        },
        "outputId": "94241830-f8be-472b-f876-66dc4df8ea36"
      },
      "source": [
        "print(\"The best estimator coefficient:\", grid_las_reg.best_estimator_.coef_)"
      ],
      "execution_count": 309,
      "outputs": [
        {
          "output_type": "stream",
          "text": [
            "The best estimator coefficient: [-34692.31753021  34289.89728997 256393.96962676   6486.37881759\n",
            "   5471.95358465  51819.20880249  38432.77837705  18107.71179465\n",
            " 113219.07585701 -87760.9500478  -58667.49099015 -78334.05567095\n",
            "   7249.64223852 -30431.08959319  82430.85362863 -30065.70016697\n",
            "  19937.30853856 -10961.22464649]\n"
          ],
          "name": "stdout"
        }
      ]
    },
    {
      "cell_type": "markdown",
      "metadata": {
        "id": "OsdhsDL1FoLS",
        "colab_type": "text"
      },
      "source": [
        "## **Elastic Net regression**"
      ]
    },
    {
      "cell_type": "code",
      "metadata": {
        "id": "9xbtE_QXDjxB",
        "colab_type": "code",
        "colab": {}
      },
      "source": [
        "x5 = data[independent]\n",
        "y5 = data[dependent]"
      ],
      "execution_count": 311,
      "outputs": []
    },
    {
      "cell_type": "code",
      "metadata": {
        "id": "upDyEWq9FwEG",
        "colab_type": "code",
        "colab": {}
      },
      "source": [
        "ela_reg=ElasticNet(normalize=True)\n",
        "search=GridSearchCV(estimator=ela_reg,param_grid={'alpha':np.logspace(-5,2,8),'l1_ratio':[.2,.4,.6,.8]},scoring='neg_mean_squared_error',n_jobs=1,refit=True,cv=10)"
      ],
      "execution_count": 312,
      "outputs": []
    },
    {
      "cell_type": "code",
      "metadata": {
        "id": "AM84VeKPGIRv",
        "colab_type": "code",
        "colab": {
          "base_uri": "https://localhost:8080/",
          "height": 34
        },
        "outputId": "7989bb09-e21e-4512-d17a-fcf358010de6"
      },
      "source": [
        "search.fit(x5,y5)\n",
        "abs(search.best_score_)\n",
        "print(search.best_params_)"
      ],
      "execution_count": 314,
      "outputs": [
        {
          "output_type": "stream",
          "text": [
            "{'alpha': 1e-05, 'l1_ratio': 0.8}\n"
          ],
          "name": "stdout"
        }
      ]
    },
    {
      "cell_type": "code",
      "metadata": {
        "id": "9Im3_kVYGVBi",
        "colab_type": "code",
        "colab": {
          "base_uri": "https://localhost:8080/",
          "height": 34
        },
        "outputId": "072295c2-4701-4ed8-e131-2b4570e29cc8"
      },
      "source": [
        "ela_reg=ElasticNet(normalize=True,alpha=0.00001,l1_ratio=0.8)\n",
        "ela_reg.fit(x5,y5)\n",
        "y5_pred = ela_reg.predict(x5)\n",
        "ela_reg_mse=(mean_squared_error(y5,y5_pred))\n",
        "print(\"The mean squared error for the elastic net regression is:\",ela_reg_mse)"
      ],
      "execution_count": 317,
      "outputs": [
        {
          "output_type": "stream",
          "text": [
            "The mean squared error for the elastic net regression is: 40551889608.68634\n"
          ],
          "name": "stdout"
        }
      ]
    },
    {
      "cell_type": "code",
      "metadata": {
        "id": "kG-YhVKbHIpT",
        "colab_type": "code",
        "colab": {
          "base_uri": "https://localhost:8080/",
          "height": 323
        },
        "outputId": "9ccf45c8-9d7a-4b71-e22c-f0a7c6a2c99a"
      },
      "source": [
        "coef_dict_baseline = {}\n",
        "for coef, feat in zip(ela_reg.coef_,x5.columns):\n",
        "    coef_dict_baseline[feat] = coef\n",
        "coef_dict_baseline"
      ],
      "execution_count": 318,
      "outputs": [
        {
          "output_type": "execute_result",
          "data": {
            "text/plain": [
              "{'bathrooms': 40954.88668847695,\n",
              " 'bedrooms': -33605.726989287985,\n",
              " 'condition': 27694.241281555856,\n",
              " 'floors': 9023.898908887953,\n",
              " 'grade': 88802.05314965462,\n",
              " 'lat': 582433.0257043019,\n",
              " 'long': -206576.444602493,\n",
              " 'sqft_above': 88.22720523367647,\n",
              " 'sqft_basement': 62.161322632678974,\n",
              " 'sqft_living': 86.1533525739942,\n",
              " 'sqft_living15': 32.16293194813399,\n",
              " 'sqft_lot': 0.1203723020421331,\n",
              " 'sqft_lot15': -0.34230788662457395,\n",
              " 'view': 52916.30098571226,\n",
              " 'waterfront': 563623.6820055171,\n",
              " 'yr_built': -2378.477342033499,\n",
              " 'yr_renovated': 23.96789500689206,\n",
              " 'zipcode': -499.4239763296867}"
            ]
          },
          "metadata": {
            "tags": []
          },
          "execution_count": 318
        }
      ]
    },
    {
      "cell_type": "code",
      "metadata": {
        "id": "q6gIlw80KnFc",
        "colab_type": "code",
        "colab": {}
      },
      "source": [
        ""
      ],
      "execution_count": null,
      "outputs": []
    }
  ]
}