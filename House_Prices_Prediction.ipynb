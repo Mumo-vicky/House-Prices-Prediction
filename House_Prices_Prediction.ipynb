{
  "nbformat": 4,
  "nbformat_minor": 0,
  "metadata": {
    "colab": {
      "name": "House Prices Prediction.ipynb",
      "provenance": [],
      "authorship_tag": "ABX9TyMjqZuy3Mr4mM0lj8kCnJZV",
      "include_colab_link": true
    },
    "kernelspec": {
      "name": "python3",
      "display_name": "Python 3"
    }
  },
  "cells": [
    {
      "cell_type": "markdown",
      "metadata": {
        "id": "view-in-github",
        "colab_type": "text"
      },
      "source": [
        "<a href=\"https://colab.research.google.com/github/Mumo-vicky/House-Prices-Prediction/blob/master/House_Prices_Prediction.ipynb\" target=\"_parent\"><img src=\"https://colab.research.google.com/assets/colab-badge.svg\" alt=\"Open In Colab\"/></a>"
      ]
    },
    {
      "cell_type": "markdown",
      "metadata": {
        "id": "TgY1gaubK8BH",
        "colab_type": "text"
      },
      "source": [
        "# **Introduction**"
      ]
    },
    {
      "cell_type": "markdown",
      "metadata": {
        "id": "WOPxTArku-9M",
        "colab_type": "text"
      },
      "source": [
        "### **Problem definition**"
      ]
    },
    {
      "cell_type": "markdown",
      "metadata": {
        "id": "k4ut_UMTt6qQ",
        "colab_type": "text"
      },
      "source": [
        "I work for Hass Consulting Company which is a real estate leader with over 25 years of experience. I have been tasked to study the factors that affect housing prices using the given information on real estate properties that was collected over the past few months.\n",
        "\n",
        "I am suppossed to evaluate different regression models in order to find the most accurate for prediction of house prices based on the variables provided."
      ]
    },
    {
      "cell_type": "markdown",
      "metadata": {
        "id": "pFDUPdtzy6k8",
        "colab_type": "text"
      },
      "source": [
        "## **Metrics For Success**"
      ]
    },
    {
      "cell_type": "markdown",
      "metadata": {
        "id": "mTdu4KgBy5vp",
        "colab_type": "text"
      },
      "source": [
        "\n",
        "The following are the goals for the project to be deemed successful.:\n",
        "\n",
        "Discuss the factors that contribute the most and the least to the pricing of a house from the data given.\n",
        "Obtain an appropriate metic for evaluating all the five models and interpret the findings obtained on the metrics.\n",
        "Draw conclusions and recommendations from the models"
      ]
    },
    {
      "cell_type": "markdown",
      "metadata": {
        "id": "RkY55hHPuuyq",
        "colab_type": "text"
      },
      "source": [
        "## **Data Understanding**"
      ]
    },
    {
      "cell_type": "markdown",
      "metadata": {
        "id": "vm3pn2U2ZB7C",
        "colab_type": "text"
      },
      "source": [
        "Our data Contains the following columns.\n",
        "* Id\n",
        "* price  - Price of the house\n",
        "* bedrooms - Number of Bedrooms\n",
        "* bathrooms - Number of Bathrooms\n",
        "* sqft_living - Square feet area of living area\n",
        "* sqft_lot  - Square feet area of parking Layout\n",
        "* floors - Number of Floors\n",
        "* waterfront - Whether waterfront is there or not\n",
        "* view - Number of Views\n",
        "* grade - Grades\n",
        "* sqft_above\n",
        "* sqft_basement - Square feet area off basement\n",
        "* yr_built - Year the house is built\n",
        "* yr_renovated - Year the house is renovated\n",
        "* zipcode - zipcode os the house\n",
        "* lat : Latitude of the house\n",
        "* lon : Longitude of the house\n",
        "* sqft_living15\n",
        "* sqft_lot15"
      ]
    },
    {
      "cell_type": "markdown",
      "metadata": {
        "id": "nPGlw0gnuihV",
        "colab_type": "text"
      },
      "source": [
        "## **Experimental design**"
      ]
    },
    {
      "cell_type": "markdown",
      "metadata": {
        "id": "L1ltrNQ2uLeS",
        "colab_type": "text"
      },
      "source": [
        "The following are the tasks that I am going to perform:\n",
        "* Load the datasets\n",
        "* Data preparation\n",
        "* Perform Exploratory analysis\n",
        "* Check  for multicollinearity\n",
        "* Fit regression models to the data\n",
        "* Evaluate the models\n",
        "* Conclusion\n",
        "* Recommendations"
      ]
    },
    {
      "cell_type": "markdown",
      "metadata": {
        "id": "DV9_Azb2LVWf",
        "colab_type": "text"
      },
      "source": [
        "# **Data Preparation**"
      ]
    },
    {
      "cell_type": "markdown",
      "metadata": {
        "id": "D_BBRtmmWQgV",
        "colab_type": "text"
      },
      "source": [
        "**Loading Appropriate Libraries.**"
      ]
    },
    {
      "cell_type": "code",
      "metadata": {
        "id": "SIraeojPWP6r",
        "colab_type": "code",
        "colab": {}
      },
      "source": [
        "import pandas as pd\n",
        "import numpy as np\n",
        "import matplotlib.pyplot as plt\n",
        "import seaborn as sns\n",
        "from sklearn.linear_model import LinearRegression\n",
        "from sklearn.model_selection import train_test_split\n",
        "from sklearn.metrics import mean_squared_error\n",
        "from sklearn import metrics\n",
        "import scipy as sp\n",
        "import statsmodels.formula.api as smf\n",
        "from sklearn.model_selection import GridSearchCV\n",
        "from sklearn.linear_model import Ridge\n",
        "from sklearn.preprocessing import StandardScaler\n",
        "from sklearn import linear_model\n",
        "from sklearn.linear_model import ElasticNet"
      ],
      "execution_count": 81,
      "outputs": []
    },
    {
      "cell_type": "markdown",
      "metadata": {
        "id": "NJCjy8MPLZwa",
        "colab_type": "text"
      },
      "source": [
        "**Loading the Data**"
      ]
    },
    {
      "cell_type": "code",
      "metadata": {
        "id": "XowvBrWjrTZO",
        "colab_type": "code",
        "colab": {}
      },
      "source": [
        "#loading the data from the url provided.\n",
        "data = pd.read_csv(\"http://bit.ly/IndependentProjectWeek7Dataset\")"
      ],
      "execution_count": 3,
      "outputs": []
    },
    {
      "cell_type": "markdown",
      "metadata": {
        "id": "A7zUfQ_BLoPE",
        "colab_type": "text"
      },
      "source": [
        "## **Previewing Data**"
      ]
    },
    {
      "cell_type": "code",
      "metadata": {
        "id": "oyd9OndHL9Wv",
        "colab_type": "code",
        "colab": {
          "base_uri": "https://localhost:8080/",
          "height": 224
        },
        "outputId": "ca2c915b-9975-4704-8b9f-79f8d45a7bbb"
      },
      "source": [
        "#previewing the bottom\n",
        "data.head()"
      ],
      "execution_count": 4,
      "outputs": [
        {
          "output_type": "execute_result",
          "data": {
            "text/html": [
              "<div>\n",
              "<style scoped>\n",
              "    .dataframe tbody tr th:only-of-type {\n",
              "        vertical-align: middle;\n",
              "    }\n",
              "\n",
              "    .dataframe tbody tr th {\n",
              "        vertical-align: top;\n",
              "    }\n",
              "\n",
              "    .dataframe thead th {\n",
              "        text-align: right;\n",
              "    }\n",
              "</style>\n",
              "<table border=\"1\" class=\"dataframe\">\n",
              "  <thead>\n",
              "    <tr style=\"text-align: right;\">\n",
              "      <th></th>\n",
              "      <th>id</th>\n",
              "      <th>price</th>\n",
              "      <th>bedrooms</th>\n",
              "      <th>bathrooms</th>\n",
              "      <th>sqft_living</th>\n",
              "      <th>sqft_lot</th>\n",
              "      <th>floors</th>\n",
              "      <th>waterfront</th>\n",
              "      <th>view</th>\n",
              "      <th>condition</th>\n",
              "      <th>grade</th>\n",
              "      <th>sqft_above</th>\n",
              "      <th>sqft_basement</th>\n",
              "      <th>yr_built</th>\n",
              "      <th>yr_renovated</th>\n",
              "      <th>zipcode</th>\n",
              "      <th>lat</th>\n",
              "      <th>long</th>\n",
              "      <th>sqft_living15</th>\n",
              "      <th>sqft_lot15</th>\n",
              "    </tr>\n",
              "  </thead>\n",
              "  <tbody>\n",
              "    <tr>\n",
              "      <th>0</th>\n",
              "      <td>7129300520</td>\n",
              "      <td>221900.0</td>\n",
              "      <td>3</td>\n",
              "      <td>1.00</td>\n",
              "      <td>1180</td>\n",
              "      <td>5650</td>\n",
              "      <td>1.0</td>\n",
              "      <td>0</td>\n",
              "      <td>0</td>\n",
              "      <td>3</td>\n",
              "      <td>7</td>\n",
              "      <td>1180</td>\n",
              "      <td>0</td>\n",
              "      <td>1955</td>\n",
              "      <td>0</td>\n",
              "      <td>98178</td>\n",
              "      <td>47.5112</td>\n",
              "      <td>-122.257</td>\n",
              "      <td>1340</td>\n",
              "      <td>5650</td>\n",
              "    </tr>\n",
              "    <tr>\n",
              "      <th>1</th>\n",
              "      <td>6414100192</td>\n",
              "      <td>538000.0</td>\n",
              "      <td>3</td>\n",
              "      <td>2.25</td>\n",
              "      <td>2570</td>\n",
              "      <td>7242</td>\n",
              "      <td>2.0</td>\n",
              "      <td>0</td>\n",
              "      <td>0</td>\n",
              "      <td>3</td>\n",
              "      <td>7</td>\n",
              "      <td>2170</td>\n",
              "      <td>400</td>\n",
              "      <td>1951</td>\n",
              "      <td>1991</td>\n",
              "      <td>98125</td>\n",
              "      <td>47.7210</td>\n",
              "      <td>-122.319</td>\n",
              "      <td>1690</td>\n",
              "      <td>7639</td>\n",
              "    </tr>\n",
              "    <tr>\n",
              "      <th>2</th>\n",
              "      <td>5631500400</td>\n",
              "      <td>180000.0</td>\n",
              "      <td>2</td>\n",
              "      <td>1.00</td>\n",
              "      <td>770</td>\n",
              "      <td>10000</td>\n",
              "      <td>1.0</td>\n",
              "      <td>0</td>\n",
              "      <td>0</td>\n",
              "      <td>3</td>\n",
              "      <td>6</td>\n",
              "      <td>770</td>\n",
              "      <td>0</td>\n",
              "      <td>1933</td>\n",
              "      <td>0</td>\n",
              "      <td>98028</td>\n",
              "      <td>47.7379</td>\n",
              "      <td>-122.233</td>\n",
              "      <td>2720</td>\n",
              "      <td>8062</td>\n",
              "    </tr>\n",
              "    <tr>\n",
              "      <th>3</th>\n",
              "      <td>2487200875</td>\n",
              "      <td>604000.0</td>\n",
              "      <td>4</td>\n",
              "      <td>3.00</td>\n",
              "      <td>1960</td>\n",
              "      <td>5000</td>\n",
              "      <td>1.0</td>\n",
              "      <td>0</td>\n",
              "      <td>0</td>\n",
              "      <td>5</td>\n",
              "      <td>7</td>\n",
              "      <td>1050</td>\n",
              "      <td>910</td>\n",
              "      <td>1965</td>\n",
              "      <td>0</td>\n",
              "      <td>98136</td>\n",
              "      <td>47.5208</td>\n",
              "      <td>-122.393</td>\n",
              "      <td>1360</td>\n",
              "      <td>5000</td>\n",
              "    </tr>\n",
              "    <tr>\n",
              "      <th>4</th>\n",
              "      <td>1954400510</td>\n",
              "      <td>510000.0</td>\n",
              "      <td>3</td>\n",
              "      <td>2.00</td>\n",
              "      <td>1680</td>\n",
              "      <td>8080</td>\n",
              "      <td>1.0</td>\n",
              "      <td>0</td>\n",
              "      <td>0</td>\n",
              "      <td>3</td>\n",
              "      <td>8</td>\n",
              "      <td>1680</td>\n",
              "      <td>0</td>\n",
              "      <td>1987</td>\n",
              "      <td>0</td>\n",
              "      <td>98074</td>\n",
              "      <td>47.6168</td>\n",
              "      <td>-122.045</td>\n",
              "      <td>1800</td>\n",
              "      <td>7503</td>\n",
              "    </tr>\n",
              "  </tbody>\n",
              "</table>\n",
              "</div>"
            ],
            "text/plain": [
              "           id     price  bedrooms  ...     long  sqft_living15  sqft_lot15\n",
              "0  7129300520  221900.0         3  ... -122.257           1340        5650\n",
              "1  6414100192  538000.0         3  ... -122.319           1690        7639\n",
              "2  5631500400  180000.0         2  ... -122.233           2720        8062\n",
              "3  2487200875  604000.0         4  ... -122.393           1360        5000\n",
              "4  1954400510  510000.0         3  ... -122.045           1800        7503\n",
              "\n",
              "[5 rows x 20 columns]"
            ]
          },
          "metadata": {
            "tags": []
          },
          "execution_count": 4
        }
      ]
    },
    {
      "cell_type": "code",
      "metadata": {
        "id": "HMcThud1Lkkz",
        "colab_type": "code",
        "colab": {
          "base_uri": "https://localhost:8080/",
          "height": 224
        },
        "outputId": "c5420f69-0cd3-4de1-decb-0f266f7982e9"
      },
      "source": [
        "#previwing the bottom\n",
        "data.tail()"
      ],
      "execution_count": 5,
      "outputs": [
        {
          "output_type": "execute_result",
          "data": {
            "text/html": [
              "<div>\n",
              "<style scoped>\n",
              "    .dataframe tbody tr th:only-of-type {\n",
              "        vertical-align: middle;\n",
              "    }\n",
              "\n",
              "    .dataframe tbody tr th {\n",
              "        vertical-align: top;\n",
              "    }\n",
              "\n",
              "    .dataframe thead th {\n",
              "        text-align: right;\n",
              "    }\n",
              "</style>\n",
              "<table border=\"1\" class=\"dataframe\">\n",
              "  <thead>\n",
              "    <tr style=\"text-align: right;\">\n",
              "      <th></th>\n",
              "      <th>id</th>\n",
              "      <th>price</th>\n",
              "      <th>bedrooms</th>\n",
              "      <th>bathrooms</th>\n",
              "      <th>sqft_living</th>\n",
              "      <th>sqft_lot</th>\n",
              "      <th>floors</th>\n",
              "      <th>waterfront</th>\n",
              "      <th>view</th>\n",
              "      <th>condition</th>\n",
              "      <th>grade</th>\n",
              "      <th>sqft_above</th>\n",
              "      <th>sqft_basement</th>\n",
              "      <th>yr_built</th>\n",
              "      <th>yr_renovated</th>\n",
              "      <th>zipcode</th>\n",
              "      <th>lat</th>\n",
              "      <th>long</th>\n",
              "      <th>sqft_living15</th>\n",
              "      <th>sqft_lot15</th>\n",
              "    </tr>\n",
              "  </thead>\n",
              "  <tbody>\n",
              "    <tr>\n",
              "      <th>21608</th>\n",
              "      <td>263000018</td>\n",
              "      <td>360000.0</td>\n",
              "      <td>3</td>\n",
              "      <td>2.50</td>\n",
              "      <td>1530</td>\n",
              "      <td>1131</td>\n",
              "      <td>3.0</td>\n",
              "      <td>0</td>\n",
              "      <td>0</td>\n",
              "      <td>3</td>\n",
              "      <td>8</td>\n",
              "      <td>1530</td>\n",
              "      <td>0</td>\n",
              "      <td>2009</td>\n",
              "      <td>0</td>\n",
              "      <td>98103</td>\n",
              "      <td>47.6993</td>\n",
              "      <td>-122.346</td>\n",
              "      <td>1530</td>\n",
              "      <td>1509</td>\n",
              "    </tr>\n",
              "    <tr>\n",
              "      <th>21609</th>\n",
              "      <td>6600060120</td>\n",
              "      <td>400000.0</td>\n",
              "      <td>4</td>\n",
              "      <td>2.50</td>\n",
              "      <td>2310</td>\n",
              "      <td>5813</td>\n",
              "      <td>2.0</td>\n",
              "      <td>0</td>\n",
              "      <td>0</td>\n",
              "      <td>3</td>\n",
              "      <td>8</td>\n",
              "      <td>2310</td>\n",
              "      <td>0</td>\n",
              "      <td>2014</td>\n",
              "      <td>0</td>\n",
              "      <td>98146</td>\n",
              "      <td>47.5107</td>\n",
              "      <td>-122.362</td>\n",
              "      <td>1830</td>\n",
              "      <td>7200</td>\n",
              "    </tr>\n",
              "    <tr>\n",
              "      <th>21610</th>\n",
              "      <td>1523300141</td>\n",
              "      <td>402101.0</td>\n",
              "      <td>2</td>\n",
              "      <td>0.75</td>\n",
              "      <td>1020</td>\n",
              "      <td>1350</td>\n",
              "      <td>2.0</td>\n",
              "      <td>0</td>\n",
              "      <td>0</td>\n",
              "      <td>3</td>\n",
              "      <td>7</td>\n",
              "      <td>1020</td>\n",
              "      <td>0</td>\n",
              "      <td>2009</td>\n",
              "      <td>0</td>\n",
              "      <td>98144</td>\n",
              "      <td>47.5944</td>\n",
              "      <td>-122.299</td>\n",
              "      <td>1020</td>\n",
              "      <td>2007</td>\n",
              "    </tr>\n",
              "    <tr>\n",
              "      <th>21611</th>\n",
              "      <td>291310100</td>\n",
              "      <td>400000.0</td>\n",
              "      <td>3</td>\n",
              "      <td>2.50</td>\n",
              "      <td>1600</td>\n",
              "      <td>2388</td>\n",
              "      <td>2.0</td>\n",
              "      <td>0</td>\n",
              "      <td>0</td>\n",
              "      <td>3</td>\n",
              "      <td>8</td>\n",
              "      <td>1600</td>\n",
              "      <td>0</td>\n",
              "      <td>2004</td>\n",
              "      <td>0</td>\n",
              "      <td>98027</td>\n",
              "      <td>47.5345</td>\n",
              "      <td>-122.069</td>\n",
              "      <td>1410</td>\n",
              "      <td>1287</td>\n",
              "    </tr>\n",
              "    <tr>\n",
              "      <th>21612</th>\n",
              "      <td>1523300157</td>\n",
              "      <td>325000.0</td>\n",
              "      <td>2</td>\n",
              "      <td>0.75</td>\n",
              "      <td>1020</td>\n",
              "      <td>1076</td>\n",
              "      <td>2.0</td>\n",
              "      <td>0</td>\n",
              "      <td>0</td>\n",
              "      <td>3</td>\n",
              "      <td>7</td>\n",
              "      <td>1020</td>\n",
              "      <td>0</td>\n",
              "      <td>2008</td>\n",
              "      <td>0</td>\n",
              "      <td>98144</td>\n",
              "      <td>47.5941</td>\n",
              "      <td>-122.299</td>\n",
              "      <td>1020</td>\n",
              "      <td>1357</td>\n",
              "    </tr>\n",
              "  </tbody>\n",
              "</table>\n",
              "</div>"
            ],
            "text/plain": [
              "               id     price  bedrooms  ...     long  sqft_living15  sqft_lot15\n",
              "21608   263000018  360000.0         3  ... -122.346           1530        1509\n",
              "21609  6600060120  400000.0         4  ... -122.362           1830        7200\n",
              "21610  1523300141  402101.0         2  ... -122.299           1020        2007\n",
              "21611   291310100  400000.0         3  ... -122.069           1410        1287\n",
              "21612  1523300157  325000.0         2  ... -122.299           1020        1357\n",
              "\n",
              "[5 rows x 20 columns]"
            ]
          },
          "metadata": {
            "tags": []
          },
          "execution_count": 5
        }
      ]
    },
    {
      "cell_type": "code",
      "metadata": {
        "id": "UUVXiEYqsIf-",
        "colab_type": "code",
        "colab": {
          "base_uri": "https://localhost:8080/",
          "height": 34
        },
        "outputId": "565e325a-3d8d-46bb-edc6-f68d6cee3088"
      },
      "source": [
        "#viewing the rows and columns.\n",
        "data.shape"
      ],
      "execution_count": 6,
      "outputs": [
        {
          "output_type": "execute_result",
          "data": {
            "text/plain": [
              "(21613, 20)"
            ]
          },
          "metadata": {
            "tags": []
          },
          "execution_count": 6
        }
      ]
    },
    {
      "cell_type": "code",
      "metadata": {
        "id": "k1BHHmGGrmUu",
        "colab_type": "code",
        "colab": {
          "base_uri": "https://localhost:8080/",
          "height": 782
        },
        "outputId": "36766852-c081-476e-c5e2-b633c4298d13"
      },
      "source": [
        "#checking for null, missing and duplicated values.\n",
        "print(\"Null Values\")\n",
        "print(data.isnull().sum())\n",
        "print(\"Missing Values\")\n",
        "print(data.isna().sum())\n",
        "print(\"Duplicated Values:\",data.duplicated().sum())"
      ],
      "execution_count": 7,
      "outputs": [
        {
          "output_type": "stream",
          "text": [
            "Null Values\n",
            "id               0\n",
            "price            0\n",
            "bedrooms         0\n",
            "bathrooms        0\n",
            "sqft_living      0\n",
            "sqft_lot         0\n",
            "floors           0\n",
            "waterfront       0\n",
            "view             0\n",
            "condition        0\n",
            "grade            0\n",
            "sqft_above       0\n",
            "sqft_basement    0\n",
            "yr_built         0\n",
            "yr_renovated     0\n",
            "zipcode          0\n",
            "lat              0\n",
            "long             0\n",
            "sqft_living15    0\n",
            "sqft_lot15       0\n",
            "dtype: int64\n",
            "Missing Values\n",
            "id               0\n",
            "price            0\n",
            "bedrooms         0\n",
            "bathrooms        0\n",
            "sqft_living      0\n",
            "sqft_lot         0\n",
            "floors           0\n",
            "waterfront       0\n",
            "view             0\n",
            "condition        0\n",
            "grade            0\n",
            "sqft_above       0\n",
            "sqft_basement    0\n",
            "yr_built         0\n",
            "yr_renovated     0\n",
            "zipcode          0\n",
            "lat              0\n",
            "long             0\n",
            "sqft_living15    0\n",
            "sqft_lot15       0\n",
            "dtype: int64\n",
            "Duplicated Values: 3\n"
          ],
          "name": "stdout"
        }
      ]
    },
    {
      "cell_type": "code",
      "metadata": {
        "id": "i49q8DZKcSqf",
        "colab_type": "code",
        "colab": {
          "base_uri": "https://localhost:8080/",
          "height": 34
        },
        "outputId": "aaf2a1e3-a90b-411f-d059-97833ff79648"
      },
      "source": [
        "#dropping the duplicated values noted.\n",
        "data = data.drop_duplicates()\n",
        "data.duplicated().sum()"
      ],
      "execution_count": 8,
      "outputs": [
        {
          "output_type": "execute_result",
          "data": {
            "text/plain": [
              "0"
            ]
          },
          "metadata": {
            "tags": []
          },
          "execution_count": 8
        }
      ]
    },
    {
      "cell_type": "code",
      "metadata": {
        "id": "YuqBrVVkTNHC",
        "colab_type": "code",
        "colab": {
          "base_uri": "https://localhost:8080/",
          "height": 374
        },
        "outputId": "d1a8da65-2973-4083-d89f-e7e202f12ad0"
      },
      "source": [
        "data.nunique()"
      ],
      "execution_count": 9,
      "outputs": [
        {
          "output_type": "execute_result",
          "data": {
            "text/plain": [
              "id               21436\n",
              "price             3625\n",
              "bedrooms            13\n",
              "bathrooms           30\n",
              "sqft_living       1038\n",
              "sqft_lot          9782\n",
              "floors               6\n",
              "waterfront           2\n",
              "view                 5\n",
              "condition            5\n",
              "grade               12\n",
              "sqft_above         946\n",
              "sqft_basement      306\n",
              "yr_built           116\n",
              "yr_renovated        70\n",
              "zipcode             70\n",
              "lat               5034\n",
              "long               752\n",
              "sqft_living15      777\n",
              "sqft_lot15        8689\n",
              "dtype: int64"
            ]
          },
          "metadata": {
            "tags": []
          },
          "execution_count": 9
        }
      ]
    },
    {
      "cell_type": "code",
      "metadata": {
        "id": "1tN4CLt1bTle",
        "colab_type": "code",
        "colab": {
          "base_uri": "https://localhost:8080/",
          "height": 317
        },
        "outputId": "0067c0d0-fece-40aa-f7fc-f8debe1c2058"
      },
      "source": [
        "#previewing numerical aspects of our data.\n",
        "data.describe()"
      ],
      "execution_count": 10,
      "outputs": [
        {
          "output_type": "execute_result",
          "data": {
            "text/html": [
              "<div>\n",
              "<style scoped>\n",
              "    .dataframe tbody tr th:only-of-type {\n",
              "        vertical-align: middle;\n",
              "    }\n",
              "\n",
              "    .dataframe tbody tr th {\n",
              "        vertical-align: top;\n",
              "    }\n",
              "\n",
              "    .dataframe thead th {\n",
              "        text-align: right;\n",
              "    }\n",
              "</style>\n",
              "<table border=\"1\" class=\"dataframe\">\n",
              "  <thead>\n",
              "    <tr style=\"text-align: right;\">\n",
              "      <th></th>\n",
              "      <th>id</th>\n",
              "      <th>price</th>\n",
              "      <th>bedrooms</th>\n",
              "      <th>bathrooms</th>\n",
              "      <th>sqft_living</th>\n",
              "      <th>sqft_lot</th>\n",
              "      <th>floors</th>\n",
              "      <th>waterfront</th>\n",
              "      <th>view</th>\n",
              "      <th>condition</th>\n",
              "      <th>grade</th>\n",
              "      <th>sqft_above</th>\n",
              "      <th>sqft_basement</th>\n",
              "      <th>yr_built</th>\n",
              "      <th>yr_renovated</th>\n",
              "      <th>zipcode</th>\n",
              "      <th>lat</th>\n",
              "      <th>long</th>\n",
              "      <th>sqft_living15</th>\n",
              "      <th>sqft_lot15</th>\n",
              "    </tr>\n",
              "  </thead>\n",
              "  <tbody>\n",
              "    <tr>\n",
              "      <th>count</th>\n",
              "      <td>2.161000e+04</td>\n",
              "      <td>2.161000e+04</td>\n",
              "      <td>21610.000000</td>\n",
              "      <td>21610.000000</td>\n",
              "      <td>21610.000000</td>\n",
              "      <td>2.161000e+04</td>\n",
              "      <td>21610.000000</td>\n",
              "      <td>21610.000000</td>\n",
              "      <td>21610.000000</td>\n",
              "      <td>21610.000000</td>\n",
              "      <td>21610.000000</td>\n",
              "      <td>21610.000000</td>\n",
              "      <td>21610.000000</td>\n",
              "      <td>21610.000000</td>\n",
              "      <td>21610.000000</td>\n",
              "      <td>21610.000000</td>\n",
              "      <td>21610.000000</td>\n",
              "      <td>21610.000000</td>\n",
              "      <td>21610.000000</td>\n",
              "      <td>21610.000000</td>\n",
              "    </tr>\n",
              "    <tr>\n",
              "      <th>mean</th>\n",
              "      <td>4.580161e+09</td>\n",
              "      <td>5.401789e+05</td>\n",
              "      <td>3.370847</td>\n",
              "      <td>2.114739</td>\n",
              "      <td>2079.881212</td>\n",
              "      <td>1.510829e+04</td>\n",
              "      <td>1.494239</td>\n",
              "      <td>0.007543</td>\n",
              "      <td>0.234197</td>\n",
              "      <td>3.409440</td>\n",
              "      <td>7.656779</td>\n",
              "      <td>1788.347894</td>\n",
              "      <td>291.533318</td>\n",
              "      <td>1971.003609</td>\n",
              "      <td>84.322351</td>\n",
              "      <td>98077.945673</td>\n",
              "      <td>47.560049</td>\n",
              "      <td>-122.213910</td>\n",
              "      <td>1986.518695</td>\n",
              "      <td>12769.031976</td>\n",
              "    </tr>\n",
              "    <tr>\n",
              "      <th>std</th>\n",
              "      <td>2.876547e+09</td>\n",
              "      <td>3.673876e+05</td>\n",
              "      <td>0.930110</td>\n",
              "      <td>0.770204</td>\n",
              "      <td>918.500299</td>\n",
              "      <td>4.142323e+04</td>\n",
              "      <td>0.539994</td>\n",
              "      <td>0.086523</td>\n",
              "      <td>0.766136</td>\n",
              "      <td>0.650764</td>\n",
              "      <td>1.175500</td>\n",
              "      <td>828.138723</td>\n",
              "      <td>442.596699</td>\n",
              "      <td>29.372639</td>\n",
              "      <td>401.499264</td>\n",
              "      <td>53.505373</td>\n",
              "      <td>0.138572</td>\n",
              "      <td>0.140833</td>\n",
              "      <td>685.425781</td>\n",
              "      <td>27305.972464</td>\n",
              "    </tr>\n",
              "    <tr>\n",
              "      <th>min</th>\n",
              "      <td>1.000102e+06</td>\n",
              "      <td>7.500000e+04</td>\n",
              "      <td>0.000000</td>\n",
              "      <td>0.000000</td>\n",
              "      <td>290.000000</td>\n",
              "      <td>5.200000e+02</td>\n",
              "      <td>1.000000</td>\n",
              "      <td>0.000000</td>\n",
              "      <td>0.000000</td>\n",
              "      <td>1.000000</td>\n",
              "      <td>1.000000</td>\n",
              "      <td>290.000000</td>\n",
              "      <td>0.000000</td>\n",
              "      <td>1900.000000</td>\n",
              "      <td>0.000000</td>\n",
              "      <td>98001.000000</td>\n",
              "      <td>47.155900</td>\n",
              "      <td>-122.519000</td>\n",
              "      <td>399.000000</td>\n",
              "      <td>651.000000</td>\n",
              "    </tr>\n",
              "    <tr>\n",
              "      <th>25%</th>\n",
              "      <td>2.123049e+09</td>\n",
              "      <td>3.216125e+05</td>\n",
              "      <td>3.000000</td>\n",
              "      <td>1.750000</td>\n",
              "      <td>1425.500000</td>\n",
              "      <td>5.040000e+03</td>\n",
              "      <td>1.000000</td>\n",
              "      <td>0.000000</td>\n",
              "      <td>0.000000</td>\n",
              "      <td>3.000000</td>\n",
              "      <td>7.000000</td>\n",
              "      <td>1190.000000</td>\n",
              "      <td>0.000000</td>\n",
              "      <td>1951.000000</td>\n",
              "      <td>0.000000</td>\n",
              "      <td>98033.000000</td>\n",
              "      <td>47.470925</td>\n",
              "      <td>-122.328000</td>\n",
              "      <td>1490.000000</td>\n",
              "      <td>5100.000000</td>\n",
              "    </tr>\n",
              "    <tr>\n",
              "      <th>50%</th>\n",
              "      <td>3.904930e+09</td>\n",
              "      <td>4.500000e+05</td>\n",
              "      <td>3.000000</td>\n",
              "      <td>2.250000</td>\n",
              "      <td>1910.000000</td>\n",
              "      <td>7.619000e+03</td>\n",
              "      <td>1.500000</td>\n",
              "      <td>0.000000</td>\n",
              "      <td>0.000000</td>\n",
              "      <td>3.000000</td>\n",
              "      <td>7.000000</td>\n",
              "      <td>1560.000000</td>\n",
              "      <td>0.000000</td>\n",
              "      <td>1975.000000</td>\n",
              "      <td>0.000000</td>\n",
              "      <td>98065.000000</td>\n",
              "      <td>47.571800</td>\n",
              "      <td>-122.231000</td>\n",
              "      <td>1840.000000</td>\n",
              "      <td>7620.000000</td>\n",
              "    </tr>\n",
              "    <tr>\n",
              "      <th>75%</th>\n",
              "      <td>7.308900e+09</td>\n",
              "      <td>6.450000e+05</td>\n",
              "      <td>4.000000</td>\n",
              "      <td>2.500000</td>\n",
              "      <td>2550.000000</td>\n",
              "      <td>1.068875e+04</td>\n",
              "      <td>2.000000</td>\n",
              "      <td>0.000000</td>\n",
              "      <td>0.000000</td>\n",
              "      <td>4.000000</td>\n",
              "      <td>8.000000</td>\n",
              "      <td>2210.000000</td>\n",
              "      <td>560.000000</td>\n",
              "      <td>1997.000000</td>\n",
              "      <td>0.000000</td>\n",
              "      <td>98118.000000</td>\n",
              "      <td>47.678000</td>\n",
              "      <td>-122.125000</td>\n",
              "      <td>2360.000000</td>\n",
              "      <td>10083.000000</td>\n",
              "    </tr>\n",
              "    <tr>\n",
              "      <th>max</th>\n",
              "      <td>9.900000e+09</td>\n",
              "      <td>7.700000e+06</td>\n",
              "      <td>33.000000</td>\n",
              "      <td>8.000000</td>\n",
              "      <td>13540.000000</td>\n",
              "      <td>1.651359e+06</td>\n",
              "      <td>3.500000</td>\n",
              "      <td>1.000000</td>\n",
              "      <td>4.000000</td>\n",
              "      <td>5.000000</td>\n",
              "      <td>13.000000</td>\n",
              "      <td>9410.000000</td>\n",
              "      <td>4820.000000</td>\n",
              "      <td>2015.000000</td>\n",
              "      <td>2015.000000</td>\n",
              "      <td>98199.000000</td>\n",
              "      <td>47.777600</td>\n",
              "      <td>-121.315000</td>\n",
              "      <td>6210.000000</td>\n",
              "      <td>871200.000000</td>\n",
              "    </tr>\n",
              "  </tbody>\n",
              "</table>\n",
              "</div>"
            ],
            "text/plain": [
              "                 id         price  ...  sqft_living15     sqft_lot15\n",
              "count  2.161000e+04  2.161000e+04  ...   21610.000000   21610.000000\n",
              "mean   4.580161e+09  5.401789e+05  ...    1986.518695   12769.031976\n",
              "std    2.876547e+09  3.673876e+05  ...     685.425781   27305.972464\n",
              "min    1.000102e+06  7.500000e+04  ...     399.000000     651.000000\n",
              "25%    2.123049e+09  3.216125e+05  ...    1490.000000    5100.000000\n",
              "50%    3.904930e+09  4.500000e+05  ...    1840.000000    7620.000000\n",
              "75%    7.308900e+09  6.450000e+05  ...    2360.000000   10083.000000\n",
              "max    9.900000e+09  7.700000e+06  ...    6210.000000  871200.000000\n",
              "\n",
              "[8 rows x 20 columns]"
            ]
          },
          "metadata": {
            "tags": []
          },
          "execution_count": 10
        }
      ]
    },
    {
      "cell_type": "code",
      "metadata": {
        "id": "5Uvl8rVS-bMR",
        "colab_type": "code",
        "colab": {
          "base_uri": "https://localhost:8080/",
          "height": 476
        },
        "outputId": "428e280c-a866-4937-985d-e7c7ce72be58"
      },
      "source": [
        "#checking for the data types for our columns.\n",
        "data.info()"
      ],
      "execution_count": 11,
      "outputs": [
        {
          "output_type": "stream",
          "text": [
            "<class 'pandas.core.frame.DataFrame'>\n",
            "Int64Index: 21610 entries, 0 to 21612\n",
            "Data columns (total 20 columns):\n",
            " #   Column         Non-Null Count  Dtype  \n",
            "---  ------         --------------  -----  \n",
            " 0   id             21610 non-null  int64  \n",
            " 1   price          21610 non-null  float64\n",
            " 2   bedrooms       21610 non-null  int64  \n",
            " 3   bathrooms      21610 non-null  float64\n",
            " 4   sqft_living    21610 non-null  int64  \n",
            " 5   sqft_lot       21610 non-null  int64  \n",
            " 6   floors         21610 non-null  float64\n",
            " 7   waterfront     21610 non-null  int64  \n",
            " 8   view           21610 non-null  int64  \n",
            " 9   condition      21610 non-null  int64  \n",
            " 10  grade          21610 non-null  int64  \n",
            " 11  sqft_above     21610 non-null  int64  \n",
            " 12  sqft_basement  21610 non-null  int64  \n",
            " 13  yr_built       21610 non-null  int64  \n",
            " 14  yr_renovated   21610 non-null  int64  \n",
            " 15  zipcode        21610 non-null  int64  \n",
            " 16  lat            21610 non-null  float64\n",
            " 17  long           21610 non-null  float64\n",
            " 18  sqft_living15  21610 non-null  int64  \n",
            " 19  sqft_lot15     21610 non-null  int64  \n",
            "dtypes: float64(5), int64(15)\n",
            "memory usage: 3.5 MB\n"
          ],
          "name": "stdout"
        }
      ]
    },
    {
      "cell_type": "markdown",
      "metadata": {
        "id": "9anCW5L1NYYS",
        "colab_type": "text"
      },
      "source": [
        "## **Cleaning and Tidying of the Data.**"
      ]
    },
    {
      "cell_type": "code",
      "metadata": {
        "id": "W3LDnr47-eL8",
        "colab_type": "code",
        "colab": {
          "base_uri": "https://localhost:8080/",
          "height": 102
        },
        "outputId": "18fad038-4b83-49e6-c30c-bd16b8e6e62a"
      },
      "source": [
        "#dropping the id column since we do not need it.\n",
        "#defining the columns for later use in plotting.\n",
        "data = data.drop(columns='id')\n",
        "columns = data.columns\n",
        "columns"
      ],
      "execution_count": 12,
      "outputs": [
        {
          "output_type": "execute_result",
          "data": {
            "text/plain": [
              "Index(['price', 'bedrooms', 'bathrooms', 'sqft_living', 'sqft_lot', 'floors',\n",
              "       'waterfront', 'view', 'condition', 'grade', 'sqft_above',\n",
              "       'sqft_basement', 'yr_built', 'yr_renovated', 'zipcode', 'lat', 'long',\n",
              "       'sqft_living15', 'sqft_lot15'],\n",
              "      dtype='object')"
            ]
          },
          "metadata": {
            "tags": []
          },
          "execution_count": 12
        }
      ]
    },
    {
      "cell_type": "code",
      "metadata": {
        "id": "N2ob8pWidK67",
        "colab_type": "code",
        "colab": {
          "base_uri": "https://localhost:8080/",
          "height": 1000
        },
        "outputId": "c796bbe6-95b1-405c-98af-aa936b5d369e"
      },
      "source": [
        "#plotting outliers in the data.\n",
        "fig, ax = plt.subplots(len(columns), figsize = (10, 60))\n",
        "\n",
        "for i, col_val in enumerate(columns):\n",
        "\n",
        "  sns.boxplot(y= data[col_val], ax=ax[i])\n",
        "  ax[i].set_xlabel(col_val, fontsize=8)\n",
        "\n",
        "plt.show()"
      ],
      "execution_count": 13,
      "outputs": [
        {
          "output_type": "display_data",
          "data": {
            "image/png": "[encoded data removed]",
            "text/plain": [
              "<Figure size 720x4320 with 19 Axes>"
            ]
          },
          "metadata": {
            "tags": [],
            "needs_background": "light"
          }
        }
      ]
    },
    {
      "cell_type": "markdown",
      "metadata": {
        "id": "6hZ0nb06MsmZ",
        "colab_type": "text"
      },
      "source": [
        "Our data looks fairly clean, not having as many outliers. The only visible outliers that we can see is that in the bedrooms column and the year renovated column. I will check the bedrooms outlier but the year renovated column may be an actuality since houses may not have been renovated for a couple of years."
      ]
    },
    {
      "cell_type": "code",
      "metadata": {
        "id": "6pZMHfqp0Hny",
        "colab_type": "code",
        "colab": {
          "base_uri": "https://localhost:8080/",
          "height": 100
        },
        "outputId": "246f7e83-594d-4831-d51b-0d68c8af4aa4"
      },
      "source": [
        "data.loc[data['bedrooms'] > 30]"
      ],
      "execution_count": 14,
      "outputs": [
        {
          "output_type": "execute_result",
          "data": {
            "text/html": [
              "<div>\n",
              "<style scoped>\n",
              "    .dataframe tbody tr th:only-of-type {\n",
              "        vertical-align: middle;\n",
              "    }\n",
              "\n",
              "    .dataframe tbody tr th {\n",
              "        vertical-align: top;\n",
              "    }\n",
              "\n",
              "    .dataframe thead th {\n",
              "        text-align: right;\n",
              "    }\n",
              "</style>\n",
              "<table border=\"1\" class=\"dataframe\">\n",
              "  <thead>\n",
              "    <tr style=\"text-align: right;\">\n",
              "      <th></th>\n",
              "      <th>price</th>\n",
              "      <th>bedrooms</th>\n",
              "      <th>bathrooms</th>\n",
              "      <th>sqft_living</th>\n",
              "      <th>sqft_lot</th>\n",
              "      <th>floors</th>\n",
              "      <th>waterfront</th>\n",
              "      <th>view</th>\n",
              "      <th>condition</th>\n",
              "      <th>grade</th>\n",
              "      <th>sqft_above</th>\n",
              "      <th>sqft_basement</th>\n",
              "      <th>yr_built</th>\n",
              "      <th>yr_renovated</th>\n",
              "      <th>zipcode</th>\n",
              "      <th>lat</th>\n",
              "      <th>long</th>\n",
              "      <th>sqft_living15</th>\n",
              "      <th>sqft_lot15</th>\n",
              "    </tr>\n",
              "  </thead>\n",
              "  <tbody>\n",
              "    <tr>\n",
              "      <th>15870</th>\n",
              "      <td>640000.0</td>\n",
              "      <td>33</td>\n",
              "      <td>1.75</td>\n",
              "      <td>1620</td>\n",
              "      <td>6000</td>\n",
              "      <td>1.0</td>\n",
              "      <td>0</td>\n",
              "      <td>0</td>\n",
              "      <td>5</td>\n",
              "      <td>7</td>\n",
              "      <td>1040</td>\n",
              "      <td>580</td>\n",
              "      <td>1947</td>\n",
              "      <td>0</td>\n",
              "      <td>98103</td>\n",
              "      <td>47.6878</td>\n",
              "      <td>-122.331</td>\n",
              "      <td>1330</td>\n",
              "      <td>4700</td>\n",
              "    </tr>\n",
              "  </tbody>\n",
              "</table>\n",
              "</div>"
            ],
            "text/plain": [
              "          price  bedrooms  bathrooms  ...     long  sqft_living15  sqft_lot15\n",
              "15870  640000.0        33       1.75  ... -122.331           1330        4700\n",
              "\n",
              "[1 rows x 19 columns]"
            ]
          },
          "metadata": {
            "tags": []
          },
          "execution_count": 14
        }
      ]
    },
    {
      "cell_type": "markdown",
      "metadata": {
        "id": "hcHNRUZO8o-b",
        "colab_type": "text"
      },
      "source": [
        "I am going to check the houses that have a price above 640000 to see whether there is any instance of such a high number of bedrooms."
      ]
    },
    {
      "cell_type": "code",
      "metadata": {
        "id": "iyAgE_g78kWq",
        "colab_type": "code",
        "colab": {
          "base_uri": "https://localhost:8080/",
          "height": 439
        },
        "outputId": "d39d0f80-a201-40a8-fcaa-37440c1c4ca9"
      },
      "source": [
        "data.loc[data['price'] > 600000]"
      ],
      "execution_count": 15,
      "outputs": [
        {
          "output_type": "execute_result",
          "data": {
            "text/html": [
              "<div>\n",
              "<style scoped>\n",
              "    .dataframe tbody tr th:only-of-type {\n",
              "        vertical-align: middle;\n",
              "    }\n",
              "\n",
              "    .dataframe tbody tr th {\n",
              "        vertical-align: top;\n",
              "    }\n",
              "\n",
              "    .dataframe thead th {\n",
              "        text-align: right;\n",
              "    }\n",
              "</style>\n",
              "<table border=\"1\" class=\"dataframe\">\n",
              "  <thead>\n",
              "    <tr style=\"text-align: right;\">\n",
              "      <th></th>\n",
              "      <th>price</th>\n",
              "      <th>bedrooms</th>\n",
              "      <th>bathrooms</th>\n",
              "      <th>sqft_living</th>\n",
              "      <th>sqft_lot</th>\n",
              "      <th>floors</th>\n",
              "      <th>waterfront</th>\n",
              "      <th>view</th>\n",
              "      <th>condition</th>\n",
              "      <th>grade</th>\n",
              "      <th>sqft_above</th>\n",
              "      <th>sqft_basement</th>\n",
              "      <th>yr_built</th>\n",
              "      <th>yr_renovated</th>\n",
              "      <th>zipcode</th>\n",
              "      <th>lat</th>\n",
              "      <th>long</th>\n",
              "      <th>sqft_living15</th>\n",
              "      <th>sqft_lot15</th>\n",
              "    </tr>\n",
              "  </thead>\n",
              "  <tbody>\n",
              "    <tr>\n",
              "      <th>3</th>\n",
              "      <td>604000.0</td>\n",
              "      <td>4</td>\n",
              "      <td>3.00</td>\n",
              "      <td>1960</td>\n",
              "      <td>5000</td>\n",
              "      <td>1.0</td>\n",
              "      <td>0</td>\n",
              "      <td>0</td>\n",
              "      <td>5</td>\n",
              "      <td>7</td>\n",
              "      <td>1050</td>\n",
              "      <td>910</td>\n",
              "      <td>1965</td>\n",
              "      <td>0</td>\n",
              "      <td>98136</td>\n",
              "      <td>47.5208</td>\n",
              "      <td>-122.393</td>\n",
              "      <td>1360</td>\n",
              "      <td>5000</td>\n",
              "    </tr>\n",
              "    <tr>\n",
              "      <th>5</th>\n",
              "      <td>1230000.0</td>\n",
              "      <td>4</td>\n",
              "      <td>4.50</td>\n",
              "      <td>5420</td>\n",
              "      <td>101930</td>\n",
              "      <td>1.0</td>\n",
              "      <td>0</td>\n",
              "      <td>0</td>\n",
              "      <td>3</td>\n",
              "      <td>11</td>\n",
              "      <td>3890</td>\n",
              "      <td>1530</td>\n",
              "      <td>2001</td>\n",
              "      <td>0</td>\n",
              "      <td>98053</td>\n",
              "      <td>47.6561</td>\n",
              "      <td>-122.005</td>\n",
              "      <td>4760</td>\n",
              "      <td>101930</td>\n",
              "    </tr>\n",
              "    <tr>\n",
              "      <th>10</th>\n",
              "      <td>662500.0</td>\n",
              "      <td>3</td>\n",
              "      <td>2.50</td>\n",
              "      <td>3560</td>\n",
              "      <td>9796</td>\n",
              "      <td>1.0</td>\n",
              "      <td>0</td>\n",
              "      <td>0</td>\n",
              "      <td>3</td>\n",
              "      <td>8</td>\n",
              "      <td>1860</td>\n",
              "      <td>1700</td>\n",
              "      <td>1965</td>\n",
              "      <td>0</td>\n",
              "      <td>98007</td>\n",
              "      <td>47.6007</td>\n",
              "      <td>-122.145</td>\n",
              "      <td>2210</td>\n",
              "      <td>8925</td>\n",
              "    </tr>\n",
              "    <tr>\n",
              "      <th>15</th>\n",
              "      <td>650000.0</td>\n",
              "      <td>4</td>\n",
              "      <td>3.00</td>\n",
              "      <td>2950</td>\n",
              "      <td>5000</td>\n",
              "      <td>2.0</td>\n",
              "      <td>0</td>\n",
              "      <td>3</td>\n",
              "      <td>3</td>\n",
              "      <td>9</td>\n",
              "      <td>1980</td>\n",
              "      <td>970</td>\n",
              "      <td>1979</td>\n",
              "      <td>0</td>\n",
              "      <td>98126</td>\n",
              "      <td>47.5714</td>\n",
              "      <td>-122.375</td>\n",
              "      <td>2140</td>\n",
              "      <td>4000</td>\n",
              "    </tr>\n",
              "    <tr>\n",
              "      <th>21</th>\n",
              "      <td>2000000.0</td>\n",
              "      <td>3</td>\n",
              "      <td>2.75</td>\n",
              "      <td>3050</td>\n",
              "      <td>44867</td>\n",
              "      <td>1.0</td>\n",
              "      <td>0</td>\n",
              "      <td>4</td>\n",
              "      <td>3</td>\n",
              "      <td>9</td>\n",
              "      <td>2330</td>\n",
              "      <td>720</td>\n",
              "      <td>1968</td>\n",
              "      <td>0</td>\n",
              "      <td>98040</td>\n",
              "      <td>47.5316</td>\n",
              "      <td>-122.233</td>\n",
              "      <td>4110</td>\n",
              "      <td>20336</td>\n",
              "    </tr>\n",
              "    <tr>\n",
              "      <th>...</th>\n",
              "      <td>...</td>\n",
              "      <td>...</td>\n",
              "      <td>...</td>\n",
              "      <td>...</td>\n",
              "      <td>...</td>\n",
              "      <td>...</td>\n",
              "      <td>...</td>\n",
              "      <td>...</td>\n",
              "      <td>...</td>\n",
              "      <td>...</td>\n",
              "      <td>...</td>\n",
              "      <td>...</td>\n",
              "      <td>...</td>\n",
              "      <td>...</td>\n",
              "      <td>...</td>\n",
              "      <td>...</td>\n",
              "      <td>...</td>\n",
              "      <td>...</td>\n",
              "      <td>...</td>\n",
              "    </tr>\n",
              "    <tr>\n",
              "      <th>21597</th>\n",
              "      <td>1580000.0</td>\n",
              "      <td>4</td>\n",
              "      <td>3.25</td>\n",
              "      <td>3410</td>\n",
              "      <td>10125</td>\n",
              "      <td>2.0</td>\n",
              "      <td>0</td>\n",
              "      <td>0</td>\n",
              "      <td>3</td>\n",
              "      <td>10</td>\n",
              "      <td>3410</td>\n",
              "      <td>0</td>\n",
              "      <td>2007</td>\n",
              "      <td>0</td>\n",
              "      <td>98040</td>\n",
              "      <td>47.5653</td>\n",
              "      <td>-122.223</td>\n",
              "      <td>2290</td>\n",
              "      <td>10125</td>\n",
              "    </tr>\n",
              "    <tr>\n",
              "      <th>21599</th>\n",
              "      <td>810000.0</td>\n",
              "      <td>4</td>\n",
              "      <td>3.00</td>\n",
              "      <td>3990</td>\n",
              "      <td>7838</td>\n",
              "      <td>2.0</td>\n",
              "      <td>0</td>\n",
              "      <td>0</td>\n",
              "      <td>3</td>\n",
              "      <td>9</td>\n",
              "      <td>3990</td>\n",
              "      <td>0</td>\n",
              "      <td>2003</td>\n",
              "      <td>0</td>\n",
              "      <td>98053</td>\n",
              "      <td>47.6857</td>\n",
              "      <td>-122.046</td>\n",
              "      <td>3370</td>\n",
              "      <td>6814</td>\n",
              "    </tr>\n",
              "    <tr>\n",
              "      <th>21600</th>\n",
              "      <td>1540000.0</td>\n",
              "      <td>5</td>\n",
              "      <td>3.75</td>\n",
              "      <td>4470</td>\n",
              "      <td>8088</td>\n",
              "      <td>2.0</td>\n",
              "      <td>0</td>\n",
              "      <td>0</td>\n",
              "      <td>3</td>\n",
              "      <td>11</td>\n",
              "      <td>4470</td>\n",
              "      <td>0</td>\n",
              "      <td>2008</td>\n",
              "      <td>0</td>\n",
              "      <td>98004</td>\n",
              "      <td>47.6321</td>\n",
              "      <td>-122.200</td>\n",
              "      <td>2780</td>\n",
              "      <td>8964</td>\n",
              "    </tr>\n",
              "    <tr>\n",
              "      <th>21605</th>\n",
              "      <td>610685.0</td>\n",
              "      <td>4</td>\n",
              "      <td>2.50</td>\n",
              "      <td>2520</td>\n",
              "      <td>6023</td>\n",
              "      <td>2.0</td>\n",
              "      <td>0</td>\n",
              "      <td>0</td>\n",
              "      <td>3</td>\n",
              "      <td>9</td>\n",
              "      <td>2520</td>\n",
              "      <td>0</td>\n",
              "      <td>2014</td>\n",
              "      <td>0</td>\n",
              "      <td>98056</td>\n",
              "      <td>47.5137</td>\n",
              "      <td>-122.167</td>\n",
              "      <td>2520</td>\n",
              "      <td>6023</td>\n",
              "    </tr>\n",
              "    <tr>\n",
              "      <th>21606</th>\n",
              "      <td>1010000.0</td>\n",
              "      <td>4</td>\n",
              "      <td>3.50</td>\n",
              "      <td>3510</td>\n",
              "      <td>7200</td>\n",
              "      <td>2.0</td>\n",
              "      <td>0</td>\n",
              "      <td>0</td>\n",
              "      <td>3</td>\n",
              "      <td>9</td>\n",
              "      <td>2600</td>\n",
              "      <td>910</td>\n",
              "      <td>2009</td>\n",
              "      <td>0</td>\n",
              "      <td>98136</td>\n",
              "      <td>47.5537</td>\n",
              "      <td>-122.398</td>\n",
              "      <td>2050</td>\n",
              "      <td>6200</td>\n",
              "    </tr>\n",
              "  </tbody>\n",
              "</table>\n",
              "<p>6256 rows × 19 columns</p>\n",
              "</div>"
            ],
            "text/plain": [
              "           price  bedrooms  bathrooms  ...     long  sqft_living15  sqft_lot15\n",
              "3       604000.0         4       3.00  ... -122.393           1360        5000\n",
              "5      1230000.0         4       4.50  ... -122.005           4760      101930\n",
              "10      662500.0         3       2.50  ... -122.145           2210        8925\n",
              "15      650000.0         4       3.00  ... -122.375           2140        4000\n",
              "21     2000000.0         3       2.75  ... -122.233           4110       20336\n",
              "...          ...       ...        ...  ...      ...            ...         ...\n",
              "21597  1580000.0         4       3.25  ... -122.223           2290       10125\n",
              "21599   810000.0         4       3.00  ... -122.046           3370        6814\n",
              "21600  1540000.0         5       3.75  ... -122.200           2780        8964\n",
              "21605   610685.0         4       2.50  ... -122.167           2520        6023\n",
              "21606  1010000.0         4       3.50  ... -122.398           2050        6200\n",
              "\n",
              "[6256 rows x 19 columns]"
            ]
          },
          "metadata": {
            "tags": []
          },
          "execution_count": 15
        }
      ]
    },
    {
      "cell_type": "markdown",
      "metadata": {
        "id": "XsJpRdkQ8f4D",
        "colab_type": "text"
      },
      "source": [
        "The value is an outlier since the other houses have houses within 3 to 5. I will thus remove the input as it is an outlier."
      ]
    },
    {
      "cell_type": "code",
      "metadata": {
        "id": "F_HAoCjeNmuo",
        "colab_type": "code",
        "colab": {}
      },
      "source": [
        "#dropping the bedroom outlier.\n",
        "data = data[data.bedrooms < 30]"
      ],
      "execution_count": 18,
      "outputs": []
    },
    {
      "cell_type": "markdown",
      "metadata": {
        "id": "-Zuq8HG8Nsc5",
        "colab_type": "text"
      },
      "source": [
        "## **Data Exploration**"
      ]
    },
    {
      "cell_type": "markdown",
      "metadata": {
        "id": "kpyxXmMbfCEW",
        "colab_type": "text"
      },
      "source": [
        "### **Univariate Analysis.**"
      ]
    },
    {
      "cell_type": "code",
      "metadata": {
        "id": "Z_11ySX_Q08K",
        "colab_type": "code",
        "colab": {
          "base_uri": "https://localhost:8080/",
          "height": 971
        },
        "outputId": "d84fe403-12dc-4962-ff48-9bd3620d011f"
      },
      "source": [
        "#plotting the histograms for the variables.\n",
        "data.hist(bins=10, figsize=(15,15))\n",
        "plt.suptitle(\"Histogram of numeric variables in house_data dataset\")\n",
        "plt.show()"
      ],
      "execution_count": 16,
      "outputs": [
        {
          "output_type": "display_data",
          "data": {
            "image/png": "[encoded data removed]",
            "text/plain": [
              "<Figure size 1080x1080 with 20 Axes>"
            ]
          },
          "metadata": {
            "tags": [],
            "needs_background": "light"
          }
        }
      ]
    },
    {
      "cell_type": "markdown",
      "metadata": {
        "id": "iFXGp1jNkfnM",
        "colab_type": "text"
      },
      "source": [
        "### **Bivariate Analysis**"
      ]
    },
    {
      "cell_type": "code",
      "metadata": {
        "id": "fHu_LCCYfU58",
        "colab_type": "code",
        "colab": {
          "base_uri": "https://localhost:8080/",
          "height": 308
        },
        "outputId": "97b2615a-3c99-4e7e-b1c3-e1469b598109"
      },
      "source": [
        "sns.regplot(y=data[\"price\"], x=data[\"sqft_living\"], fit_reg=False)"
      ],
      "execution_count": 17,
      "outputs": [
        {
          "output_type": "execute_result",
          "data": {
            "text/plain": [
              "<matplotlib.axes._subplots.AxesSubplot at 0x7f793c9dae80>"
            ]
          },
          "metadata": {
            "tags": []
          },
          "execution_count": 17
        },
        {
          "output_type": "display_data",
          "data": {
            "image/png": "[encoded data removed]",
            "text/plain": [
              "<Figure size 432x288 with 1 Axes>"
            ]
          },
          "metadata": {
            "tags": [],
            "needs_background": "light"
          }
        }
      ]
    },
    {
      "cell_type": "code",
      "metadata": {
        "id": "fSpU7FjBjdnc",
        "colab_type": "code",
        "colab": {
          "base_uri": "https://localhost:8080/",
          "height": 308
        },
        "outputId": "5618c749-9078-4980-baf3-ffc6275e1f7f"
      },
      "source": [
        "sns.regplot(y=data[\"price\"], x=data[\"sqft_lot\"], fit_reg=False)"
      ],
      "execution_count": 18,
      "outputs": [
        {
          "output_type": "execute_result",
          "data": {
            "text/plain": [
              "<matplotlib.axes._subplots.AxesSubplot at 0x7f793c58c278>"
            ]
          },
          "metadata": {
            "tags": []
          },
          "execution_count": 18
        },
        {
          "output_type": "display_data",
          "data": {
            "image/png": "[encoded data removed]",
            "text/plain": [
              "<Figure size 432x288 with 1 Axes>"
            ]
          },
          "metadata": {
            "tags": [],
            "needs_background": "light"
          }
        }
      ]
    },
    {
      "cell_type": "code",
      "metadata": {
        "id": "-lB03Ggsjk3x",
        "colab_type": "code",
        "colab": {
          "base_uri": "https://localhost:8080/",
          "height": 308
        },
        "outputId": "8e194cf7-89a4-4246-f6c7-20a33c8419d1"
      },
      "source": [
        "sns.regplot(y=data[\"price\"], x=data[\"sqft_above\"], fit_reg=False)"
      ],
      "execution_count": 19,
      "outputs": [
        {
          "output_type": "execute_result",
          "data": {
            "text/plain": [
              "<matplotlib.axes._subplots.AxesSubplot at 0x7f793c51b898>"
            ]
          },
          "metadata": {
            "tags": []
          },
          "execution_count": 19
        },
        {
          "output_type": "display_data",
          "data": {
            "image/png": "[encoded data removed]",
            "text/plain": [
              "<Figure size 432x288 with 1 Axes>"
            ]
          },
          "metadata": {
            "tags": [],
            "needs_background": "light"
          }
        }
      ]
    },
    {
      "cell_type": "code",
      "metadata": {
        "id": "mB14jRUNlhS3",
        "colab_type": "code",
        "colab": {
          "base_uri": "https://localhost:8080/",
          "height": 308
        },
        "outputId": "aaab7f45-a4b9-432e-c18e-644e61010cbe"
      },
      "source": [
        "sns.regplot(y=data[\"price\"], x=data[\"sqft_basement\"], fit_reg=False)"
      ],
      "execution_count": 20,
      "outputs": [
        {
          "output_type": "execute_result",
          "data": {
            "text/plain": [
              "<matplotlib.axes._subplots.AxesSubplot at 0x7f793c4e4518>"
            ]
          },
          "metadata": {
            "tags": []
          },
          "execution_count": 20
        },
        {
          "output_type": "display_data",
          "data": {
            "image/png": "[encoded data removed]",
            "text/plain": [
              "<Figure size 432x288 with 1 Axes>"
            ]
          },
          "metadata": {
            "tags": [],
            "needs_background": "light"
          }
        }
      ]
    },
    {
      "cell_type": "code",
      "metadata": {
        "id": "XxL837NnjrkC",
        "colab_type": "code",
        "colab": {
          "base_uri": "https://localhost:8080/",
          "height": 307
        },
        "outputId": "aab08f2d-7872-4484-bf6f-fdac42f94099"
      },
      "source": [
        "sns.regplot(y=data[\"price\"], x=data[\"lat\"], fit_reg=False)"
      ],
      "execution_count": 21,
      "outputs": [
        {
          "output_type": "execute_result",
          "data": {
            "text/plain": [
              "<matplotlib.axes._subplots.AxesSubplot at 0x7f793c469160>"
            ]
          },
          "metadata": {
            "tags": []
          },
          "execution_count": 21
        },
        {
          "output_type": "display_data",
          "data": {
            "image/png": "[encoded data removed]",
            "text/plain": [
              "<Figure size 432x288 with 1 Axes>"
            ]
          },
          "metadata": {
            "tags": [],
            "needs_background": "light"
          }
        }
      ]
    },
    {
      "cell_type": "code",
      "metadata": {
        "id": "2bo866V9lcoG",
        "colab_type": "code",
        "colab": {
          "base_uri": "https://localhost:8080/",
          "height": 307
        },
        "outputId": "c96bde08-b822-4dfe-9dbf-a11e0415b1af"
      },
      "source": [
        "sns.regplot(y=data[\"price\"], x=data[\"long\"], fit_reg=False)"
      ],
      "execution_count": 22,
      "outputs": [
        {
          "output_type": "execute_result",
          "data": {
            "text/plain": [
              "<matplotlib.axes._subplots.AxesSubplot at 0x7f793c3d0710>"
            ]
          },
          "metadata": {
            "tags": []
          },
          "execution_count": 22
        },
        {
          "output_type": "display_data",
          "data": {
            "image/png": "[encoded data removed]",
            "text/plain": [
              "<Figure size 432x288 with 1 Axes>"
            ]
          },
          "metadata": {
            "tags": [],
            "needs_background": "light"
          }
        }
      ]
    },
    {
      "cell_type": "code",
      "metadata": {
        "id": "bOTPyH5llnfG",
        "colab_type": "code",
        "colab": {
          "base_uri": "https://localhost:8080/",
          "height": 308
        },
        "outputId": "cfb4ad61-ac8a-47d9-aac2-2fdc98a99b10"
      },
      "source": [
        "sns.regplot(y=data[\"price\"], x=data[\"yr_built\"], fit_reg=False)"
      ],
      "execution_count": 23,
      "outputs": [
        {
          "output_type": "execute_result",
          "data": {
            "text/plain": [
              "<matplotlib.axes._subplots.AxesSubplot at 0x7f793c3b3630>"
            ]
          },
          "metadata": {
            "tags": []
          },
          "execution_count": 23
        },
        {
          "output_type": "display_data",
          "data": {
            "image/png": "[encoded data removed]",
            "text/plain": [
              "<Figure size 432x288 with 1 Axes>"
            ]
          },
          "metadata": {
            "tags": [],
            "needs_background": "light"
          }
        }
      ]
    },
    {
      "cell_type": "markdown",
      "metadata": {
        "id": "X0epWLHAltuL",
        "colab_type": "text"
      },
      "source": [
        "From our bivariate analysis, we can infer that the relations between the different variables and the price of the houses differs. The building of the houses is spread out over the years and they don't seem to factor a lot in the price of the house."
      ]
    },
    {
      "cell_type": "markdown",
      "metadata": {
        "id": "ST2GZljwknbw",
        "colab_type": "text"
      },
      "source": [
        "### **Multivariate Analysis.**"
      ]
    },
    {
      "cell_type": "code",
      "metadata": {
        "id": "DQXfQ68oDj-r",
        "colab_type": "code",
        "colab": {
          "base_uri": "https://localhost:8080/",
          "height": 658
        },
        "outputId": "9f4e378c-5185-42a7-9a3f-6ac99cbdc17b"
      },
      "source": [
        "#finding the correlations between the columns.\n",
        "correlation = data.corr()\n",
        "correlation"
      ],
      "execution_count": 24,
      "outputs": [
        {
          "output_type": "execute_result",
          "data": {
            "text/html": [
              "<div>\n",
              "<style scoped>\n",
              "    .dataframe tbody tr th:only-of-type {\n",
              "        vertical-align: middle;\n",
              "    }\n",
              "\n",
              "    .dataframe tbody tr th {\n",
              "        vertical-align: top;\n",
              "    }\n",
              "\n",
              "    .dataframe thead th {\n",
              "        text-align: right;\n",
              "    }\n",
              "</style>\n",
              "<table border=\"1\" class=\"dataframe\">\n",
              "  <thead>\n",
              "    <tr style=\"text-align: right;\">\n",
              "      <th></th>\n",
              "      <th>price</th>\n",
              "      <th>bedrooms</th>\n",
              "      <th>bathrooms</th>\n",
              "      <th>sqft_living</th>\n",
              "      <th>sqft_lot</th>\n",
              "      <th>floors</th>\n",
              "      <th>waterfront</th>\n",
              "      <th>view</th>\n",
              "      <th>condition</th>\n",
              "      <th>grade</th>\n",
              "      <th>sqft_above</th>\n",
              "      <th>sqft_basement</th>\n",
              "      <th>yr_built</th>\n",
              "      <th>yr_renovated</th>\n",
              "      <th>zipcode</th>\n",
              "      <th>lat</th>\n",
              "      <th>long</th>\n",
              "      <th>sqft_living15</th>\n",
              "      <th>sqft_lot15</th>\n",
              "    </tr>\n",
              "  </thead>\n",
              "  <tbody>\n",
              "    <tr>\n",
              "      <th>price</th>\n",
              "      <td>1.000000</td>\n",
              "      <td>0.308346</td>\n",
              "      <td>0.525140</td>\n",
              "      <td>0.702046</td>\n",
              "      <td>0.089658</td>\n",
              "      <td>0.256793</td>\n",
              "      <td>0.266332</td>\n",
              "      <td>0.397466</td>\n",
              "      <td>0.036397</td>\n",
              "      <td>0.667478</td>\n",
              "      <td>0.605569</td>\n",
              "      <td>0.323849</td>\n",
              "      <td>0.053980</td>\n",
              "      <td>0.126503</td>\n",
              "      <td>-0.053162</td>\n",
              "      <td>0.306922</td>\n",
              "      <td>0.021567</td>\n",
              "      <td>0.585382</td>\n",
              "      <td>0.082457</td>\n",
              "    </tr>\n",
              "    <tr>\n",
              "      <th>bedrooms</th>\n",
              "      <td>0.308346</td>\n",
              "      <td>1.000000</td>\n",
              "      <td>0.515935</td>\n",
              "      <td>0.576674</td>\n",
              "      <td>0.031699</td>\n",
              "      <td>0.175448</td>\n",
              "      <td>-0.006583</td>\n",
              "      <td>0.079433</td>\n",
              "      <td>0.028422</td>\n",
              "      <td>0.357003</td>\n",
              "      <td>0.477619</td>\n",
              "      <td>0.303077</td>\n",
              "      <td>0.154276</td>\n",
              "      <td>0.018695</td>\n",
              "      <td>-0.152721</td>\n",
              "      <td>-0.008953</td>\n",
              "      <td>0.129474</td>\n",
              "      <td>0.391633</td>\n",
              "      <td>0.029233</td>\n",
              "    </tr>\n",
              "    <tr>\n",
              "      <th>bathrooms</th>\n",
              "      <td>0.525140</td>\n",
              "      <td>0.515935</td>\n",
              "      <td>1.000000</td>\n",
              "      <td>0.754688</td>\n",
              "      <td>0.087750</td>\n",
              "      <td>0.500669</td>\n",
              "      <td>0.063747</td>\n",
              "      <td>0.187891</td>\n",
              "      <td>-0.124940</td>\n",
              "      <td>0.664990</td>\n",
              "      <td>0.685351</td>\n",
              "      <td>0.283814</td>\n",
              "      <td>0.505997</td>\n",
              "      <td>0.050879</td>\n",
              "      <td>-0.203831</td>\n",
              "      <td>0.024590</td>\n",
              "      <td>0.223047</td>\n",
              "      <td>0.568665</td>\n",
              "      <td>0.087191</td>\n",
              "    </tr>\n",
              "    <tr>\n",
              "      <th>sqft_living</th>\n",
              "      <td>0.702046</td>\n",
              "      <td>0.576674</td>\n",
              "      <td>0.754688</td>\n",
              "      <td>1.000000</td>\n",
              "      <td>0.172830</td>\n",
              "      <td>0.353954</td>\n",
              "      <td>0.103820</td>\n",
              "      <td>0.284641</td>\n",
              "      <td>-0.058768</td>\n",
              "      <td>0.762719</td>\n",
              "      <td>0.876600</td>\n",
              "      <td>0.435054</td>\n",
              "      <td>0.318099</td>\n",
              "      <td>0.055314</td>\n",
              "      <td>-0.199435</td>\n",
              "      <td>0.052521</td>\n",
              "      <td>0.240221</td>\n",
              "      <td>0.756420</td>\n",
              "      <td>0.183285</td>\n",
              "    </tr>\n",
              "    <tr>\n",
              "      <th>sqft_lot</th>\n",
              "      <td>0.089658</td>\n",
              "      <td>0.031699</td>\n",
              "      <td>0.087750</td>\n",
              "      <td>0.172830</td>\n",
              "      <td>1.000000</td>\n",
              "      <td>-0.005171</td>\n",
              "      <td>0.021601</td>\n",
              "      <td>0.074753</td>\n",
              "      <td>-0.008967</td>\n",
              "      <td>0.113644</td>\n",
              "      <td>0.183527</td>\n",
              "      <td>0.015271</td>\n",
              "      <td>0.053105</td>\n",
              "      <td>0.007677</td>\n",
              "      <td>-0.129611</td>\n",
              "      <td>-0.085680</td>\n",
              "      <td>0.229552</td>\n",
              "      <td>0.144620</td>\n",
              "      <td>0.718556</td>\n",
              "    </tr>\n",
              "    <tr>\n",
              "      <th>floors</th>\n",
              "      <td>0.256793</td>\n",
              "      <td>0.175448</td>\n",
              "      <td>0.500669</td>\n",
              "      <td>0.353954</td>\n",
              "      <td>-0.005171</td>\n",
              "      <td>1.000000</td>\n",
              "      <td>0.023711</td>\n",
              "      <td>0.029325</td>\n",
              "      <td>-0.263779</td>\n",
              "      <td>0.458151</td>\n",
              "      <td>0.523874</td>\n",
              "      <td>-0.245673</td>\n",
              "      <td>0.489347</td>\n",
              "      <td>0.006156</td>\n",
              "      <td>-0.059025</td>\n",
              "      <td>0.049593</td>\n",
              "      <td>0.125343</td>\n",
              "      <td>0.279861</td>\n",
              "      <td>-0.011250</td>\n",
              "    </tr>\n",
              "    <tr>\n",
              "      <th>waterfront</th>\n",
              "      <td>0.266332</td>\n",
              "      <td>-0.006583</td>\n",
              "      <td>0.063747</td>\n",
              "      <td>0.103820</td>\n",
              "      <td>0.021601</td>\n",
              "      <td>0.023711</td>\n",
              "      <td>1.000000</td>\n",
              "      <td>0.401993</td>\n",
              "      <td>0.016652</td>\n",
              "      <td>0.082785</td>\n",
              "      <td>0.072080</td>\n",
              "      <td>0.080585</td>\n",
              "      <td>-0.026159</td>\n",
              "      <td>0.092950</td>\n",
              "      <td>0.030277</td>\n",
              "      <td>-0.014272</td>\n",
              "      <td>-0.041904</td>\n",
              "      <td>0.086469</td>\n",
              "      <td>0.030702</td>\n",
              "    </tr>\n",
              "    <tr>\n",
              "      <th>view</th>\n",
              "      <td>0.397466</td>\n",
              "      <td>0.079433</td>\n",
              "      <td>0.187891</td>\n",
              "      <td>0.284641</td>\n",
              "      <td>0.074753</td>\n",
              "      <td>0.029325</td>\n",
              "      <td>0.401993</td>\n",
              "      <td>1.000000</td>\n",
              "      <td>0.045836</td>\n",
              "      <td>0.251378</td>\n",
              "      <td>0.167659</td>\n",
              "      <td>0.276996</td>\n",
              "      <td>-0.053229</td>\n",
              "      <td>0.103208</td>\n",
              "      <td>0.084838</td>\n",
              "      <td>0.006049</td>\n",
              "      <td>-0.078560</td>\n",
              "      <td>0.280404</td>\n",
              "      <td>0.072577</td>\n",
              "    </tr>\n",
              "    <tr>\n",
              "      <th>condition</th>\n",
              "      <td>0.036397</td>\n",
              "      <td>0.028422</td>\n",
              "      <td>-0.124940</td>\n",
              "      <td>-0.058768</td>\n",
              "      <td>-0.008967</td>\n",
              "      <td>-0.263779</td>\n",
              "      <td>0.016652</td>\n",
              "      <td>0.045836</td>\n",
              "      <td>1.000000</td>\n",
              "      <td>-0.144655</td>\n",
              "      <td>-0.158212</td>\n",
              "      <td>0.174071</td>\n",
              "      <td>-0.361347</td>\n",
              "      <td>-0.060862</td>\n",
              "      <td>0.002962</td>\n",
              "      <td>-0.014971</td>\n",
              "      <td>-0.106512</td>\n",
              "      <td>-0.092854</td>\n",
              "      <td>-0.003424</td>\n",
              "    </tr>\n",
              "    <tr>\n",
              "      <th>grade</th>\n",
              "      <td>0.667478</td>\n",
              "      <td>0.357003</td>\n",
              "      <td>0.664990</td>\n",
              "      <td>0.762719</td>\n",
              "      <td>0.113644</td>\n",
              "      <td>0.458151</td>\n",
              "      <td>0.082785</td>\n",
              "      <td>0.251378</td>\n",
              "      <td>-0.144655</td>\n",
              "      <td>1.000000</td>\n",
              "      <td>0.755919</td>\n",
              "      <td>0.168443</td>\n",
              "      <td>0.446966</td>\n",
              "      <td>0.014372</td>\n",
              "      <td>-0.184795</td>\n",
              "      <td>0.114086</td>\n",
              "      <td>0.198347</td>\n",
              "      <td>0.713208</td>\n",
              "      <td>0.119265</td>\n",
              "    </tr>\n",
              "    <tr>\n",
              "      <th>sqft_above</th>\n",
              "      <td>0.605569</td>\n",
              "      <td>0.477619</td>\n",
              "      <td>0.685351</td>\n",
              "      <td>0.876600</td>\n",
              "      <td>0.183527</td>\n",
              "      <td>0.523874</td>\n",
              "      <td>0.072080</td>\n",
              "      <td>0.167659</td>\n",
              "      <td>-0.158212</td>\n",
              "      <td>0.755919</td>\n",
              "      <td>1.000000</td>\n",
              "      <td>-0.051923</td>\n",
              "      <td>0.423922</td>\n",
              "      <td>0.023233</td>\n",
              "      <td>-0.261163</td>\n",
              "      <td>-0.000823</td>\n",
              "      <td>0.343791</td>\n",
              "      <td>0.731870</td>\n",
              "      <td>0.194060</td>\n",
              "    </tr>\n",
              "    <tr>\n",
              "      <th>sqft_basement</th>\n",
              "      <td>0.323849</td>\n",
              "      <td>0.303077</td>\n",
              "      <td>0.283814</td>\n",
              "      <td>0.435054</td>\n",
              "      <td>0.015271</td>\n",
              "      <td>-0.245673</td>\n",
              "      <td>0.080585</td>\n",
              "      <td>0.276996</td>\n",
              "      <td>0.174071</td>\n",
              "      <td>0.168443</td>\n",
              "      <td>-0.051923</td>\n",
              "      <td>1.000000</td>\n",
              "      <td>-0.133062</td>\n",
              "      <td>0.071320</td>\n",
              "      <td>0.074781</td>\n",
              "      <td>0.110535</td>\n",
              "      <td>-0.144743</td>\n",
              "      <td>0.200367</td>\n",
              "      <td>0.017260</td>\n",
              "    </tr>\n",
              "    <tr>\n",
              "      <th>yr_built</th>\n",
              "      <td>0.053980</td>\n",
              "      <td>0.154276</td>\n",
              "      <td>0.505997</td>\n",
              "      <td>0.318099</td>\n",
              "      <td>0.053105</td>\n",
              "      <td>0.489347</td>\n",
              "      <td>-0.026159</td>\n",
              "      <td>-0.053229</td>\n",
              "      <td>-0.361347</td>\n",
              "      <td>0.446966</td>\n",
              "      <td>0.423922</td>\n",
              "      <td>-0.133062</td>\n",
              "      <td>1.000000</td>\n",
              "      <td>-0.224729</td>\n",
              "      <td>-0.346808</td>\n",
              "      <td>-0.148099</td>\n",
              "      <td>0.409395</td>\n",
              "      <td>0.326298</td>\n",
              "      <td>0.070999</td>\n",
              "    </tr>\n",
              "    <tr>\n",
              "      <th>yr_renovated</th>\n",
              "      <td>0.126503</td>\n",
              "      <td>0.018695</td>\n",
              "      <td>0.050879</td>\n",
              "      <td>0.055314</td>\n",
              "      <td>0.007677</td>\n",
              "      <td>0.006156</td>\n",
              "      <td>0.092950</td>\n",
              "      <td>0.103208</td>\n",
              "      <td>-0.060862</td>\n",
              "      <td>0.014372</td>\n",
              "      <td>0.023233</td>\n",
              "      <td>0.071320</td>\n",
              "      <td>-0.224729</td>\n",
              "      <td>1.000000</td>\n",
              "      <td>0.064388</td>\n",
              "      <td>0.029271</td>\n",
              "      <td>-0.068594</td>\n",
              "      <td>-0.002841</td>\n",
              "      <td>0.007837</td>\n",
              "    </tr>\n",
              "    <tr>\n",
              "      <th>zipcode</th>\n",
              "      <td>-0.053162</td>\n",
              "      <td>-0.152721</td>\n",
              "      <td>-0.203831</td>\n",
              "      <td>-0.199435</td>\n",
              "      <td>-0.129611</td>\n",
              "      <td>-0.059025</td>\n",
              "      <td>0.030277</td>\n",
              "      <td>0.084838</td>\n",
              "      <td>0.002962</td>\n",
              "      <td>-0.184795</td>\n",
              "      <td>-0.261163</td>\n",
              "      <td>0.074781</td>\n",
              "      <td>-0.346808</td>\n",
              "      <td>0.064388</td>\n",
              "      <td>1.000000</td>\n",
              "      <td>0.267064</td>\n",
              "      <td>-0.564069</td>\n",
              "      <td>-0.279033</td>\n",
              "      <td>-0.147257</td>\n",
              "    </tr>\n",
              "    <tr>\n",
              "      <th>lat</th>\n",
              "      <td>0.306922</td>\n",
              "      <td>-0.008953</td>\n",
              "      <td>0.024590</td>\n",
              "      <td>0.052521</td>\n",
              "      <td>-0.085680</td>\n",
              "      <td>0.049593</td>\n",
              "      <td>-0.014272</td>\n",
              "      <td>0.006049</td>\n",
              "      <td>-0.014971</td>\n",
              "      <td>0.114086</td>\n",
              "      <td>-0.000823</td>\n",
              "      <td>0.110535</td>\n",
              "      <td>-0.148099</td>\n",
              "      <td>0.029271</td>\n",
              "      <td>0.267064</td>\n",
              "      <td>1.000000</td>\n",
              "      <td>-0.135545</td>\n",
              "      <td>0.048839</td>\n",
              "      <td>-0.086423</td>\n",
              "    </tr>\n",
              "    <tr>\n",
              "      <th>long</th>\n",
              "      <td>0.021567</td>\n",
              "      <td>0.129474</td>\n",
              "      <td>0.223047</td>\n",
              "      <td>0.240221</td>\n",
              "      <td>0.229552</td>\n",
              "      <td>0.125343</td>\n",
              "      <td>-0.041904</td>\n",
              "      <td>-0.078560</td>\n",
              "      <td>-0.106512</td>\n",
              "      <td>0.198347</td>\n",
              "      <td>0.343791</td>\n",
              "      <td>-0.144743</td>\n",
              "      <td>0.409395</td>\n",
              "      <td>-0.068594</td>\n",
              "      <td>-0.564069</td>\n",
              "      <td>-0.135545</td>\n",
              "      <td>1.000000</td>\n",
              "      <td>0.334592</td>\n",
              "      <td>0.254475</td>\n",
              "    </tr>\n",
              "    <tr>\n",
              "      <th>sqft_living15</th>\n",
              "      <td>0.585382</td>\n",
              "      <td>0.391633</td>\n",
              "      <td>0.568665</td>\n",
              "      <td>0.756420</td>\n",
              "      <td>0.144620</td>\n",
              "      <td>0.279861</td>\n",
              "      <td>0.086469</td>\n",
              "      <td>0.280404</td>\n",
              "      <td>-0.092854</td>\n",
              "      <td>0.713208</td>\n",
              "      <td>0.731870</td>\n",
              "      <td>0.200367</td>\n",
              "      <td>0.326298</td>\n",
              "      <td>-0.002841</td>\n",
              "      <td>-0.279033</td>\n",
              "      <td>0.048839</td>\n",
              "      <td>0.334592</td>\n",
              "      <td>1.000000</td>\n",
              "      <td>0.183194</td>\n",
              "    </tr>\n",
              "    <tr>\n",
              "      <th>sqft_lot15</th>\n",
              "      <td>0.082457</td>\n",
              "      <td>0.029233</td>\n",
              "      <td>0.087191</td>\n",
              "      <td>0.183285</td>\n",
              "      <td>0.718556</td>\n",
              "      <td>-0.011250</td>\n",
              "      <td>0.030702</td>\n",
              "      <td>0.072577</td>\n",
              "      <td>-0.003424</td>\n",
              "      <td>0.119265</td>\n",
              "      <td>0.194060</td>\n",
              "      <td>0.017260</td>\n",
              "      <td>0.070999</td>\n",
              "      <td>0.007837</td>\n",
              "      <td>-0.147257</td>\n",
              "      <td>-0.086423</td>\n",
              "      <td>0.254475</td>\n",
              "      <td>0.183194</td>\n",
              "      <td>1.000000</td>\n",
              "    </tr>\n",
              "  </tbody>\n",
              "</table>\n",
              "</div>"
            ],
            "text/plain": [
              "                  price  bedrooms  ...  sqft_living15  sqft_lot15\n",
              "price          1.000000  0.308346  ...       0.585382    0.082457\n",
              "bedrooms       0.308346  1.000000  ...       0.391633    0.029233\n",
              "bathrooms      0.525140  0.515935  ...       0.568665    0.087191\n",
              "sqft_living    0.702046  0.576674  ...       0.756420    0.183285\n",
              "sqft_lot       0.089658  0.031699  ...       0.144620    0.718556\n",
              "floors         0.256793  0.175448  ...       0.279861   -0.011250\n",
              "waterfront     0.266332 -0.006583  ...       0.086469    0.030702\n",
              "view           0.397466  0.079433  ...       0.280404    0.072577\n",
              "condition      0.036397  0.028422  ...      -0.092854   -0.003424\n",
              "grade          0.667478  0.357003  ...       0.713208    0.119265\n",
              "sqft_above     0.605569  0.477619  ...       0.731870    0.194060\n",
              "sqft_basement  0.323849  0.303077  ...       0.200367    0.017260\n",
              "yr_built       0.053980  0.154276  ...       0.326298    0.070999\n",
              "yr_renovated   0.126503  0.018695  ...      -0.002841    0.007837\n",
              "zipcode       -0.053162 -0.152721  ...      -0.279033   -0.147257\n",
              "lat            0.306922 -0.008953  ...       0.048839   -0.086423\n",
              "long           0.021567  0.129474  ...       0.334592    0.254475\n",
              "sqft_living15  0.585382  0.391633  ...       1.000000    0.183194\n",
              "sqft_lot15     0.082457  0.029233  ...       0.183194    1.000000\n",
              "\n",
              "[19 rows x 19 columns]"
            ]
          },
          "metadata": {
            "tags": []
          },
          "execution_count": 24
        }
      ]
    },
    {
      "cell_type": "markdown",
      "metadata": {
        "id": "hyxia86Ja2eF",
        "colab_type": "text"
      },
      "source": [
        "We can see that there is higher correlation between price and the following:\n",
        "\n",
        "* Bathrooms\n",
        "* Living room area\n",
        "* Grade\n",
        "* Squarefeet above\n",
        "* Sqft_living15"
      ]
    },
    {
      "cell_type": "code",
      "metadata": {
        "id": "E1plj9j-aCU4",
        "colab_type": "code",
        "colab": {
          "base_uri": "https://localhost:8080/",
          "height": 894
        },
        "outputId": "b4e71c7d-0732-4a08-d1c0-c7890ac5031c"
      },
      "source": [
        "#viewing the correlations heatmap\n",
        "plt.figure(figsize=(17, 14))\n",
        "sns.heatmap(correlation, annot = True)"
      ],
      "execution_count": 25,
      "outputs": [
        {
          "output_type": "execute_result",
          "data": {
            "text/plain": [
              "<matplotlib.axes._subplots.AxesSubplot at 0x7f793c3a5f60>"
            ]
          },
          "metadata": {
            "tags": []
          },
          "execution_count": 25
        },
        {
          "output_type": "display_data",
          "data": {
            "image/png": "[encoded data removed]",
            "text/plain": [
              "<Figure size 1224x1008 with 2 Axes>"
            ]
          },
          "metadata": {
            "tags": [],
            "needs_background": "light"
          }
        }
      ]
    },
    {
      "cell_type": "markdown",
      "metadata": {
        "id": "thqD93zme4np",
        "colab_type": "text"
      },
      "source": [
        "### **Multicollinearity**"
      ]
    },
    {
      "cell_type": "markdown",
      "metadata": {
        "id": "BiHydJnlmOL1",
        "colab_type": "text"
      },
      "source": [
        "We create a new data frame where we only have our independent variables so that we can check for multicolliearity within them using the variance inflation factor."
      ]
    },
    {
      "cell_type": "code",
      "metadata": {
        "id": "Qqn3ssiCcCMS",
        "colab_type": "code",
        "colab": {}
      },
      "source": [
        "#creating the dataframe\n",
        "independent = data.drop(columns='price')"
      ],
      "execution_count": 26,
      "outputs": []
    },
    {
      "cell_type": "code",
      "metadata": {
        "id": "qhMLCEpdcH_k",
        "colab_type": "code",
        "colab": {
          "base_uri": "https://localhost:8080/",
          "height": 627
        },
        "outputId": "74604e25-405b-4f54-b1e2-4f43cf2bbeb3"
      },
      "source": [
        "#viewing their correlation\n",
        "ind_corr = independent.corr()\n",
        "ind_corr"
      ],
      "execution_count": 27,
      "outputs": [
        {
          "output_type": "execute_result",
          "data": {
            "text/html": [
              "<div>\n",
              "<style scoped>\n",
              "    .dataframe tbody tr th:only-of-type {\n",
              "        vertical-align: middle;\n",
              "    }\n",
              "\n",
              "    .dataframe tbody tr th {\n",
              "        vertical-align: top;\n",
              "    }\n",
              "\n",
              "    .dataframe thead th {\n",
              "        text-align: right;\n",
              "    }\n",
              "</style>\n",
              "<table border=\"1\" class=\"dataframe\">\n",
              "  <thead>\n",
              "    <tr style=\"text-align: right;\">\n",
              "      <th></th>\n",
              "      <th>bedrooms</th>\n",
              "      <th>bathrooms</th>\n",
              "      <th>sqft_living</th>\n",
              "      <th>sqft_lot</th>\n",
              "      <th>floors</th>\n",
              "      <th>waterfront</th>\n",
              "      <th>view</th>\n",
              "      <th>condition</th>\n",
              "      <th>grade</th>\n",
              "      <th>sqft_above</th>\n",
              "      <th>sqft_basement</th>\n",
              "      <th>yr_built</th>\n",
              "      <th>yr_renovated</th>\n",
              "      <th>zipcode</th>\n",
              "      <th>lat</th>\n",
              "      <th>long</th>\n",
              "      <th>sqft_living15</th>\n",
              "      <th>sqft_lot15</th>\n",
              "    </tr>\n",
              "  </thead>\n",
              "  <tbody>\n",
              "    <tr>\n",
              "      <th>bedrooms</th>\n",
              "      <td>1.000000</td>\n",
              "      <td>0.515935</td>\n",
              "      <td>0.576674</td>\n",
              "      <td>0.031699</td>\n",
              "      <td>0.175448</td>\n",
              "      <td>-0.006583</td>\n",
              "      <td>0.079433</td>\n",
              "      <td>0.028422</td>\n",
              "      <td>0.357003</td>\n",
              "      <td>0.477619</td>\n",
              "      <td>0.303077</td>\n",
              "      <td>0.154276</td>\n",
              "      <td>0.018695</td>\n",
              "      <td>-0.152721</td>\n",
              "      <td>-0.008953</td>\n",
              "      <td>0.129474</td>\n",
              "      <td>0.391633</td>\n",
              "      <td>0.029233</td>\n",
              "    </tr>\n",
              "    <tr>\n",
              "      <th>bathrooms</th>\n",
              "      <td>0.515935</td>\n",
              "      <td>1.000000</td>\n",
              "      <td>0.754688</td>\n",
              "      <td>0.087750</td>\n",
              "      <td>0.500669</td>\n",
              "      <td>0.063747</td>\n",
              "      <td>0.187891</td>\n",
              "      <td>-0.124940</td>\n",
              "      <td>0.664990</td>\n",
              "      <td>0.685351</td>\n",
              "      <td>0.283814</td>\n",
              "      <td>0.505997</td>\n",
              "      <td>0.050879</td>\n",
              "      <td>-0.203831</td>\n",
              "      <td>0.024590</td>\n",
              "      <td>0.223047</td>\n",
              "      <td>0.568665</td>\n",
              "      <td>0.087191</td>\n",
              "    </tr>\n",
              "    <tr>\n",
              "      <th>sqft_living</th>\n",
              "      <td>0.576674</td>\n",
              "      <td>0.754688</td>\n",
              "      <td>1.000000</td>\n",
              "      <td>0.172830</td>\n",
              "      <td>0.353954</td>\n",
              "      <td>0.103820</td>\n",
              "      <td>0.284641</td>\n",
              "      <td>-0.058768</td>\n",
              "      <td>0.762719</td>\n",
              "      <td>0.876600</td>\n",
              "      <td>0.435054</td>\n",
              "      <td>0.318099</td>\n",
              "      <td>0.055314</td>\n",
              "      <td>-0.199435</td>\n",
              "      <td>0.052521</td>\n",
              "      <td>0.240221</td>\n",
              "      <td>0.756420</td>\n",
              "      <td>0.183285</td>\n",
              "    </tr>\n",
              "    <tr>\n",
              "      <th>sqft_lot</th>\n",
              "      <td>0.031699</td>\n",
              "      <td>0.087750</td>\n",
              "      <td>0.172830</td>\n",
              "      <td>1.000000</td>\n",
              "      <td>-0.005171</td>\n",
              "      <td>0.021601</td>\n",
              "      <td>0.074753</td>\n",
              "      <td>-0.008967</td>\n",
              "      <td>0.113644</td>\n",
              "      <td>0.183527</td>\n",
              "      <td>0.015271</td>\n",
              "      <td>0.053105</td>\n",
              "      <td>0.007677</td>\n",
              "      <td>-0.129611</td>\n",
              "      <td>-0.085680</td>\n",
              "      <td>0.229552</td>\n",
              "      <td>0.144620</td>\n",
              "      <td>0.718556</td>\n",
              "    </tr>\n",
              "    <tr>\n",
              "      <th>floors</th>\n",
              "      <td>0.175448</td>\n",
              "      <td>0.500669</td>\n",
              "      <td>0.353954</td>\n",
              "      <td>-0.005171</td>\n",
              "      <td>1.000000</td>\n",
              "      <td>0.023711</td>\n",
              "      <td>0.029325</td>\n",
              "      <td>-0.263779</td>\n",
              "      <td>0.458151</td>\n",
              "      <td>0.523874</td>\n",
              "      <td>-0.245673</td>\n",
              "      <td>0.489347</td>\n",
              "      <td>0.006156</td>\n",
              "      <td>-0.059025</td>\n",
              "      <td>0.049593</td>\n",
              "      <td>0.125343</td>\n",
              "      <td>0.279861</td>\n",
              "      <td>-0.011250</td>\n",
              "    </tr>\n",
              "    <tr>\n",
              "      <th>waterfront</th>\n",
              "      <td>-0.006583</td>\n",
              "      <td>0.063747</td>\n",
              "      <td>0.103820</td>\n",
              "      <td>0.021601</td>\n",
              "      <td>0.023711</td>\n",
              "      <td>1.000000</td>\n",
              "      <td>0.401993</td>\n",
              "      <td>0.016652</td>\n",
              "      <td>0.082785</td>\n",
              "      <td>0.072080</td>\n",
              "      <td>0.080585</td>\n",
              "      <td>-0.026159</td>\n",
              "      <td>0.092950</td>\n",
              "      <td>0.030277</td>\n",
              "      <td>-0.014272</td>\n",
              "      <td>-0.041904</td>\n",
              "      <td>0.086469</td>\n",
              "      <td>0.030702</td>\n",
              "    </tr>\n",
              "    <tr>\n",
              "      <th>view</th>\n",
              "      <td>0.079433</td>\n",
              "      <td>0.187891</td>\n",
              "      <td>0.284641</td>\n",
              "      <td>0.074753</td>\n",
              "      <td>0.029325</td>\n",
              "      <td>0.401993</td>\n",
              "      <td>1.000000</td>\n",
              "      <td>0.045836</td>\n",
              "      <td>0.251378</td>\n",
              "      <td>0.167659</td>\n",
              "      <td>0.276996</td>\n",
              "      <td>-0.053229</td>\n",
              "      <td>0.103208</td>\n",
              "      <td>0.084838</td>\n",
              "      <td>0.006049</td>\n",
              "      <td>-0.078560</td>\n",
              "      <td>0.280404</td>\n",
              "      <td>0.072577</td>\n",
              "    </tr>\n",
              "    <tr>\n",
              "      <th>condition</th>\n",
              "      <td>0.028422</td>\n",
              "      <td>-0.124940</td>\n",
              "      <td>-0.058768</td>\n",
              "      <td>-0.008967</td>\n",
              "      <td>-0.263779</td>\n",
              "      <td>0.016652</td>\n",
              "      <td>0.045836</td>\n",
              "      <td>1.000000</td>\n",
              "      <td>-0.144655</td>\n",
              "      <td>-0.158212</td>\n",
              "      <td>0.174071</td>\n",
              "      <td>-0.361347</td>\n",
              "      <td>-0.060862</td>\n",
              "      <td>0.002962</td>\n",
              "      <td>-0.014971</td>\n",
              "      <td>-0.106512</td>\n",
              "      <td>-0.092854</td>\n",
              "      <td>-0.003424</td>\n",
              "    </tr>\n",
              "    <tr>\n",
              "      <th>grade</th>\n",
              "      <td>0.357003</td>\n",
              "      <td>0.664990</td>\n",
              "      <td>0.762719</td>\n",
              "      <td>0.113644</td>\n",
              "      <td>0.458151</td>\n",
              "      <td>0.082785</td>\n",
              "      <td>0.251378</td>\n",
              "      <td>-0.144655</td>\n",
              "      <td>1.000000</td>\n",
              "      <td>0.755919</td>\n",
              "      <td>0.168443</td>\n",
              "      <td>0.446966</td>\n",
              "      <td>0.014372</td>\n",
              "      <td>-0.184795</td>\n",
              "      <td>0.114086</td>\n",
              "      <td>0.198347</td>\n",
              "      <td>0.713208</td>\n",
              "      <td>0.119265</td>\n",
              "    </tr>\n",
              "    <tr>\n",
              "      <th>sqft_above</th>\n",
              "      <td>0.477619</td>\n",
              "      <td>0.685351</td>\n",
              "      <td>0.876600</td>\n",
              "      <td>0.183527</td>\n",
              "      <td>0.523874</td>\n",
              "      <td>0.072080</td>\n",
              "      <td>0.167659</td>\n",
              "      <td>-0.158212</td>\n",
              "      <td>0.755919</td>\n",
              "      <td>1.000000</td>\n",
              "      <td>-0.051923</td>\n",
              "      <td>0.423922</td>\n",
              "      <td>0.023233</td>\n",
              "      <td>-0.261163</td>\n",
              "      <td>-0.000823</td>\n",
              "      <td>0.343791</td>\n",
              "      <td>0.731870</td>\n",
              "      <td>0.194060</td>\n",
              "    </tr>\n",
              "    <tr>\n",
              "      <th>sqft_basement</th>\n",
              "      <td>0.303077</td>\n",
              "      <td>0.283814</td>\n",
              "      <td>0.435054</td>\n",
              "      <td>0.015271</td>\n",
              "      <td>-0.245673</td>\n",
              "      <td>0.080585</td>\n",
              "      <td>0.276996</td>\n",
              "      <td>0.174071</td>\n",
              "      <td>0.168443</td>\n",
              "      <td>-0.051923</td>\n",
              "      <td>1.000000</td>\n",
              "      <td>-0.133062</td>\n",
              "      <td>0.071320</td>\n",
              "      <td>0.074781</td>\n",
              "      <td>0.110535</td>\n",
              "      <td>-0.144743</td>\n",
              "      <td>0.200367</td>\n",
              "      <td>0.017260</td>\n",
              "    </tr>\n",
              "    <tr>\n",
              "      <th>yr_built</th>\n",
              "      <td>0.154276</td>\n",
              "      <td>0.505997</td>\n",
              "      <td>0.318099</td>\n",
              "      <td>0.053105</td>\n",
              "      <td>0.489347</td>\n",
              "      <td>-0.026159</td>\n",
              "      <td>-0.053229</td>\n",
              "      <td>-0.361347</td>\n",
              "      <td>0.446966</td>\n",
              "      <td>0.423922</td>\n",
              "      <td>-0.133062</td>\n",
              "      <td>1.000000</td>\n",
              "      <td>-0.224729</td>\n",
              "      <td>-0.346808</td>\n",
              "      <td>-0.148099</td>\n",
              "      <td>0.409395</td>\n",
              "      <td>0.326298</td>\n",
              "      <td>0.070999</td>\n",
              "    </tr>\n",
              "    <tr>\n",
              "      <th>yr_renovated</th>\n",
              "      <td>0.018695</td>\n",
              "      <td>0.050879</td>\n",
              "      <td>0.055314</td>\n",
              "      <td>0.007677</td>\n",
              "      <td>0.006156</td>\n",
              "      <td>0.092950</td>\n",
              "      <td>0.103208</td>\n",
              "      <td>-0.060862</td>\n",
              "      <td>0.014372</td>\n",
              "      <td>0.023233</td>\n",
              "      <td>0.071320</td>\n",
              "      <td>-0.224729</td>\n",
              "      <td>1.000000</td>\n",
              "      <td>0.064388</td>\n",
              "      <td>0.029271</td>\n",
              "      <td>-0.068594</td>\n",
              "      <td>-0.002841</td>\n",
              "      <td>0.007837</td>\n",
              "    </tr>\n",
              "    <tr>\n",
              "      <th>zipcode</th>\n",
              "      <td>-0.152721</td>\n",
              "      <td>-0.203831</td>\n",
              "      <td>-0.199435</td>\n",
              "      <td>-0.129611</td>\n",
              "      <td>-0.059025</td>\n",
              "      <td>0.030277</td>\n",
              "      <td>0.084838</td>\n",
              "      <td>0.002962</td>\n",
              "      <td>-0.184795</td>\n",
              "      <td>-0.261163</td>\n",
              "      <td>0.074781</td>\n",
              "      <td>-0.346808</td>\n",
              "      <td>0.064388</td>\n",
              "      <td>1.000000</td>\n",
              "      <td>0.267064</td>\n",
              "      <td>-0.564069</td>\n",
              "      <td>-0.279033</td>\n",
              "      <td>-0.147257</td>\n",
              "    </tr>\n",
              "    <tr>\n",
              "      <th>lat</th>\n",
              "      <td>-0.008953</td>\n",
              "      <td>0.024590</td>\n",
              "      <td>0.052521</td>\n",
              "      <td>-0.085680</td>\n",
              "      <td>0.049593</td>\n",
              "      <td>-0.014272</td>\n",
              "      <td>0.006049</td>\n",
              "      <td>-0.014971</td>\n",
              "      <td>0.114086</td>\n",
              "      <td>-0.000823</td>\n",
              "      <td>0.110535</td>\n",
              "      <td>-0.148099</td>\n",
              "      <td>0.029271</td>\n",
              "      <td>0.267064</td>\n",
              "      <td>1.000000</td>\n",
              "      <td>-0.135545</td>\n",
              "      <td>0.048839</td>\n",
              "      <td>-0.086423</td>\n",
              "    </tr>\n",
              "    <tr>\n",
              "      <th>long</th>\n",
              "      <td>0.129474</td>\n",
              "      <td>0.223047</td>\n",
              "      <td>0.240221</td>\n",
              "      <td>0.229552</td>\n",
              "      <td>0.125343</td>\n",
              "      <td>-0.041904</td>\n",
              "      <td>-0.078560</td>\n",
              "      <td>-0.106512</td>\n",
              "      <td>0.198347</td>\n",
              "      <td>0.343791</td>\n",
              "      <td>-0.144743</td>\n",
              "      <td>0.409395</td>\n",
              "      <td>-0.068594</td>\n",
              "      <td>-0.564069</td>\n",
              "      <td>-0.135545</td>\n",
              "      <td>1.000000</td>\n",
              "      <td>0.334592</td>\n",
              "      <td>0.254475</td>\n",
              "    </tr>\n",
              "    <tr>\n",
              "      <th>sqft_living15</th>\n",
              "      <td>0.391633</td>\n",
              "      <td>0.568665</td>\n",
              "      <td>0.756420</td>\n",
              "      <td>0.144620</td>\n",
              "      <td>0.279861</td>\n",
              "      <td>0.086469</td>\n",
              "      <td>0.280404</td>\n",
              "      <td>-0.092854</td>\n",
              "      <td>0.713208</td>\n",
              "      <td>0.731870</td>\n",
              "      <td>0.200367</td>\n",
              "      <td>0.326298</td>\n",
              "      <td>-0.002841</td>\n",
              "      <td>-0.279033</td>\n",
              "      <td>0.048839</td>\n",
              "      <td>0.334592</td>\n",
              "      <td>1.000000</td>\n",
              "      <td>0.183194</td>\n",
              "    </tr>\n",
              "    <tr>\n",
              "      <th>sqft_lot15</th>\n",
              "      <td>0.029233</td>\n",
              "      <td>0.087191</td>\n",
              "      <td>0.183285</td>\n",
              "      <td>0.718556</td>\n",
              "      <td>-0.011250</td>\n",
              "      <td>0.030702</td>\n",
              "      <td>0.072577</td>\n",
              "      <td>-0.003424</td>\n",
              "      <td>0.119265</td>\n",
              "      <td>0.194060</td>\n",
              "      <td>0.017260</td>\n",
              "      <td>0.070999</td>\n",
              "      <td>0.007837</td>\n",
              "      <td>-0.147257</td>\n",
              "      <td>-0.086423</td>\n",
              "      <td>0.254475</td>\n",
              "      <td>0.183194</td>\n",
              "      <td>1.000000</td>\n",
              "    </tr>\n",
              "  </tbody>\n",
              "</table>\n",
              "</div>"
            ],
            "text/plain": [
              "               bedrooms  bathrooms  ...  sqft_living15  sqft_lot15\n",
              "bedrooms       1.000000   0.515935  ...       0.391633    0.029233\n",
              "bathrooms      0.515935   1.000000  ...       0.568665    0.087191\n",
              "sqft_living    0.576674   0.754688  ...       0.756420    0.183285\n",
              "sqft_lot       0.031699   0.087750  ...       0.144620    0.718556\n",
              "floors         0.175448   0.500669  ...       0.279861   -0.011250\n",
              "waterfront    -0.006583   0.063747  ...       0.086469    0.030702\n",
              "view           0.079433   0.187891  ...       0.280404    0.072577\n",
              "condition      0.028422  -0.124940  ...      -0.092854   -0.003424\n",
              "grade          0.357003   0.664990  ...       0.713208    0.119265\n",
              "sqft_above     0.477619   0.685351  ...       0.731870    0.194060\n",
              "sqft_basement  0.303077   0.283814  ...       0.200367    0.017260\n",
              "yr_built       0.154276   0.505997  ...       0.326298    0.070999\n",
              "yr_renovated   0.018695   0.050879  ...      -0.002841    0.007837\n",
              "zipcode       -0.152721  -0.203831  ...      -0.279033   -0.147257\n",
              "lat           -0.008953   0.024590  ...       0.048839   -0.086423\n",
              "long           0.129474   0.223047  ...       0.334592    0.254475\n",
              "sqft_living15  0.391633   0.568665  ...       1.000000    0.183194\n",
              "sqft_lot15     0.029233   0.087191  ...       0.183194    1.000000\n",
              "\n",
              "[18 rows x 18 columns]"
            ]
          },
          "metadata": {
            "tags": []
          },
          "execution_count": 27
        }
      ]
    },
    {
      "cell_type": "code",
      "metadata": {
        "id": "ycpJUmGlRfUx",
        "colab_type": "code",
        "colab": {
          "base_uri": "https://localhost:8080/",
          "height": 627
        },
        "outputId": "622182e4-f650-4af0-d514-181182aeccdc"
      },
      "source": [
        "#plotting the VIF scores.\n",
        "VIF=pd.DataFrame(np.linalg.inv(ind_corr.values), index = ind_corr.index, columns=ind_corr.columns)\n",
        "VIF"
      ],
      "execution_count": 28,
      "outputs": [
        {
          "output_type": "execute_result",
          "data": {
            "text/html": [
              "<div>\n",
              "<style scoped>\n",
              "    .dataframe tbody tr th:only-of-type {\n",
              "        vertical-align: middle;\n",
              "    }\n",
              "\n",
              "    .dataframe tbody tr th {\n",
              "        vertical-align: top;\n",
              "    }\n",
              "\n",
              "    .dataframe thead th {\n",
              "        text-align: right;\n",
              "    }\n",
              "</style>\n",
              "<table border=\"1\" class=\"dataframe\">\n",
              "  <thead>\n",
              "    <tr style=\"text-align: right;\">\n",
              "      <th></th>\n",
              "      <th>bedrooms</th>\n",
              "      <th>bathrooms</th>\n",
              "      <th>sqft_living</th>\n",
              "      <th>sqft_lot</th>\n",
              "      <th>floors</th>\n",
              "      <th>waterfront</th>\n",
              "      <th>view</th>\n",
              "      <th>condition</th>\n",
              "      <th>grade</th>\n",
              "      <th>sqft_above</th>\n",
              "      <th>sqft_basement</th>\n",
              "      <th>yr_built</th>\n",
              "      <th>yr_renovated</th>\n",
              "      <th>zipcode</th>\n",
              "      <th>lat</th>\n",
              "      <th>long</th>\n",
              "      <th>sqft_living15</th>\n",
              "      <th>sqft_lot15</th>\n",
              "    </tr>\n",
              "  </thead>\n",
              "  <tbody>\n",
              "    <tr>\n",
              "      <th>bedrooms</th>\n",
              "      <td>1.652159</td>\n",
              "      <td>-0.461426</td>\n",
              "      <td>-6.131806e-01</td>\n",
              "      <td>0.049327</td>\n",
              "      <td>0.049848</td>\n",
              "      <td>0.063078</td>\n",
              "      <td>0.114430</td>\n",
              "      <td>-0.050633</td>\n",
              "      <td>0.306941</td>\n",
              "      <td>-3.237657e-01</td>\n",
              "      <td>-1.881523e-01</td>\n",
              "      <td>0.134509</td>\n",
              "      <td>0.045800</td>\n",
              "      <td>0.080174</td>\n",
              "      <td>0.050839</td>\n",
              "      <td>0.017554</td>\n",
              "      <td>0.025284</td>\n",
              "      <td>0.085416</td>\n",
              "    </tr>\n",
              "    <tr>\n",
              "      <th>bathrooms</th>\n",
              "      <td>-0.461426</td>\n",
              "      <td>3.351248</td>\n",
              "      <td>-3.146032e+00</td>\n",
              "      <td>-0.024033</td>\n",
              "      <td>-0.675409</td>\n",
              "      <td>0.010097</td>\n",
              "      <td>-0.042387</td>\n",
              "      <td>-0.137265</td>\n",
              "      <td>-0.267927</td>\n",
              "      <td>1.566362e+00</td>\n",
              "      <td>4.385015e-01</td>\n",
              "      <td>-0.935745</td>\n",
              "      <td>-0.260436</td>\n",
              "      <td>0.041789</td>\n",
              "      <td>-0.041080</td>\n",
              "      <td>0.053741</td>\n",
              "      <td>0.092020</td>\n",
              "      <td>0.071444</td>\n",
              "    </tr>\n",
              "    <tr>\n",
              "      <th>sqft_living</th>\n",
              "      <td>-0.614125</td>\n",
              "      <td>-3.147527</td>\n",
              "      <td>1.814600e+13</td>\n",
              "      <td>-0.083836</td>\n",
              "      <td>2.725995</td>\n",
              "      <td>-0.075267</td>\n",
              "      <td>-0.010738</td>\n",
              "      <td>-0.174659</td>\n",
              "      <td>-1.942256</td>\n",
              "      <td>-1.636081e+13</td>\n",
              "      <td>-8.743992e+12</td>\n",
              "      <td>0.465511</td>\n",
              "      <td>0.157235</td>\n",
              "      <td>-0.351953</td>\n",
              "      <td>-0.055686</td>\n",
              "      <td>0.225522</td>\n",
              "      <td>-1.068731</td>\n",
              "      <td>-0.050464</td>\n",
              "    </tr>\n",
              "    <tr>\n",
              "      <th>sqft_lot</th>\n",
              "      <td>0.049327</td>\n",
              "      <td>-0.024033</td>\n",
              "      <td>-8.472318e-02</td>\n",
              "      <td>2.102526</td>\n",
              "      <td>0.045181</td>\n",
              "      <td>0.027369</td>\n",
              "      <td>-0.059109</td>\n",
              "      <td>0.030522</td>\n",
              "      <td>-0.053865</td>\n",
              "      <td>-1.229640e-01</td>\n",
              "      <td>-1.799981e-03</td>\n",
              "      <td>0.098734</td>\n",
              "      <td>0.021295</td>\n",
              "      <td>-0.002580</td>\n",
              "      <td>0.053339</td>\n",
              "      <td>-0.133206</td>\n",
              "      <td>0.163933</td>\n",
              "      <td>-1.459308</td>\n",
              "    </tr>\n",
              "    <tr>\n",
              "      <th>floors</th>\n",
              "      <td>0.049848</td>\n",
              "      <td>-0.675409</td>\n",
              "      <td>2.727895e+00</td>\n",
              "      <td>0.045181</td>\n",
              "      <td>2.011974</td>\n",
              "      <td>-0.005524</td>\n",
              "      <td>-0.040067</td>\n",
              "      <td>0.089832</td>\n",
              "      <td>-0.230827</td>\n",
              "      <td>-2.964235e+00</td>\n",
              "      <td>-6.995572e-01</td>\n",
              "      <td>-0.481324</td>\n",
              "      <td>-0.079986</td>\n",
              "      <td>-0.170816</td>\n",
              "      <td>-0.127521</td>\n",
              "      <td>0.164281</td>\n",
              "      <td>0.272632</td>\n",
              "      <td>0.072657</td>\n",
              "    </tr>\n",
              "    <tr>\n",
              "      <th>waterfront</th>\n",
              "      <td>0.063078</td>\n",
              "      <td>0.010097</td>\n",
              "      <td>-7.563028e-02</td>\n",
              "      <td>0.027369</td>\n",
              "      <td>-0.005524</td>\n",
              "      <td>1.203970</td>\n",
              "      <td>-0.492855</td>\n",
              "      <td>-0.012820</td>\n",
              "      <td>0.049272</td>\n",
              "      <td>-4.380875e-02</td>\n",
              "      <td>3.280588e-02</td>\n",
              "      <td>-0.021102</td>\n",
              "      <td>-0.065851</td>\n",
              "      <td>0.022562</td>\n",
              "      <td>0.009815</td>\n",
              "      <td>0.027241</td>\n",
              "      <td>0.054397</td>\n",
              "      <td>-0.018480</td>\n",
              "    </tr>\n",
              "    <tr>\n",
              "      <th>view</th>\n",
              "      <td>0.114430</td>\n",
              "      <td>-0.042387</td>\n",
              "      <td>-9.767467e-03</td>\n",
              "      <td>-0.059109</td>\n",
              "      <td>-0.040067</td>\n",
              "      <td>-0.492855</td>\n",
              "      <td>1.435320</td>\n",
              "      <td>-0.021126</td>\n",
              "      <td>-0.185270</td>\n",
              "      <td>4.816459e-02</td>\n",
              "      <td>-2.516918e-01</td>\n",
              "      <td>0.151685</td>\n",
              "      <td>-0.039119</td>\n",
              "      <td>-0.140639</td>\n",
              "      <td>0.118633</td>\n",
              "      <td>0.071934</td>\n",
              "      <td>-0.325388</td>\n",
              "      <td>-0.007469</td>\n",
              "    </tr>\n",
              "    <tr>\n",
              "      <th>condition</th>\n",
              "      <td>-0.050633</td>\n",
              "      <td>-0.137265</td>\n",
              "      <td>-1.749044e-01</td>\n",
              "      <td>0.030522</td>\n",
              "      <td>0.089832</td>\n",
              "      <td>-0.012820</td>\n",
              "      <td>-0.021126</td>\n",
              "      <td>1.249500</td>\n",
              "      <td>-0.054508</td>\n",
              "      <td>2.132228e-01</td>\n",
              "      <td>-1.323553e-02</td>\n",
              "      <td>0.561510</td>\n",
              "      <td>0.206913</td>\n",
              "      <td>0.161279</td>\n",
              "      <td>0.063727</td>\n",
              "      <td>-0.006876</td>\n",
              "      <td>0.075908</td>\n",
              "      <td>-0.028242</td>\n",
              "    </tr>\n",
              "    <tr>\n",
              "      <th>grade</th>\n",
              "      <td>0.306941</td>\n",
              "      <td>-0.267927</td>\n",
              "      <td>-1.945115e+00</td>\n",
              "      <td>-0.053865</td>\n",
              "      <td>-0.230827</td>\n",
              "      <td>0.049272</td>\n",
              "      <td>-0.185270</td>\n",
              "      <td>-0.054508</td>\n",
              "      <td>3.416981</td>\n",
              "      <td>1.441457e-01</td>\n",
              "      <td>4.510090e-01</td>\n",
              "      <td>-0.638907</td>\n",
              "      <td>-0.071472</td>\n",
              "      <td>0.083155</td>\n",
              "      <td>-0.330860</td>\n",
              "      <td>0.393716</td>\n",
              "      <td>-0.911600</td>\n",
              "      <td>0.071863</td>\n",
              "    </tr>\n",
              "    <tr>\n",
              "      <th>sqft_above</th>\n",
              "      <td>-0.321458</td>\n",
              "      <td>1.564793</td>\n",
              "      <td>-1.636081e+13</td>\n",
              "      <td>-0.123737</td>\n",
              "      <td>-2.962207</td>\n",
              "      <td>-0.044143</td>\n",
              "      <td>0.049025</td>\n",
              "      <td>0.212984</td>\n",
              "      <td>0.141509</td>\n",
              "      <td>1.475124e+13</td>\n",
              "      <td>7.883763e+12</td>\n",
              "      <td>0.100178</td>\n",
              "      <td>-0.142897</td>\n",
              "      <td>0.241689</td>\n",
              "      <td>0.231229</td>\n",
              "      <td>-0.545073</td>\n",
              "      <td>-0.572072</td>\n",
              "      <td>-0.130215</td>\n",
              "    </tr>\n",
              "    <tr>\n",
              "      <th>sqft_basement</th>\n",
              "      <td>-0.188443</td>\n",
              "      <td>0.437284</td>\n",
              "      <td>-8.743992e+12</td>\n",
              "      <td>-0.002185</td>\n",
              "      <td>-0.698367</td>\n",
              "      <td>0.032604</td>\n",
              "      <td>-0.251236</td>\n",
              "      <td>-0.013347</td>\n",
              "      <td>0.449572</td>\n",
              "      <td>7.883763e+12</td>\n",
              "      <td>4.213458e+12</td>\n",
              "      <td>0.020931</td>\n",
              "      <td>-0.089828</td>\n",
              "      <td>0.088317</td>\n",
              "      <td>-0.054353</td>\n",
              "      <td>0.039078</td>\n",
              "      <td>0.043883</td>\n",
              "      <td>-0.035249</td>\n",
              "    </tr>\n",
              "    <tr>\n",
              "      <th>yr_built</th>\n",
              "      <td>0.134509</td>\n",
              "      <td>-0.935745</td>\n",
              "      <td>4.630533e-01</td>\n",
              "      <td>0.098734</td>\n",
              "      <td>-0.481324</td>\n",
              "      <td>-0.021102</td>\n",
              "      <td>0.151685</td>\n",
              "      <td>0.561510</td>\n",
              "      <td>-0.638907</td>\n",
              "      <td>1.023946e-01</td>\n",
              "      <td>2.211501e-02</td>\n",
              "      <td>2.430222</td>\n",
              "      <td>0.533724</td>\n",
              "      <td>0.256800</td>\n",
              "      <td>0.310422</td>\n",
              "      <td>-0.505495</td>\n",
              "      <td>0.077695</td>\n",
              "      <td>-0.033746</td>\n",
              "    </tr>\n",
              "    <tr>\n",
              "      <th>yr_renovated</th>\n",
              "      <td>0.045800</td>\n",
              "      <td>-0.260436</td>\n",
              "      <td>1.565138e-01</td>\n",
              "      <td>0.021295</td>\n",
              "      <td>-0.079986</td>\n",
              "      <td>-0.065851</td>\n",
              "      <td>-0.039119</td>\n",
              "      <td>0.206913</td>\n",
              "      <td>-0.071472</td>\n",
              "      <td>-1.422476e-01</td>\n",
              "      <td>-8.948058e-02</td>\n",
              "      <td>0.533724</td>\n",
              "      <td>1.150499</td>\n",
              "      <td>0.036806</td>\n",
              "      <td>0.046146</td>\n",
              "      <td>-0.054102</td>\n",
              "      <td>0.099266</td>\n",
              "      <td>-0.022195</td>\n",
              "    </tr>\n",
              "    <tr>\n",
              "      <th>zipcode</th>\n",
              "      <td>0.080174</td>\n",
              "      <td>0.041789</td>\n",
              "      <td>-3.521970e-01</td>\n",
              "      <td>-0.002580</td>\n",
              "      <td>-0.170816</td>\n",
              "      <td>0.022562</td>\n",
              "      <td>-0.140639</td>\n",
              "      <td>0.161279</td>\n",
              "      <td>0.083155</td>\n",
              "      <td>2.419084e-01</td>\n",
              "      <td>8.843427e-02</td>\n",
              "      <td>0.256800</td>\n",
              "      <td>0.036806</td>\n",
              "      <td>1.662141</td>\n",
              "      <td>-0.308109</td>\n",
              "      <td>0.733911</td>\n",
              "      <td>0.210240</td>\n",
              "      <td>-0.015488</td>\n",
              "    </tr>\n",
              "    <tr>\n",
              "      <th>lat</th>\n",
              "      <td>0.050839</td>\n",
              "      <td>-0.041080</td>\n",
              "      <td>-5.529099e-02</td>\n",
              "      <td>0.053339</td>\n",
              "      <td>-0.127521</td>\n",
              "      <td>0.009815</td>\n",
              "      <td>0.118633</td>\n",
              "      <td>0.063727</td>\n",
              "      <td>-0.330860</td>\n",
              "      <td>2.308731e-01</td>\n",
              "      <td>-5.454309e-02</td>\n",
              "      <td>0.310422</td>\n",
              "      <td>0.046146</td>\n",
              "      <td>-0.308109</td>\n",
              "      <td>1.180645</td>\n",
              "      <td>-0.100816</td>\n",
              "      <td>-0.094792</td>\n",
              "      <td>0.036656</td>\n",
              "    </tr>\n",
              "    <tr>\n",
              "      <th>long</th>\n",
              "      <td>0.017554</td>\n",
              "      <td>0.053741</td>\n",
              "      <td>2.262928e-01</td>\n",
              "      <td>-0.133206</td>\n",
              "      <td>0.164281</td>\n",
              "      <td>0.027241</td>\n",
              "      <td>0.071934</td>\n",
              "      <td>-0.006876</td>\n",
              "      <td>0.393716</td>\n",
              "      <td>-5.457676e-01</td>\n",
              "      <td>3.870673e-02</td>\n",
              "      <td>-0.505495</td>\n",
              "      <td>-0.054102</td>\n",
              "      <td>0.733911</td>\n",
              "      <td>-0.100816</td>\n",
              "      <td>1.825664</td>\n",
              "      <td>-0.354493</td>\n",
              "      <td>-0.160875</td>\n",
              "    </tr>\n",
              "    <tr>\n",
              "      <th>sqft_living15</th>\n",
              "      <td>0.025284</td>\n",
              "      <td>0.092020</td>\n",
              "      <td>-1.071943e+00</td>\n",
              "      <td>0.163933</td>\n",
              "      <td>0.272632</td>\n",
              "      <td>0.054397</td>\n",
              "      <td>-0.325388</td>\n",
              "      <td>0.075908</td>\n",
              "      <td>-0.911600</td>\n",
              "      <td>-5.691756e-01</td>\n",
              "      <td>4.543106e-02</td>\n",
              "      <td>0.077695</td>\n",
              "      <td>0.099266</td>\n",
              "      <td>0.210240</td>\n",
              "      <td>-0.094792</td>\n",
              "      <td>-0.354493</td>\n",
              "      <td>2.979647</td>\n",
              "      <td>-0.125593</td>\n",
              "    </tr>\n",
              "    <tr>\n",
              "      <th>sqft_lot15</th>\n",
              "      <td>0.085416</td>\n",
              "      <td>0.071444</td>\n",
              "      <td>-4.957563e-02</td>\n",
              "      <td>-1.459308</td>\n",
              "      <td>0.072657</td>\n",
              "      <td>-0.018480</td>\n",
              "      <td>-0.007469</td>\n",
              "      <td>-0.028242</td>\n",
              "      <td>0.071863</td>\n",
              "      <td>-1.310157e-01</td>\n",
              "      <td>-3.567730e-02</td>\n",
              "      <td>-0.033746</td>\n",
              "      <td>-0.022195</td>\n",
              "      <td>-0.015488</td>\n",
              "      <td>0.036656</td>\n",
              "      <td>-0.160875</td>\n",
              "      <td>-0.125593</td>\n",
              "      <td>2.135659</td>\n",
              "    </tr>\n",
              "  </tbody>\n",
              "</table>\n",
              "</div>"
            ],
            "text/plain": [
              "               bedrooms  bathrooms  ...  sqft_living15  sqft_lot15\n",
              "bedrooms       1.652159  -0.461426  ...       0.025284    0.085416\n",
              "bathrooms     -0.461426   3.351248  ...       0.092020    0.071444\n",
              "sqft_living   -0.614125  -3.147527  ...      -1.068731   -0.050464\n",
              "sqft_lot       0.049327  -0.024033  ...       0.163933   -1.459308\n",
              "floors         0.049848  -0.675409  ...       0.272632    0.072657\n",
              "waterfront     0.063078   0.010097  ...       0.054397   -0.018480\n",
              "view           0.114430  -0.042387  ...      -0.325388   -0.007469\n",
              "condition     -0.050633  -0.137265  ...       0.075908   -0.028242\n",
              "grade          0.306941  -0.267927  ...      -0.911600    0.071863\n",
              "sqft_above    -0.321458   1.564793  ...      -0.572072   -0.130215\n",
              "sqft_basement -0.188443   0.437284  ...       0.043883   -0.035249\n",
              "yr_built       0.134509  -0.935745  ...       0.077695   -0.033746\n",
              "yr_renovated   0.045800  -0.260436  ...       0.099266   -0.022195\n",
              "zipcode        0.080174   0.041789  ...       0.210240   -0.015488\n",
              "lat            0.050839  -0.041080  ...      -0.094792    0.036656\n",
              "long           0.017554   0.053741  ...      -0.354493   -0.160875\n",
              "sqft_living15  0.025284   0.092020  ...       2.979647   -0.125593\n",
              "sqft_lot15     0.085416   0.071444  ...      -0.125593    2.135659\n",
              "\n",
              "[18 rows x 18 columns]"
            ]
          },
          "metadata": {
            "tags": []
          },
          "execution_count": 28
        }
      ]
    },
    {
      "cell_type": "markdown",
      "metadata": {
        "id": "4MSKBAMimzys",
        "colab_type": "text"
      },
      "source": [
        "We are able to see that sqft_living, sqft_above and sqft_basement have very high values(higher than 5) and we are going to remove them inorder to see if there will be any change."
      ]
    },
    {
      "cell_type": "code",
      "metadata": {
        "id": "WiDNecA5dw81",
        "colab_type": "code",
        "colab": {}
      },
      "source": [
        "#dropping the columns.\n",
        "#creating a new data frame without the columns.\n",
        "vif_most = ['sqft_living', 'sqft_above', 'sqft_basement']\n",
        "independent_new = independent.drop(columns = vif_most, axis = 1)"
      ],
      "execution_count": 29,
      "outputs": []
    },
    {
      "cell_type": "code",
      "metadata": {
        "id": "rRZxnWCod8CJ",
        "colab_type": "code",
        "colab": {
          "base_uri": "https://localhost:8080/",
          "height": 534
        },
        "outputId": "9143f386-b284-438f-da20-ca405d8a18d8"
      },
      "source": [
        "#a new vifs for the independent variables.\n",
        "new_corr = independent_new.corr()\n",
        "pd.DataFrame(np.linalg.inv(new_corr.values), index = new_corr.index, columns = new_corr.columns)"
      ],
      "execution_count": 31,
      "outputs": [
        {
          "output_type": "execute_result",
          "data": {
            "text/html": [
              "<div>\n",
              "<style scoped>\n",
              "    .dataframe tbody tr th:only-of-type {\n",
              "        vertical-align: middle;\n",
              "    }\n",
              "\n",
              "    .dataframe tbody tr th {\n",
              "        vertical-align: top;\n",
              "    }\n",
              "\n",
              "    .dataframe thead th {\n",
              "        text-align: right;\n",
              "    }\n",
              "</style>\n",
              "<table border=\"1\" class=\"dataframe\">\n",
              "  <thead>\n",
              "    <tr style=\"text-align: right;\">\n",
              "      <th></th>\n",
              "      <th>bedrooms</th>\n",
              "      <th>bathrooms</th>\n",
              "      <th>sqft_lot</th>\n",
              "      <th>floors</th>\n",
              "      <th>waterfront</th>\n",
              "      <th>view</th>\n",
              "      <th>condition</th>\n",
              "      <th>grade</th>\n",
              "      <th>yr_built</th>\n",
              "      <th>yr_renovated</th>\n",
              "      <th>zipcode</th>\n",
              "      <th>lat</th>\n",
              "      <th>long</th>\n",
              "      <th>sqft_living15</th>\n",
              "      <th>sqft_lot15</th>\n",
              "    </tr>\n",
              "  </thead>\n",
              "  <tbody>\n",
              "    <tr>\n",
              "      <th>bedrooms</th>\n",
              "      <td>1.459639</td>\n",
              "      <td>-0.797621</td>\n",
              "      <td>0.015625</td>\n",
              "      <td>0.072855</td>\n",
              "      <td>0.047175</td>\n",
              "      <td>0.081416</td>\n",
              "      <td>-0.057630</td>\n",
              "      <td>0.013440</td>\n",
              "      <td>0.242510</td>\n",
              "      <td>0.043538</td>\n",
              "      <td>0.057631</td>\n",
              "      <td>0.063493</td>\n",
              "      <td>-0.007161</td>\n",
              "      <td>-0.255790</td>\n",
              "      <td>0.052407</td>\n",
              "    </tr>\n",
              "    <tr>\n",
              "      <th>bathrooms</th>\n",
              "      <td>-0.797621</td>\n",
              "      <td>2.695228</td>\n",
              "      <td>-0.070430</td>\n",
              "      <td>-0.470760</td>\n",
              "      <td>-0.006948</td>\n",
              "      <td>-0.151196</td>\n",
              "      <td>-0.173065</td>\n",
              "      <td>-0.706067</td>\n",
              "      <td>-0.754958</td>\n",
              "      <td>-0.266856</td>\n",
              "      <td>-0.004826</td>\n",
              "      <td>-0.052337</td>\n",
              "      <td>0.072536</td>\n",
              "      <td>-0.329150</td>\n",
              "      <td>0.020730</td>\n",
              "    </tr>\n",
              "    <tr>\n",
              "      <th>sqft_lot</th>\n",
              "      <td>0.015625</td>\n",
              "      <td>-0.070430</td>\n",
              "      <td>2.094376</td>\n",
              "      <td>0.019485</td>\n",
              "      <td>0.022647</td>\n",
              "      <td>-0.055643</td>\n",
              "      <td>0.033559</td>\n",
              "      <td>-0.118689</td>\n",
              "      <td>0.119053</td>\n",
              "      <td>0.021345</td>\n",
              "      <td>-0.005216</td>\n",
              "      <td>0.061582</td>\n",
              "      <td>-0.148729</td>\n",
              "      <td>0.102139</td>\n",
              "      <td>-1.466339</td>\n",
              "    </tr>\n",
              "    <tr>\n",
              "      <th>floors</th>\n",
              "      <td>0.072855</td>\n",
              "      <td>-0.470760</td>\n",
              "      <td>0.019485</td>\n",
              "      <td>1.616759</td>\n",
              "      <td>-0.029218</td>\n",
              "      <td>0.085952</td>\n",
              "      <td>0.146938</td>\n",
              "      <td>-0.373277</td>\n",
              "      <td>-0.475583</td>\n",
              "      <td>-0.073820</td>\n",
              "      <td>-0.150826</td>\n",
              "      <td>-0.049442</td>\n",
              "      <td>0.019401</td>\n",
              "      <td>0.139986</td>\n",
              "      <td>0.060065</td>\n",
              "    </tr>\n",
              "    <tr>\n",
              "      <th>waterfront</th>\n",
              "      <td>0.047175</td>\n",
              "      <td>-0.006948</td>\n",
              "      <td>0.022647</td>\n",
              "      <td>-0.029218</td>\n",
              "      <td>1.200987</td>\n",
              "      <td>-0.487621</td>\n",
              "      <td>-0.009729</td>\n",
              "      <td>0.013451</td>\n",
              "      <td>-0.010965</td>\n",
              "      <td>-0.065653</td>\n",
              "      <td>0.021828</td>\n",
              "      <td>0.016050</td>\n",
              "      <td>0.015559</td>\n",
              "      <td>0.020338</td>\n",
              "      <td>-0.022285</td>\n",
              "    </tr>\n",
              "    <tr>\n",
              "      <th>view</th>\n",
              "      <td>0.081416</td>\n",
              "      <td>-0.151196</td>\n",
              "      <td>-0.055643</td>\n",
              "      <td>0.085952</td>\n",
              "      <td>-0.487621</td>\n",
              "      <td>1.391689</td>\n",
              "      <td>-0.039828</td>\n",
              "      <td>-0.180383</td>\n",
              "      <td>0.164405</td>\n",
              "      <td>-0.041340</td>\n",
              "      <td>-0.149884</td>\n",
              "      <td>0.096047</td>\n",
              "      <td>0.113678</td>\n",
              "      <td>-0.321881</td>\n",
              "      <td>-0.007985</td>\n",
              "    </tr>\n",
              "    <tr>\n",
              "      <th>condition</th>\n",
              "      <td>-0.057630</td>\n",
              "      <td>-0.173065</td>\n",
              "      <td>0.033559</td>\n",
              "      <td>0.146938</td>\n",
              "      <td>-0.009729</td>\n",
              "      <td>-0.039828</td>\n",
              "      <td>1.241178</td>\n",
              "      <td>-0.039722</td>\n",
              "      <td>0.562762</td>\n",
              "      <td>0.205986</td>\n",
              "      <td>0.157980</td>\n",
              "      <td>0.052775</td>\n",
              "      <td>0.013422</td>\n",
              "      <td>0.089528</td>\n",
              "      <td>-0.027071</td>\n",
              "    </tr>\n",
              "    <tr>\n",
              "      <th>grade</th>\n",
              "      <td>0.013440</td>\n",
              "      <td>-0.706067</td>\n",
              "      <td>-0.118689</td>\n",
              "      <td>-0.373277</td>\n",
              "      <td>0.013451</td>\n",
              "      <td>-0.180383</td>\n",
              "      <td>-0.039722</td>\n",
              "      <td>2.889233</td>\n",
              "      <td>-0.465822</td>\n",
              "      <td>-0.072253</td>\n",
              "      <td>0.056611</td>\n",
              "      <td>-0.275567</td>\n",
              "      <td>0.289168</td>\n",
              "      <td>-1.415296</td>\n",
              "      <td>0.014060</td>\n",
              "    </tr>\n",
              "    <tr>\n",
              "      <th>yr_built</th>\n",
              "      <td>0.242510</td>\n",
              "      <td>-0.754958</td>\n",
              "      <td>0.119053</td>\n",
              "      <td>-0.475583</td>\n",
              "      <td>-0.010965</td>\n",
              "      <td>0.164405</td>\n",
              "      <td>0.562762</td>\n",
              "      <td>-0.465822</td>\n",
              "      <td>2.368748</td>\n",
              "      <td>0.534713</td>\n",
              "      <td>0.268625</td>\n",
              "      <td>0.299542</td>\n",
              "      <td>-0.484607</td>\n",
              "      <td>0.243273</td>\n",
              "      <td>-0.014442</td>\n",
              "    </tr>\n",
              "    <tr>\n",
              "      <th>yr_renovated</th>\n",
              "      <td>0.043538</td>\n",
              "      <td>-0.266856</td>\n",
              "      <td>0.021345</td>\n",
              "      <td>-0.073820</td>\n",
              "      <td>-0.065653</td>\n",
              "      <td>-0.041340</td>\n",
              "      <td>0.205986</td>\n",
              "      <td>-0.072253</td>\n",
              "      <td>0.534713</td>\n",
              "      <td>1.150383</td>\n",
              "      <td>0.036282</td>\n",
              "      <td>0.045099</td>\n",
              "      <td>-0.052172</td>\n",
              "      <td>0.098462</td>\n",
              "      <td>-0.022335</td>\n",
              "    </tr>\n",
              "    <tr>\n",
              "      <th>zipcode</th>\n",
              "      <td>0.057631</td>\n",
              "      <td>-0.004826</td>\n",
              "      <td>-0.005216</td>\n",
              "      <td>-0.150826</td>\n",
              "      <td>0.021828</td>\n",
              "      <td>-0.149884</td>\n",
              "      <td>0.157980</td>\n",
              "      <td>0.056611</td>\n",
              "      <td>0.268625</td>\n",
              "      <td>0.036282</td>\n",
              "      <td>1.658739</td>\n",
              "      <td>-0.310135</td>\n",
              "      <td>0.737532</td>\n",
              "      <td>0.184653</td>\n",
              "      <td>-0.018624</td>\n",
              "    </tr>\n",
              "    <tr>\n",
              "      <th>lat</th>\n",
              "      <td>0.063493</td>\n",
              "      <td>-0.052337</td>\n",
              "      <td>0.061582</td>\n",
              "      <td>-0.049442</td>\n",
              "      <td>0.016050</td>\n",
              "      <td>0.096047</td>\n",
              "      <td>0.052775</td>\n",
              "      <td>-0.275567</td>\n",
              "      <td>0.299542</td>\n",
              "      <td>0.045099</td>\n",
              "      <td>-0.310135</td>\n",
              "      <td>1.163673</td>\n",
              "      <td>-0.069212</td>\n",
              "      <td>-0.042606</td>\n",
              "      <td>0.042179</td>\n",
              "    </tr>\n",
              "    <tr>\n",
              "      <th>long</th>\n",
              "      <td>-0.007161</td>\n",
              "      <td>0.072536</td>\n",
              "      <td>-0.148729</td>\n",
              "      <td>0.019401</td>\n",
              "      <td>0.015559</td>\n",
              "      <td>0.113678</td>\n",
              "      <td>0.013422</td>\n",
              "      <td>0.289168</td>\n",
              "      <td>-0.484607</td>\n",
              "      <td>-0.052172</td>\n",
              "      <td>0.737532</td>\n",
              "      <td>-0.069212</td>\n",
              "      <td>1.766805</td>\n",
              "      <td>-0.453193</td>\n",
              "      <td>-0.171342</td>\n",
              "    </tr>\n",
              "    <tr>\n",
              "      <th>sqft_living15</th>\n",
              "      <td>-0.255790</td>\n",
              "      <td>-0.329150</td>\n",
              "      <td>0.102139</td>\n",
              "      <td>0.139986</td>\n",
              "      <td>0.020338</td>\n",
              "      <td>-0.321881</td>\n",
              "      <td>0.089528</td>\n",
              "      <td>-1.415296</td>\n",
              "      <td>0.243273</td>\n",
              "      <td>0.098462</td>\n",
              "      <td>0.184653</td>\n",
              "      <td>-0.042606</td>\n",
              "      <td>-0.453193</td>\n",
              "      <td>2.498875</td>\n",
              "      <td>-0.180790</td>\n",
              "    </tr>\n",
              "    <tr>\n",
              "      <th>sqft_lot15</th>\n",
              "      <td>0.052407</td>\n",
              "      <td>0.020730</td>\n",
              "      <td>-1.466339</td>\n",
              "      <td>0.060065</td>\n",
              "      <td>-0.022285</td>\n",
              "      <td>-0.007985</td>\n",
              "      <td>-0.027071</td>\n",
              "      <td>0.014060</td>\n",
              "      <td>-0.014442</td>\n",
              "      <td>-0.022335</td>\n",
              "      <td>-0.018624</td>\n",
              "      <td>0.042179</td>\n",
              "      <td>-0.171342</td>\n",
              "      <td>-0.180790</td>\n",
              "      <td>2.129302</td>\n",
              "    </tr>\n",
              "  </tbody>\n",
              "</table>\n",
              "</div>"
            ],
            "text/plain": [
              "               bedrooms  bathrooms  ...  sqft_living15  sqft_lot15\n",
              "bedrooms       1.459639  -0.797621  ...      -0.255790    0.052407\n",
              "bathrooms     -0.797621   2.695228  ...      -0.329150    0.020730\n",
              "sqft_lot       0.015625  -0.070430  ...       0.102139   -1.466339\n",
              "floors         0.072855  -0.470760  ...       0.139986    0.060065\n",
              "waterfront     0.047175  -0.006948  ...       0.020338   -0.022285\n",
              "view           0.081416  -0.151196  ...      -0.321881   -0.007985\n",
              "condition     -0.057630  -0.173065  ...       0.089528   -0.027071\n",
              "grade          0.013440  -0.706067  ...      -1.415296    0.014060\n",
              "yr_built       0.242510  -0.754958  ...       0.243273   -0.014442\n",
              "yr_renovated   0.043538  -0.266856  ...       0.098462   -0.022335\n",
              "zipcode        0.057631  -0.004826  ...       0.184653   -0.018624\n",
              "lat            0.063493  -0.052337  ...      -0.042606    0.042179\n",
              "long          -0.007161   0.072536  ...      -0.453193   -0.171342\n",
              "sqft_living15 -0.255790  -0.329150  ...       2.498875   -0.180790\n",
              "sqft_lot15     0.052407   0.020730  ...      -0.180790    2.129302\n",
              "\n",
              "[15 rows x 15 columns]"
            ]
          },
          "metadata": {
            "tags": []
          },
          "execution_count": 31
        }
      ]
    },
    {
      "cell_type": "markdown",
      "metadata": {
        "id": "sGdkdkUvpX3J",
        "colab_type": "text"
      },
      "source": [
        "Bathrooms, grade and floors are the variables that have shown a significant chage and this shows that they were highly correlated to the dropped columns. However, while bathrooms and grade decrease, floors increases."
      ]
    },
    {
      "cell_type": "markdown",
      "metadata": {
        "id": "2fTsjd21coXx",
        "colab_type": "text"
      },
      "source": [
        "# **Regressions.**"
      ]
    },
    {
      "cell_type": "markdown",
      "metadata": {
        "id": "e6ktOA3gUuVM",
        "colab_type": "text"
      },
      "source": [
        "## **Linear regression**"
      ]
    },
    {
      "cell_type": "markdown",
      "metadata": {
        "id": "WeIzaFxGcBc8",
        "colab_type": "text"
      },
      "source": [
        "I am going to perform linear regression first for my data inorder to have a baseline model for comparison and also see its perfomance."
      ]
    },
    {
      "cell_type": "code",
      "metadata": {
        "id": "Z3gCcRh5U08q",
        "colab_type": "code",
        "colab": {}
      },
      "source": [
        "#specification of the independent and dependent variables.\n",
        "independent = ['bedrooms', 'bathrooms', 'sqft_living', 'sqft_lot', 'floors', 'waterfront', 'view', 'condition', 'grade', 'sqft_above', 'sqft_basement', 'yr_built', 'yr_renovated', 'zipcode', 'lat', 'long', 'sqft_living15', 'sqft_lot15']\n",
        "dependent = ['price']"
      ],
      "execution_count": 32,
      "outputs": []
    },
    {
      "cell_type": "code",
      "metadata": {
        "id": "HW_yUKmCR7S3",
        "colab_type": "code",
        "colab": {
          "base_uri": "https://localhost:8080/",
          "height": 34
        },
        "outputId": "16151dc8-eb41-4c65-a907-51b3fcd12d81"
      },
      "source": [
        "#Splitting the independent and dependent variables.\n",
        "#spliting using train_test_split to training and test dataframes.\n",
        "#fitting of the linear regression\n",
        "x1 = data[independent]\n",
        "y1 = data[dependent]\n",
        "\n",
        "x1_train, x1_test, y1_train, y1_test = train_test_split(x1, y1, test_size=0.2,random_state=0)\n",
        "\n",
        "lin_reg = LinearRegression()\n",
        "lin_reg.fit(x1_train, y1_train)"
      ],
      "execution_count": 71,
      "outputs": [
        {
          "output_type": "execute_result",
          "data": {
            "text/plain": [
              "LinearRegression(copy_X=True, fit_intercept=True, n_jobs=None, normalize=False)"
            ]
          },
          "metadata": {
            "tags": []
          },
          "execution_count": 71
        }
      ]
    },
    {
      "cell_type": "code",
      "metadata": {
        "id": "MGP8t-IMVTeO",
        "colab_type": "code",
        "colab": {
          "base_uri": "https://localhost:8080/",
          "height": 34
        },
        "outputId": "b19591c2-cae0-48cb-dd12-c423bd46330e"
      },
      "source": [
        "#predicting the y using the linear regression and calculating the mean squared error.\n",
        "y1a_pred = lin_reg.predict(x1_test)\n",
        "lin_mod = (mean_squared_error(y1_test, y1a_pred)) \n",
        "print(\"Mean Squared Error for the linear model is:\",lin_mod)"
      ],
      "execution_count": 34,
      "outputs": [
        {
          "output_type": "stream",
          "text": [
            "Mean Squared Error for the linear model is: 38256390781.782135\n"
          ],
          "name": "stdout"
        }
      ]
    },
    {
      "cell_type": "code",
      "metadata": {
        "id": "qD-1EVuCgfWU",
        "colab_type": "code",
        "colab": {
          "base_uri": "https://localhost:8080/",
          "height": 119
        },
        "outputId": "a04565fb-2ffe-4607-9651-dfea9c8558c6"
      },
      "source": [
        "#reviewing the intercept and the coefficients.\n",
        "print(lin_reg.intercept_)\n",
        "print(lin_reg.coef_)"
      ],
      "execution_count": 35,
      "outputs": [
        {
          "output_type": "stream",
          "text": [
            "[5421048.19528984]\n",
            "[[-3.64902421e+04  3.88923494e+04  1.10902730e+02  1.55767776e-01\n",
            "   6.04117988e+03  6.40593526e+05  5.30402689e+04  2.71859259e+04\n",
            "   9.52167466e+04  6.98553674e+01  4.10473630e+01 -2.56322018e+03\n",
            "   2.02332123e+01 -5.74793218e+02  6.01963167e+05 -2.18412246e+05\n",
            "   2.46714516e+01 -4.03347575e-01]]\n"
          ],
          "name": "stdout"
        }
      ]
    },
    {
      "cell_type": "code",
      "metadata": {
        "id": "vbLHigxe2sUE",
        "colab_type": "code",
        "colab": {
          "base_uri": "https://localhost:8080/",
          "height": 34
        },
        "outputId": "1931d969-71c4-461d-9ca3-df26c5a0fdad"
      },
      "source": [
        "#predicting using the linear prediction and getting the base mean squared error for use in comparison\n",
        "y1_pred = lin_reg.fit(x1,y1).predict(x1)\n",
        "lin_mod_mse = (mean_squared_error(y1, y1_pred)) \n",
        "print(\"Mean Squared Error for the linear model is:\",lin_mod_mse)"
      ],
      "execution_count": 36,
      "outputs": [
        {
          "output_type": "stream",
          "text": [
            "Mean Squared Error for the linear model is: 40516476382.74072\n"
          ],
          "name": "stdout"
        }
      ]
    },
    {
      "cell_type": "markdown",
      "metadata": {
        "id": "6lAlPmbG27Zj",
        "colab_type": "text"
      },
      "source": [
        "This is the baseline mean squared error that we are going to use for comparrison"
      ]
    },
    {
      "cell_type": "markdown",
      "metadata": {
        "id": "VmXvd1Zkdn09",
        "colab_type": "text"
      },
      "source": [
        "**Regularization**"
      ]
    },
    {
      "cell_type": "markdown",
      "metadata": {
        "id": "rF0pcsaBdrIC",
        "colab_type": "text"
      },
      "source": [
        "I use the Variance Inflation factor in order for me to regularize the model to see if I will get better results.\n",
        "I had already calculated the variance inflation factor and thus I know the columns that I have specified for use."
      ]
    },
    {
      "cell_type": "code",
      "metadata": {
        "id": "mdpao4HBWJHw",
        "colab_type": "code",
        "colab": {}
      },
      "source": [
        "#creating a new dataframe excluding the columns specified according to the VIF\n",
        "data_vif = data.drop(columns=vif_most)"
      ],
      "execution_count": 37,
      "outputs": []
    },
    {
      "cell_type": "code",
      "metadata": {
        "id": "qMLqGLwienQD",
        "colab_type": "code",
        "colab": {}
      },
      "source": [
        "#specifying the independent columns.\n",
        "independent_a = ['bedrooms', 'bathrooms', 'sqft_lot', 'floors', 'waterfront', 'view', 'condition', 'grade', 'yr_built', 'yr_renovated', 'zipcode', 'lat', 'long', 'sqft_living15', 'sqft_lot15']"
      ],
      "execution_count": 38,
      "outputs": []
    },
    {
      "cell_type": "code",
      "metadata": {
        "id": "HeTAjVQkf3bD",
        "colab_type": "code",
        "colab": {
          "base_uri": "https://localhost:8080/",
          "height": 34
        },
        "outputId": "f9795392-f81b-47ee-d327-82482ee83786"
      },
      "source": [
        "#splitting the data into the independent and dependent variables.\n",
        "#splitting using train_test_split into training and testing dataframes.\n",
        "#fitting the linear regression.\n",
        "xa = data_vif[independent_a].values\n",
        "ya = data_vif[dependent].values.reshape(-1,1)\n",
        "\n",
        "xa_train, xa_test, ya_train, ya_test = train_test_split(xa, ya, test_size=0.2,random_state=0)\n",
        "\n",
        "lin_reg = LinearRegression()\n",
        "lin_reg.fit(xa_train, ya_train)"
      ],
      "execution_count": 39,
      "outputs": [
        {
          "output_type": "execute_result",
          "data": {
            "text/plain": [
              "LinearRegression(copy_X=True, fit_intercept=True, n_jobs=None, normalize=False)"
            ]
          },
          "metadata": {
            "tags": []
          },
          "execution_count": 39
        }
      ]
    },
    {
      "cell_type": "code",
      "metadata": {
        "id": "t84XmK7OgDOM",
        "colab_type": "code",
        "colab": {
          "base_uri": "https://localhost:8080/",
          "height": 34
        },
        "outputId": "0073a788-595b-4708-93ed-65512870c558"
      },
      "source": [
        "#predicting the y variables using the linear regression\n",
        "#calculating the mean squared error.\n",
        "ya_pred = lin_reg.predict(xa_test)\n",
        "lin_mod_a_mse = (mean_squared_error(ya_test, ya_pred))\n",
        "print(\"Mean Squared Error for the linear model with the VIF analysed is:\",lin_mod_a_mse)"
      ],
      "execution_count": 40,
      "outputs": [
        {
          "output_type": "stream",
          "text": [
            "Mean Squared Error for the linear model with the VIF analysed is: 42923342713.656395\n"
          ],
          "name": "stdout"
        }
      ]
    },
    {
      "cell_type": "markdown",
      "metadata": {
        "id": "_XDH4F6msJbK",
        "colab_type": "text"
      },
      "source": [
        "The mean squared error for the regularized linear model is higher than the initial linear model and thus the initial/base linear model is better."
      ]
    },
    {
      "cell_type": "code",
      "metadata": {
        "id": "uNRNZ8Y4gKNP",
        "colab_type": "code",
        "colab": {
          "base_uri": "https://localhost:8080/",
          "height": 102
        },
        "outputId": "adc55593-fa9b-484c-92ef-10ff14d10722"
      },
      "source": [
        "#displaying the itercept and the coefficients.\n",
        "print(lin_reg.intercept_)\n",
        "print(lin_reg.coef_)"
      ],
      "execution_count": 41,
      "outputs": [
        {
          "output_type": "stream",
          "text": [
            "[6559080.11968609]\n",
            "[[-4.20321930e+03  1.04851406e+05  2.93919850e-01  1.14008321e+04\n",
            "   6.85221980e+05  5.70537465e+04  2.67649983e+04  1.37600365e+05\n",
            "  -3.14585081e+03  2.15896945e+01 -5.08998757e+02  5.78115194e+05\n",
            "  -1.72065198e+05  9.40892972e+01 -1.75347281e-01]]\n"
          ],
          "name": "stdout"
        }
      ]
    },
    {
      "cell_type": "code",
      "metadata": {
        "id": "2GtW2RQHgdZ2",
        "colab_type": "code",
        "colab": {
          "base_uri": "https://localhost:8080/",
          "height": 34
        },
        "outputId": "1a880cf8-1d7a-4835-b6f4-4c54cd50838c"
      },
      "source": [
        "#finding residuals.\n",
        "residuals = np.subtract(ya_pred, ya_test)\n",
        "print(residuals.mean())"
      ],
      "execution_count": 42,
      "outputs": [
        {
          "output_type": "stream",
          "text": [
            "-1473.9489623111924\n"
          ],
          "name": "stdout"
        }
      ]
    },
    {
      "cell_type": "code",
      "metadata": {
        "id": "NjkzopEghn5r",
        "colab_type": "code",
        "colab": {
          "base_uri": "https://localhost:8080/",
          "height": 290
        },
        "outputId": "2f442db9-3aa5-4d72-b953-70418daf9d9b"
      },
      "source": [
        "#plotting the residuals against the predicted values to see the shape of the plot for visualization of heteroscedasticity\n",
        "plt.scatter(ya_pred, residuals, color='blue')\n",
        "plt.ylabel('residual')\n",
        "plt.xlabel('fitted values')\n",
        "plt.axhline(y= residuals.mean(), color='red', linewidth=2)\n",
        "plt.show()"
      ],
      "execution_count": 43,
      "outputs": [
        {
          "output_type": "display_data",
          "data": {
            "image/png": "[encoded data removed]",
            "text/plain": [
              "<Figure size 432x288 with 1 Axes>"
            ]
          },
          "metadata": {
            "tags": [],
            "needs_background": "light"
          }
        }
      ]
    },
    {
      "cell_type": "markdown",
      "metadata": {
        "id": "1yY0UNqhJow3",
        "colab_type": "text"
      },
      "source": [
        "The plot has formed a cone shape form and we can thus say that the data is heteroscedasticity."
      ]
    },
    {
      "cell_type": "code",
      "metadata": {
        "id": "QpBcs2hbh6H7",
        "colab_type": "code",
        "colab": {
          "base_uri": "https://localhost:8080/",
          "height": 51
        },
        "outputId": "8020abfc-a4f3-4ef7-9da1-c557cb4786d0"
      },
      "source": [
        "#performing bartlett's test\n",
        "test_result, p_value = sp.stats.bartlett(y1_pred.flatten(), residuals.flatten())\n",
        "\n",
        "degree_of_freedom = len(y1_pred)-1\n",
        "probability = 1 - p_value\n",
        "\n",
        "critical_value = sp.stats.chi2.ppf(probability, degree_of_freedom)\n",
        "print(critical_value)\n",
        "if (test_result > critical_value):\n",
        "  print('the variances are unequal, and the model should be reassessed')\n",
        "else:\n",
        "  print('the variances are homogeneous!')"
      ],
      "execution_count": 45,
      "outputs": [
        {
          "output_type": "stream",
          "text": [
            "inf\n",
            "the variances are homogeneous!\n"
          ],
          "name": "stdout"
        }
      ]
    },
    {
      "cell_type": "markdown",
      "metadata": {
        "id": "-q0eg-W8j9T1",
        "colab_type": "text"
      },
      "source": [
        "## **Quantile Regression**"
      ]
    },
    {
      "cell_type": "markdown",
      "metadata": {
        "id": "A4A-xW8ytBjX",
        "colab_type": "text"
      },
      "source": [
        "I have performed the quantile regression with the dataframe that had vif regularization performed on it as errors arose with the initial dataset."
      ]
    },
    {
      "cell_type": "code",
      "metadata": {
        "id": "59I5zEE7jnkf",
        "colab_type": "code",
        "colab": {}
      },
      "source": [
        "#splitting the dataset into dependent and independent variables.\n",
        "x2 = data[independent_a]\n",
        "y2 = data[dependent]"
      ],
      "execution_count": 46,
      "outputs": []
    },
    {
      "cell_type": "code",
      "metadata": {
        "id": "Y6GbQ9d4kVkO",
        "colab_type": "code",
        "colab": {
          "base_uri": "https://localhost:8080/",
          "height": 598
        },
        "outputId": "ad611312-5313-45f8-eaf3-4541c96cda88"
      },
      "source": [
        "#fitting the quantile regression.\n",
        "quant_mod = smf.quantreg('y2 ~ x2', data)\n",
        "res = quant_mod.fit(q = 0.5)\n",
        "print(res.summary())"
      ],
      "execution_count": 47,
      "outputs": [
        {
          "output_type": "stream",
          "text": [
            "                         QuantReg Regression Results                          \n",
            "==============================================================================\n",
            "Dep. Variable:                     y2   Pseudo R-squared:               0.4539\n",
            "Model:                       QuantReg   Bandwidth:                   2.039e+04\n",
            "Method:                 Least Squares   Sparsity:                    2.793e+05\n",
            "Date:                Fri, 25 Sep 2020   No. Observations:                21610\n",
            "Time:                        16:58:03   Df Residuals:                    21594\n",
            "                                        Df Model:                           15\n",
            "==============================================================================\n",
            "                 coef    std err          t      P>|t|      [0.025      0.975]\n",
            "------------------------------------------------------------------------------\n",
            "Intercept   -211.3619      3.616    -58.457      0.000    -218.449    -204.275\n",
            "x2[0]        547.7293   1231.713      0.445      0.657   -1866.519    2961.978\n",
            "x2[1]       5.944e+04   2023.072     29.383      0.000    5.55e+04    6.34e+04\n",
            "x2[2]          0.3203      0.033      9.663      0.000       0.255       0.385\n",
            "x2[3]       2.967e+04   2218.930     13.371      0.000    2.53e+04     3.4e+04\n",
            "x2[4]       4.309e+05    1.2e+04     35.817      0.000    4.07e+05    4.54e+05\n",
            "x2[5]       5.985e+04   1449.816     41.283      0.000     5.7e+04    6.27e+04\n",
            "x2[6]       2.845e+04   1609.295     17.678      0.000    2.53e+04    3.16e+04\n",
            "x2[7]       1.016e+05   1369.974     74.180      0.000    9.89e+04    1.04e+05\n",
            "x2[8]      -2343.6210     46.448    -50.457      0.000   -2434.662   -2252.580\n",
            "x2[9]         17.2514      2.531      6.816      0.000      12.290      22.212\n",
            "x2[10]      -286.5497     12.147    -23.591      0.000    -310.358    -262.742\n",
            "x2[11]      5.551e+05   7389.067     75.124      0.000    5.41e+05     5.7e+05\n",
            "x2[12]     -4.575e+04   8933.918     -5.121      0.000   -6.33e+04   -2.82e+04\n",
            "x2[13]        88.5187      2.138     41.400      0.000      84.328      92.710\n",
            "x2[14]        -0.2469      0.051     -4.867      0.000      -0.346      -0.147\n",
            "==============================================================================\n",
            "\n",
            "The condition number is large, 2.13e+08. This might indicate that there are\n",
            "strong multicollinearity or other numerical problems.\n"
          ],
          "name": "stdout"
        },
        {
          "output_type": "stream",
          "text": [
            "/usr/local/lib/python3.6/dist-packages/statsmodels/regression/quantile_regression.py:192: IterationLimitWarning: Maximum number of iterations (1000) reached.\n",
            "  \") reached.\", IterationLimitWarning)\n"
          ],
          "name": "stderr"
        }
      ]
    },
    {
      "cell_type": "code",
      "metadata": {
        "id": "cBbRZiDEq1OJ",
        "colab_type": "code",
        "colab": {
          "base_uri": "https://localhost:8080/",
          "height": 513
        },
        "outputId": "37ed980b-b32b-4f94-f6e0-9f98c8689ee2"
      },
      "source": [
        "#creating a fuction for perfomance of the different models and looping through the models with a for loop while storing the parameters to a created dataframe.\n",
        "quantiles = np.arange(0.1, 1, 0.1)\n",
        "def fit_model(q):\n",
        "    res = quant_mod.fit(q=q)\n",
        "    return [q, res.params['Intercept'], res.params['x2[0]']] + res.conf_int().loc['x2[0]'].tolist()\n",
        "\n",
        "models = [fit_model(x) for x in quantiles]\n",
        "params = pd.DataFrame(data = models, columns=['qt', 'intercept', 'x2_coef', 'cf_lower_bound', 'cf_upper_bound'])\n",
        "print(params)"
      ],
      "execution_count": 49,
      "outputs": [
        {
          "output_type": "stream",
          "text": [
            "/usr/local/lib/python3.6/dist-packages/statsmodels/regression/quantile_regression.py:192: IterationLimitWarning: Maximum number of iterations (1000) reached.\n",
            "  \") reached.\", IterationLimitWarning)\n",
            "/usr/local/lib/python3.6/dist-packages/statsmodels/regression/quantile_regression.py:192: IterationLimitWarning: Maximum number of iterations (1000) reached.\n",
            "  \") reached.\", IterationLimitWarning)\n",
            "/usr/local/lib/python3.6/dist-packages/statsmodels/regression/quantile_regression.py:192: IterationLimitWarning: Maximum number of iterations (1000) reached.\n",
            "  \") reached.\", IterationLimitWarning)\n",
            "/usr/local/lib/python3.6/dist-packages/statsmodels/regression/quantile_regression.py:192: IterationLimitWarning: Maximum number of iterations (1000) reached.\n",
            "  \") reached.\", IterationLimitWarning)\n",
            "/usr/local/lib/python3.6/dist-packages/statsmodels/regression/quantile_regression.py:192: IterationLimitWarning: Maximum number of iterations (1000) reached.\n",
            "  \") reached.\", IterationLimitWarning)\n",
            "/usr/local/lib/python3.6/dist-packages/statsmodels/regression/quantile_regression.py:192: IterationLimitWarning: Maximum number of iterations (1000) reached.\n",
            "  \") reached.\", IterationLimitWarning)\n",
            "/usr/local/lib/python3.6/dist-packages/statsmodels/regression/quantile_regression.py:192: IterationLimitWarning: Maximum number of iterations (1000) reached.\n",
            "  \") reached.\", IterationLimitWarning)\n",
            "/usr/local/lib/python3.6/dist-packages/statsmodels/regression/quantile_regression.py:192: IterationLimitWarning: Maximum number of iterations (1000) reached.\n",
            "  \") reached.\", IterationLimitWarning)\n"
          ],
          "name": "stderr"
        },
        {
          "output_type": "stream",
          "text": [
            "    qt   intercept      x2_coef  cf_lower_bound  cf_upper_bound\n",
            "0  0.1 -136.803562 -7583.957908    -9579.456680    -5588.459136\n",
            "1  0.2 -308.550746  4813.476689     2647.699587     6979.253790\n",
            "2  0.3 -342.568341  1578.788032     -685.699181     3843.275246\n",
            "3  0.4 -380.432822 -2538.340365    -4783.507789     -293.172941\n",
            "4  0.5 -211.361897   547.729338    -1866.519018     2961.977695\n",
            "5  0.6   15.502707  1334.367965    -1246.909801     3915.645731\n",
            "6  0.7  152.246568  1656.260286    -1332.362615     4644.883188\n",
            "7  0.8  -10.101252  1954.145092    -1429.546727     5337.836911\n",
            "8  0.9   37.790536 -5704.984046   -12320.712552      910.744460\n"
          ],
          "name": "stdout"
        },
        {
          "output_type": "stream",
          "text": [
            "/usr/local/lib/python3.6/dist-packages/statsmodels/regression/quantile_regression.py:192: IterationLimitWarning: Maximum number of iterations (1000) reached.\n",
            "  \") reached.\", IterationLimitWarning)\n"
          ],
          "name": "stderr"
        }
      ]
    },
    {
      "cell_type": "code",
      "metadata": {
        "id": "zEpAuLfPslN9",
        "colab_type": "code",
        "colab": {
          "base_uri": "https://localhost:8080/",
          "height": 88
        },
        "outputId": "e33e91c0-0940-4cfb-8c6d-7698239ced50"
      },
      "source": [
        "#calculating for the mean squared error.\n",
        "y2_pred = quant_mod.fit(q=.5).predict(x2)\n",
        "quant_reg_mse = (mean_squared_error(y2, y2_pred))\n",
        "print(\"The mean squared error for the quantile regression is:\",quant_reg_mse)"
      ],
      "execution_count": 50,
      "outputs": [
        {
          "output_type": "stream",
          "text": [
            "The mean squared error for the quantile regression is: 50541238201.352974\n"
          ],
          "name": "stdout"
        },
        {
          "output_type": "stream",
          "text": [
            "/usr/local/lib/python3.6/dist-packages/statsmodels/regression/quantile_regression.py:192: IterationLimitWarning: Maximum number of iterations (1000) reached.\n",
            "  \") reached.\", IterationLimitWarning)\n"
          ],
          "name": "stderr"
        }
      ]
    },
    {
      "cell_type": "markdown",
      "metadata": {
        "id": "kdYGYEoavfSU",
        "colab_type": "text"
      },
      "source": [
        "The mean squared error for the quantile regression is still huge and this shows that it is also not accurate for prediction"
      ]
    },
    {
      "cell_type": "markdown",
      "metadata": {
        "id": "zTp3bQRczMlJ",
        "colab_type": "text"
      },
      "source": [
        "## **Ridge Regression**"
      ]
    },
    {
      "cell_type": "code",
      "metadata": {
        "id": "T5CTi_xvzIvQ",
        "colab_type": "code",
        "colab": {}
      },
      "source": [
        "#splitting the independent and dependent variables\n",
        "x3 = data[independent]\n",
        "y3 = data[dependent]"
      ],
      "execution_count": 51,
      "outputs": []
    },
    {
      "cell_type": "code",
      "metadata": {
        "id": "i4-OuGag2lrK",
        "colab_type": "code",
        "colab": {}
      },
      "source": [
        "#creating the grid.\n",
        "rid_reg = Ridge(normalize=True)\n",
        "search = GridSearchCV(estimator=rid_reg,param_grid={'alpha':np.logspace(-5,2,8)},scoring='neg_mean_squared_error',n_jobs=1,refit=True,cv=10)"
      ],
      "execution_count": 53,
      "outputs": []
    },
    {
      "cell_type": "code",
      "metadata": {
        "id": "sEwy2zOV3dqX",
        "colab_type": "code",
        "colab": {
          "base_uri": "https://localhost:8080/",
          "height": 51
        },
        "outputId": "c44620f1-c089-42da-abd4-a8084abee732"
      },
      "source": [
        "search.fit(x3,y3)\n",
        "print(search.best_params_)\n",
        "abs(search.best_score_) "
      ],
      "execution_count": 54,
      "outputs": [
        {
          "output_type": "stream",
          "text": [
            "{'alpha': 0.01}\n"
          ],
          "name": "stdout"
        },
        {
          "output_type": "execute_result",
          "data": {
            "text/plain": [
              "41014661978.931015"
            ]
          },
          "metadata": {
            "tags": []
          },
          "execution_count": 54
        }
      ]
    },
    {
      "cell_type": "code",
      "metadata": {
        "id": "eqm7WeMI3jbV",
        "colab_type": "code",
        "colab": {
          "base_uri": "https://localhost:8080/",
          "height": 34
        },
        "outputId": "baf7dd0f-de8d-4ce5-f15a-680494ae423f"
      },
      "source": [
        "rid_reg = Ridge(normalize=True,alpha=0.01)\n",
        "rid_reg.fit(x3,y3)\n",
        "y3_pred = rid_reg.predict(x3)\n",
        "rid_mod = (mean_squared_error(y3,y3_pred))\n",
        "print(\"The mean squared error for the ridge regression model is:\",rid_mod)"
      ],
      "execution_count": 55,
      "outputs": [
        {
          "output_type": "stream",
          "text": [
            "The mean squared error for the ridge regression model is: 40522796287.94708\n"
          ],
          "name": "stdout"
        }
      ]
    },
    {
      "cell_type": "code",
      "metadata": {
        "id": "vP1WyUQt5xbD",
        "colab_type": "code",
        "colab": {
          "base_uri": "https://localhost:8080/",
          "height": 102
        },
        "outputId": "deff918f-6c27-4f11-d2e6-853243d25685"
      },
      "source": [
        "coef_dict_baseline = {}\n",
        "for coef, feat in zip(rid_reg.coef_,x3.columns):\n",
        "    coef_dict_baseline[feat] = coef\n",
        "coef_dict_baseline"
      ],
      "execution_count": 56,
      "outputs": [
        {
          "output_type": "execute_result",
          "data": {
            "text/plain": [
              "{'bedrooms': array([-3.45413758e+04,  4.08069672e+04,  8.81850265e+01,  1.26913327e-01,\n",
              "         7.38353743e+03,  5.78347851e+05,  5.30631128e+04,  2.68303513e+04,\n",
              "         9.42163680e+04,  9.10170354e+01,  6.11354140e+01, -2.55805769e+03,\n",
              "         2.11226308e+01, -5.61155956e+02,  5.98348262e+05, -2.12984001e+05,\n",
              "         2.44915132e+01, -3.71504797e-01])}"
            ]
          },
          "metadata": {
            "tags": []
          },
          "execution_count": 56
        }
      ]
    },
    {
      "cell_type": "code",
      "metadata": {
        "id": "zKGM2sss63X_",
        "colab_type": "code",
        "colab": {
          "base_uri": "https://localhost:8080/",
          "height": 85
        },
        "outputId": "91a0a914-0ceb-4d93-ae31-e9e8f94c6fdc"
      },
      "source": [
        "coef_dict_baseline = {}\n",
        "for coef, feat in zip(lin_reg.coef_,x3.columns):\n",
        "    coef_dict_baseline[feat] = coef\n",
        "coef_dict_baseline"
      ],
      "execution_count": 57,
      "outputs": [
        {
          "output_type": "execute_result",
          "data": {
            "text/plain": [
              "{'bedrooms': array([-4.20321930e+03,  1.04851406e+05,  2.93919850e-01,  1.14008321e+04,\n",
              "         6.85221980e+05,  5.70537465e+04,  2.67649983e+04,  1.37600365e+05,\n",
              "        -3.14585081e+03,  2.15896945e+01, -5.08998757e+02,  5.78115194e+05,\n",
              "        -1.72065198e+05,  9.40892972e+01, -1.75347281e-01])}"
            ]
          },
          "metadata": {
            "tags": []
          },
          "execution_count": 57
        }
      ]
    },
    {
      "cell_type": "markdown",
      "metadata": {
        "id": "Wg3Mz7W_9y8X",
        "colab_type": "text"
      },
      "source": [
        "## **Lasso Regression**"
      ]
    },
    {
      "cell_type": "code",
      "metadata": {
        "id": "Cm_BMg5c-UjY",
        "colab_type": "code",
        "colab": {}
      },
      "source": [
        "#splittig the independent and dependent variables.\n",
        "x4 = data[independent]\n",
        "y4 = data[dependent]"
      ],
      "execution_count": 72,
      "outputs": []
    },
    {
      "cell_type": "code",
      "metadata": {
        "id": "ui-nr9PN7Ycp",
        "colab_type": "code",
        "colab": {}
      },
      "source": [
        "#scaling the data.\n",
        "scaler = StandardScaler()\n",
        "scaler.fit(x4)\n",
        "x4 = scaler.transform(x4)"
      ],
      "execution_count": 73,
      "outputs": []
    },
    {
      "cell_type": "code",
      "metadata": {
        "id": "MhA8-PMb-c0Y",
        "colab_type": "code",
        "colab": {
          "base_uri": "https://localhost:8080/",
          "height": 136
        },
        "outputId": "55c7d5ad-f1e6-4401-8944-af4b44bba0a9"
      },
      "source": [
        "#fitting the base model\n",
        "las_reg = linear_model.Lasso() \n",
        "las_reg.fit(x4, y4) \n",
        "\n",
        "# Print scores, MSE, and coefficients\n",
        "# \n",
        "print(\"lasso score:\", las_reg.score(x4, y4)) \n",
        "print(\"lasso MSE:\", mean_squared_error(y4, las_reg.predict(x4))) \n",
        "print(\"lasso coef:\", las_reg.coef_) "
      ],
      "execution_count": 74,
      "outputs": [
        {
          "output_type": "stream",
          "text": [
            "lasso score: 0.6998054426678352\n",
            "lasso MSE: 40516476424.81792\n",
            "lasso coef: [-33266.88233668  31637.6631829  259485.35635095   5304.44525436\n",
            "   3657.82919038  50406.18341507  40634.06469055  17213.01805439\n",
            " 112832.08022218 -83795.31887747 -58563.3849552  -77017.13543297\n",
            "   8043.51869173 -31173.4407627   83544.44491153 -30240.53390784\n",
            "  14862.22210763 -10437.22505233]\n"
          ],
          "name": "stdout"
        }
      ]
    },
    {
      "cell_type": "code",
      "metadata": {
        "id": "6oJdX_ke-_FU",
        "colab_type": "code",
        "colab": {
          "base_uri": "https://localhost:8080/",
          "height": 153
        },
        "outputId": "4e243598-d2aa-41f6-a8b7-f285ea910019"
      },
      "source": [
        "# Building the Lasso regression and choosing the regularization parameter with the help of GridSearch.\n",
        "import warnings\n",
        "warnings.filterwarnings(\"ignore\")\n",
        "#splitting the data and fitting the model.\n",
        "#displaying various measures for the data(score, parameters, mse and the best estimator coefficients.)\n",
        "x4_train, x4_test, y4_train, y4_test = train_test_split(x4, y4, test_size=0.2, random_state=100)\n",
        "parameters = {'alpha': np.concatenate((np.arange(0.1,2,0.1), np.arange(2, 5, 0.5), np.arange(5, 25, 1)))}\n",
        "\n",
        "grid_las_reg = GridSearchCV(las_reg, parameters, scoring ='r2') \n",
        "\n",
        "grid_las_reg.fit(x4_train, y4_train)\n",
        "print(\"lasso best parameters:\", grid_las_reg.best_params_) \n",
        "print(\"lasso score:\", grid_las_reg.score(x4_test, y4_test))\n",
        "print(\"lasso MSE:\", mean_squared_error(y4_test, grid_las_reg.predict(x4_test)))\n",
        "print(\"lasso best estimator coef:\", grid_las_reg.best_estimator_.coef_)"
      ],
      "execution_count": 75,
      "outputs": [
        {
          "output_type": "stream",
          "text": [
            "lasso best parameters: {'alpha': 0.1}\n",
            "lasso score: 0.6967838627443836\n",
            "lasso MSE: 42680542041.233864\n",
            "lasso best estimator coef: [-32952.78642375  34541.39361797 257867.01754784   5541.22142369\n",
            "   2614.51766984  50582.96814982  39612.15093075  17960.70918606\n",
            " 114840.37341239 -86753.79259728 -60516.93197584 -76592.80230853\n",
            "   6729.11888795 -30248.84917102  83538.28563355 -29777.0282763\n",
            "  15711.10876602 -11167.42697652]\n"
          ],
          "name": "stdout"
        }
      ]
    },
    {
      "cell_type": "code",
      "metadata": {
        "id": "IWMyVe6IABGi",
        "colab_type": "code",
        "colab": {
          "base_uri": "https://localhost:8080/",
          "height": 34
        },
        "outputId": "97565164-4ad7-4572-b916-f4bc0a359494"
      },
      "source": [
        "#fitting the model using the recommended parameters.\n",
        "#calculating the score.\n",
        "las_reg = linear_model.Lasso(alpha=0.1) \n",
        "las_reg.fit(x4, y4) \n",
        "print(\"The Lasso regression score is:\", las_reg.score(x4, y4)) \n"
      ],
      "execution_count": 63,
      "outputs": [
        {
          "output_type": "stream",
          "text": [
            "The Lasso regression score is: 0.6998054429764762\n"
          ],
          "name": "stdout"
        }
      ]
    },
    {
      "cell_type": "code",
      "metadata": {
        "id": "aAS4ShEuCJmF",
        "colab_type": "code",
        "colab": {
          "base_uri": "https://localhost:8080/",
          "height": 34
        },
        "outputId": "0b68c680-3b99-40f5-93b4-cf091bcfeae7"
      },
      "source": [
        "#predicting using the model and calculating the mean squared error\n",
        "y4_pred = las_reg.predict(x4)\n",
        "las_reg_mse = mean_squared_error(y4, y4_pred)\n",
        "print(\"The mean squared error for the Lasso Regression is :\", las_reg_mse)"
      ],
      "execution_count": 64,
      "outputs": [
        {
          "output_type": "stream",
          "text": [
            "The mean squared error for the Lasso Regression is : 40516476383.16145\n"
          ],
          "name": "stdout"
        }
      ]
    },
    {
      "cell_type": "code",
      "metadata": {
        "id": "BKWvnAz7DgZl",
        "colab_type": "code",
        "colab": {
          "base_uri": "https://localhost:8080/",
          "height": 102
        },
        "outputId": "b34d3728-87a5-4019-daad-3338b5dad5f1"
      },
      "source": [
        "#calculating the coefficients. \n",
        "print(\"The best estimator coefficient:\", grid_las_reg.best_estimator_.coef_)"
      ],
      "execution_count": 65,
      "outputs": [
        {
          "output_type": "stream",
          "text": [
            "The best estimator coefficient: [-32952.78642375  34541.39361797 257867.01754784   5541.22142369\n",
            "   2614.51766984  50582.96814982  39612.15093075  17960.70918606\n",
            " 114840.37341239 -86753.79259728 -60516.93197584 -76592.80230853\n",
            "   6729.11888795 -30248.84917102  83538.28563355 -29777.0282763\n",
            "  15711.10876602 -11167.42697652]\n"
          ],
          "name": "stdout"
        }
      ]
    },
    {
      "cell_type": "markdown",
      "metadata": {
        "id": "W40uCbLu6zkU",
        "colab_type": "text"
      },
      "source": [
        "The Lasso regression does not reduce any coefficients to zero and this shows that it has failed as it cannot predict the most influential factors within the variables.\n",
        "\n",
        "The mean squared error too is just a bit higher and thus it is not better compared to the linear model."
      ]
    },
    {
      "cell_type": "markdown",
      "metadata": {
        "id": "OsdhsDL1FoLS",
        "colab_type": "text"
      },
      "source": [
        "## **Elastic Net regression**"
      ]
    },
    {
      "cell_type": "code",
      "metadata": {
        "id": "9xbtE_QXDjxB",
        "colab_type": "code",
        "colab": {}
      },
      "source": [
        "#splitting our independent and dependent variables\n",
        "x5 = data[independent]\n",
        "y5 = data[dependent]"
      ],
      "execution_count": 66,
      "outputs": []
    },
    {
      "cell_type": "code",
      "metadata": {
        "id": "upDyEWq9FwEG",
        "colab_type": "code",
        "colab": {}
      },
      "source": [
        "#normalizing our data and creating a grid.\n",
        "ela_reg=ElasticNet(normalize=True)\n",
        "search=GridSearchCV(estimator=ela_reg,param_grid={'alpha':np.logspace(-5,2,8),'l1_ratio':[.2,.4,.6,.8]},scoring='neg_mean_squared_error',n_jobs=1,refit=True,cv=10)"
      ],
      "execution_count": 67,
      "outputs": []
    },
    {
      "cell_type": "code",
      "metadata": {
        "id": "AM84VeKPGIRv",
        "colab_type": "code",
        "colab": {
          "base_uri": "https://localhost:8080/",
          "height": 34
        },
        "outputId": "f4e1aa45-1709-4509-9a88-d3034b4ac887"
      },
      "source": [
        "#fitting our data and displaying the appropriate parameters.\n",
        "search.fit(x5,y5)\n",
        "abs(search.best_score_)\n",
        "print(search.best_params_)"
      ],
      "execution_count": 68,
      "outputs": [
        {
          "output_type": "stream",
          "text": [
            "{'alpha': 1e-05, 'l1_ratio': 0.8}\n"
          ],
          "name": "stdout"
        }
      ]
    },
    {
      "cell_type": "code",
      "metadata": {
        "id": "9Im3_kVYGVBi",
        "colab_type": "code",
        "colab": {
          "base_uri": "https://localhost:8080/",
          "height": 34
        },
        "outputId": "85df21e3-0a6c-4e14-bdf0-cfc58e34c210"
      },
      "source": [
        "#substituting our parameters into the models and fitting it.\n",
        "#finding the mean squared error for the model\n",
        "ela_reg=ElasticNet(normalize=True,alpha=0.00001,l1_ratio=0.8)\n",
        "ela_reg.fit(x5,y5)\n",
        "y5_pred = ela_reg.predict(x5)\n",
        "ela_reg_mse=(mean_squared_error(y5,y5_pred))\n",
        "print(\"The mean squared error for the elastic net regression is:\",ela_reg_mse)"
      ],
      "execution_count": 69,
      "outputs": [
        {
          "output_type": "stream",
          "text": [
            "The mean squared error for the elastic net regression is: 40617078111.499664\n"
          ],
          "name": "stdout"
        }
      ]
    },
    {
      "cell_type": "code",
      "metadata": {
        "id": "kG-YhVKbHIpT",
        "colab_type": "code",
        "colab": {
          "base_uri": "https://localhost:8080/",
          "height": 323
        },
        "outputId": "3777037c-c233-42ad-c64a-51a683f22a75"
      },
      "source": [
        "#displaying the coefficients for the model.\n",
        "coef_dict_baseline = {}\n",
        "for coef, feat in zip(ela_reg.coef_,x5.columns):\n",
        "    coef_dict_baseline[feat] = coef\n",
        "coef_dict_baseline"
      ],
      "execution_count": 70,
      "outputs": [
        {
          "output_type": "execute_result",
          "data": {
            "text/plain": [
              "{'bathrooms': 40080.93905141283,\n",
              " 'bedrooms': -30825.401738192882,\n",
              " 'condition': 27751.115250911454,\n",
              " 'floors': 9092.5181624262,\n",
              " 'grade': 89138.1336916659,\n",
              " 'lat': 583393.3082283601,\n",
              " 'long': -206611.44456200232,\n",
              " 'sqft_above': 87.49742045635497,\n",
              " 'sqft_basement': 61.32638937630348,\n",
              " 'sqft_living': 85.36822139636668,\n",
              " 'sqft_living15': 32.10722625702676,\n",
              " 'sqft_lot': 0.12227747523517753,\n",
              " 'sqft_lot15': -0.33788053280932984,\n",
              " 'view': 53120.654857529626,\n",
              " 'waterfront': 564761.7304552095,\n",
              " 'yr_built': -2370.5847644569476,\n",
              " 'yr_renovated': 24.123226091164373,\n",
              " 'zipcode': -497.23591138766966}"
            ]
          },
          "metadata": {
            "tags": []
          },
          "execution_count": 70
        }
      ]
    },
    {
      "cell_type": "markdown",
      "metadata": {
        "id": "xe4kz-b06KHy",
        "colab_type": "text"
      },
      "source": [
        "From our coefficients, we can see that latitude, longitude and waterfront highly affect the house price and this infers that the the three are huge determinants for the price of the house."
      ]
    },
    {
      "cell_type": "markdown",
      "metadata": {
        "id": "2RtWlHg1w5r_",
        "colab_type": "text"
      },
      "source": [
        "# **Conclusion and Recommendation**"
      ]
    },
    {
      "cell_type": "code",
      "metadata": {
        "id": "4eYhslxdw_ie",
        "colab_type": "code",
        "colab": {
          "base_uri": "https://localhost:8080/",
          "height": 108
        },
        "outputId": "c0525f3f-6b8e-482c-8762-35ea5423a652"
      },
      "source": [
        "print(\"The mean Squared Error for the linear model is:\",lin_mod_mse)\n",
        "print(\"The mean squared error for the quantile regression is:\",quant_reg_mse)\n",
        "print(\"The mean squared error for the ridge regression model is:\",rid_mod)\n",
        "print(\"The mean squared error for the Lasso Regression is :\", las_reg_mse)\n",
        "print(\"The mean squared error for the elastic net regression is:\",ela_reg_mse)"
      ],
      "execution_count": 87,
      "outputs": [
        {
          "output_type": "stream",
          "text": [
            "The mean Squared Error for the linear model is: 40516476382.74072\n",
            "The mean squared error for the quantile regression is: 50541238201.352974\n",
            "The mean squared error for the ridge regression model is: 40522796287.94708\n",
            "The mean squared error for the Lasso Regression is : 40516476383.16145\n",
            "The mean squared error for the elastic net regression is: 40617078111.499664\n"
          ],
          "name": "stdout"
        }
      ]
    },
    {
      "cell_type": "markdown",
      "metadata": {
        "id": "Fjtd6zoZyuuw",
        "colab_type": "text"
      },
      "source": [
        "* We Can see that the linear model potrays the lowest mean squared error and this shows that it has the highest accuracy compared to the other models.\n",
        "* From the elastic net model, we can derive that longitude, latitude and waterfront highly influence the price of the house.\n",
        "\n",
        "Since our Linear Model is our most successful one, we can perform cross validation in order to see how further we can better it."
      ]
    },
    {
      "cell_type": "markdown",
      "metadata": {
        "id": "FLeiRgULcJns",
        "colab_type": "text"
      },
      "source": [
        "### **Cross Validation**"
      ]
    },
    {
      "cell_type": "markdown",
      "metadata": {
        "id": "au6kBj6LcQEn",
        "colab_type": "text"
      },
      "source": [
        "I have decided to use the leave one out cross validation. It will be time consuming but the results will be better."
      ]
    },
    {
      "cell_type": "code",
      "metadata": {
        "id": "uCB_c_ORVp-w",
        "colab_type": "code",
        "colab": {
          "base_uri": "https://localhost:8080/",
          "height": 72
        },
        "outputId": "7267dd93-fbea-4f3c-81dc-f19f2c41200b"
      },
      "source": [
        "from sklearn.model_selection import LeaveOneOut\n",
        "\n",
        "# We will use the same independent variables for this\n",
        "X = data[independent].values\n",
        "Y= data[dependent].values\n",
        "\n",
        "folds = LeaveOneOut()\n",
        "\n",
        "print('we are using ' +str(folds.get_n_splits(X)) + ' folds')\n",
        "\n",
        "MSES = [] # We will use this array to keep track of the RSME of each model\n",
        "count = 0 \n",
        "for train_index, test_index in folds.split(X):\n",
        "  \n",
        "  # set up the train and test based on the split determined by KFold\n",
        "  # With 5 folds, we will end up with 80% of our data in the training set, and 20% in the test set, just as above\n",
        "  X_train, X_test = X[train_index], X[test_index]\n",
        "  Y_train, Y_test = Y[train_index], Y[test_index]\n",
        "  \n",
        "  # fitting the linear model\n",
        "  lin_reg.fit(X_train, Y_train)\n",
        "  \n",
        "  # assess the accuraccy of the model\n",
        "  Y_pred = lin_reg.predict(X_test)\n",
        "  \n",
        "  mse_value =  (metrics.mean_squared_error(Y_test, Y_pred))\n",
        "  MSES.append(mse_value)\n",
        "  \n",
        "  count = count + 1\n",
        "print('trained ' + str(count) + ' models' )\n",
        "np.mean(MSES)"
      ],
      "execution_count": 85,
      "outputs": [
        {
          "output_type": "stream",
          "text": [
            "we are using 21610 folds\n",
            "trained 21610 models\n"
          ],
          "name": "stdout"
        },
        {
          "output_type": "execute_result",
          "data": {
            "text/plain": [
              "40741781151.852646"
            ]
          },
          "metadata": {
            "tags": []
          },
          "execution_count": 85
        }
      ]
    },
    {
      "cell_type": "code",
      "metadata": {
        "id": "Th8mwfrInNgb",
        "colab_type": "code",
        "colab": {
          "base_uri": "https://localhost:8080/",
          "height": 290
        },
        "outputId": "a92091c7-2c8b-4884-e411-13d16e4c3754"
      },
      "source": [
        "plt.plot(MSES)\n",
        "plt.ylabel('MSE value')\n",
        "plt.xlabel('model ID')\n",
        "plt.show()"
      ],
      "execution_count": 86,
      "outputs": [
        {
          "output_type": "display_data",
          "data": {
            "image/png": "[encoded data removed]",
            "text/plain": [
              "<Figure size 432x288 with 1 Axes>"
            ]
          },
          "metadata": {
            "tags": [],
            "needs_background": "light"
          }
        }
      ]
    },
    {
      "cell_type": "markdown",
      "metadata": {
        "id": "fTC8srhpyuff",
        "colab_type": "text"
      },
      "source": [
        "We can see that after cross validation, the value of the mean squared error has improved significantly. This shows how far the model can be improved in order to achieve higher accuracy with our current dataset."
      ]
    },
    {
      "cell_type": "markdown",
      "metadata": {
        "id": "1MolXm1ooxOG",
        "colab_type": "text"
      },
      "source": [
        "We can conclude that the linear model is the best model in our case, after perfoming our cross validation.\n",
        "\n",
        "The factors that contribute most to the price of the house are the longitude, the latitude, and the presence of a waterfront. This shows that the location of a house is highly important when it comes to determination of the price of the house."
      ]
    }
  ]
}