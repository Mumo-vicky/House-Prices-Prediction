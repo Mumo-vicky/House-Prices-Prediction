{
  "nbformat": 4,
  "nbformat_minor": 0,
  "metadata": {
    "colab": {
      "name": "House Prices Prediction.ipynb",
      "provenance": [],
      "authorship_tag": "ABX9TyPpkdrrjHkHAcVGPnP795TM",
      "include_colab_link": true
    },
    "kernelspec": {
      "name": "python3",
      "display_name": "Python 3"
    }
  },
  "cells": [
    {
      "cell_type": "markdown",
      "metadata": {
        "id": "view-in-github",
        "colab_type": "text"
      },
      "source": [
        "<a href=\"https://colab.research.google.com/github/Mumo-vicky/House-Prices-Prediction/blob/master/House_Prices_Prediction.ipynb\" target=\"_parent\"><img src=\"https://colab.research.google.com/assets/colab-badge.svg\" alt=\"Open In Colab\"/></a>"
      ]
    },
    {
      "cell_type": "markdown",
      "metadata": {
        "id": "TgY1gaubK8BH",
        "colab_type": "text"
      },
      "source": [
        "# **Introduction**"
      ]
    },
    {
      "cell_type": "markdown",
      "metadata": {
        "id": "WOPxTArku-9M",
        "colab_type": "text"
      },
      "source": [
        "### **Problem definition**"
      ]
    },
    {
      "cell_type": "markdown",
      "metadata": {
        "id": "k4ut_UMTt6qQ",
        "colab_type": "text"
      },
      "source": [
        "I work for Hass Consulting Company which is a real estate leader with over 25 years of experience. I have been tasked to study the factors that affect housing prices using the given information on real estate properties that was collected over the past few months.\n",
        "\n",
        "I am suppossed to evaluate different regression models in order to find the most accurate for prediction of house prices based on the variables provided."
      ]
    },
    {
      "cell_type": "markdown",
      "metadata": {
        "id": "pFDUPdtzy6k8",
        "colab_type": "text"
      },
      "source": [
        "## **Metrics For Success**"
      ]
    },
    {
      "cell_type": "markdown",
      "metadata": {
        "id": "mTdu4KgBy5vp",
        "colab_type": "text"
      },
      "source": [
        "\n",
        "The following are the goals for the project to be deemed successful.:\n",
        "\n",
        "Discuss the factors that contribute the most and the least to the pricing of a house from the data given.\n",
        "Obtain an appropriate metic for evaluating all the five models and interpret the findings obtained on the metrics.\n",
        "Draw conclusions and recommendations from the models"
      ]
    },
    {
      "cell_type": "markdown",
      "metadata": {
        "id": "RkY55hHPuuyq",
        "colab_type": "text"
      },
      "source": [
        "## **Data Understanding**"
      ]
    },
    {
      "cell_type": "markdown",
      "metadata": {
        "id": "vm3pn2U2ZB7C",
        "colab_type": "text"
      },
      "source": [
        "Our data Contains the following columns.\n",
        "* Id\n",
        "* price  - Price of the house\n",
        "* bedrooms - Number of Bedrooms\n",
        "* bathrooms - Number of Bathrooms\n",
        "* sqft_living - Square feet area of living area\n",
        "* sqft_lot  - Square feet area of parking Layout\n",
        "* floors - Number of Floors\n",
        "* waterfront - Whether waterfront is there or not\n",
        "* view - Number of Views\n",
        "* grade - Grades\n",
        "* sqft_above\n",
        "* sqft_basement - Square feet area off basement\n",
        "* yr_built - Year the house is built\n",
        "* yr_renovated - Year the house is renovated\n",
        "* zipcode - zipcode os the house\n",
        "* lat : Latitude of the house\n",
        "* lon : Longitude of the house\n",
        "* sqft_living15\n",
        "* sqft_lot15"
      ]
    },
    {
      "cell_type": "markdown",
      "metadata": {
        "id": "nPGlw0gnuihV",
        "colab_type": "text"
      },
      "source": [
        "## **Experimental design**"
      ]
    },
    {
      "cell_type": "markdown",
      "metadata": {
        "id": "L1ltrNQ2uLeS",
        "colab_type": "text"
      },
      "source": [
        "The following are the tasks that I am going to perform:\n",
        "* Load the datasets\n",
        "* Data preparation\n",
        "* Perform Exploratory analysis\n",
        "* Check  for multicollinearity\n",
        "* Fit regression models to the data\n",
        "* Evaluate the models\n",
        "* Conclusion\n",
        "* Recommendations"
      ]
    },
    {
      "cell_type": "markdown",
      "metadata": {
        "id": "Cmk5OfWEVqrE",
        "colab_type": "text"
      },
      "source": [
        "**Loading apprpriate ibraries**"
      ]
    },
    {
      "cell_type": "code",
      "metadata": {
        "id": "BDgcvcoMqpK0",
        "colab_type": "code",
        "colab": {
          "base_uri": "https://localhost:8080/",
          "height": 71
        },
        "outputId": "3bdca5b5-174e-42e5-be29-8dc21e9bd508"
      },
      "source": [
        "import pandas as pd\n",
        "import numpy as np\n",
        "import matplotlib.pyplot as plt\n",
        "import seaborn as sns\n",
        "from sklearn.linear_model import LinearRegression\n",
        "from sklearn.model_selection import train_test_split\n",
        "from sklearn.metrics import mean_squared_error\n",
        "import scipy as sp\n",
        "import statsmodels.formula.api as smf\n",
        "from sklearn.model_selection import GridSearchCV\n",
        "from sklearn.linear_model import Ridge\n",
        "from sklearn.preprocessing import StandardScaler\n",
        "from sklearn import linear_model\n",
        "from sklearn.linear_model import ElasticNet"
      ],
      "execution_count": 4,
      "outputs": [
        {
          "output_type": "stream",
          "text": [
            "/usr/local/lib/python3.6/dist-packages/statsmodels/tools/_testing.py:19: FutureWarning: pandas.util.testing is deprecated. Use the functions in the public API at pandas.testing instead.\n",
            "  import pandas.util.testing as tm\n"
          ],
          "name": "stderr"
        }
      ]
    },
    {
      "cell_type": "markdown",
      "metadata": {
        "id": "DV9_Azb2LVWf",
        "colab_type": "text"
      },
      "source": [
        "# **Data Preparation**"
      ]
    },
    {
      "cell_type": "markdown",
      "metadata": {
        "id": "NJCjy8MPLZwa",
        "colab_type": "text"
      },
      "source": [
        "**Loading the Data**"
      ]
    },
    {
      "cell_type": "code",
      "metadata": {
        "id": "XowvBrWjrTZO",
        "colab_type": "code",
        "colab": {}
      },
      "source": [
        "#loading the data from the url provided.\n",
        "data = pd.read_csv(\"http://bit.ly/IndependentProjectWeek7Dataset\")"
      ],
      "execution_count": 5,
      "outputs": []
    },
    {
      "cell_type": "markdown",
      "metadata": {
        "id": "A7zUfQ_BLoPE",
        "colab_type": "text"
      },
      "source": [
        "## **Previewing Data**"
      ]
    },
    {
      "cell_type": "code",
      "metadata": {
        "id": "oyd9OndHL9Wv",
        "colab_type": "code",
        "colab": {
          "base_uri": "https://localhost:8080/",
          "height": 224
        },
        "outputId": "5ab15e1b-1da7-4062-8eca-c7a71c3f784f"
      },
      "source": [
        "#previewing the bottom\n",
        "data.head()"
      ],
      "execution_count": 6,
      "outputs": [
        {
          "output_type": "execute_result",
          "data": {
            "text/html": [
              "<div>\n",
              "<style scoped>\n",
              "    .dataframe tbody tr th:only-of-type {\n",
              "        vertical-align: middle;\n",
              "    }\n",
              "\n",
              "    .dataframe tbody tr th {\n",
              "        vertical-align: top;\n",
              "    }\n",
              "\n",
              "    .dataframe thead th {\n",
              "        text-align: right;\n",
              "    }\n",
              "</style>\n",
              "<table border=\"1\" class=\"dataframe\">\n",
              "  <thead>\n",
              "    <tr style=\"text-align: right;\">\n",
              "      <th></th>\n",
              "      <th>id</th>\n",
              "      <th>price</th>\n",
              "      <th>bedrooms</th>\n",
              "      <th>bathrooms</th>\n",
              "      <th>sqft_living</th>\n",
              "      <th>sqft_lot</th>\n",
              "      <th>floors</th>\n",
              "      <th>waterfront</th>\n",
              "      <th>view</th>\n",
              "      <th>condition</th>\n",
              "      <th>grade</th>\n",
              "      <th>sqft_above</th>\n",
              "      <th>sqft_basement</th>\n",
              "      <th>yr_built</th>\n",
              "      <th>yr_renovated</th>\n",
              "      <th>zipcode</th>\n",
              "      <th>lat</th>\n",
              "      <th>long</th>\n",
              "      <th>sqft_living15</th>\n",
              "      <th>sqft_lot15</th>\n",
              "    </tr>\n",
              "  </thead>\n",
              "  <tbody>\n",
              "    <tr>\n",
              "      <th>0</th>\n",
              "      <td>7129300520</td>\n",
              "      <td>221900.0</td>\n",
              "      <td>3</td>\n",
              "      <td>1.00</td>\n",
              "      <td>1180</td>\n",
              "      <td>5650</td>\n",
              "      <td>1.0</td>\n",
              "      <td>0</td>\n",
              "      <td>0</td>\n",
              "      <td>3</td>\n",
              "      <td>7</td>\n",
              "      <td>1180</td>\n",
              "      <td>0</td>\n",
              "      <td>1955</td>\n",
              "      <td>0</td>\n",
              "      <td>98178</td>\n",
              "      <td>47.5112</td>\n",
              "      <td>-122.257</td>\n",
              "      <td>1340</td>\n",
              "      <td>5650</td>\n",
              "    </tr>\n",
              "    <tr>\n",
              "      <th>1</th>\n",
              "      <td>6414100192</td>\n",
              "      <td>538000.0</td>\n",
              "      <td>3</td>\n",
              "      <td>2.25</td>\n",
              "      <td>2570</td>\n",
              "      <td>7242</td>\n",
              "      <td>2.0</td>\n",
              "      <td>0</td>\n",
              "      <td>0</td>\n",
              "      <td>3</td>\n",
              "      <td>7</td>\n",
              "      <td>2170</td>\n",
              "      <td>400</td>\n",
              "      <td>1951</td>\n",
              "      <td>1991</td>\n",
              "      <td>98125</td>\n",
              "      <td>47.7210</td>\n",
              "      <td>-122.319</td>\n",
              "      <td>1690</td>\n",
              "      <td>7639</td>\n",
              "    </tr>\n",
              "    <tr>\n",
              "      <th>2</th>\n",
              "      <td>5631500400</td>\n",
              "      <td>180000.0</td>\n",
              "      <td>2</td>\n",
              "      <td>1.00</td>\n",
              "      <td>770</td>\n",
              "      <td>10000</td>\n",
              "      <td>1.0</td>\n",
              "      <td>0</td>\n",
              "      <td>0</td>\n",
              "      <td>3</td>\n",
              "      <td>6</td>\n",
              "      <td>770</td>\n",
              "      <td>0</td>\n",
              "      <td>1933</td>\n",
              "      <td>0</td>\n",
              "      <td>98028</td>\n",
              "      <td>47.7379</td>\n",
              "      <td>-122.233</td>\n",
              "      <td>2720</td>\n",
              "      <td>8062</td>\n",
              "    </tr>\n",
              "    <tr>\n",
              "      <th>3</th>\n",
              "      <td>2487200875</td>\n",
              "      <td>604000.0</td>\n",
              "      <td>4</td>\n",
              "      <td>3.00</td>\n",
              "      <td>1960</td>\n",
              "      <td>5000</td>\n",
              "      <td>1.0</td>\n",
              "      <td>0</td>\n",
              "      <td>0</td>\n",
              "      <td>5</td>\n",
              "      <td>7</td>\n",
              "      <td>1050</td>\n",
              "      <td>910</td>\n",
              "      <td>1965</td>\n",
              "      <td>0</td>\n",
              "      <td>98136</td>\n",
              "      <td>47.5208</td>\n",
              "      <td>-122.393</td>\n",
              "      <td>1360</td>\n",
              "      <td>5000</td>\n",
              "    </tr>\n",
              "    <tr>\n",
              "      <th>4</th>\n",
              "      <td>1954400510</td>\n",
              "      <td>510000.0</td>\n",
              "      <td>3</td>\n",
              "      <td>2.00</td>\n",
              "      <td>1680</td>\n",
              "      <td>8080</td>\n",
              "      <td>1.0</td>\n",
              "      <td>0</td>\n",
              "      <td>0</td>\n",
              "      <td>3</td>\n",
              "      <td>8</td>\n",
              "      <td>1680</td>\n",
              "      <td>0</td>\n",
              "      <td>1987</td>\n",
              "      <td>0</td>\n",
              "      <td>98074</td>\n",
              "      <td>47.6168</td>\n",
              "      <td>-122.045</td>\n",
              "      <td>1800</td>\n",
              "      <td>7503</td>\n",
              "    </tr>\n",
              "  </tbody>\n",
              "</table>\n",
              "</div>"
            ],
            "text/plain": [
              "           id     price  bedrooms  ...     long  sqft_living15  sqft_lot15\n",
              "0  7129300520  221900.0         3  ... -122.257           1340        5650\n",
              "1  6414100192  538000.0         3  ... -122.319           1690        7639\n",
              "2  5631500400  180000.0         2  ... -122.233           2720        8062\n",
              "3  2487200875  604000.0         4  ... -122.393           1360        5000\n",
              "4  1954400510  510000.0         3  ... -122.045           1800        7503\n",
              "\n",
              "[5 rows x 20 columns]"
            ]
          },
          "metadata": {
            "tags": []
          },
          "execution_count": 6
        }
      ]
    },
    {
      "cell_type": "code",
      "metadata": {
        "id": "HMcThud1Lkkz",
        "colab_type": "code",
        "colab": {
          "base_uri": "https://localhost:8080/",
          "height": 224
        },
        "outputId": "57dfd9c3-c962-4cc4-e590-36dca5e66476"
      },
      "source": [
        "#previwing the bottom\n",
        "data.tail()"
      ],
      "execution_count": 7,
      "outputs": [
        {
          "output_type": "execute_result",
          "data": {
            "text/html": [
              "<div>\n",
              "<style scoped>\n",
              "    .dataframe tbody tr th:only-of-type {\n",
              "        vertical-align: middle;\n",
              "    }\n",
              "\n",
              "    .dataframe tbody tr th {\n",
              "        vertical-align: top;\n",
              "    }\n",
              "\n",
              "    .dataframe thead th {\n",
              "        text-align: right;\n",
              "    }\n",
              "</style>\n",
              "<table border=\"1\" class=\"dataframe\">\n",
              "  <thead>\n",
              "    <tr style=\"text-align: right;\">\n",
              "      <th></th>\n",
              "      <th>id</th>\n",
              "      <th>price</th>\n",
              "      <th>bedrooms</th>\n",
              "      <th>bathrooms</th>\n",
              "      <th>sqft_living</th>\n",
              "      <th>sqft_lot</th>\n",
              "      <th>floors</th>\n",
              "      <th>waterfront</th>\n",
              "      <th>view</th>\n",
              "      <th>condition</th>\n",
              "      <th>grade</th>\n",
              "      <th>sqft_above</th>\n",
              "      <th>sqft_basement</th>\n",
              "      <th>yr_built</th>\n",
              "      <th>yr_renovated</th>\n",
              "      <th>zipcode</th>\n",
              "      <th>lat</th>\n",
              "      <th>long</th>\n",
              "      <th>sqft_living15</th>\n",
              "      <th>sqft_lot15</th>\n",
              "    </tr>\n",
              "  </thead>\n",
              "  <tbody>\n",
              "    <tr>\n",
              "      <th>21608</th>\n",
              "      <td>263000018</td>\n",
              "      <td>360000.0</td>\n",
              "      <td>3</td>\n",
              "      <td>2.50</td>\n",
              "      <td>1530</td>\n",
              "      <td>1131</td>\n",
              "      <td>3.0</td>\n",
              "      <td>0</td>\n",
              "      <td>0</td>\n",
              "      <td>3</td>\n",
              "      <td>8</td>\n",
              "      <td>1530</td>\n",
              "      <td>0</td>\n",
              "      <td>2009</td>\n",
              "      <td>0</td>\n",
              "      <td>98103</td>\n",
              "      <td>47.6993</td>\n",
              "      <td>-122.346</td>\n",
              "      <td>1530</td>\n",
              "      <td>1509</td>\n",
              "    </tr>\n",
              "    <tr>\n",
              "      <th>21609</th>\n",
              "      <td>6600060120</td>\n",
              "      <td>400000.0</td>\n",
              "      <td>4</td>\n",
              "      <td>2.50</td>\n",
              "      <td>2310</td>\n",
              "      <td>5813</td>\n",
              "      <td>2.0</td>\n",
              "      <td>0</td>\n",
              "      <td>0</td>\n",
              "      <td>3</td>\n",
              "      <td>8</td>\n",
              "      <td>2310</td>\n",
              "      <td>0</td>\n",
              "      <td>2014</td>\n",
              "      <td>0</td>\n",
              "      <td>98146</td>\n",
              "      <td>47.5107</td>\n",
              "      <td>-122.362</td>\n",
              "      <td>1830</td>\n",
              "      <td>7200</td>\n",
              "    </tr>\n",
              "    <tr>\n",
              "      <th>21610</th>\n",
              "      <td>1523300141</td>\n",
              "      <td>402101.0</td>\n",
              "      <td>2</td>\n",
              "      <td>0.75</td>\n",
              "      <td>1020</td>\n",
              "      <td>1350</td>\n",
              "      <td>2.0</td>\n",
              "      <td>0</td>\n",
              "      <td>0</td>\n",
              "      <td>3</td>\n",
              "      <td>7</td>\n",
              "      <td>1020</td>\n",
              "      <td>0</td>\n",
              "      <td>2009</td>\n",
              "      <td>0</td>\n",
              "      <td>98144</td>\n",
              "      <td>47.5944</td>\n",
              "      <td>-122.299</td>\n",
              "      <td>1020</td>\n",
              "      <td>2007</td>\n",
              "    </tr>\n",
              "    <tr>\n",
              "      <th>21611</th>\n",
              "      <td>291310100</td>\n",
              "      <td>400000.0</td>\n",
              "      <td>3</td>\n",
              "      <td>2.50</td>\n",
              "      <td>1600</td>\n",
              "      <td>2388</td>\n",
              "      <td>2.0</td>\n",
              "      <td>0</td>\n",
              "      <td>0</td>\n",
              "      <td>3</td>\n",
              "      <td>8</td>\n",
              "      <td>1600</td>\n",
              "      <td>0</td>\n",
              "      <td>2004</td>\n",
              "      <td>0</td>\n",
              "      <td>98027</td>\n",
              "      <td>47.5345</td>\n",
              "      <td>-122.069</td>\n",
              "      <td>1410</td>\n",
              "      <td>1287</td>\n",
              "    </tr>\n",
              "    <tr>\n",
              "      <th>21612</th>\n",
              "      <td>1523300157</td>\n",
              "      <td>325000.0</td>\n",
              "      <td>2</td>\n",
              "      <td>0.75</td>\n",
              "      <td>1020</td>\n",
              "      <td>1076</td>\n",
              "      <td>2.0</td>\n",
              "      <td>0</td>\n",
              "      <td>0</td>\n",
              "      <td>3</td>\n",
              "      <td>7</td>\n",
              "      <td>1020</td>\n",
              "      <td>0</td>\n",
              "      <td>2008</td>\n",
              "      <td>0</td>\n",
              "      <td>98144</td>\n",
              "      <td>47.5941</td>\n",
              "      <td>-122.299</td>\n",
              "      <td>1020</td>\n",
              "      <td>1357</td>\n",
              "    </tr>\n",
              "  </tbody>\n",
              "</table>\n",
              "</div>"
            ],
            "text/plain": [
              "               id     price  bedrooms  ...     long  sqft_living15  sqft_lot15\n",
              "21608   263000018  360000.0         3  ... -122.346           1530        1509\n",
              "21609  6600060120  400000.0         4  ... -122.362           1830        7200\n",
              "21610  1523300141  402101.0         2  ... -122.299           1020        2007\n",
              "21611   291310100  400000.0         3  ... -122.069           1410        1287\n",
              "21612  1523300157  325000.0         2  ... -122.299           1020        1357\n",
              "\n",
              "[5 rows x 20 columns]"
            ]
          },
          "metadata": {
            "tags": []
          },
          "execution_count": 7
        }
      ]
    },
    {
      "cell_type": "code",
      "metadata": {
        "id": "UUVXiEYqsIf-",
        "colab_type": "code",
        "colab": {
          "base_uri": "https://localhost:8080/",
          "height": 34
        },
        "outputId": "a60d68ab-b531-4c7e-bdcd-c6767b305860"
      },
      "source": [
        "#viewing the rows and columns.\n",
        "data.shape"
      ],
      "execution_count": 8,
      "outputs": [
        {
          "output_type": "execute_result",
          "data": {
            "text/plain": [
              "(21613, 20)"
            ]
          },
          "metadata": {
            "tags": []
          },
          "execution_count": 8
        }
      ]
    },
    {
      "cell_type": "code",
      "metadata": {
        "id": "k1BHHmGGrmUu",
        "colab_type": "code",
        "colab": {
          "base_uri": "https://localhost:8080/",
          "height": 782
        },
        "outputId": "5d820918-1775-4dee-e4d3-68cb5b6a3f6a"
      },
      "source": [
        "#checking for null, missing and duplicated values.\n",
        "print(\"Null Values\")\n",
        "print(data.isnull().sum())\n",
        "print(\"Missing Values\")\n",
        "print(data.isna().sum())\n",
        "print(\"Duplicated Values:\",data.duplicated().sum())"
      ],
      "execution_count": 9,
      "outputs": [
        {
          "output_type": "stream",
          "text": [
            "Null Values\n",
            "id               0\n",
            "price            0\n",
            "bedrooms         0\n",
            "bathrooms        0\n",
            "sqft_living      0\n",
            "sqft_lot         0\n",
            "floors           0\n",
            "waterfront       0\n",
            "view             0\n",
            "condition        0\n",
            "grade            0\n",
            "sqft_above       0\n",
            "sqft_basement    0\n",
            "yr_built         0\n",
            "yr_renovated     0\n",
            "zipcode          0\n",
            "lat              0\n",
            "long             0\n",
            "sqft_living15    0\n",
            "sqft_lot15       0\n",
            "dtype: int64\n",
            "Missing Values\n",
            "id               0\n",
            "price            0\n",
            "bedrooms         0\n",
            "bathrooms        0\n",
            "sqft_living      0\n",
            "sqft_lot         0\n",
            "floors           0\n",
            "waterfront       0\n",
            "view             0\n",
            "condition        0\n",
            "grade            0\n",
            "sqft_above       0\n",
            "sqft_basement    0\n",
            "yr_built         0\n",
            "yr_renovated     0\n",
            "zipcode          0\n",
            "lat              0\n",
            "long             0\n",
            "sqft_living15    0\n",
            "sqft_lot15       0\n",
            "dtype: int64\n",
            "Duplicated Values: 3\n"
          ],
          "name": "stdout"
        }
      ]
    },
    {
      "cell_type": "code",
      "metadata": {
        "id": "i49q8DZKcSqf",
        "colab_type": "code",
        "colab": {
          "base_uri": "https://localhost:8080/",
          "height": 34
        },
        "outputId": "4d954d2c-ab8d-446b-d1f3-4b329c55a126"
      },
      "source": [
        "#dropping the duplicated values noted.\n",
        "data = data.drop_duplicates()\n",
        "data.duplicated().sum()"
      ],
      "execution_count": 10,
      "outputs": [
        {
          "output_type": "execute_result",
          "data": {
            "text/plain": [
              "0"
            ]
          },
          "metadata": {
            "tags": []
          },
          "execution_count": 10
        }
      ]
    },
    {
      "cell_type": "code",
      "metadata": {
        "id": "YuqBrVVkTNHC",
        "colab_type": "code",
        "colab": {
          "base_uri": "https://localhost:8080/",
          "height": 374
        },
        "outputId": "aec535ae-505e-4cbc-ec02-1fcbdad27b7e"
      },
      "source": [
        "data.nunique()"
      ],
      "execution_count": 11,
      "outputs": [
        {
          "output_type": "execute_result",
          "data": {
            "text/plain": [
              "id               21436\n",
              "price             3625\n",
              "bedrooms            13\n",
              "bathrooms           30\n",
              "sqft_living       1038\n",
              "sqft_lot          9782\n",
              "floors               6\n",
              "waterfront           2\n",
              "view                 5\n",
              "condition            5\n",
              "grade               12\n",
              "sqft_above         946\n",
              "sqft_basement      306\n",
              "yr_built           116\n",
              "yr_renovated        70\n",
              "zipcode             70\n",
              "lat               5034\n",
              "long               752\n",
              "sqft_living15      777\n",
              "sqft_lot15        8689\n",
              "dtype: int64"
            ]
          },
          "metadata": {
            "tags": []
          },
          "execution_count": 11
        }
      ]
    },
    {
      "cell_type": "code",
      "metadata": {
        "id": "1tN4CLt1bTle",
        "colab_type": "code",
        "colab": {
          "base_uri": "https://localhost:8080/",
          "height": 317
        },
        "outputId": "f34651bd-faf5-45d3-e64c-ccf83e7ce8ee"
      },
      "source": [
        "#previewing numerical aspects of our data.\n",
        "data.describe()"
      ],
      "execution_count": 12,
      "outputs": [
        {
          "output_type": "execute_result",
          "data": {
            "text/html": [
              "<div>\n",
              "<style scoped>\n",
              "    .dataframe tbody tr th:only-of-type {\n",
              "        vertical-align: middle;\n",
              "    }\n",
              "\n",
              "    .dataframe tbody tr th {\n",
              "        vertical-align: top;\n",
              "    }\n",
              "\n",
              "    .dataframe thead th {\n",
              "        text-align: right;\n",
              "    }\n",
              "</style>\n",
              "<table border=\"1\" class=\"dataframe\">\n",
              "  <thead>\n",
              "    <tr style=\"text-align: right;\">\n",
              "      <th></th>\n",
              "      <th>id</th>\n",
              "      <th>price</th>\n",
              "      <th>bedrooms</th>\n",
              "      <th>bathrooms</th>\n",
              "      <th>sqft_living</th>\n",
              "      <th>sqft_lot</th>\n",
              "      <th>floors</th>\n",
              "      <th>waterfront</th>\n",
              "      <th>view</th>\n",
              "      <th>condition</th>\n",
              "      <th>grade</th>\n",
              "      <th>sqft_above</th>\n",
              "      <th>sqft_basement</th>\n",
              "      <th>yr_built</th>\n",
              "      <th>yr_renovated</th>\n",
              "      <th>zipcode</th>\n",
              "      <th>lat</th>\n",
              "      <th>long</th>\n",
              "      <th>sqft_living15</th>\n",
              "      <th>sqft_lot15</th>\n",
              "    </tr>\n",
              "  </thead>\n",
              "  <tbody>\n",
              "    <tr>\n",
              "      <th>count</th>\n",
              "      <td>2.161000e+04</td>\n",
              "      <td>2.161000e+04</td>\n",
              "      <td>21610.000000</td>\n",
              "      <td>21610.000000</td>\n",
              "      <td>21610.000000</td>\n",
              "      <td>2.161000e+04</td>\n",
              "      <td>21610.000000</td>\n",
              "      <td>21610.000000</td>\n",
              "      <td>21610.000000</td>\n",
              "      <td>21610.000000</td>\n",
              "      <td>21610.000000</td>\n",
              "      <td>21610.000000</td>\n",
              "      <td>21610.000000</td>\n",
              "      <td>21610.000000</td>\n",
              "      <td>21610.000000</td>\n",
              "      <td>21610.000000</td>\n",
              "      <td>21610.000000</td>\n",
              "      <td>21610.000000</td>\n",
              "      <td>21610.000000</td>\n",
              "      <td>21610.000000</td>\n",
              "    </tr>\n",
              "    <tr>\n",
              "      <th>mean</th>\n",
              "      <td>4.580161e+09</td>\n",
              "      <td>5.401789e+05</td>\n",
              "      <td>3.370847</td>\n",
              "      <td>2.114739</td>\n",
              "      <td>2079.881212</td>\n",
              "      <td>1.510829e+04</td>\n",
              "      <td>1.494239</td>\n",
              "      <td>0.007543</td>\n",
              "      <td>0.234197</td>\n",
              "      <td>3.409440</td>\n",
              "      <td>7.656779</td>\n",
              "      <td>1788.347894</td>\n",
              "      <td>291.533318</td>\n",
              "      <td>1971.003609</td>\n",
              "      <td>84.322351</td>\n",
              "      <td>98077.945673</td>\n",
              "      <td>47.560049</td>\n",
              "      <td>-122.213910</td>\n",
              "      <td>1986.518695</td>\n",
              "      <td>12769.031976</td>\n",
              "    </tr>\n",
              "    <tr>\n",
              "      <th>std</th>\n",
              "      <td>2.876547e+09</td>\n",
              "      <td>3.673876e+05</td>\n",
              "      <td>0.930110</td>\n",
              "      <td>0.770204</td>\n",
              "      <td>918.500299</td>\n",
              "      <td>4.142323e+04</td>\n",
              "      <td>0.539994</td>\n",
              "      <td>0.086523</td>\n",
              "      <td>0.766136</td>\n",
              "      <td>0.650764</td>\n",
              "      <td>1.175500</td>\n",
              "      <td>828.138723</td>\n",
              "      <td>442.596699</td>\n",
              "      <td>29.372639</td>\n",
              "      <td>401.499264</td>\n",
              "      <td>53.505373</td>\n",
              "      <td>0.138572</td>\n",
              "      <td>0.140833</td>\n",
              "      <td>685.425781</td>\n",
              "      <td>27305.972464</td>\n",
              "    </tr>\n",
              "    <tr>\n",
              "      <th>min</th>\n",
              "      <td>1.000102e+06</td>\n",
              "      <td>7.500000e+04</td>\n",
              "      <td>0.000000</td>\n",
              "      <td>0.000000</td>\n",
              "      <td>290.000000</td>\n",
              "      <td>5.200000e+02</td>\n",
              "      <td>1.000000</td>\n",
              "      <td>0.000000</td>\n",
              "      <td>0.000000</td>\n",
              "      <td>1.000000</td>\n",
              "      <td>1.000000</td>\n",
              "      <td>290.000000</td>\n",
              "      <td>0.000000</td>\n",
              "      <td>1900.000000</td>\n",
              "      <td>0.000000</td>\n",
              "      <td>98001.000000</td>\n",
              "      <td>47.155900</td>\n",
              "      <td>-122.519000</td>\n",
              "      <td>399.000000</td>\n",
              "      <td>651.000000</td>\n",
              "    </tr>\n",
              "    <tr>\n",
              "      <th>25%</th>\n",
              "      <td>2.123049e+09</td>\n",
              "      <td>3.216125e+05</td>\n",
              "      <td>3.000000</td>\n",
              "      <td>1.750000</td>\n",
              "      <td>1425.500000</td>\n",
              "      <td>5.040000e+03</td>\n",
              "      <td>1.000000</td>\n",
              "      <td>0.000000</td>\n",
              "      <td>0.000000</td>\n",
              "      <td>3.000000</td>\n",
              "      <td>7.000000</td>\n",
              "      <td>1190.000000</td>\n",
              "      <td>0.000000</td>\n",
              "      <td>1951.000000</td>\n",
              "      <td>0.000000</td>\n",
              "      <td>98033.000000</td>\n",
              "      <td>47.470925</td>\n",
              "      <td>-122.328000</td>\n",
              "      <td>1490.000000</td>\n",
              "      <td>5100.000000</td>\n",
              "    </tr>\n",
              "    <tr>\n",
              "      <th>50%</th>\n",
              "      <td>3.904930e+09</td>\n",
              "      <td>4.500000e+05</td>\n",
              "      <td>3.000000</td>\n",
              "      <td>2.250000</td>\n",
              "      <td>1910.000000</td>\n",
              "      <td>7.619000e+03</td>\n",
              "      <td>1.500000</td>\n",
              "      <td>0.000000</td>\n",
              "      <td>0.000000</td>\n",
              "      <td>3.000000</td>\n",
              "      <td>7.000000</td>\n",
              "      <td>1560.000000</td>\n",
              "      <td>0.000000</td>\n",
              "      <td>1975.000000</td>\n",
              "      <td>0.000000</td>\n",
              "      <td>98065.000000</td>\n",
              "      <td>47.571800</td>\n",
              "      <td>-122.231000</td>\n",
              "      <td>1840.000000</td>\n",
              "      <td>7620.000000</td>\n",
              "    </tr>\n",
              "    <tr>\n",
              "      <th>75%</th>\n",
              "      <td>7.308900e+09</td>\n",
              "      <td>6.450000e+05</td>\n",
              "      <td>4.000000</td>\n",
              "      <td>2.500000</td>\n",
              "      <td>2550.000000</td>\n",
              "      <td>1.068875e+04</td>\n",
              "      <td>2.000000</td>\n",
              "      <td>0.000000</td>\n",
              "      <td>0.000000</td>\n",
              "      <td>4.000000</td>\n",
              "      <td>8.000000</td>\n",
              "      <td>2210.000000</td>\n",
              "      <td>560.000000</td>\n",
              "      <td>1997.000000</td>\n",
              "      <td>0.000000</td>\n",
              "      <td>98118.000000</td>\n",
              "      <td>47.678000</td>\n",
              "      <td>-122.125000</td>\n",
              "      <td>2360.000000</td>\n",
              "      <td>10083.000000</td>\n",
              "    </tr>\n",
              "    <tr>\n",
              "      <th>max</th>\n",
              "      <td>9.900000e+09</td>\n",
              "      <td>7.700000e+06</td>\n",
              "      <td>33.000000</td>\n",
              "      <td>8.000000</td>\n",
              "      <td>13540.000000</td>\n",
              "      <td>1.651359e+06</td>\n",
              "      <td>3.500000</td>\n",
              "      <td>1.000000</td>\n",
              "      <td>4.000000</td>\n",
              "      <td>5.000000</td>\n",
              "      <td>13.000000</td>\n",
              "      <td>9410.000000</td>\n",
              "      <td>4820.000000</td>\n",
              "      <td>2015.000000</td>\n",
              "      <td>2015.000000</td>\n",
              "      <td>98199.000000</td>\n",
              "      <td>47.777600</td>\n",
              "      <td>-121.315000</td>\n",
              "      <td>6210.000000</td>\n",
              "      <td>871200.000000</td>\n",
              "    </tr>\n",
              "  </tbody>\n",
              "</table>\n",
              "</div>"
            ],
            "text/plain": [
              "                 id         price  ...  sqft_living15     sqft_lot15\n",
              "count  2.161000e+04  2.161000e+04  ...   21610.000000   21610.000000\n",
              "mean   4.580161e+09  5.401789e+05  ...    1986.518695   12769.031976\n",
              "std    2.876547e+09  3.673876e+05  ...     685.425781   27305.972464\n",
              "min    1.000102e+06  7.500000e+04  ...     399.000000     651.000000\n",
              "25%    2.123049e+09  3.216125e+05  ...    1490.000000    5100.000000\n",
              "50%    3.904930e+09  4.500000e+05  ...    1840.000000    7620.000000\n",
              "75%    7.308900e+09  6.450000e+05  ...    2360.000000   10083.000000\n",
              "max    9.900000e+09  7.700000e+06  ...    6210.000000  871200.000000\n",
              "\n",
              "[8 rows x 20 columns]"
            ]
          },
          "metadata": {
            "tags": []
          },
          "execution_count": 12
        }
      ]
    },
    {
      "cell_type": "code",
      "metadata": {
        "id": "5Uvl8rVS-bMR",
        "colab_type": "code",
        "colab": {
          "base_uri": "https://localhost:8080/",
          "height": 476
        },
        "outputId": "5611076e-b7b1-4610-d705-42b207121647"
      },
      "source": [
        "#checking for the data types for our columns.\n",
        "data.info()"
      ],
      "execution_count": 13,
      "outputs": [
        {
          "output_type": "stream",
          "text": [
            "<class 'pandas.core.frame.DataFrame'>\n",
            "Int64Index: 21610 entries, 0 to 21612\n",
            "Data columns (total 20 columns):\n",
            " #   Column         Non-Null Count  Dtype  \n",
            "---  ------         --------------  -----  \n",
            " 0   id             21610 non-null  int64  \n",
            " 1   price          21610 non-null  float64\n",
            " 2   bedrooms       21610 non-null  int64  \n",
            " 3   bathrooms      21610 non-null  float64\n",
            " 4   sqft_living    21610 non-null  int64  \n",
            " 5   sqft_lot       21610 non-null  int64  \n",
            " 6   floors         21610 non-null  float64\n",
            " 7   waterfront     21610 non-null  int64  \n",
            " 8   view           21610 non-null  int64  \n",
            " 9   condition      21610 non-null  int64  \n",
            " 10  grade          21610 non-null  int64  \n",
            " 11  sqft_above     21610 non-null  int64  \n",
            " 12  sqft_basement  21610 non-null  int64  \n",
            " 13  yr_built       21610 non-null  int64  \n",
            " 14  yr_renovated   21610 non-null  int64  \n",
            " 15  zipcode        21610 non-null  int64  \n",
            " 16  lat            21610 non-null  float64\n",
            " 17  long           21610 non-null  float64\n",
            " 18  sqft_living15  21610 non-null  int64  \n",
            " 19  sqft_lot15     21610 non-null  int64  \n",
            "dtypes: float64(5), int64(15)\n",
            "memory usage: 3.5 MB\n"
          ],
          "name": "stdout"
        }
      ]
    },
    {
      "cell_type": "markdown",
      "metadata": {
        "id": "9anCW5L1NYYS",
        "colab_type": "text"
      },
      "source": [
        "## **Cleaning and Tidying of the Data.**"
      ]
    },
    {
      "cell_type": "code",
      "metadata": {
        "id": "W3LDnr47-eL8",
        "colab_type": "code",
        "colab": {
          "base_uri": "https://localhost:8080/",
          "height": 102
        },
        "outputId": "0921b665-fb51-4112-e26d-421ed7488ad8"
      },
      "source": [
        "#dropping the id column since we do not need it.\n",
        "#defining the columns for later use in plotting.\n",
        "data = data.drop(columns='id')\n",
        "columns = data.columns\n",
        "columns"
      ],
      "execution_count": 14,
      "outputs": [
        {
          "output_type": "execute_result",
          "data": {
            "text/plain": [
              "Index(['price', 'bedrooms', 'bathrooms', 'sqft_living', 'sqft_lot', 'floors',\n",
              "       'waterfront', 'view', 'condition', 'grade', 'sqft_above',\n",
              "       'sqft_basement', 'yr_built', 'yr_renovated', 'zipcode', 'lat', 'long',\n",
              "       'sqft_living15', 'sqft_lot15'],\n",
              "      dtype='object')"
            ]
          },
          "metadata": {
            "tags": []
          },
          "execution_count": 14
        }
      ]
    },
    {
      "cell_type": "code",
      "metadata": {
        "id": "N2ob8pWidK67",
        "colab_type": "code",
        "colab": {
          "base_uri": "https://localhost:8080/",
          "height": 1000
        },
        "outputId": "b0b16625-aff1-4983-eacc-76ac247f3b4a"
      },
      "source": [
        "#plotting outliers in the data.\n",
        "fig, ax = plt.subplots(len(columns), figsize = (10, 60))\n",
        "\n",
        "for i, col_val in enumerate(columns):\n",
        "\n",
        "  sns.boxplot(y= data[col_val], ax=ax[i])\n",
        "  ax[i].set_xlabel(col_val, fontsize=8)\n",
        "\n",
        "plt.show()"
      ],
      "execution_count": 15,
      "outputs": [
        {
          "output_type": "display_data",
          "data": {
            "image/png": "[encoded data removed]",
            "text/plain": [
              "<Figure size 720x4320 with 19 Axes>"
            ]
          },
          "metadata": {
            "tags": [],
            "needs_background": "light"
          }
        }
      ]
    },
    {
      "cell_type": "markdown",
      "metadata": {
        "id": "6hZ0nb06MsmZ",
        "colab_type": "text"
      },
      "source": [
        "Our data looks fairly clean, not having as many outliers. The only visible outliers that we can see is that in the bedrooms column and the year renovated column. I will check the bedrooms outlier but the year renovated column may be an actuality since houses may not have been renovated for a couple of years."
      ]
    },
    {
      "cell_type": "code",
      "metadata": {
        "id": "6pZMHfqp0Hny",
        "colab_type": "code",
        "colab": {
          "base_uri": "https://localhost:8080/",
          "height": 100
        },
        "outputId": "e6cd10e5-0257-44f4-c3e8-19020efa190e"
      },
      "source": [
        "data.loc[data['bedrooms'] > 30]"
      ],
      "execution_count": 16,
      "outputs": [
        {
          "output_type": "execute_result",
          "data": {
            "text/html": [
              "<div>\n",
              "<style scoped>\n",
              "    .dataframe tbody tr th:only-of-type {\n",
              "        vertical-align: middle;\n",
              "    }\n",
              "\n",
              "    .dataframe tbody tr th {\n",
              "        vertical-align: top;\n",
              "    }\n",
              "\n",
              "    .dataframe thead th {\n",
              "        text-align: right;\n",
              "    }\n",
              "</style>\n",
              "<table border=\"1\" class=\"dataframe\">\n",
              "  <thead>\n",
              "    <tr style=\"text-align: right;\">\n",
              "      <th></th>\n",
              "      <th>price</th>\n",
              "      <th>bedrooms</th>\n",
              "      <th>bathrooms</th>\n",
              "      <th>sqft_living</th>\n",
              "      <th>sqft_lot</th>\n",
              "      <th>floors</th>\n",
              "      <th>waterfront</th>\n",
              "      <th>view</th>\n",
              "      <th>condition</th>\n",
              "      <th>grade</th>\n",
              "      <th>sqft_above</th>\n",
              "      <th>sqft_basement</th>\n",
              "      <th>yr_built</th>\n",
              "      <th>yr_renovated</th>\n",
              "      <th>zipcode</th>\n",
              "      <th>lat</th>\n",
              "      <th>long</th>\n",
              "      <th>sqft_living15</th>\n",
              "      <th>sqft_lot15</th>\n",
              "    </tr>\n",
              "  </thead>\n",
              "  <tbody>\n",
              "    <tr>\n",
              "      <th>15870</th>\n",
              "      <td>640000.0</td>\n",
              "      <td>33</td>\n",
              "      <td>1.75</td>\n",
              "      <td>1620</td>\n",
              "      <td>6000</td>\n",
              "      <td>1.0</td>\n",
              "      <td>0</td>\n",
              "      <td>0</td>\n",
              "      <td>5</td>\n",
              "      <td>7</td>\n",
              "      <td>1040</td>\n",
              "      <td>580</td>\n",
              "      <td>1947</td>\n",
              "      <td>0</td>\n",
              "      <td>98103</td>\n",
              "      <td>47.6878</td>\n",
              "      <td>-122.331</td>\n",
              "      <td>1330</td>\n",
              "      <td>4700</td>\n",
              "    </tr>\n",
              "  </tbody>\n",
              "</table>\n",
              "</div>"
            ],
            "text/plain": [
              "          price  bedrooms  bathrooms  ...     long  sqft_living15  sqft_lot15\n",
              "15870  640000.0        33       1.75  ... -122.331           1330        4700\n",
              "\n",
              "[1 rows x 19 columns]"
            ]
          },
          "metadata": {
            "tags": []
          },
          "execution_count": 16
        }
      ]
    },
    {
      "cell_type": "markdown",
      "metadata": {
        "id": "hcHNRUZO8o-b",
        "colab_type": "text"
      },
      "source": [
        "I am going to check the houses that have a price above 640000 to see whether there is any instance of such a high number of bedrooms."
      ]
    },
    {
      "cell_type": "code",
      "metadata": {
        "id": "iyAgE_g78kWq",
        "colab_type": "code",
        "colab": {
          "base_uri": "https://localhost:8080/",
          "height": 439
        },
        "outputId": "53678e77-aefd-4194-b16d-1bb40c38c352"
      },
      "source": [
        "data.loc[data['price'] > 600000]"
      ],
      "execution_count": 17,
      "outputs": [
        {
          "output_type": "execute_result",
          "data": {
            "text/html": [
              "<div>\n",
              "<style scoped>\n",
              "    .dataframe tbody tr th:only-of-type {\n",
              "        vertical-align: middle;\n",
              "    }\n",
              "\n",
              "    .dataframe tbody tr th {\n",
              "        vertical-align: top;\n",
              "    }\n",
              "\n",
              "    .dataframe thead th {\n",
              "        text-align: right;\n",
              "    }\n",
              "</style>\n",
              "<table border=\"1\" class=\"dataframe\">\n",
              "  <thead>\n",
              "    <tr style=\"text-align: right;\">\n",
              "      <th></th>\n",
              "      <th>price</th>\n",
              "      <th>bedrooms</th>\n",
              "      <th>bathrooms</th>\n",
              "      <th>sqft_living</th>\n",
              "      <th>sqft_lot</th>\n",
              "      <th>floors</th>\n",
              "      <th>waterfront</th>\n",
              "      <th>view</th>\n",
              "      <th>condition</th>\n",
              "      <th>grade</th>\n",
              "      <th>sqft_above</th>\n",
              "      <th>sqft_basement</th>\n",
              "      <th>yr_built</th>\n",
              "      <th>yr_renovated</th>\n",
              "      <th>zipcode</th>\n",
              "      <th>lat</th>\n",
              "      <th>long</th>\n",
              "      <th>sqft_living15</th>\n",
              "      <th>sqft_lot15</th>\n",
              "    </tr>\n",
              "  </thead>\n",
              "  <tbody>\n",
              "    <tr>\n",
              "      <th>3</th>\n",
              "      <td>604000.0</td>\n",
              "      <td>4</td>\n",
              "      <td>3.00</td>\n",
              "      <td>1960</td>\n",
              "      <td>5000</td>\n",
              "      <td>1.0</td>\n",
              "      <td>0</td>\n",
              "      <td>0</td>\n",
              "      <td>5</td>\n",
              "      <td>7</td>\n",
              "      <td>1050</td>\n",
              "      <td>910</td>\n",
              "      <td>1965</td>\n",
              "      <td>0</td>\n",
              "      <td>98136</td>\n",
              "      <td>47.5208</td>\n",
              "      <td>-122.393</td>\n",
              "      <td>1360</td>\n",
              "      <td>5000</td>\n",
              "    </tr>\n",
              "    <tr>\n",
              "      <th>5</th>\n",
              "      <td>1230000.0</td>\n",
              "      <td>4</td>\n",
              "      <td>4.50</td>\n",
              "      <td>5420</td>\n",
              "      <td>101930</td>\n",
              "      <td>1.0</td>\n",
              "      <td>0</td>\n",
              "      <td>0</td>\n",
              "      <td>3</td>\n",
              "      <td>11</td>\n",
              "      <td>3890</td>\n",
              "      <td>1530</td>\n",
              "      <td>2001</td>\n",
              "      <td>0</td>\n",
              "      <td>98053</td>\n",
              "      <td>47.6561</td>\n",
              "      <td>-122.005</td>\n",
              "      <td>4760</td>\n",
              "      <td>101930</td>\n",
              "    </tr>\n",
              "    <tr>\n",
              "      <th>10</th>\n",
              "      <td>662500.0</td>\n",
              "      <td>3</td>\n",
              "      <td>2.50</td>\n",
              "      <td>3560</td>\n",
              "      <td>9796</td>\n",
              "      <td>1.0</td>\n",
              "      <td>0</td>\n",
              "      <td>0</td>\n",
              "      <td>3</td>\n",
              "      <td>8</td>\n",
              "      <td>1860</td>\n",
              "      <td>1700</td>\n",
              "      <td>1965</td>\n",
              "      <td>0</td>\n",
              "      <td>98007</td>\n",
              "      <td>47.6007</td>\n",
              "      <td>-122.145</td>\n",
              "      <td>2210</td>\n",
              "      <td>8925</td>\n",
              "    </tr>\n",
              "    <tr>\n",
              "      <th>15</th>\n",
              "      <td>650000.0</td>\n",
              "      <td>4</td>\n",
              "      <td>3.00</td>\n",
              "      <td>2950</td>\n",
              "      <td>5000</td>\n",
              "      <td>2.0</td>\n",
              "      <td>0</td>\n",
              "      <td>3</td>\n",
              "      <td>3</td>\n",
              "      <td>9</td>\n",
              "      <td>1980</td>\n",
              "      <td>970</td>\n",
              "      <td>1979</td>\n",
              "      <td>0</td>\n",
              "      <td>98126</td>\n",
              "      <td>47.5714</td>\n",
              "      <td>-122.375</td>\n",
              "      <td>2140</td>\n",
              "      <td>4000</td>\n",
              "    </tr>\n",
              "    <tr>\n",
              "      <th>21</th>\n",
              "      <td>2000000.0</td>\n",
              "      <td>3</td>\n",
              "      <td>2.75</td>\n",
              "      <td>3050</td>\n",
              "      <td>44867</td>\n",
              "      <td>1.0</td>\n",
              "      <td>0</td>\n",
              "      <td>4</td>\n",
              "      <td>3</td>\n",
              "      <td>9</td>\n",
              "      <td>2330</td>\n",
              "      <td>720</td>\n",
              "      <td>1968</td>\n",
              "      <td>0</td>\n",
              "      <td>98040</td>\n",
              "      <td>47.5316</td>\n",
              "      <td>-122.233</td>\n",
              "      <td>4110</td>\n",
              "      <td>20336</td>\n",
              "    </tr>\n",
              "    <tr>\n",
              "      <th>...</th>\n",
              "      <td>...</td>\n",
              "      <td>...</td>\n",
              "      <td>...</td>\n",
              "      <td>...</td>\n",
              "      <td>...</td>\n",
              "      <td>...</td>\n",
              "      <td>...</td>\n",
              "      <td>...</td>\n",
              "      <td>...</td>\n",
              "      <td>...</td>\n",
              "      <td>...</td>\n",
              "      <td>...</td>\n",
              "      <td>...</td>\n",
              "      <td>...</td>\n",
              "      <td>...</td>\n",
              "      <td>...</td>\n",
              "      <td>...</td>\n",
              "      <td>...</td>\n",
              "      <td>...</td>\n",
              "    </tr>\n",
              "    <tr>\n",
              "      <th>21597</th>\n",
              "      <td>1580000.0</td>\n",
              "      <td>4</td>\n",
              "      <td>3.25</td>\n",
              "      <td>3410</td>\n",
              "      <td>10125</td>\n",
              "      <td>2.0</td>\n",
              "      <td>0</td>\n",
              "      <td>0</td>\n",
              "      <td>3</td>\n",
              "      <td>10</td>\n",
              "      <td>3410</td>\n",
              "      <td>0</td>\n",
              "      <td>2007</td>\n",
              "      <td>0</td>\n",
              "      <td>98040</td>\n",
              "      <td>47.5653</td>\n",
              "      <td>-122.223</td>\n",
              "      <td>2290</td>\n",
              "      <td>10125</td>\n",
              "    </tr>\n",
              "    <tr>\n",
              "      <th>21599</th>\n",
              "      <td>810000.0</td>\n",
              "      <td>4</td>\n",
              "      <td>3.00</td>\n",
              "      <td>3990</td>\n",
              "      <td>7838</td>\n",
              "      <td>2.0</td>\n",
              "      <td>0</td>\n",
              "      <td>0</td>\n",
              "      <td>3</td>\n",
              "      <td>9</td>\n",
              "      <td>3990</td>\n",
              "      <td>0</td>\n",
              "      <td>2003</td>\n",
              "      <td>0</td>\n",
              "      <td>98053</td>\n",
              "      <td>47.6857</td>\n",
              "      <td>-122.046</td>\n",
              "      <td>3370</td>\n",
              "      <td>6814</td>\n",
              "    </tr>\n",
              "    <tr>\n",
              "      <th>21600</th>\n",
              "      <td>1540000.0</td>\n",
              "      <td>5</td>\n",
              "      <td>3.75</td>\n",
              "      <td>4470</td>\n",
              "      <td>8088</td>\n",
              "      <td>2.0</td>\n",
              "      <td>0</td>\n",
              "      <td>0</td>\n",
              "      <td>3</td>\n",
              "      <td>11</td>\n",
              "      <td>4470</td>\n",
              "      <td>0</td>\n",
              "      <td>2008</td>\n",
              "      <td>0</td>\n",
              "      <td>98004</td>\n",
              "      <td>47.6321</td>\n",
              "      <td>-122.200</td>\n",
              "      <td>2780</td>\n",
              "      <td>8964</td>\n",
              "    </tr>\n",
              "    <tr>\n",
              "      <th>21605</th>\n",
              "      <td>610685.0</td>\n",
              "      <td>4</td>\n",
              "      <td>2.50</td>\n",
              "      <td>2520</td>\n",
              "      <td>6023</td>\n",
              "      <td>2.0</td>\n",
              "      <td>0</td>\n",
              "      <td>0</td>\n",
              "      <td>3</td>\n",
              "      <td>9</td>\n",
              "      <td>2520</td>\n",
              "      <td>0</td>\n",
              "      <td>2014</td>\n",
              "      <td>0</td>\n",
              "      <td>98056</td>\n",
              "      <td>47.5137</td>\n",
              "      <td>-122.167</td>\n",
              "      <td>2520</td>\n",
              "      <td>6023</td>\n",
              "    </tr>\n",
              "    <tr>\n",
              "      <th>21606</th>\n",
              "      <td>1010000.0</td>\n",
              "      <td>4</td>\n",
              "      <td>3.50</td>\n",
              "      <td>3510</td>\n",
              "      <td>7200</td>\n",
              "      <td>2.0</td>\n",
              "      <td>0</td>\n",
              "      <td>0</td>\n",
              "      <td>3</td>\n",
              "      <td>9</td>\n",
              "      <td>2600</td>\n",
              "      <td>910</td>\n",
              "      <td>2009</td>\n",
              "      <td>0</td>\n",
              "      <td>98136</td>\n",
              "      <td>47.5537</td>\n",
              "      <td>-122.398</td>\n",
              "      <td>2050</td>\n",
              "      <td>6200</td>\n",
              "    </tr>\n",
              "  </tbody>\n",
              "</table>\n",
              "<p>6256 rows × 19 columns</p>\n",
              "</div>"
            ],
            "text/plain": [
              "           price  bedrooms  bathrooms  ...     long  sqft_living15  sqft_lot15\n",
              "3       604000.0         4       3.00  ... -122.393           1360        5000\n",
              "5      1230000.0         4       4.50  ... -122.005           4760      101930\n",
              "10      662500.0         3       2.50  ... -122.145           2210        8925\n",
              "15      650000.0         4       3.00  ... -122.375           2140        4000\n",
              "21     2000000.0         3       2.75  ... -122.233           4110       20336\n",
              "...          ...       ...        ...  ...      ...            ...         ...\n",
              "21597  1580000.0         4       3.25  ... -122.223           2290       10125\n",
              "21599   810000.0         4       3.00  ... -122.046           3370        6814\n",
              "21600  1540000.0         5       3.75  ... -122.200           2780        8964\n",
              "21605   610685.0         4       2.50  ... -122.167           2520        6023\n",
              "21606  1010000.0         4       3.50  ... -122.398           2050        6200\n",
              "\n",
              "[6256 rows x 19 columns]"
            ]
          },
          "metadata": {
            "tags": []
          },
          "execution_count": 17
        }
      ]
    },
    {
      "cell_type": "markdown",
      "metadata": {
        "id": "XsJpRdkQ8f4D",
        "colab_type": "text"
      },
      "source": [
        "The value is an outlier since the other houses have houses within 3 to 5. I will thus remove the input as it is an outlier."
      ]
    },
    {
      "cell_type": "code",
      "metadata": {
        "id": "F_HAoCjeNmuo",
        "colab_type": "code",
        "colab": {}
      },
      "source": [
        "#dropping the bedroom outlier.\n",
        "data = data[data.bedrooms < 30]"
      ],
      "execution_count": 18,
      "outputs": []
    },
    {
      "cell_type": "markdown",
      "metadata": {
        "id": "-Zuq8HG8Nsc5",
        "colab_type": "text"
      },
      "source": [
        "## **Data Exploration**"
      ]
    },
    {
      "cell_type": "markdown",
      "metadata": {
        "id": "kpyxXmMbfCEW",
        "colab_type": "text"
      },
      "source": [
        "### **Univariate Analysis.**"
      ]
    },
    {
      "cell_type": "code",
      "metadata": {
        "id": "Z_11ySX_Q08K",
        "colab_type": "code",
        "colab": {
          "base_uri": "https://localhost:8080/",
          "height": 971
        },
        "outputId": "46b9dc66-60dc-44f4-c931-6326a609233a"
      },
      "source": [
        "#plotting the histograms for the variables.\n",
        "data.hist(bins=10, figsize=(15,15))\n",
        "plt.suptitle(\"Histogram of numeric variables in house_data dataset\")\n",
        "plt.show()"
      ],
      "execution_count": 19,
      "outputs": [
        {
          "output_type": "display_data",
          "data": {
            "image/png": "[encoded data removed]",
            "text/plain": [
              "<Figure size 1080x1080 with 20 Axes>"
            ]
          },
          "metadata": {
            "tags": [],
            "needs_background": "light"
          }
        }
      ]
    },
    {
      "cell_type": "markdown",
      "metadata": {
        "id": "iFXGp1jNkfnM",
        "colab_type": "text"
      },
      "source": [
        "### **Bivariate Analysis**"
      ]
    },
    {
      "cell_type": "code",
      "metadata": {
        "id": "fHu_LCCYfU58",
        "colab_type": "code",
        "colab": {
          "base_uri": "https://localhost:8080/",
          "height": 308
        },
        "outputId": "098275c6-1d2a-4cad-a2d0-07266cd549db"
      },
      "source": [
        "sns.regplot(y=data[\"price\"], x=data[\"sqft_living\"], fit_reg=False)"
      ],
      "execution_count": 20,
      "outputs": [
        {
          "output_type": "execute_result",
          "data": {
            "text/plain": [
              "<matplotlib.axes._subplots.AxesSubplot at 0x7fcf70a7a5f8>"
            ]
          },
          "metadata": {
            "tags": []
          },
          "execution_count": 20
        },
        {
          "output_type": "display_data",
          "data": {
            "image/png": "[encoded data removed]",
            "text/plain": [
              "<Figure size 432x288 with 1 Axes>"
            ]
          },
          "metadata": {
            "tags": [],
            "needs_background": "light"
          }
        }
      ]
    },
    {
      "cell_type": "code",
      "metadata": {
        "id": "fSpU7FjBjdnc",
        "colab_type": "code",
        "colab": {
          "base_uri": "https://localhost:8080/",
          "height": 308
        },
        "outputId": "e5c74c87-3f0b-482a-d05d-d750a8ca9221"
      },
      "source": [
        "sns.regplot(y=data[\"price\"], x=data[\"sqft_lot\"], fit_reg=False)"
      ],
      "execution_count": 21,
      "outputs": [
        {
          "output_type": "execute_result",
          "data": {
            "text/plain": [
              "<matplotlib.axes._subplots.AxesSubplot at 0x7fcf70639cf8>"
            ]
          },
          "metadata": {
            "tags": []
          },
          "execution_count": 21
        },
        {
          "output_type": "display_data",
          "data": {
            "image/png": "[encoded data removed]",
            "text/plain": [
              "<Figure size 432x288 with 1 Axes>"
            ]
          },
          "metadata": {
            "tags": [],
            "needs_background": "light"
          }
        }
      ]
    },
    {
      "cell_type": "code",
      "metadata": {
        "id": "-lB03Ggsjk3x",
        "colab_type": "code",
        "colab": {
          "base_uri": "https://localhost:8080/",
          "height": 308
        },
        "outputId": "6311dcc3-801c-430b-8b95-d303d24b1569"
      },
      "source": [
        "sns.regplot(y=data[\"price\"], x=data[\"sqft_above\"], fit_reg=False)"
      ],
      "execution_count": 22,
      "outputs": [
        {
          "output_type": "execute_result",
          "data": {
            "text/plain": [
              "<matplotlib.axes._subplots.AxesSubplot at 0x7fcf705cda90>"
            ]
          },
          "metadata": {
            "tags": []
          },
          "execution_count": 22
        },
        {
          "output_type": "display_data",
          "data": {
            "image/png": "[encoded data removed]",
            "text/plain": [
              "<Figure size 432x288 with 1 Axes>"
            ]
          },
          "metadata": {
            "tags": [],
            "needs_background": "light"
          }
        }
      ]
    },
    {
      "cell_type": "code",
      "metadata": {
        "id": "mB14jRUNlhS3",
        "colab_type": "code",
        "colab": {
          "base_uri": "https://localhost:8080/",
          "height": 308
        },
        "outputId": "1d863bf0-c3e0-4a4c-a374-ac924aee4cd6"
      },
      "source": [
        "sns.regplot(y=data[\"price\"], x=data[\"sqft_basement\"], fit_reg=False)"
      ],
      "execution_count": 23,
      "outputs": [
        {
          "output_type": "execute_result",
          "data": {
            "text/plain": [
              "<matplotlib.axes._subplots.AxesSubplot at 0x7fcf70589c88>"
            ]
          },
          "metadata": {
            "tags": []
          },
          "execution_count": 23
        },
        {
          "output_type": "display_data",
          "data": {
            "image/png": "[encoded data removed]",
            "text/plain": [
              "<Figure size 432x288 with 1 Axes>"
            ]
          },
          "metadata": {
            "tags": [],
            "needs_background": "light"
          }
        }
      ]
    },
    {
      "cell_type": "code",
      "metadata": {
        "id": "XxL837NnjrkC",
        "colab_type": "code",
        "colab": {
          "base_uri": "https://localhost:8080/",
          "height": 307
        },
        "outputId": "ca61eaf2-654c-42c9-d61e-42725afd388d"
      },
      "source": [
        "sns.regplot(y=data[\"price\"], x=data[\"lat\"], fit_reg=False)"
      ],
      "execution_count": 24,
      "outputs": [
        {
          "output_type": "execute_result",
          "data": {
            "text/plain": [
              "<matplotlib.axes._subplots.AxesSubplot at 0x7fcf7051b908>"
            ]
          },
          "metadata": {
            "tags": []
          },
          "execution_count": 24
        },
        {
          "output_type": "display_data",
          "data": {
            "image/png": "[encoded data removed]",
            "text/plain": [
              "<Figure size 432x288 with 1 Axes>"
            ]
          },
          "metadata": {
            "tags": [],
            "needs_background": "light"
          }
        }
      ]
    },
    {
      "cell_type": "code",
      "metadata": {
        "id": "2bo866V9lcoG",
        "colab_type": "code",
        "colab": {
          "base_uri": "https://localhost:8080/",
          "height": 307
        },
        "outputId": "c8c5356d-e675-4069-bc77-8154c821b578"
      },
      "source": [
        "sns.regplot(y=data[\"price\"], x=data[\"long\"], fit_reg=False)"
      ],
      "execution_count": 25,
      "outputs": [
        {
          "output_type": "execute_result",
          "data": {
            "text/plain": [
              "<matplotlib.axes._subplots.AxesSubplot at 0x7fcf7050bac8>"
            ]
          },
          "metadata": {
            "tags": []
          },
          "execution_count": 25
        },
        {
          "output_type": "display_data",
          "data": {
            "image/png": "[encoded data removed]",
            "text/plain": [
              "<Figure size 432x288 with 1 Axes>"
            ]
          },
          "metadata": {
            "tags": [],
            "needs_background": "light"
          }
        }
      ]
    },
    {
      "cell_type": "code",
      "metadata": {
        "id": "bOTPyH5llnfG",
        "colab_type": "code",
        "colab": {
          "base_uri": "https://localhost:8080/",
          "height": 308
        },
        "outputId": "abc8240f-a007-45c3-aa42-aff21f3554d1"
      },
      "source": [
        "sns.regplot(y=data[\"price\"], x=data[\"yr_built\"], fit_reg=False)"
      ],
      "execution_count": 26,
      "outputs": [
        {
          "output_type": "execute_result",
          "data": {
            "text/plain": [
              "<matplotlib.axes._subplots.AxesSubplot at 0x7fcf70471630>"
            ]
          },
          "metadata": {
            "tags": []
          },
          "execution_count": 26
        },
        {
          "output_type": "display_data",
          "data": {
            "image/png": "[encoded data removed]",
            "text/plain": [
              "<Figure size 432x288 with 1 Axes>"
            ]
          },
          "metadata": {
            "tags": [],
            "needs_background": "light"
          }
        }
      ]
    },
    {
      "cell_type": "markdown",
      "metadata": {
        "id": "X0epWLHAltuL",
        "colab_type": "text"
      },
      "source": [
        "From our bivariate analysis, we can infer that the relations between the different variables and the price of the houses differs. The building of the houses is spread out over the years and they don't seem to factor a lot in the price of the house."
      ]
    },
    {
      "cell_type": "markdown",
      "metadata": {
        "id": "ST2GZljwknbw",
        "colab_type": "text"
      },
      "source": [
        "### **Multivariate Analysis.**"
      ]
    },
    {
      "cell_type": "code",
      "metadata": {
        "id": "DQXfQ68oDj-r",
        "colab_type": "code",
        "colab": {
          "base_uri": "https://localhost:8080/",
          "height": 658
        },
        "outputId": "07009f13-0f27-490c-887e-b8478fe2c252"
      },
      "source": [
        "#finding the correlations between the columns.\n",
        "correlation = data.corr()\n",
        "correlation"
      ],
      "execution_count": 27,
      "outputs": [
        {
          "output_type": "execute_result",
          "data": {
            "text/html": [
              "<div>\n",
              "<style scoped>\n",
              "    .dataframe tbody tr th:only-of-type {\n",
              "        vertical-align: middle;\n",
              "    }\n",
              "\n",
              "    .dataframe tbody tr th {\n",
              "        vertical-align: top;\n",
              "    }\n",
              "\n",
              "    .dataframe thead th {\n",
              "        text-align: right;\n",
              "    }\n",
              "</style>\n",
              "<table border=\"1\" class=\"dataframe\">\n",
              "  <thead>\n",
              "    <tr style=\"text-align: right;\">\n",
              "      <th></th>\n",
              "      <th>price</th>\n",
              "      <th>bedrooms</th>\n",
              "      <th>bathrooms</th>\n",
              "      <th>sqft_living</th>\n",
              "      <th>sqft_lot</th>\n",
              "      <th>floors</th>\n",
              "      <th>waterfront</th>\n",
              "      <th>view</th>\n",
              "      <th>condition</th>\n",
              "      <th>grade</th>\n",
              "      <th>sqft_above</th>\n",
              "      <th>sqft_basement</th>\n",
              "      <th>yr_built</th>\n",
              "      <th>yr_renovated</th>\n",
              "      <th>zipcode</th>\n",
              "      <th>lat</th>\n",
              "      <th>long</th>\n",
              "      <th>sqft_living15</th>\n",
              "      <th>sqft_lot15</th>\n",
              "    </tr>\n",
              "  </thead>\n",
              "  <tbody>\n",
              "    <tr>\n",
              "      <th>price</th>\n",
              "      <td>1.000000</td>\n",
              "      <td>0.315442</td>\n",
              "      <td>0.525149</td>\n",
              "      <td>0.702057</td>\n",
              "      <td>0.089661</td>\n",
              "      <td>0.256810</td>\n",
              "      <td>0.266333</td>\n",
              "      <td>0.397471</td>\n",
              "      <td>0.036371</td>\n",
              "      <td>0.667491</td>\n",
              "      <td>0.605593</td>\n",
              "      <td>0.323844</td>\n",
              "      <td>0.053992</td>\n",
              "      <td>0.126506</td>\n",
              "      <td>-0.053168</td>\n",
              "      <td>0.306917</td>\n",
              "      <td>0.021578</td>\n",
              "      <td>0.585408</td>\n",
              "      <td>0.082461</td>\n",
              "    </tr>\n",
              "    <tr>\n",
              "      <th>bedrooms</th>\n",
              "      <td>0.315442</td>\n",
              "      <td>1.000000</td>\n",
              "      <td>0.529212</td>\n",
              "      <td>0.591471</td>\n",
              "      <td>0.032803</td>\n",
              "      <td>0.181105</td>\n",
              "      <td>-0.006612</td>\n",
              "      <td>0.081829</td>\n",
              "      <td>0.025426</td>\n",
              "      <td>0.366539</td>\n",
              "      <td>0.490619</td>\n",
              "      <td>0.309473</td>\n",
              "      <td>0.159268</td>\n",
              "      <td>0.019468</td>\n",
              "      <td>-0.157146</td>\n",
              "      <td>-0.010563</td>\n",
              "      <td>0.133883</td>\n",
              "      <td>0.402621</td>\n",
              "      <td>0.030391</td>\n",
              "    </tr>\n",
              "    <tr>\n",
              "      <th>bathrooms</th>\n",
              "      <td>0.525149</td>\n",
              "      <td>0.529212</td>\n",
              "      <td>1.000000</td>\n",
              "      <td>0.754685</td>\n",
              "      <td>0.087746</td>\n",
              "      <td>0.500661</td>\n",
              "      <td>0.063745</td>\n",
              "      <td>0.187886</td>\n",
              "      <td>-0.124904</td>\n",
              "      <td>0.664986</td>\n",
              "      <td>0.685348</td>\n",
              "      <td>0.283833</td>\n",
              "      <td>0.505989</td>\n",
              "      <td>0.050875</td>\n",
              "      <td>-0.203823</td>\n",
              "      <td>0.024611</td>\n",
              "      <td>0.223033</td>\n",
              "      <td>0.568659</td>\n",
              "      <td>0.087185</td>\n",
              "    </tr>\n",
              "    <tr>\n",
              "      <th>sqft_living</th>\n",
              "      <td>0.702057</td>\n",
              "      <td>0.591471</td>\n",
              "      <td>0.754685</td>\n",
              "      <td>1.000000</td>\n",
              "      <td>0.172826</td>\n",
              "      <td>0.353941</td>\n",
              "      <td>0.103819</td>\n",
              "      <td>0.284636</td>\n",
              "      <td>-0.058720</td>\n",
              "      <td>0.762716</td>\n",
              "      <td>0.876601</td>\n",
              "      <td>0.435076</td>\n",
              "      <td>0.318087</td>\n",
              "      <td>0.055310</td>\n",
              "      <td>-0.199426</td>\n",
              "      <td>0.052544</td>\n",
              "      <td>0.240207</td>\n",
              "      <td>0.756418</td>\n",
              "      <td>0.183280</td>\n",
              "    </tr>\n",
              "    <tr>\n",
              "      <th>sqft_lot</th>\n",
              "      <td>0.089661</td>\n",
              "      <td>0.032803</td>\n",
              "      <td>0.087746</td>\n",
              "      <td>0.172826</td>\n",
              "      <td>1.000000</td>\n",
              "      <td>-0.005181</td>\n",
              "      <td>0.021600</td>\n",
              "      <td>0.074750</td>\n",
              "      <td>-0.008944</td>\n",
              "      <td>0.113640</td>\n",
              "      <td>0.183521</td>\n",
              "      <td>0.015278</td>\n",
              "      <td>0.053098</td>\n",
              "      <td>0.007675</td>\n",
              "      <td>-0.129607</td>\n",
              "      <td>-0.085672</td>\n",
              "      <td>0.229547</td>\n",
              "      <td>0.144614</td>\n",
              "      <td>0.718555</td>\n",
              "    </tr>\n",
              "    <tr>\n",
              "      <th>floors</th>\n",
              "      <td>0.256810</td>\n",
              "      <td>0.181105</td>\n",
              "      <td>0.500661</td>\n",
              "      <td>0.353941</td>\n",
              "      <td>-0.005181</td>\n",
              "      <td>1.000000</td>\n",
              "      <td>0.023708</td>\n",
              "      <td>0.029312</td>\n",
              "      <td>-0.263717</td>\n",
              "      <td>0.458140</td>\n",
              "      <td>0.523856</td>\n",
              "      <td>-0.245653</td>\n",
              "      <td>0.489330</td>\n",
              "      <td>0.006147</td>\n",
              "      <td>-0.059007</td>\n",
              "      <td>0.049634</td>\n",
              "      <td>0.125312</td>\n",
              "      <td>0.279832</td>\n",
              "      <td>-0.011263</td>\n",
              "    </tr>\n",
              "    <tr>\n",
              "      <th>waterfront</th>\n",
              "      <td>0.266333</td>\n",
              "      <td>-0.006612</td>\n",
              "      <td>0.063745</td>\n",
              "      <td>0.103819</td>\n",
              "      <td>0.021600</td>\n",
              "      <td>0.023708</td>\n",
              "      <td>1.000000</td>\n",
              "      <td>0.401992</td>\n",
              "      <td>0.016665</td>\n",
              "      <td>0.082783</td>\n",
              "      <td>0.072078</td>\n",
              "      <td>0.080588</td>\n",
              "      <td>-0.026163</td>\n",
              "      <td>0.092950</td>\n",
              "      <td>0.030279</td>\n",
              "      <td>-0.014268</td>\n",
              "      <td>-0.041908</td>\n",
              "      <td>0.086467</td>\n",
              "      <td>0.030700</td>\n",
              "    </tr>\n",
              "    <tr>\n",
              "      <th>view</th>\n",
              "      <td>0.397471</td>\n",
              "      <td>0.081829</td>\n",
              "      <td>0.187886</td>\n",
              "      <td>0.284636</td>\n",
              "      <td>0.074750</td>\n",
              "      <td>0.029312</td>\n",
              "      <td>0.401992</td>\n",
              "      <td>1.000000</td>\n",
              "      <td>0.045877</td>\n",
              "      <td>0.251372</td>\n",
              "      <td>0.167650</td>\n",
              "      <td>0.277009</td>\n",
              "      <td>-0.053242</td>\n",
              "      <td>0.103206</td>\n",
              "      <td>0.084845</td>\n",
              "      <td>0.006062</td>\n",
              "      <td>-0.078573</td>\n",
              "      <td>0.280397</td>\n",
              "      <td>0.072573</td>\n",
              "    </tr>\n",
              "    <tr>\n",
              "      <th>condition</th>\n",
              "      <td>0.036371</td>\n",
              "      <td>0.025426</td>\n",
              "      <td>-0.124904</td>\n",
              "      <td>-0.058720</td>\n",
              "      <td>-0.008944</td>\n",
              "      <td>-0.263717</td>\n",
              "      <td>0.016665</td>\n",
              "      <td>0.045877</td>\n",
              "      <td>1.000000</td>\n",
              "      <td>-0.144612</td>\n",
              "      <td>-0.158135</td>\n",
              "      <td>0.174023</td>\n",
              "      <td>-0.361310</td>\n",
              "      <td>-0.060847</td>\n",
              "      <td>0.002910</td>\n",
              "      <td>-0.015078</td>\n",
              "      <td>-0.106435</td>\n",
              "      <td>-0.092760</td>\n",
              "      <td>-0.003391</td>\n",
              "    </tr>\n",
              "    <tr>\n",
              "      <th>grade</th>\n",
              "      <td>0.667491</td>\n",
              "      <td>0.366539</td>\n",
              "      <td>0.664986</td>\n",
              "      <td>0.762716</td>\n",
              "      <td>0.113640</td>\n",
              "      <td>0.458140</td>\n",
              "      <td>0.082783</td>\n",
              "      <td>0.251372</td>\n",
              "      <td>-0.144612</td>\n",
              "      <td>1.000000</td>\n",
              "      <td>0.755915</td>\n",
              "      <td>0.168463</td>\n",
              "      <td>0.446955</td>\n",
              "      <td>0.014367</td>\n",
              "      <td>-0.184785</td>\n",
              "      <td>0.114113</td>\n",
              "      <td>0.198330</td>\n",
              "      <td>0.713204</td>\n",
              "      <td>0.119259</td>\n",
              "    </tr>\n",
              "    <tr>\n",
              "      <th>sqft_above</th>\n",
              "      <td>0.605593</td>\n",
              "      <td>0.490619</td>\n",
              "      <td>0.685348</td>\n",
              "      <td>0.876601</td>\n",
              "      <td>0.183521</td>\n",
              "      <td>0.523856</td>\n",
              "      <td>0.072078</td>\n",
              "      <td>0.167650</td>\n",
              "      <td>-0.158135</td>\n",
              "      <td>0.755915</td>\n",
              "      <td>1.000000</td>\n",
              "      <td>-0.051897</td>\n",
              "      <td>0.423903</td>\n",
              "      <td>0.023225</td>\n",
              "      <td>-0.261149</td>\n",
              "      <td>-0.000785</td>\n",
              "      <td>0.343768</td>\n",
              "      <td>0.731859</td>\n",
              "      <td>0.194051</td>\n",
              "    </tr>\n",
              "    <tr>\n",
              "      <th>sqft_basement</th>\n",
              "      <td>0.323844</td>\n",
              "      <td>0.309473</td>\n",
              "      <td>0.283833</td>\n",
              "      <td>0.435076</td>\n",
              "      <td>0.015278</td>\n",
              "      <td>-0.245653</td>\n",
              "      <td>0.080588</td>\n",
              "      <td>0.277009</td>\n",
              "      <td>0.174023</td>\n",
              "      <td>0.168463</td>\n",
              "      <td>-0.051897</td>\n",
              "      <td>1.000000</td>\n",
              "      <td>-0.133040</td>\n",
              "      <td>0.071327</td>\n",
              "      <td>0.074768</td>\n",
              "      <td>0.110510</td>\n",
              "      <td>-0.144722</td>\n",
              "      <td>0.200402</td>\n",
              "      <td>0.017269</td>\n",
              "    </tr>\n",
              "    <tr>\n",
              "      <th>yr_built</th>\n",
              "      <td>0.053992</td>\n",
              "      <td>0.159268</td>\n",
              "      <td>0.505989</td>\n",
              "      <td>0.318087</td>\n",
              "      <td>0.053098</td>\n",
              "      <td>0.489330</td>\n",
              "      <td>-0.026163</td>\n",
              "      <td>-0.053242</td>\n",
              "      <td>-0.361310</td>\n",
              "      <td>0.446955</td>\n",
              "      <td>0.423903</td>\n",
              "      <td>-0.133040</td>\n",
              "      <td>1.000000</td>\n",
              "      <td>-0.224740</td>\n",
              "      <td>-0.346797</td>\n",
              "      <td>-0.148069</td>\n",
              "      <td>0.409376</td>\n",
              "      <td>0.326273</td>\n",
              "      <td>0.070989</td>\n",
              "    </tr>\n",
              "    <tr>\n",
              "      <th>yr_renovated</th>\n",
              "      <td>0.126506</td>\n",
              "      <td>0.019468</td>\n",
              "      <td>0.050875</td>\n",
              "      <td>0.055310</td>\n",
              "      <td>0.007675</td>\n",
              "      <td>0.006147</td>\n",
              "      <td>0.092950</td>\n",
              "      <td>0.103206</td>\n",
              "      <td>-0.060847</td>\n",
              "      <td>0.014367</td>\n",
              "      <td>0.023225</td>\n",
              "      <td>0.071327</td>\n",
              "      <td>-0.224740</td>\n",
              "      <td>1.000000</td>\n",
              "      <td>0.064393</td>\n",
              "      <td>0.029280</td>\n",
              "      <td>-0.068604</td>\n",
              "      <td>-0.002851</td>\n",
              "      <td>0.007834</td>\n",
              "    </tr>\n",
              "    <tr>\n",
              "      <th>zipcode</th>\n",
              "      <td>-0.053168</td>\n",
              "      <td>-0.157146</td>\n",
              "      <td>-0.203823</td>\n",
              "      <td>-0.199426</td>\n",
              "      <td>-0.129607</td>\n",
              "      <td>-0.059007</td>\n",
              "      <td>0.030279</td>\n",
              "      <td>0.084845</td>\n",
              "      <td>0.002910</td>\n",
              "      <td>-0.184785</td>\n",
              "      <td>-0.261149</td>\n",
              "      <td>0.074768</td>\n",
              "      <td>-0.346797</td>\n",
              "      <td>0.064393</td>\n",
              "      <td>1.000000</td>\n",
              "      <td>0.267051</td>\n",
              "      <td>-0.564063</td>\n",
              "      <td>-0.279019</td>\n",
              "      <td>-0.147252</td>\n",
              "    </tr>\n",
              "    <tr>\n",
              "      <th>lat</th>\n",
              "      <td>0.306917</td>\n",
              "      <td>-0.010563</td>\n",
              "      <td>0.024611</td>\n",
              "      <td>0.052544</td>\n",
              "      <td>-0.085672</td>\n",
              "      <td>0.049634</td>\n",
              "      <td>-0.014268</td>\n",
              "      <td>0.006062</td>\n",
              "      <td>-0.015078</td>\n",
              "      <td>0.114113</td>\n",
              "      <td>-0.000785</td>\n",
              "      <td>0.110510</td>\n",
              "      <td>-0.148069</td>\n",
              "      <td>0.029280</td>\n",
              "      <td>0.267051</td>\n",
              "      <td>1.000000</td>\n",
              "      <td>-0.135514</td>\n",
              "      <td>0.048881</td>\n",
              "      <td>-0.086412</td>\n",
              "    </tr>\n",
              "    <tr>\n",
              "      <th>long</th>\n",
              "      <td>0.021578</td>\n",
              "      <td>0.133883</td>\n",
              "      <td>0.223033</td>\n",
              "      <td>0.240207</td>\n",
              "      <td>0.229547</td>\n",
              "      <td>0.125312</td>\n",
              "      <td>-0.041908</td>\n",
              "      <td>-0.078573</td>\n",
              "      <td>-0.106435</td>\n",
              "      <td>0.198330</td>\n",
              "      <td>0.343768</td>\n",
              "      <td>-0.144722</td>\n",
              "      <td>0.409376</td>\n",
              "      <td>-0.068604</td>\n",
              "      <td>-0.564063</td>\n",
              "      <td>-0.135514</td>\n",
              "      <td>1.000000</td>\n",
              "      <td>0.334567</td>\n",
              "      <td>0.254468</td>\n",
              "    </tr>\n",
              "    <tr>\n",
              "      <th>sqft_living15</th>\n",
              "      <td>0.585408</td>\n",
              "      <td>0.402621</td>\n",
              "      <td>0.568659</td>\n",
              "      <td>0.756418</td>\n",
              "      <td>0.144614</td>\n",
              "      <td>0.279832</td>\n",
              "      <td>0.086467</td>\n",
              "      <td>0.280397</td>\n",
              "      <td>-0.092760</td>\n",
              "      <td>0.713204</td>\n",
              "      <td>0.731859</td>\n",
              "      <td>0.200402</td>\n",
              "      <td>0.326273</td>\n",
              "      <td>-0.002851</td>\n",
              "      <td>-0.279019</td>\n",
              "      <td>0.048881</td>\n",
              "      <td>0.334567</td>\n",
              "      <td>1.000000</td>\n",
              "      <td>0.183185</td>\n",
              "    </tr>\n",
              "    <tr>\n",
              "      <th>sqft_lot15</th>\n",
              "      <td>0.082461</td>\n",
              "      <td>0.030391</td>\n",
              "      <td>0.087185</td>\n",
              "      <td>0.183280</td>\n",
              "      <td>0.718555</td>\n",
              "      <td>-0.011263</td>\n",
              "      <td>0.030700</td>\n",
              "      <td>0.072573</td>\n",
              "      <td>-0.003391</td>\n",
              "      <td>0.119259</td>\n",
              "      <td>0.194051</td>\n",
              "      <td>0.017269</td>\n",
              "      <td>0.070989</td>\n",
              "      <td>0.007834</td>\n",
              "      <td>-0.147252</td>\n",
              "      <td>-0.086412</td>\n",
              "      <td>0.254468</td>\n",
              "      <td>0.183185</td>\n",
              "      <td>1.000000</td>\n",
              "    </tr>\n",
              "  </tbody>\n",
              "</table>\n",
              "</div>"
            ],
            "text/plain": [
              "                  price  bedrooms  ...  sqft_living15  sqft_lot15\n",
              "price          1.000000  0.315442  ...       0.585408    0.082461\n",
              "bedrooms       0.315442  1.000000  ...       0.402621    0.030391\n",
              "bathrooms      0.525149  0.529212  ...       0.568659    0.087185\n",
              "sqft_living    0.702057  0.591471  ...       0.756418    0.183280\n",
              "sqft_lot       0.089661  0.032803  ...       0.144614    0.718555\n",
              "floors         0.256810  0.181105  ...       0.279832   -0.011263\n",
              "waterfront     0.266333 -0.006612  ...       0.086467    0.030700\n",
              "view           0.397471  0.081829  ...       0.280397    0.072573\n",
              "condition      0.036371  0.025426  ...      -0.092760   -0.003391\n",
              "grade          0.667491  0.366539  ...       0.713204    0.119259\n",
              "sqft_above     0.605593  0.490619  ...       0.731859    0.194051\n",
              "sqft_basement  0.323844  0.309473  ...       0.200402    0.017269\n",
              "yr_built       0.053992  0.159268  ...       0.326273    0.070989\n",
              "yr_renovated   0.126506  0.019468  ...      -0.002851    0.007834\n",
              "zipcode       -0.053168 -0.157146  ...      -0.279019   -0.147252\n",
              "lat            0.306917 -0.010563  ...       0.048881   -0.086412\n",
              "long           0.021578  0.133883  ...       0.334567    0.254468\n",
              "sqft_living15  0.585408  0.402621  ...       1.000000    0.183185\n",
              "sqft_lot15     0.082461  0.030391  ...       0.183185    1.000000\n",
              "\n",
              "[19 rows x 19 columns]"
            ]
          },
          "metadata": {
            "tags": []
          },
          "execution_count": 27
        }
      ]
    },
    {
      "cell_type": "markdown",
      "metadata": {
        "id": "hyxia86Ja2eF",
        "colab_type": "text"
      },
      "source": [
        "We can see that there is higher correlation between price and the following:\n",
        "\n",
        "* Bathrooms\n",
        "* Living room area\n",
        "* Grade\n",
        "* Squarefeet above\n",
        "* Sqft_living15"
      ]
    },
    {
      "cell_type": "code",
      "metadata": {
        "id": "E1plj9j-aCU4",
        "colab_type": "code",
        "colab": {
          "base_uri": "https://localhost:8080/",
          "height": 894
        },
        "outputId": "04184b5a-d70b-4034-f80a-2e40a13a7fec"
      },
      "source": [
        "#viewing the correlations heatmap\n",
        "plt.figure(figsize=(17, 14))\n",
        "sns.heatmap(correlation, annot = True)"
      ],
      "execution_count": 28,
      "outputs": [
        {
          "output_type": "execute_result",
          "data": {
            "text/plain": [
              "<matplotlib.axes._subplots.AxesSubplot at 0x7fcf7040eef0>"
            ]
          },
          "metadata": {
            "tags": []
          },
          "execution_count": 28
        },
        {
          "output_type": "display_data",
          "data": {
            "image/png": "[encoded data removed]",
            "text/plain": [
              "<Figure size 1224x1008 with 2 Axes>"
            ]
          },
          "metadata": {
            "tags": [],
            "needs_background": "light"
          }
        }
      ]
    },
    {
      "cell_type": "markdown",
      "metadata": {
        "id": "thqD93zme4np",
        "colab_type": "text"
      },
      "source": [
        "### **Multicollinearity**"
      ]
    },
    {
      "cell_type": "markdown",
      "metadata": {
        "id": "BiHydJnlmOL1",
        "colab_type": "text"
      },
      "source": [
        "We create a new data frame where we only have our independent variables so that we can check for multicolliearity within them using the variance inflation factor."
      ]
    },
    {
      "cell_type": "code",
      "metadata": {
        "id": "Qqn3ssiCcCMS",
        "colab_type": "code",
        "colab": {}
      },
      "source": [
        "#creating the dataframe\n",
        "independent = data.drop(columns='price')"
      ],
      "execution_count": 29,
      "outputs": []
    },
    {
      "cell_type": "code",
      "metadata": {
        "id": "qhMLCEpdcH_k",
        "colab_type": "code",
        "colab": {
          "base_uri": "https://localhost:8080/",
          "height": 627
        },
        "outputId": "35e0d204-775b-4c90-8d3c-e5d7d29c4808"
      },
      "source": [
        "#viewing their correlation\n",
        "ind_corr = independent.corr()\n",
        "ind_corr"
      ],
      "execution_count": 30,
      "outputs": [
        {
          "output_type": "execute_result",
          "data": {
            "text/html": [
              "<div>\n",
              "<style scoped>\n",
              "    .dataframe tbody tr th:only-of-type {\n",
              "        vertical-align: middle;\n",
              "    }\n",
              "\n",
              "    .dataframe tbody tr th {\n",
              "        vertical-align: top;\n",
              "    }\n",
              "\n",
              "    .dataframe thead th {\n",
              "        text-align: right;\n",
              "    }\n",
              "</style>\n",
              "<table border=\"1\" class=\"dataframe\">\n",
              "  <thead>\n",
              "    <tr style=\"text-align: right;\">\n",
              "      <th></th>\n",
              "      <th>bedrooms</th>\n",
              "      <th>bathrooms</th>\n",
              "      <th>sqft_living</th>\n",
              "      <th>sqft_lot</th>\n",
              "      <th>floors</th>\n",
              "      <th>waterfront</th>\n",
              "      <th>view</th>\n",
              "      <th>condition</th>\n",
              "      <th>grade</th>\n",
              "      <th>sqft_above</th>\n",
              "      <th>sqft_basement</th>\n",
              "      <th>yr_built</th>\n",
              "      <th>yr_renovated</th>\n",
              "      <th>zipcode</th>\n",
              "      <th>lat</th>\n",
              "      <th>long</th>\n",
              "      <th>sqft_living15</th>\n",
              "      <th>sqft_lot15</th>\n",
              "    </tr>\n",
              "  </thead>\n",
              "  <tbody>\n",
              "    <tr>\n",
              "      <th>bedrooms</th>\n",
              "      <td>1.000000</td>\n",
              "      <td>0.529212</td>\n",
              "      <td>0.591471</td>\n",
              "      <td>0.032803</td>\n",
              "      <td>0.181105</td>\n",
              "      <td>-0.006612</td>\n",
              "      <td>0.081829</td>\n",
              "      <td>0.025426</td>\n",
              "      <td>0.366539</td>\n",
              "      <td>0.490619</td>\n",
              "      <td>0.309473</td>\n",
              "      <td>0.159268</td>\n",
              "      <td>0.019468</td>\n",
              "      <td>-0.157146</td>\n",
              "      <td>-0.010563</td>\n",
              "      <td>0.133883</td>\n",
              "      <td>0.402621</td>\n",
              "      <td>0.030391</td>\n",
              "    </tr>\n",
              "    <tr>\n",
              "      <th>bathrooms</th>\n",
              "      <td>0.529212</td>\n",
              "      <td>1.000000</td>\n",
              "      <td>0.754685</td>\n",
              "      <td>0.087746</td>\n",
              "      <td>0.500661</td>\n",
              "      <td>0.063745</td>\n",
              "      <td>0.187886</td>\n",
              "      <td>-0.124904</td>\n",
              "      <td>0.664986</td>\n",
              "      <td>0.685348</td>\n",
              "      <td>0.283833</td>\n",
              "      <td>0.505989</td>\n",
              "      <td>0.050875</td>\n",
              "      <td>-0.203823</td>\n",
              "      <td>0.024611</td>\n",
              "      <td>0.223033</td>\n",
              "      <td>0.568659</td>\n",
              "      <td>0.087185</td>\n",
              "    </tr>\n",
              "    <tr>\n",
              "      <th>sqft_living</th>\n",
              "      <td>0.591471</td>\n",
              "      <td>0.754685</td>\n",
              "      <td>1.000000</td>\n",
              "      <td>0.172826</td>\n",
              "      <td>0.353941</td>\n",
              "      <td>0.103819</td>\n",
              "      <td>0.284636</td>\n",
              "      <td>-0.058720</td>\n",
              "      <td>0.762716</td>\n",
              "      <td>0.876601</td>\n",
              "      <td>0.435076</td>\n",
              "      <td>0.318087</td>\n",
              "      <td>0.055310</td>\n",
              "      <td>-0.199426</td>\n",
              "      <td>0.052544</td>\n",
              "      <td>0.240207</td>\n",
              "      <td>0.756418</td>\n",
              "      <td>0.183280</td>\n",
              "    </tr>\n",
              "    <tr>\n",
              "      <th>sqft_lot</th>\n",
              "      <td>0.032803</td>\n",
              "      <td>0.087746</td>\n",
              "      <td>0.172826</td>\n",
              "      <td>1.000000</td>\n",
              "      <td>-0.005181</td>\n",
              "      <td>0.021600</td>\n",
              "      <td>0.074750</td>\n",
              "      <td>-0.008944</td>\n",
              "      <td>0.113640</td>\n",
              "      <td>0.183521</td>\n",
              "      <td>0.015278</td>\n",
              "      <td>0.053098</td>\n",
              "      <td>0.007675</td>\n",
              "      <td>-0.129607</td>\n",
              "      <td>-0.085672</td>\n",
              "      <td>0.229547</td>\n",
              "      <td>0.144614</td>\n",
              "      <td>0.718555</td>\n",
              "    </tr>\n",
              "    <tr>\n",
              "      <th>floors</th>\n",
              "      <td>0.181105</td>\n",
              "      <td>0.500661</td>\n",
              "      <td>0.353941</td>\n",
              "      <td>-0.005181</td>\n",
              "      <td>1.000000</td>\n",
              "      <td>0.023708</td>\n",
              "      <td>0.029312</td>\n",
              "      <td>-0.263717</td>\n",
              "      <td>0.458140</td>\n",
              "      <td>0.523856</td>\n",
              "      <td>-0.245653</td>\n",
              "      <td>0.489330</td>\n",
              "      <td>0.006147</td>\n",
              "      <td>-0.059007</td>\n",
              "      <td>0.049634</td>\n",
              "      <td>0.125312</td>\n",
              "      <td>0.279832</td>\n",
              "      <td>-0.011263</td>\n",
              "    </tr>\n",
              "    <tr>\n",
              "      <th>waterfront</th>\n",
              "      <td>-0.006612</td>\n",
              "      <td>0.063745</td>\n",
              "      <td>0.103819</td>\n",
              "      <td>0.021600</td>\n",
              "      <td>0.023708</td>\n",
              "      <td>1.000000</td>\n",
              "      <td>0.401992</td>\n",
              "      <td>0.016665</td>\n",
              "      <td>0.082783</td>\n",
              "      <td>0.072078</td>\n",
              "      <td>0.080588</td>\n",
              "      <td>-0.026163</td>\n",
              "      <td>0.092950</td>\n",
              "      <td>0.030279</td>\n",
              "      <td>-0.014268</td>\n",
              "      <td>-0.041908</td>\n",
              "      <td>0.086467</td>\n",
              "      <td>0.030700</td>\n",
              "    </tr>\n",
              "    <tr>\n",
              "      <th>view</th>\n",
              "      <td>0.081829</td>\n",
              "      <td>0.187886</td>\n",
              "      <td>0.284636</td>\n",
              "      <td>0.074750</td>\n",
              "      <td>0.029312</td>\n",
              "      <td>0.401992</td>\n",
              "      <td>1.000000</td>\n",
              "      <td>0.045877</td>\n",
              "      <td>0.251372</td>\n",
              "      <td>0.167650</td>\n",
              "      <td>0.277009</td>\n",
              "      <td>-0.053242</td>\n",
              "      <td>0.103206</td>\n",
              "      <td>0.084845</td>\n",
              "      <td>0.006062</td>\n",
              "      <td>-0.078573</td>\n",
              "      <td>0.280397</td>\n",
              "      <td>0.072573</td>\n",
              "    </tr>\n",
              "    <tr>\n",
              "      <th>condition</th>\n",
              "      <td>0.025426</td>\n",
              "      <td>-0.124904</td>\n",
              "      <td>-0.058720</td>\n",
              "      <td>-0.008944</td>\n",
              "      <td>-0.263717</td>\n",
              "      <td>0.016665</td>\n",
              "      <td>0.045877</td>\n",
              "      <td>1.000000</td>\n",
              "      <td>-0.144612</td>\n",
              "      <td>-0.158135</td>\n",
              "      <td>0.174023</td>\n",
              "      <td>-0.361310</td>\n",
              "      <td>-0.060847</td>\n",
              "      <td>0.002910</td>\n",
              "      <td>-0.015078</td>\n",
              "      <td>-0.106435</td>\n",
              "      <td>-0.092760</td>\n",
              "      <td>-0.003391</td>\n",
              "    </tr>\n",
              "    <tr>\n",
              "      <th>grade</th>\n",
              "      <td>0.366539</td>\n",
              "      <td>0.664986</td>\n",
              "      <td>0.762716</td>\n",
              "      <td>0.113640</td>\n",
              "      <td>0.458140</td>\n",
              "      <td>0.082783</td>\n",
              "      <td>0.251372</td>\n",
              "      <td>-0.144612</td>\n",
              "      <td>1.000000</td>\n",
              "      <td>0.755915</td>\n",
              "      <td>0.168463</td>\n",
              "      <td>0.446955</td>\n",
              "      <td>0.014367</td>\n",
              "      <td>-0.184785</td>\n",
              "      <td>0.114113</td>\n",
              "      <td>0.198330</td>\n",
              "      <td>0.713204</td>\n",
              "      <td>0.119259</td>\n",
              "    </tr>\n",
              "    <tr>\n",
              "      <th>sqft_above</th>\n",
              "      <td>0.490619</td>\n",
              "      <td>0.685348</td>\n",
              "      <td>0.876601</td>\n",
              "      <td>0.183521</td>\n",
              "      <td>0.523856</td>\n",
              "      <td>0.072078</td>\n",
              "      <td>0.167650</td>\n",
              "      <td>-0.158135</td>\n",
              "      <td>0.755915</td>\n",
              "      <td>1.000000</td>\n",
              "      <td>-0.051897</td>\n",
              "      <td>0.423903</td>\n",
              "      <td>0.023225</td>\n",
              "      <td>-0.261149</td>\n",
              "      <td>-0.000785</td>\n",
              "      <td>0.343768</td>\n",
              "      <td>0.731859</td>\n",
              "      <td>0.194051</td>\n",
              "    </tr>\n",
              "    <tr>\n",
              "      <th>sqft_basement</th>\n",
              "      <td>0.309473</td>\n",
              "      <td>0.283833</td>\n",
              "      <td>0.435076</td>\n",
              "      <td>0.015278</td>\n",
              "      <td>-0.245653</td>\n",
              "      <td>0.080588</td>\n",
              "      <td>0.277009</td>\n",
              "      <td>0.174023</td>\n",
              "      <td>0.168463</td>\n",
              "      <td>-0.051897</td>\n",
              "      <td>1.000000</td>\n",
              "      <td>-0.133040</td>\n",
              "      <td>0.071327</td>\n",
              "      <td>0.074768</td>\n",
              "      <td>0.110510</td>\n",
              "      <td>-0.144722</td>\n",
              "      <td>0.200402</td>\n",
              "      <td>0.017269</td>\n",
              "    </tr>\n",
              "    <tr>\n",
              "      <th>yr_built</th>\n",
              "      <td>0.159268</td>\n",
              "      <td>0.505989</td>\n",
              "      <td>0.318087</td>\n",
              "      <td>0.053098</td>\n",
              "      <td>0.489330</td>\n",
              "      <td>-0.026163</td>\n",
              "      <td>-0.053242</td>\n",
              "      <td>-0.361310</td>\n",
              "      <td>0.446955</td>\n",
              "      <td>0.423903</td>\n",
              "      <td>-0.133040</td>\n",
              "      <td>1.000000</td>\n",
              "      <td>-0.224740</td>\n",
              "      <td>-0.346797</td>\n",
              "      <td>-0.148069</td>\n",
              "      <td>0.409376</td>\n",
              "      <td>0.326273</td>\n",
              "      <td>0.070989</td>\n",
              "    </tr>\n",
              "    <tr>\n",
              "      <th>yr_renovated</th>\n",
              "      <td>0.019468</td>\n",
              "      <td>0.050875</td>\n",
              "      <td>0.055310</td>\n",
              "      <td>0.007675</td>\n",
              "      <td>0.006147</td>\n",
              "      <td>0.092950</td>\n",
              "      <td>0.103206</td>\n",
              "      <td>-0.060847</td>\n",
              "      <td>0.014367</td>\n",
              "      <td>0.023225</td>\n",
              "      <td>0.071327</td>\n",
              "      <td>-0.224740</td>\n",
              "      <td>1.000000</td>\n",
              "      <td>0.064393</td>\n",
              "      <td>0.029280</td>\n",
              "      <td>-0.068604</td>\n",
              "      <td>-0.002851</td>\n",
              "      <td>0.007834</td>\n",
              "    </tr>\n",
              "    <tr>\n",
              "      <th>zipcode</th>\n",
              "      <td>-0.157146</td>\n",
              "      <td>-0.203823</td>\n",
              "      <td>-0.199426</td>\n",
              "      <td>-0.129607</td>\n",
              "      <td>-0.059007</td>\n",
              "      <td>0.030279</td>\n",
              "      <td>0.084845</td>\n",
              "      <td>0.002910</td>\n",
              "      <td>-0.184785</td>\n",
              "      <td>-0.261149</td>\n",
              "      <td>0.074768</td>\n",
              "      <td>-0.346797</td>\n",
              "      <td>0.064393</td>\n",
              "      <td>1.000000</td>\n",
              "      <td>0.267051</td>\n",
              "      <td>-0.564063</td>\n",
              "      <td>-0.279019</td>\n",
              "      <td>-0.147252</td>\n",
              "    </tr>\n",
              "    <tr>\n",
              "      <th>lat</th>\n",
              "      <td>-0.010563</td>\n",
              "      <td>0.024611</td>\n",
              "      <td>0.052544</td>\n",
              "      <td>-0.085672</td>\n",
              "      <td>0.049634</td>\n",
              "      <td>-0.014268</td>\n",
              "      <td>0.006062</td>\n",
              "      <td>-0.015078</td>\n",
              "      <td>0.114113</td>\n",
              "      <td>-0.000785</td>\n",
              "      <td>0.110510</td>\n",
              "      <td>-0.148069</td>\n",
              "      <td>0.029280</td>\n",
              "      <td>0.267051</td>\n",
              "      <td>1.000000</td>\n",
              "      <td>-0.135514</td>\n",
              "      <td>0.048881</td>\n",
              "      <td>-0.086412</td>\n",
              "    </tr>\n",
              "    <tr>\n",
              "      <th>long</th>\n",
              "      <td>0.133883</td>\n",
              "      <td>0.223033</td>\n",
              "      <td>0.240207</td>\n",
              "      <td>0.229547</td>\n",
              "      <td>0.125312</td>\n",
              "      <td>-0.041908</td>\n",
              "      <td>-0.078573</td>\n",
              "      <td>-0.106435</td>\n",
              "      <td>0.198330</td>\n",
              "      <td>0.343768</td>\n",
              "      <td>-0.144722</td>\n",
              "      <td>0.409376</td>\n",
              "      <td>-0.068604</td>\n",
              "      <td>-0.564063</td>\n",
              "      <td>-0.135514</td>\n",
              "      <td>1.000000</td>\n",
              "      <td>0.334567</td>\n",
              "      <td>0.254468</td>\n",
              "    </tr>\n",
              "    <tr>\n",
              "      <th>sqft_living15</th>\n",
              "      <td>0.402621</td>\n",
              "      <td>0.568659</td>\n",
              "      <td>0.756418</td>\n",
              "      <td>0.144614</td>\n",
              "      <td>0.279832</td>\n",
              "      <td>0.086467</td>\n",
              "      <td>0.280397</td>\n",
              "      <td>-0.092760</td>\n",
              "      <td>0.713204</td>\n",
              "      <td>0.731859</td>\n",
              "      <td>0.200402</td>\n",
              "      <td>0.326273</td>\n",
              "      <td>-0.002851</td>\n",
              "      <td>-0.279019</td>\n",
              "      <td>0.048881</td>\n",
              "      <td>0.334567</td>\n",
              "      <td>1.000000</td>\n",
              "      <td>0.183185</td>\n",
              "    </tr>\n",
              "    <tr>\n",
              "      <th>sqft_lot15</th>\n",
              "      <td>0.030391</td>\n",
              "      <td>0.087185</td>\n",
              "      <td>0.183280</td>\n",
              "      <td>0.718555</td>\n",
              "      <td>-0.011263</td>\n",
              "      <td>0.030700</td>\n",
              "      <td>0.072573</td>\n",
              "      <td>-0.003391</td>\n",
              "      <td>0.119259</td>\n",
              "      <td>0.194051</td>\n",
              "      <td>0.017269</td>\n",
              "      <td>0.070989</td>\n",
              "      <td>0.007834</td>\n",
              "      <td>-0.147252</td>\n",
              "      <td>-0.086412</td>\n",
              "      <td>0.254468</td>\n",
              "      <td>0.183185</td>\n",
              "      <td>1.000000</td>\n",
              "    </tr>\n",
              "  </tbody>\n",
              "</table>\n",
              "</div>"
            ],
            "text/plain": [
              "               bedrooms  bathrooms  ...  sqft_living15  sqft_lot15\n",
              "bedrooms       1.000000   0.529212  ...       0.402621    0.030391\n",
              "bathrooms      0.529212   1.000000  ...       0.568659    0.087185\n",
              "sqft_living    0.591471   0.754685  ...       0.756418    0.183280\n",
              "sqft_lot       0.032803   0.087746  ...       0.144614    0.718555\n",
              "floors         0.181105   0.500661  ...       0.279832   -0.011263\n",
              "waterfront    -0.006612   0.063745  ...       0.086467    0.030700\n",
              "view           0.081829   0.187886  ...       0.280397    0.072573\n",
              "condition      0.025426  -0.124904  ...      -0.092760   -0.003391\n",
              "grade          0.366539   0.664986  ...       0.713204    0.119259\n",
              "sqft_above     0.490619   0.685348  ...       0.731859    0.194051\n",
              "sqft_basement  0.309473   0.283833  ...       0.200402    0.017269\n",
              "yr_built       0.159268   0.505989  ...       0.326273    0.070989\n",
              "yr_renovated   0.019468   0.050875  ...      -0.002851    0.007834\n",
              "zipcode       -0.157146  -0.203823  ...      -0.279019   -0.147252\n",
              "lat           -0.010563   0.024611  ...       0.048881   -0.086412\n",
              "long           0.133883   0.223033  ...       0.334567    0.254468\n",
              "sqft_living15  0.402621   0.568659  ...       1.000000    0.183185\n",
              "sqft_lot15     0.030391   0.087185  ...       0.183185    1.000000\n",
              "\n",
              "[18 rows x 18 columns]"
            ]
          },
          "metadata": {
            "tags": []
          },
          "execution_count": 30
        }
      ]
    },
    {
      "cell_type": "code",
      "metadata": {
        "id": "ycpJUmGlRfUx",
        "colab_type": "code",
        "colab": {
          "base_uri": "https://localhost:8080/",
          "height": 627
        },
        "outputId": "19156c47-a187-409f-a652-25f8f304b23c"
      },
      "source": [
        "#plotting the VIF scores.\n",
        "VIF=pd.DataFrame(np.linalg.inv(ind_corr.values), index = ind_corr.index, columns=ind_corr.columns)\n",
        "VIF"
      ],
      "execution_count": 31,
      "outputs": [
        {
          "output_type": "execute_result",
          "data": {
            "text/html": [
              "<div>\n",
              "<style scoped>\n",
              "    .dataframe tbody tr th:only-of-type {\n",
              "        vertical-align: middle;\n",
              "    }\n",
              "\n",
              "    .dataframe tbody tr th {\n",
              "        vertical-align: top;\n",
              "    }\n",
              "\n",
              "    .dataframe thead th {\n",
              "        text-align: right;\n",
              "    }\n",
              "</style>\n",
              "<table border=\"1\" class=\"dataframe\">\n",
              "  <thead>\n",
              "    <tr style=\"text-align: right;\">\n",
              "      <th></th>\n",
              "      <th>bedrooms</th>\n",
              "      <th>bathrooms</th>\n",
              "      <th>sqft_living</th>\n",
              "      <th>sqft_lot</th>\n",
              "      <th>floors</th>\n",
              "      <th>waterfront</th>\n",
              "      <th>view</th>\n",
              "      <th>condition</th>\n",
              "      <th>grade</th>\n",
              "      <th>sqft_above</th>\n",
              "      <th>sqft_basement</th>\n",
              "      <th>yr_built</th>\n",
              "      <th>yr_renovated</th>\n",
              "      <th>zipcode</th>\n",
              "      <th>lat</th>\n",
              "      <th>long</th>\n",
              "      <th>sqft_living15</th>\n",
              "      <th>sqft_lot15</th>\n",
              "    </tr>\n",
              "  </thead>\n",
              "  <tbody>\n",
              "    <tr>\n",
              "      <th>bedrooms</th>\n",
              "      <td>1.708179</td>\n",
              "      <td>-0.488648</td>\n",
              "      <td>2.067323e-01</td>\n",
              "      <td>0.052558</td>\n",
              "      <td>0.051429</td>\n",
              "      <td>0.066943</td>\n",
              "      <td>0.120389</td>\n",
              "      <td>-0.047054</td>\n",
              "      <td>0.325733</td>\n",
              "      <td>-1.107333e+00</td>\n",
              "      <td>-6.092774e-01</td>\n",
              "      <td>0.144744</td>\n",
              "      <td>0.048712</td>\n",
              "      <td>0.084913</td>\n",
              "      <td>0.056560</td>\n",
              "      <td>0.017398</td>\n",
              "      <td>0.024038</td>\n",
              "      <td>0.090219</td>\n",
              "    </tr>\n",
              "    <tr>\n",
              "      <th>bathrooms</th>\n",
              "      <td>-0.488648</td>\n",
              "      <td>3.362129</td>\n",
              "      <td>-1.209962e+00</td>\n",
              "      <td>-0.025292</td>\n",
              "      <td>-0.676183</td>\n",
              "      <td>0.008564</td>\n",
              "      <td>-0.044867</td>\n",
              "      <td>-0.137923</td>\n",
              "      <td>-0.275381</td>\n",
              "      <td>-1.736268e-01</td>\n",
              "      <td>-4.910383e-01</td>\n",
              "      <td>-0.939565</td>\n",
              "      <td>-0.261578</td>\n",
              "      <td>0.039889</td>\n",
              "      <td>-0.043060</td>\n",
              "      <td>0.053665</td>\n",
              "      <td>0.092202</td>\n",
              "      <td>0.069490</td>\n",
              "    </tr>\n",
              "    <tr>\n",
              "      <th>sqft_living</th>\n",
              "      <td>0.194005</td>\n",
              "      <td>-1.197846</td>\n",
              "      <td>-4.827045e+13</td>\n",
              "      <td>0.049658</td>\n",
              "      <td>0.983513</td>\n",
              "      <td>-0.005151</td>\n",
              "      <td>-0.214448</td>\n",
              "      <td>-0.840275</td>\n",
              "      <td>-0.261274</td>\n",
              "      <td>4.352106e+13</td>\n",
              "      <td>2.325994e+13</td>\n",
              "      <td>-0.065527</td>\n",
              "      <td>-0.606935</td>\n",
              "      <td>-0.260367</td>\n",
              "      <td>-0.184712</td>\n",
              "      <td>0.343203</td>\n",
              "      <td>-0.875919</td>\n",
              "      <td>-0.165058</td>\n",
              "    </tr>\n",
              "    <tr>\n",
              "      <th>sqft_lot</th>\n",
              "      <td>0.052558</td>\n",
              "      <td>-0.025292</td>\n",
              "      <td>4.603029e-02</td>\n",
              "      <td>2.102667</td>\n",
              "      <td>0.045271</td>\n",
              "      <td>0.027546</td>\n",
              "      <td>-0.058823</td>\n",
              "      <td>0.030596</td>\n",
              "      <td>-0.053004</td>\n",
              "      <td>-2.426676e-01</td>\n",
              "      <td>-6.596182e-02</td>\n",
              "      <td>0.099175</td>\n",
              "      <td>0.021426</td>\n",
              "      <td>-0.002361</td>\n",
              "      <td>0.053566</td>\n",
              "      <td>-0.133195</td>\n",
              "      <td>0.163908</td>\n",
              "      <td>-1.459078</td>\n",
              "    </tr>\n",
              "    <tr>\n",
              "      <th>floors</th>\n",
              "      <td>0.051429</td>\n",
              "      <td>-0.676183</td>\n",
              "      <td>9.908513e-01</td>\n",
              "      <td>0.045271</td>\n",
              "      <td>2.011953</td>\n",
              "      <td>-0.005413</td>\n",
              "      <td>-0.039886</td>\n",
              "      <td>0.089866</td>\n",
              "      <td>-0.230281</td>\n",
              "      <td>-1.397198e+00</td>\n",
              "      <td>1.375796e-01</td>\n",
              "      <td>-0.481030</td>\n",
              "      <td>-0.079901</td>\n",
              "      <td>-0.170674</td>\n",
              "      <td>-0.127372</td>\n",
              "      <td>0.164281</td>\n",
              "      <td>0.272608</td>\n",
              "      <td>0.072797</td>\n",
              "    </tr>\n",
              "    <tr>\n",
              "      <th>waterfront</th>\n",
              "      <td>0.066943</td>\n",
              "      <td>0.008564</td>\n",
              "      <td>-4.953600e-03</td>\n",
              "      <td>0.027546</td>\n",
              "      <td>-0.005413</td>\n",
              "      <td>1.204185</td>\n",
              "      <td>-0.492505</td>\n",
              "      <td>-0.012723</td>\n",
              "      <td>0.050319</td>\n",
              "      <td>-1.103144e-01</td>\n",
              "      <td>-2.734635e-03</td>\n",
              "      <td>-0.020563</td>\n",
              "      <td>-0.065690</td>\n",
              "      <td>0.022829</td>\n",
              "      <td>0.010093</td>\n",
              "      <td>0.027251</td>\n",
              "      <td>0.054370</td>\n",
              "      <td>-0.018206</td>\n",
              "    </tr>\n",
              "    <tr>\n",
              "      <th>view</th>\n",
              "      <td>0.120389</td>\n",
              "      <td>-0.044867</td>\n",
              "      <td>-2.152069e-01</td>\n",
              "      <td>-0.058823</td>\n",
              "      <td>-0.039886</td>\n",
              "      <td>-0.492505</td>\n",
              "      <td>1.435878</td>\n",
              "      <td>-0.020969</td>\n",
              "      <td>-0.183574</td>\n",
              "      <td>2.277786e-01</td>\n",
              "      <td>-1.556890e-01</td>\n",
              "      <td>0.152555</td>\n",
              "      <td>-0.038859</td>\n",
              "      <td>-0.140206</td>\n",
              "      <td>0.119081</td>\n",
              "      <td>0.071950</td>\n",
              "      <td>-0.325422</td>\n",
              "      <td>-0.007025</td>\n",
              "    </tr>\n",
              "    <tr>\n",
              "      <th>condition</th>\n",
              "      <td>-0.047054</td>\n",
              "      <td>-0.137923</td>\n",
              "      <td>-8.395335e-01</td>\n",
              "      <td>0.030596</td>\n",
              "      <td>0.089866</td>\n",
              "      <td>-0.012723</td>\n",
              "      <td>-0.020969</td>\n",
              "      <td>1.249197</td>\n",
              "      <td>-0.054037</td>\n",
              "      <td>8.108383e-01</td>\n",
              "      <td>3.062585e-01</td>\n",
              "      <td>0.561662</td>\n",
              "      <td>0.206956</td>\n",
              "      <td>0.161374</td>\n",
              "      <td>0.063840</td>\n",
              "      <td>-0.006870</td>\n",
              "      <td>0.075885</td>\n",
              "      <td>-0.028117</td>\n",
              "    </tr>\n",
              "    <tr>\n",
              "      <th>grade</th>\n",
              "      <td>0.325733</td>\n",
              "      <td>-0.275381</td>\n",
              "      <td>-2.534438e-01</td>\n",
              "      <td>-0.053004</td>\n",
              "      <td>-0.230281</td>\n",
              "      <td>0.050319</td>\n",
              "      <td>-0.183574</td>\n",
              "      <td>-0.054037</td>\n",
              "      <td>3.422025</td>\n",
              "      <td>-1.393599e+00</td>\n",
              "      <td>-3.712849e-01</td>\n",
              "      <td>-0.636270</td>\n",
              "      <td>-0.070690</td>\n",
              "      <td>0.084451</td>\n",
              "      <td>-0.329498</td>\n",
              "      <td>0.393758</td>\n",
              "      <td>-0.911700</td>\n",
              "      <td>0.073197</td>\n",
              "    </tr>\n",
              "    <tr>\n",
              "      <th>sqft_above</th>\n",
              "      <td>-1.101287</td>\n",
              "      <td>-0.172478</td>\n",
              "      <td>4.352106e+13</td>\n",
              "      <td>-0.246466</td>\n",
              "      <td>-1.392610</td>\n",
              "      <td>-0.110250</td>\n",
              "      <td>0.228012</td>\n",
              "      <td>0.811821</td>\n",
              "      <td>-1.388122</td>\n",
              "      <td>-3.923897e+13</td>\n",
              "      <td>-2.097136e+13</td>\n",
              "      <td>0.571714</td>\n",
              "      <td>0.543930</td>\n",
              "      <td>0.155530</td>\n",
              "      <td>0.343817</td>\n",
              "      <td>-0.651301</td>\n",
              "      <td>-0.745516</td>\n",
              "      <td>-0.030576</td>\n",
              "    </tr>\n",
              "    <tr>\n",
              "      <th>sqft_basement</th>\n",
              "      <td>-0.605774</td>\n",
              "      <td>-0.490921</td>\n",
              "      <td>2.325994e+13</td>\n",
              "      <td>-0.067811</td>\n",
              "      <td>0.140448</td>\n",
              "      <td>-0.002766</td>\n",
              "      <td>-0.155634</td>\n",
              "      <td>0.306706</td>\n",
              "      <td>-0.368133</td>\n",
              "      <td>-2.097136e+13</td>\n",
              "      <td>-1.120819e+13</td>\n",
              "      <td>0.272850</td>\n",
              "      <td>0.277220</td>\n",
              "      <td>0.042224</td>\n",
              "      <td>0.005777</td>\n",
              "      <td>-0.017709</td>\n",
              "      <td>-0.048823</td>\n",
              "      <td>0.017954</td>\n",
              "    </tr>\n",
              "    <tr>\n",
              "      <th>yr_built</th>\n",
              "      <td>0.144744</td>\n",
              "      <td>-0.939565</td>\n",
              "      <td>-6.772535e-02</td>\n",
              "      <td>0.099175</td>\n",
              "      <td>-0.481030</td>\n",
              "      <td>-0.020563</td>\n",
              "      <td>0.152555</td>\n",
              "      <td>0.561662</td>\n",
              "      <td>-0.636270</td>\n",
              "      <td>5.736959e-01</td>\n",
              "      <td>2.739095e-01</td>\n",
              "      <td>2.431498</td>\n",
              "      <td>0.534118</td>\n",
              "      <td>0.257463</td>\n",
              "      <td>0.311108</td>\n",
              "      <td>-0.505453</td>\n",
              "      <td>0.077628</td>\n",
              "      <td>-0.033058</td>\n",
              "    </tr>\n",
              "    <tr>\n",
              "      <th>yr_renovated</th>\n",
              "      <td>0.048712</td>\n",
              "      <td>-0.261578</td>\n",
              "      <td>-6.075184e-01</td>\n",
              "      <td>0.021426</td>\n",
              "      <td>-0.079901</td>\n",
              "      <td>-0.065690</td>\n",
              "      <td>-0.038859</td>\n",
              "      <td>0.206956</td>\n",
              "      <td>-0.070690</td>\n",
              "      <td>5.444557e-01</td>\n",
              "      <td>2.775008e-01</td>\n",
              "      <td>0.534118</td>\n",
              "      <td>1.150616</td>\n",
              "      <td>0.037005</td>\n",
              "      <td>0.046353</td>\n",
              "      <td>-0.054093</td>\n",
              "      <td>0.099244</td>\n",
              "      <td>-0.021991</td>\n",
              "    </tr>\n",
              "    <tr>\n",
              "      <th>zipcode</th>\n",
              "      <td>0.084913</td>\n",
              "      <td>0.039889</td>\n",
              "      <td>-2.572605e-01</td>\n",
              "      <td>-0.002361</td>\n",
              "      <td>-0.170674</td>\n",
              "      <td>0.022829</td>\n",
              "      <td>-0.140206</td>\n",
              "      <td>0.161374</td>\n",
              "      <td>0.084451</td>\n",
              "      <td>1.527292e-01</td>\n",
              "      <td>4.072702e-02</td>\n",
              "      <td>0.257463</td>\n",
              "      <td>0.037005</td>\n",
              "      <td>1.662455</td>\n",
              "      <td>-0.307757</td>\n",
              "      <td>0.733909</td>\n",
              "      <td>0.210202</td>\n",
              "      <td>-0.015148</td>\n",
              "    </tr>\n",
              "    <tr>\n",
              "      <th>lat</th>\n",
              "      <td>0.056560</td>\n",
              "      <td>-0.043060</td>\n",
              "      <td>-1.860216e-01</td>\n",
              "      <td>0.053566</td>\n",
              "      <td>-0.127372</td>\n",
              "      <td>0.010093</td>\n",
              "      <td>0.119081</td>\n",
              "      <td>0.063840</td>\n",
              "      <td>-0.329498</td>\n",
              "      <td>3.449975e-01</td>\n",
              "      <td>6.408372e-03</td>\n",
              "      <td>0.311108</td>\n",
              "      <td>0.046353</td>\n",
              "      <td>-0.307757</td>\n",
              "      <td>1.180958</td>\n",
              "      <td>-0.100799</td>\n",
              "      <td>-0.094822</td>\n",
              "      <td>0.037010</td>\n",
              "    </tr>\n",
              "    <tr>\n",
              "      <th>long</th>\n",
              "      <td>0.017398</td>\n",
              "      <td>0.053665</td>\n",
              "      <td>3.488945e-01</td>\n",
              "      <td>-0.133195</td>\n",
              "      <td>0.164281</td>\n",
              "      <td>0.027251</td>\n",
              "      <td>0.071950</td>\n",
              "      <td>-0.006870</td>\n",
              "      <td>0.393758</td>\n",
              "      <td>-6.564328e-01</td>\n",
              "      <td>-2.045156e-02</td>\n",
              "      <td>-0.505453</td>\n",
              "      <td>-0.054093</td>\n",
              "      <td>0.733909</td>\n",
              "      <td>-0.100799</td>\n",
              "      <td>1.825606</td>\n",
              "      <td>-0.354481</td>\n",
              "      <td>-0.160859</td>\n",
              "    </tr>\n",
              "    <tr>\n",
              "      <th>sqft_living15</th>\n",
              "      <td>0.024038</td>\n",
              "      <td>0.092202</td>\n",
              "      <td>-8.842416e-01</td>\n",
              "      <td>0.163908</td>\n",
              "      <td>0.272608</td>\n",
              "      <td>0.054370</td>\n",
              "      <td>-0.325422</td>\n",
              "      <td>0.075885</td>\n",
              "      <td>-0.911700</td>\n",
              "      <td>-7.380122e-01</td>\n",
              "      <td>-4.481312e-02</td>\n",
              "      <td>0.077628</td>\n",
              "      <td>0.099244</td>\n",
              "      <td>0.210202</td>\n",
              "      <td>-0.094822</td>\n",
              "      <td>-0.354481</td>\n",
              "      <td>2.979524</td>\n",
              "      <td>-0.125623</td>\n",
              "    </tr>\n",
              "    <tr>\n",
              "      <th>sqft_lot15</th>\n",
              "      <td>0.090219</td>\n",
              "      <td>0.069490</td>\n",
              "      <td>-1.607310e-01</td>\n",
              "      <td>-1.459078</td>\n",
              "      <td>0.072797</td>\n",
              "      <td>-0.018206</td>\n",
              "      <td>-0.007025</td>\n",
              "      <td>-0.028117</td>\n",
              "      <td>0.073197</td>\n",
              "      <td>-3.447731e-02</td>\n",
              "      <td>1.586855e-02</td>\n",
              "      <td>-0.033058</td>\n",
              "      <td>-0.021991</td>\n",
              "      <td>-0.015148</td>\n",
              "      <td>0.037010</td>\n",
              "      <td>-0.160859</td>\n",
              "      <td>-0.125623</td>\n",
              "      <td>2.136000</td>\n",
              "    </tr>\n",
              "  </tbody>\n",
              "</table>\n",
              "</div>"
            ],
            "text/plain": [
              "               bedrooms  bathrooms  ...  sqft_living15  sqft_lot15\n",
              "bedrooms       1.708179  -0.488648  ...       0.024038    0.090219\n",
              "bathrooms     -0.488648   3.362129  ...       0.092202    0.069490\n",
              "sqft_living    0.194005  -1.197846  ...      -0.875919   -0.165058\n",
              "sqft_lot       0.052558  -0.025292  ...       0.163908   -1.459078\n",
              "floors         0.051429  -0.676183  ...       0.272608    0.072797\n",
              "waterfront     0.066943   0.008564  ...       0.054370   -0.018206\n",
              "view           0.120389  -0.044867  ...      -0.325422   -0.007025\n",
              "condition     -0.047054  -0.137923  ...       0.075885   -0.028117\n",
              "grade          0.325733  -0.275381  ...      -0.911700    0.073197\n",
              "sqft_above    -1.101287  -0.172478  ...      -0.745516   -0.030576\n",
              "sqft_basement -0.605774  -0.490921  ...      -0.048823    0.017954\n",
              "yr_built       0.144744  -0.939565  ...       0.077628   -0.033058\n",
              "yr_renovated   0.048712  -0.261578  ...       0.099244   -0.021991\n",
              "zipcode        0.084913   0.039889  ...       0.210202   -0.015148\n",
              "lat            0.056560  -0.043060  ...      -0.094822    0.037010\n",
              "long           0.017398   0.053665  ...      -0.354481   -0.160859\n",
              "sqft_living15  0.024038   0.092202  ...       2.979524   -0.125623\n",
              "sqft_lot15     0.090219   0.069490  ...      -0.125623    2.136000\n",
              "\n",
              "[18 rows x 18 columns]"
            ]
          },
          "metadata": {
            "tags": []
          },
          "execution_count": 31
        }
      ]
    },
    {
      "cell_type": "markdown",
      "metadata": {
        "id": "4MSKBAMimzys",
        "colab_type": "text"
      },
      "source": [
        "We are able to see that sqft_living, sqft_above and sqft_basement have very high values(higher than 5) and we are going to remove them inorder to see if there will be any change."
      ]
    },
    {
      "cell_type": "code",
      "metadata": {
        "id": "WiDNecA5dw81",
        "colab_type": "code",
        "colab": {}
      },
      "source": [
        "#dropping the columns.\n",
        "#creating a new data frame without the columns.\n",
        "vif_most = ['sqft_living', 'sqft_above', 'sqft_basement']\n",
        "independent_new = independent.drop(columns = vif_most, axis = 1)"
      ],
      "execution_count": 32,
      "outputs": []
    },
    {
      "cell_type": "code",
      "metadata": {
        "id": "rRZxnWCod8CJ",
        "colab_type": "code",
        "colab": {
          "base_uri": "https://localhost:8080/",
          "height": 534
        },
        "outputId": "f2654b01-4fd8-445c-c565-807733fdfd59"
      },
      "source": [
        "#a new vifs for the independent variables.\n",
        "new_corr = independent_new.corr()\n",
        "pd.DataFrame(np.linalg.inv(new_corr.values), index = new_corr.index, columns = new_corr.columns)"
      ],
      "execution_count": 33,
      "outputs": [
        {
          "output_type": "execute_result",
          "data": {
            "text/html": [
              "<div>\n",
              "<style scoped>\n",
              "    .dataframe tbody tr th:only-of-type {\n",
              "        vertical-align: middle;\n",
              "    }\n",
              "\n",
              "    .dataframe tbody tr th {\n",
              "        vertical-align: top;\n",
              "    }\n",
              "\n",
              "    .dataframe thead th {\n",
              "        text-align: right;\n",
              "    }\n",
              "</style>\n",
              "<table border=\"1\" class=\"dataframe\">\n",
              "  <thead>\n",
              "    <tr style=\"text-align: right;\">\n",
              "      <th></th>\n",
              "      <th>bedrooms</th>\n",
              "      <th>bathrooms</th>\n",
              "      <th>sqft_lot</th>\n",
              "      <th>floors</th>\n",
              "      <th>waterfront</th>\n",
              "      <th>view</th>\n",
              "      <th>condition</th>\n",
              "      <th>grade</th>\n",
              "      <th>yr_built</th>\n",
              "      <th>yr_renovated</th>\n",
              "      <th>zipcode</th>\n",
              "      <th>lat</th>\n",
              "      <th>long</th>\n",
              "      <th>sqft_living15</th>\n",
              "      <th>sqft_lot15</th>\n",
              "    </tr>\n",
              "  </thead>\n",
              "  <tbody>\n",
              "    <tr>\n",
              "      <th>bedrooms</th>\n",
              "      <td>1.494665</td>\n",
              "      <td>-0.836201</td>\n",
              "      <td>0.016679</td>\n",
              "      <td>0.075035</td>\n",
              "      <td>0.049601</td>\n",
              "      <td>0.084766</td>\n",
              "      <td>-0.054656</td>\n",
              "      <td>0.014828</td>\n",
              "      <td>0.256279</td>\n",
              "      <td>0.045849</td>\n",
              "      <td>0.060471</td>\n",
              "      <td>0.068998</td>\n",
              "      <td>-0.008598</td>\n",
              "      <td>-0.270525</td>\n",
              "      <td>0.054771</td>\n",
              "    </tr>\n",
              "    <tr>\n",
              "      <th>bathrooms</th>\n",
              "      <td>-0.836201</td>\n",
              "      <td>2.727164</td>\n",
              "      <td>-0.071221</td>\n",
              "      <td>-0.472922</td>\n",
              "      <td>-0.008918</td>\n",
              "      <td>-0.154130</td>\n",
              "      <td>-0.173928</td>\n",
              "      <td>-0.707007</td>\n",
              "      <td>-0.765794</td>\n",
              "      <td>-0.268713</td>\n",
              "      <td>-0.007165</td>\n",
              "      <td>-0.056233</td>\n",
              "      <td>0.073427</td>\n",
              "      <td>-0.317575</td>\n",
              "      <td>0.018725</td>\n",
              "    </tr>\n",
              "    <tr>\n",
              "      <th>sqft_lot</th>\n",
              "      <td>0.016679</td>\n",
              "      <td>-0.071221</td>\n",
              "      <td>2.094391</td>\n",
              "      <td>0.019538</td>\n",
              "      <td>0.022696</td>\n",
              "      <td>-0.055570</td>\n",
              "      <td>0.033576</td>\n",
              "      <td>-0.118664</td>\n",
              "      <td>0.119320</td>\n",
              "      <td>0.021391</td>\n",
              "      <td>-0.005158</td>\n",
              "      <td>0.061677</td>\n",
              "      <td>-0.148748</td>\n",
              "      <td>0.101850</td>\n",
              "      <td>-1.466285</td>\n",
              "    </tr>\n",
              "    <tr>\n",
              "      <th>floors</th>\n",
              "      <td>0.075035</td>\n",
              "      <td>-0.472922</td>\n",
              "      <td>0.019538</td>\n",
              "      <td>1.616844</td>\n",
              "      <td>-0.029083</td>\n",
              "      <td>0.086149</td>\n",
              "      <td>0.146975</td>\n",
              "      <td>-0.373203</td>\n",
              "      <td>-0.474829</td>\n",
              "      <td>-0.073692</td>\n",
              "      <td>-0.150663</td>\n",
              "      <td>-0.049175</td>\n",
              "      <td>0.019340</td>\n",
              "      <td>0.139194</td>\n",
              "      <td>0.060200</td>\n",
              "    </tr>\n",
              "    <tr>\n",
              "      <th>waterfront</th>\n",
              "      <td>0.049601</td>\n",
              "      <td>-0.008918</td>\n",
              "      <td>0.022696</td>\n",
              "      <td>-0.029083</td>\n",
              "      <td>1.201108</td>\n",
              "      <td>-0.487439</td>\n",
              "      <td>-0.009673</td>\n",
              "      <td>0.013509</td>\n",
              "      <td>-0.010296</td>\n",
              "      <td>-0.065539</td>\n",
              "      <td>0.021972</td>\n",
              "      <td>0.016290</td>\n",
              "      <td>0.015504</td>\n",
              "      <td>0.019625</td>\n",
              "      <td>-0.022162</td>\n",
              "    </tr>\n",
              "    <tr>\n",
              "      <th>view</th>\n",
              "      <td>0.084766</td>\n",
              "      <td>-0.154130</td>\n",
              "      <td>-0.055570</td>\n",
              "      <td>0.086149</td>\n",
              "      <td>-0.487439</td>\n",
              "      <td>1.391953</td>\n",
              "      <td>-0.039741</td>\n",
              "      <td>-0.180294</td>\n",
              "      <td>0.165399</td>\n",
              "      <td>-0.041169</td>\n",
              "      <td>-0.149668</td>\n",
              "      <td>0.096403</td>\n",
              "      <td>0.113594</td>\n",
              "      <td>-0.322936</td>\n",
              "      <td>-0.007801</td>\n",
              "    </tr>\n",
              "    <tr>\n",
              "      <th>condition</th>\n",
              "      <td>-0.054656</td>\n",
              "      <td>-0.173928</td>\n",
              "      <td>0.033576</td>\n",
              "      <td>0.146975</td>\n",
              "      <td>-0.009673</td>\n",
              "      <td>-0.039741</td>\n",
              "      <td>1.240859</td>\n",
              "      <td>-0.039690</td>\n",
              "      <td>0.562976</td>\n",
              "      <td>0.206009</td>\n",
              "      <td>0.158022</td>\n",
              "      <td>0.052875</td>\n",
              "      <td>0.013395</td>\n",
              "      <td>0.089192</td>\n",
              "      <td>-0.027012</td>\n",
              "    </tr>\n",
              "    <tr>\n",
              "      <th>grade</th>\n",
              "      <td>0.014828</td>\n",
              "      <td>-0.707007</td>\n",
              "      <td>-0.118664</td>\n",
              "      <td>-0.373203</td>\n",
              "      <td>0.013509</td>\n",
              "      <td>-0.180294</td>\n",
              "      <td>-0.039690</td>\n",
              "      <td>2.889219</td>\n",
              "      <td>-0.465489</td>\n",
              "      <td>-0.072197</td>\n",
              "      <td>0.056680</td>\n",
              "      <td>-0.275444</td>\n",
              "      <td>0.289135</td>\n",
              "      <td>-1.415599</td>\n",
              "      <td>0.014119</td>\n",
              "    </tr>\n",
              "    <tr>\n",
              "      <th>yr_built</th>\n",
              "      <td>0.256279</td>\n",
              "      <td>-0.765794</td>\n",
              "      <td>0.119320</td>\n",
              "      <td>-0.474829</td>\n",
              "      <td>-0.010296</td>\n",
              "      <td>0.165399</td>\n",
              "      <td>0.562976</td>\n",
              "      <td>-0.465489</td>\n",
              "      <td>2.372360</td>\n",
              "      <td>0.535335</td>\n",
              "      <td>0.269413</td>\n",
              "      <td>0.300854</td>\n",
              "      <td>-0.484895</td>\n",
              "      <td>0.239337</td>\n",
              "      <td>-0.013761</td>\n",
              "    </tr>\n",
              "    <tr>\n",
              "      <th>yr_renovated</th>\n",
              "      <td>0.045849</td>\n",
              "      <td>-0.268713</td>\n",
              "      <td>0.021391</td>\n",
              "      <td>-0.073692</td>\n",
              "      <td>-0.065539</td>\n",
              "      <td>-0.041169</td>\n",
              "      <td>0.206009</td>\n",
              "      <td>-0.072197</td>\n",
              "      <td>0.535335</td>\n",
              "      <td>1.150489</td>\n",
              "      <td>0.036418</td>\n",
              "      <td>0.045325</td>\n",
              "      <td>-0.052223</td>\n",
              "      <td>0.097787</td>\n",
              "      <td>-0.022218</td>\n",
              "    </tr>\n",
              "    <tr>\n",
              "      <th>zipcode</th>\n",
              "      <td>0.060471</td>\n",
              "      <td>-0.007165</td>\n",
              "      <td>-0.005158</td>\n",
              "      <td>-0.150663</td>\n",
              "      <td>0.021972</td>\n",
              "      <td>-0.149668</td>\n",
              "      <td>0.158022</td>\n",
              "      <td>0.056680</td>\n",
              "      <td>0.269413</td>\n",
              "      <td>0.036418</td>\n",
              "      <td>1.658894</td>\n",
              "      <td>-0.309842</td>\n",
              "      <td>0.737452</td>\n",
              "      <td>0.183802</td>\n",
              "      <td>-0.018477</td>\n",
              "    </tr>\n",
              "    <tr>\n",
              "      <th>lat</th>\n",
              "      <td>0.068998</td>\n",
              "      <td>-0.056233</td>\n",
              "      <td>0.061677</td>\n",
              "      <td>-0.049175</td>\n",
              "      <td>0.016290</td>\n",
              "      <td>0.096403</td>\n",
              "      <td>0.052875</td>\n",
              "      <td>-0.275444</td>\n",
              "      <td>0.300854</td>\n",
              "      <td>0.045325</td>\n",
              "      <td>-0.309842</td>\n",
              "      <td>1.164102</td>\n",
              "      <td>-0.069318</td>\n",
              "      <td>-0.044014</td>\n",
              "      <td>0.042423</td>\n",
              "    </tr>\n",
              "    <tr>\n",
              "      <th>long</th>\n",
              "      <td>-0.008598</td>\n",
              "      <td>0.073427</td>\n",
              "      <td>-0.148748</td>\n",
              "      <td>0.019340</td>\n",
              "      <td>0.015504</td>\n",
              "      <td>0.113594</td>\n",
              "      <td>0.013395</td>\n",
              "      <td>0.289135</td>\n",
              "      <td>-0.484895</td>\n",
              "      <td>-0.052223</td>\n",
              "      <td>0.737452</td>\n",
              "      <td>-0.069318</td>\n",
              "      <td>1.766774</td>\n",
              "      <td>-0.452853</td>\n",
              "      <td>-0.171395</td>\n",
              "    </tr>\n",
              "    <tr>\n",
              "      <th>sqft_living15</th>\n",
              "      <td>-0.270525</td>\n",
              "      <td>-0.317575</td>\n",
              "      <td>0.101850</td>\n",
              "      <td>0.139194</td>\n",
              "      <td>0.019625</td>\n",
              "      <td>-0.322936</td>\n",
              "      <td>0.089192</td>\n",
              "      <td>-1.415599</td>\n",
              "      <td>0.239337</td>\n",
              "      <td>0.097787</td>\n",
              "      <td>0.183802</td>\n",
              "      <td>-0.044014</td>\n",
              "      <td>-0.452853</td>\n",
              "      <td>2.502954</td>\n",
              "      <td>-0.181511</td>\n",
              "    </tr>\n",
              "    <tr>\n",
              "      <th>sqft_lot15</th>\n",
              "      <td>0.054771</td>\n",
              "      <td>0.018725</td>\n",
              "      <td>-1.466285</td>\n",
              "      <td>0.060200</td>\n",
              "      <td>-0.022162</td>\n",
              "      <td>-0.007801</td>\n",
              "      <td>-0.027012</td>\n",
              "      <td>0.014119</td>\n",
              "      <td>-0.013761</td>\n",
              "      <td>-0.022218</td>\n",
              "      <td>-0.018477</td>\n",
              "      <td>0.042423</td>\n",
              "      <td>-0.171395</td>\n",
              "      <td>-0.181511</td>\n",
              "      <td>2.129420</td>\n",
              "    </tr>\n",
              "  </tbody>\n",
              "</table>\n",
              "</div>"
            ],
            "text/plain": [
              "               bedrooms  bathrooms  ...  sqft_living15  sqft_lot15\n",
              "bedrooms       1.494665  -0.836201  ...      -0.270525    0.054771\n",
              "bathrooms     -0.836201   2.727164  ...      -0.317575    0.018725\n",
              "sqft_lot       0.016679  -0.071221  ...       0.101850   -1.466285\n",
              "floors         0.075035  -0.472922  ...       0.139194    0.060200\n",
              "waterfront     0.049601  -0.008918  ...       0.019625   -0.022162\n",
              "view           0.084766  -0.154130  ...      -0.322936   -0.007801\n",
              "condition     -0.054656  -0.173928  ...       0.089192   -0.027012\n",
              "grade          0.014828  -0.707007  ...      -1.415599    0.014119\n",
              "yr_built       0.256279  -0.765794  ...       0.239337   -0.013761\n",
              "yr_renovated   0.045849  -0.268713  ...       0.097787   -0.022218\n",
              "zipcode        0.060471  -0.007165  ...       0.183802   -0.018477\n",
              "lat            0.068998  -0.056233  ...      -0.044014    0.042423\n",
              "long          -0.008598   0.073427  ...      -0.452853   -0.171395\n",
              "sqft_living15 -0.270525  -0.317575  ...       2.502954   -0.181511\n",
              "sqft_lot15     0.054771   0.018725  ...      -0.181511    2.129420\n",
              "\n",
              "[15 rows x 15 columns]"
            ]
          },
          "metadata": {
            "tags": []
          },
          "execution_count": 33
        }
      ]
    },
    {
      "cell_type": "markdown",
      "metadata": {
        "id": "sGdkdkUvpX3J",
        "colab_type": "text"
      },
      "source": [
        "Bathrooms, grade and floors are the variables that have shown a significant chage and this shows that they were highly correlated to the dropped columns. However, while bathrooms and grade decrease, floors increases."
      ]
    },
    {
      "cell_type": "markdown",
      "metadata": {
        "id": "2fTsjd21coXx",
        "colab_type": "text"
      },
      "source": [
        "# **Regressions.**"
      ]
    },
    {
      "cell_type": "markdown",
      "metadata": {
        "id": "e6ktOA3gUuVM",
        "colab_type": "text"
      },
      "source": [
        "## **Linear regression**"
      ]
    },
    {
      "cell_type": "markdown",
      "metadata": {
        "id": "WeIzaFxGcBc8",
        "colab_type": "text"
      },
      "source": [
        "I am going to perform linear regression first for my data inorder to have a baseline model for comparison and also see its perfomance."
      ]
    },
    {
      "cell_type": "code",
      "metadata": {
        "id": "Z3gCcRh5U08q",
        "colab_type": "code",
        "colab": {}
      },
      "source": [
        "#specification of the independent and dependent variables.\n",
        "independent = ['bedrooms', 'bathrooms', 'sqft_living', 'sqft_lot', 'floors', 'waterfront', 'view', 'condition', 'grade', 'sqft_above', 'sqft_basement', 'yr_built', 'yr_renovated', 'zipcode', 'lat', 'long', 'sqft_living15', 'sqft_lot15']\n",
        "dependent = ['price']"
      ],
      "execution_count": 54,
      "outputs": []
    },
    {
      "cell_type": "code",
      "metadata": {
        "id": "HW_yUKmCR7S3",
        "colab_type": "code",
        "colab": {
          "base_uri": "https://localhost:8080/",
          "height": 34
        },
        "outputId": "e8ec74f9-b969-4fea-a813-46aabbcd8f82"
      },
      "source": [
        "#Splitting the independent and dependent variables.\n",
        "#spliting using train_test_split to training and test dataframes.\n",
        "#fitting of the linear regression\n",
        "x1 = data[independent]\n",
        "y1 = data[dependent]\n",
        "\n",
        "x1_train, x1_test, y1_train, y1_test = train_test_split(x1, y1, test_size=0.2,random_state=0)\n",
        "\n",
        "lin_reg = LinearRegression()\n",
        "lin_reg.fit(x1_train, y1_train)"
      ],
      "execution_count": 55,
      "outputs": [
        {
          "output_type": "execute_result",
          "data": {
            "text/plain": [
              "LinearRegression(copy_X=True, fit_intercept=True, n_jobs=None, normalize=False)"
            ]
          },
          "metadata": {
            "tags": []
          },
          "execution_count": 55
        }
      ]
    },
    {
      "cell_type": "code",
      "metadata": {
        "id": "MGP8t-IMVTeO",
        "colab_type": "code",
        "colab": {
          "base_uri": "https://localhost:8080/",
          "height": 34
        },
        "outputId": "0297980a-9a10-49f1-aa38-bd7e0903a64d"
      },
      "source": [
        "#predicting the y using the linear regression and calculating the mean squared error.\n",
        "y1a_pred = lin_reg.predict(x1_test)\n",
        "lin_mod = (mean_squared_error(y1_test, y1a_pred)) \n",
        "print(\"Mean Squared Error for the linear model is:\",lin_mod)"
      ],
      "execution_count": 56,
      "outputs": [
        {
          "output_type": "stream",
          "text": [
            "Mean Squared Error for the linear model is: 36936311603.22057\n"
          ],
          "name": "stdout"
        }
      ]
    },
    {
      "cell_type": "code",
      "metadata": {
        "id": "qD-1EVuCgfWU",
        "colab_type": "code",
        "colab": {
          "base_uri": "https://localhost:8080/",
          "height": 119
        },
        "outputId": "c4d43f23-bfcd-4065-ec4f-49e4f5a12dcd"
      },
      "source": [
        "#reviewing the intercept and the coefficients.\n",
        "print(lin_reg.intercept_)\n",
        "print(lin_reg.coef_)"
      ],
      "execution_count": 37,
      "outputs": [
        {
          "output_type": "stream",
          "text": [
            "[6863493.08436299]\n",
            "[[-4.11724789e+04  4.24881934e+04  1.13230410e+02  1.44127430e-01\n",
            "   4.22091846e+03  6.27740015e+05  5.23785077e+04  2.64292721e+04\n",
            "   9.56942995e+04  7.18440207e+01  4.13863890e+01 -2.60524328e+03\n",
            "   2.11380155e+01 -5.93151496e+02  5.96355310e+05 -2.24237653e+05\n",
            "   2.37871712e+01 -4.04092231e-01]]\n"
          ],
          "name": "stdout"
        }
      ]
    },
    {
      "cell_type": "code",
      "metadata": {
        "id": "vbLHigxe2sUE",
        "colab_type": "code",
        "colab": {
          "base_uri": "https://localhost:8080/",
          "height": 34
        },
        "outputId": "ac4bd7ad-3fed-4932-fdb3-b7b14aae03e2"
      },
      "source": [
        "y1_pred = lin_reg.fit(x1,y1).predict(x1)\n",
        "lin_mod_mse = (mean_squared_error(y1, y1_pred)) \n",
        "print(\"Mean Squared Error for the linear model is:\",lin_mod_mse)"
      ],
      "execution_count": 57,
      "outputs": [
        {
          "output_type": "stream",
          "text": [
            "Mean Squared Error for the linear model is: 40449409349.24975\n"
          ],
          "name": "stdout"
        }
      ]
    },
    {
      "cell_type": "markdown",
      "metadata": {
        "id": "6lAlPmbG27Zj",
        "colab_type": "text"
      },
      "source": [
        "This is the baseline mean squared error that we are going to use for comparrison"
      ]
    },
    {
      "cell_type": "markdown",
      "metadata": {
        "id": "VmXvd1Zkdn09",
        "colab_type": "text"
      },
      "source": [
        "**Regularization**"
      ]
    },
    {
      "cell_type": "markdown",
      "metadata": {
        "id": "rF0pcsaBdrIC",
        "colab_type": "text"
      },
      "source": [
        "I use the Variance Inflation factor in order for me to regularize the model to see if I will get better results.\n",
        "I had already calculated the variance inflation factor and thus I know the columns that I have specified for use."
      ]
    },
    {
      "cell_type": "code",
      "metadata": {
        "id": "mdpao4HBWJHw",
        "colab_type": "code",
        "colab": {}
      },
      "source": [
        "#creating a new dataframe excluding the columns specified according to the VIF\n",
        "data_vif = data.drop(columns=vif_most)"
      ],
      "execution_count": 59,
      "outputs": []
    },
    {
      "cell_type": "code",
      "metadata": {
        "id": "qMLqGLwienQD",
        "colab_type": "code",
        "colab": {}
      },
      "source": [
        "#specifying the independent columns.\n",
        "independent_a = ['bedrooms', 'bathrooms', 'sqft_lot', 'floors', 'waterfront', 'view', 'condition', 'grade', 'yr_built', 'yr_renovated', 'zipcode', 'lat', 'long', 'sqft_living15', 'sqft_lot15']"
      ],
      "execution_count": 60,
      "outputs": []
    },
    {
      "cell_type": "code",
      "metadata": {
        "id": "HeTAjVQkf3bD",
        "colab_type": "code",
        "colab": {
          "base_uri": "https://localhost:8080/",
          "height": 34
        },
        "outputId": "8c83bccd-7714-4b1c-9897-b03ec3ea9239"
      },
      "source": [
        "#splitting the data into the independent and dependent variables.\n",
        "#splitting using train_test_split into training and testing dataframes.\n",
        "#fitting the linear regression.\n",
        "xa = data_vif[independent_a].values\n",
        "ya = data_vif[dependent].values.reshape(-1,1)\n",
        "\n",
        "xa_train, xa_test, ya_train, ya_test = train_test_split(xa, ya, test_size=0.2,random_state=0)\n",
        "\n",
        "lin_reg = LinearRegression()\n",
        "lin_reg.fit(xa_train, ya_train)"
      ],
      "execution_count": 61,
      "outputs": [
        {
          "output_type": "execute_result",
          "data": {
            "text/plain": [
              "LinearRegression(copy_X=True, fit_intercept=True, n_jobs=None, normalize=False)"
            ]
          },
          "metadata": {
            "tags": []
          },
          "execution_count": 61
        }
      ]
    },
    {
      "cell_type": "code",
      "metadata": {
        "id": "t84XmK7OgDOM",
        "colab_type": "code",
        "colab": {
          "base_uri": "https://localhost:8080/",
          "height": 34
        },
        "outputId": "b070ce51-3f6f-4f11-c754-c3056488dca0"
      },
      "source": [
        "#predicting the y variables using the linear regression\n",
        "#calculating the mean squared error.\n",
        "ya_pred = lin_reg.predict(xa_test)\n",
        "lin_mod_a_mse = (mean_squared_error(ya_test, ya_pred))\n",
        "print(\"Mean Squared Error for the linear model with the VIF analysed is:\",lin_mod_a_mse)"
      ],
      "execution_count": 62,
      "outputs": [
        {
          "output_type": "stream",
          "text": [
            "Mean Squared Error for the linear model with the VIF analysed is: 41226707719.43003\n"
          ],
          "name": "stdout"
        }
      ]
    },
    {
      "cell_type": "markdown",
      "metadata": {
        "id": "_XDH4F6msJbK",
        "colab_type": "text"
      },
      "source": [
        "The mean squared error for the regularized linear model is higher than the initial linear model and thus the initial/base linear model is better."
      ]
    },
    {
      "cell_type": "code",
      "metadata": {
        "id": "uNRNZ8Y4gKNP",
        "colab_type": "code",
        "colab": {
          "base_uri": "https://localhost:8080/",
          "height": 102
        },
        "outputId": "30f01de3-50df-4a6e-8a00-1e80f70a0fab"
      },
      "source": [
        "#displaying the itercept and the coefficients.\n",
        "print(lin_reg.intercept_)\n",
        "print(lin_reg.coef_)"
      ],
      "execution_count": 63,
      "outputs": [
        {
          "output_type": "stream",
          "text": [
            "[7639241.73751568]\n",
            "[[-4.98464257e+03  1.07746702e+05  2.82178801e-01  1.04870628e+04\n",
            "   6.74130657e+05  5.63963451e+04  2.61894914e+04  1.39197913e+05\n",
            "  -3.18804033e+03  2.24586196e+01 -5.20692308e+02  5.72457397e+05\n",
            "  -1.75410543e+05  9.34248032e+01 -1.66473133e-01]]\n"
          ],
          "name": "stdout"
        }
      ]
    },
    {
      "cell_type": "code",
      "metadata": {
        "id": "2GtW2RQHgdZ2",
        "colab_type": "code",
        "colab": {
          "base_uri": "https://localhost:8080/",
          "height": 51
        },
        "outputId": "08633720-5fab-4bf7-e2a6-7f72b608793c"
      },
      "source": [
        "#finding residuals.\n",
        "y1_pred = lin_reg.fit(x1,y1).predict(x1)\n",
        "residuals = np.subtract(y1_pred, y1)\n",
        "residuals = pd.DataFrame(residuals)\n",
        "#residuals=pd.DataFrame(residuals).describe()\n",
        "print(residuals.mean())"
      ],
      "execution_count": 77,
      "outputs": [
        {
          "output_type": "stream",
          "text": [
            "price    1.010340e-08\n",
            "dtype: float64\n"
          ],
          "name": "stdout"
        }
      ]
    },
    {
      "cell_type": "code",
      "metadata": {
        "id": "-UCg580W_8_L",
        "colab_type": "code",
        "colab": {
          "base_uri": "https://localhost:8080/",
          "height": 419
        },
        "outputId": "50b04d65-6708-4409-ac4b-648c56628523"
      },
      "source": [
        "residuals"
      ],
      "execution_count": 78,
      "outputs": [
        {
          "output_type": "execute_result",
          "data": {
            "text/html": [
              "<div>\n",
              "<style scoped>\n",
              "    .dataframe tbody tr th:only-of-type {\n",
              "        vertical-align: middle;\n",
              "    }\n",
              "\n",
              "    .dataframe tbody tr th {\n",
              "        vertical-align: top;\n",
              "    }\n",
              "\n",
              "    .dataframe thead th {\n",
              "        text-align: right;\n",
              "    }\n",
              "</style>\n",
              "<table border=\"1\" class=\"dataframe\">\n",
              "  <thead>\n",
              "    <tr style=\"text-align: right;\">\n",
              "      <th></th>\n",
              "      <th>price</th>\n",
              "    </tr>\n",
              "  </thead>\n",
              "  <tbody>\n",
              "    <tr>\n",
              "      <th>0</th>\n",
              "      <td>-14485.428365</td>\n",
              "    </tr>\n",
              "    <tr>\n",
              "      <th>1</th>\n",
              "      <td>198788.458130</td>\n",
              "    </tr>\n",
              "    <tr>\n",
              "      <th>2</th>\n",
              "      <td>202479.961451</td>\n",
              "    </tr>\n",
              "    <tr>\n",
              "      <th>3</th>\n",
              "      <td>-149989.923156</td>\n",
              "    </tr>\n",
              "    <tr>\n",
              "      <th>4</th>\n",
              "      <td>-69004.994186</td>\n",
              "    </tr>\n",
              "    <tr>\n",
              "      <th>...</th>\n",
              "      <td>...</td>\n",
              "    </tr>\n",
              "    <tr>\n",
              "      <th>21608</th>\n",
              "      <td>122915.537930</td>\n",
              "    </tr>\n",
              "    <tr>\n",
              "      <th>21609</th>\n",
              "      <td>36612.535419</td>\n",
              "    </tr>\n",
              "    <tr>\n",
              "      <th>21610</th>\n",
              "      <td>-258035.957184</td>\n",
              "    </tr>\n",
              "    <tr>\n",
              "      <th>21611</th>\n",
              "      <td>-14283.276398</td>\n",
              "    </tr>\n",
              "    <tr>\n",
              "      <th>21612</th>\n",
              "      <td>-178265.136987</td>\n",
              "    </tr>\n",
              "  </tbody>\n",
              "</table>\n",
              "<p>21609 rows × 1 columns</p>\n",
              "</div>"
            ],
            "text/plain": [
              "               price\n",
              "0      -14485.428365\n",
              "1      198788.458130\n",
              "2      202479.961451\n",
              "3     -149989.923156\n",
              "4      -69004.994186\n",
              "...              ...\n",
              "21608  122915.537930\n",
              "21609   36612.535419\n",
              "21610 -258035.957184\n",
              "21611  -14283.276398\n",
              "21612 -178265.136987\n",
              "\n",
              "[21609 rows x 1 columns]"
            ]
          },
          "metadata": {
            "tags": []
          },
          "execution_count": 78
        }
      ]
    },
    {
      "cell_type": "code",
      "metadata": {
        "id": "NjkzopEghn5r",
        "colab_type": "code",
        "colab": {
          "base_uri": "https://localhost:8080/",
          "height": 630
        },
        "outputId": "594519b3-e50d-496f-e079-5ea1b802fa20"
      },
      "source": [
        "#plotting the residuals against the predicted values to see the shape of the plot for visualization of heteroscedasticity\n",
        "plt.scatter(y1_pred, residuals, color='blue')\n",
        "plt.ylabel('residual')\n",
        "plt.xlabel('fitted values')\n",
        "plt.axhline(y= residuals.mean(), color='red', linewidth=2)\n",
        "plt.show()"
      ],
      "execution_count": 79,
      "outputs": [
        {
          "output_type": "error",
          "ename": "ValueError",
          "evalue": "ignored",
          "traceback": [
            "\u001b[0;31m---------------------------------------------------------------------------\u001b[0m",
            "\u001b[0;31mValueError\u001b[0m                                Traceback (most recent call last)",
            "\u001b[0;32m<ipython-input-79-1a54f107b014>\u001b[0m in \u001b[0;36m<module>\u001b[0;34m()\u001b[0m\n\u001b[1;32m      3\u001b[0m \u001b[0mplt\u001b[0m\u001b[0;34m.\u001b[0m\u001b[0mylabel\u001b[0m\u001b[0;34m(\u001b[0m\u001b[0;34m'residual'\u001b[0m\u001b[0;34m)\u001b[0m\u001b[0;34m\u001b[0m\u001b[0;34m\u001b[0m\u001b[0m\n\u001b[1;32m      4\u001b[0m \u001b[0mplt\u001b[0m\u001b[0;34m.\u001b[0m\u001b[0mxlabel\u001b[0m\u001b[0;34m(\u001b[0m\u001b[0;34m'fitted values'\u001b[0m\u001b[0;34m)\u001b[0m\u001b[0;34m\u001b[0m\u001b[0;34m\u001b[0m\u001b[0m\n\u001b[0;32m----> 5\u001b[0;31m \u001b[0mplt\u001b[0m\u001b[0;34m.\u001b[0m\u001b[0maxhline\u001b[0m\u001b[0;34m(\u001b[0m\u001b[0my\u001b[0m\u001b[0;34m=\u001b[0m \u001b[0mresiduals\u001b[0m\u001b[0;34m.\u001b[0m\u001b[0mmean\u001b[0m\u001b[0;34m(\u001b[0m\u001b[0;34m)\u001b[0m\u001b[0;34m,\u001b[0m \u001b[0mcolor\u001b[0m\u001b[0;34m=\u001b[0m\u001b[0;34m'red'\u001b[0m\u001b[0;34m,\u001b[0m \u001b[0mlinewidth\u001b[0m\u001b[0;34m=\u001b[0m\u001b[0;36m2\u001b[0m\u001b[0;34m)\u001b[0m\u001b[0;34m\u001b[0m\u001b[0;34m\u001b[0m\u001b[0m\n\u001b[0m\u001b[1;32m      6\u001b[0m \u001b[0mplt\u001b[0m\u001b[0;34m.\u001b[0m\u001b[0mshow\u001b[0m\u001b[0;34m(\u001b[0m\u001b[0;34m)\u001b[0m\u001b[0;34m\u001b[0m\u001b[0;34m\u001b[0m\u001b[0m\n",
            "\u001b[0;32m/usr/local/lib/python3.6/dist-packages/matplotlib/pyplot.py\u001b[0m in \u001b[0;36maxhline\u001b[0;34m(y, xmin, xmax, **kwargs)\u001b[0m\n\u001b[1;32m   2373\u001b[0m \u001b[0;34m@\u001b[0m\u001b[0mdocstring\u001b[0m\u001b[0;34m.\u001b[0m\u001b[0mcopy\u001b[0m\u001b[0;34m(\u001b[0m\u001b[0mAxes\u001b[0m\u001b[0;34m.\u001b[0m\u001b[0maxhline\u001b[0m\u001b[0;34m)\u001b[0m\u001b[0;34m\u001b[0m\u001b[0;34m\u001b[0m\u001b[0m\n\u001b[1;32m   2374\u001b[0m \u001b[0;32mdef\u001b[0m \u001b[0maxhline\u001b[0m\u001b[0;34m(\u001b[0m\u001b[0my\u001b[0m\u001b[0;34m=\u001b[0m\u001b[0;36m0\u001b[0m\u001b[0;34m,\u001b[0m \u001b[0mxmin\u001b[0m\u001b[0;34m=\u001b[0m\u001b[0;36m0\u001b[0m\u001b[0;34m,\u001b[0m \u001b[0mxmax\u001b[0m\u001b[0;34m=\u001b[0m\u001b[0;36m1\u001b[0m\u001b[0;34m,\u001b[0m \u001b[0;34m**\u001b[0m\u001b[0mkwargs\u001b[0m\u001b[0;34m)\u001b[0m\u001b[0;34m:\u001b[0m\u001b[0;34m\u001b[0m\u001b[0;34m\u001b[0m\u001b[0m\n\u001b[0;32m-> 2375\u001b[0;31m     \u001b[0;32mreturn\u001b[0m \u001b[0mgca\u001b[0m\u001b[0;34m(\u001b[0m\u001b[0;34m)\u001b[0m\u001b[0;34m.\u001b[0m\u001b[0maxhline\u001b[0m\u001b[0;34m(\u001b[0m\u001b[0my\u001b[0m\u001b[0;34m=\u001b[0m\u001b[0my\u001b[0m\u001b[0;34m,\u001b[0m \u001b[0mxmin\u001b[0m\u001b[0;34m=\u001b[0m\u001b[0mxmin\u001b[0m\u001b[0;34m,\u001b[0m \u001b[0mxmax\u001b[0m\u001b[0;34m=\u001b[0m\u001b[0mxmax\u001b[0m\u001b[0;34m,\u001b[0m \u001b[0;34m**\u001b[0m\u001b[0mkwargs\u001b[0m\u001b[0;34m)\u001b[0m\u001b[0;34m\u001b[0m\u001b[0;34m\u001b[0m\u001b[0m\n\u001b[0m\u001b[1;32m   2376\u001b[0m \u001b[0;34m\u001b[0m\u001b[0m\n\u001b[1;32m   2377\u001b[0m \u001b[0;34m\u001b[0m\u001b[0m\n",
            "\u001b[0;32m/usr/local/lib/python3.6/dist-packages/matplotlib/axes/_axes.py\u001b[0m in \u001b[0;36maxhline\u001b[0;34m(self, y, xmin, xmax, **kwargs)\u001b[0m\n\u001b[1;32m    845\u001b[0m         \u001b[0mself\u001b[0m\u001b[0;34m.\u001b[0m\u001b[0m_process_unit_info\u001b[0m\u001b[0;34m(\u001b[0m\u001b[0mydata\u001b[0m\u001b[0;34m=\u001b[0m\u001b[0my\u001b[0m\u001b[0;34m,\u001b[0m \u001b[0mkwargs\u001b[0m\u001b[0;34m=\u001b[0m\u001b[0mkwargs\u001b[0m\u001b[0;34m)\u001b[0m\u001b[0;34m\u001b[0m\u001b[0;34m\u001b[0m\u001b[0m\n\u001b[1;32m    846\u001b[0m         \u001b[0myy\u001b[0m \u001b[0;34m=\u001b[0m \u001b[0mself\u001b[0m\u001b[0;34m.\u001b[0m\u001b[0mconvert_yunits\u001b[0m\u001b[0;34m(\u001b[0m\u001b[0my\u001b[0m\u001b[0;34m)\u001b[0m\u001b[0;34m\u001b[0m\u001b[0;34m\u001b[0m\u001b[0m\n\u001b[0;32m--> 847\u001b[0;31m         \u001b[0mscaley\u001b[0m \u001b[0;34m=\u001b[0m \u001b[0;34m(\u001b[0m\u001b[0myy\u001b[0m \u001b[0;34m<\u001b[0m \u001b[0mymin\u001b[0m\u001b[0;34m)\u001b[0m \u001b[0;32mor\u001b[0m \u001b[0;34m(\u001b[0m\u001b[0myy\u001b[0m \u001b[0;34m>\u001b[0m \u001b[0mymax\u001b[0m\u001b[0;34m)\u001b[0m\u001b[0;34m\u001b[0m\u001b[0;34m\u001b[0m\u001b[0m\n\u001b[0m\u001b[1;32m    848\u001b[0m \u001b[0;34m\u001b[0m\u001b[0m\n\u001b[1;32m    849\u001b[0m         \u001b[0mtrans\u001b[0m \u001b[0;34m=\u001b[0m \u001b[0mself\u001b[0m\u001b[0;34m.\u001b[0m\u001b[0mget_yaxis_transform\u001b[0m\u001b[0;34m(\u001b[0m\u001b[0mwhich\u001b[0m\u001b[0;34m=\u001b[0m\u001b[0;34m'grid'\u001b[0m\u001b[0;34m)\u001b[0m\u001b[0;34m\u001b[0m\u001b[0;34m\u001b[0m\u001b[0m\n",
            "\u001b[0;32m/usr/local/lib/python3.6/dist-packages/pandas/core/generic.py\u001b[0m in \u001b[0;36m__nonzero__\u001b[0;34m(self)\u001b[0m\n\u001b[1;32m   1477\u001b[0m     \u001b[0;32mdef\u001b[0m \u001b[0m__nonzero__\u001b[0m\u001b[0;34m(\u001b[0m\u001b[0mself\u001b[0m\u001b[0;34m)\u001b[0m\u001b[0;34m:\u001b[0m\u001b[0;34m\u001b[0m\u001b[0;34m\u001b[0m\u001b[0m\n\u001b[1;32m   1478\u001b[0m         raise ValueError(\n\u001b[0;32m-> 1479\u001b[0;31m             \u001b[0;34mf\"The truth value of a {type(self).__name__} is ambiguous. \"\u001b[0m\u001b[0;34m\u001b[0m\u001b[0;34m\u001b[0m\u001b[0m\n\u001b[0m\u001b[1;32m   1480\u001b[0m             \u001b[0;34m\"Use a.empty, a.bool(), a.item(), a.any() or a.all().\"\u001b[0m\u001b[0;34m\u001b[0m\u001b[0;34m\u001b[0m\u001b[0m\n\u001b[1;32m   1481\u001b[0m         )\n",
            "\u001b[0;31mValueError\u001b[0m: The truth value of a Series is ambiguous. Use a.empty, a.bool(), a.item(), a.any() or a.all()."
          ]
        },
        {
          "output_type": "display_data",
          "data": {
            "image/png": "[encoded data removed]",
            "text/plain": [
              "<Figure size 432x288 with 1 Axes>"
            ]
          },
          "metadata": {
            "tags": [],
            "needs_background": "light"
          }
        }
      ]
    },
    {
      "cell_type": "code",
      "metadata": {
        "id": "QpBcs2hbh6H7",
        "colab_type": "code",
        "colab": {}
      },
      "source": [
        "#performing bartlett's test\n",
        "test_result, p_value = sp.stats.bartlett(y1_pred.flatten(), residuals.flatten())\n",
        "\n",
        "degree_of_freedom = len(y1_pred)-1\n",
        "probability = 1 - p_value\n",
        "\n",
        "critical_value = sp.stats.chi2.ppf(probability, degree_of_freedom)\n",
        "print(critical_value)\n",
        "if (test_result > critical_value):\n",
        "  print('the variances are unequal, and the model should be reassessed')\n",
        "else:\n",
        "  print('the variances are homogeneous!')"
      ],
      "execution_count": null,
      "outputs": []
    },
    {
      "cell_type": "markdown",
      "metadata": {
        "id": "-q0eg-W8j9T1",
        "colab_type": "text"
      },
      "source": [
        "## **Quantile Regression**"
      ]
    },
    {
      "cell_type": "markdown",
      "metadata": {
        "id": "A4A-xW8ytBjX",
        "colab_type": "text"
      },
      "source": [
        "I have performed the quantile regression with the dataframe that had vif regularization performed on it as errors arose with the initial dataset."
      ]
    },
    {
      "cell_type": "code",
      "metadata": {
        "id": "59I5zEE7jnkf",
        "colab_type": "code",
        "colab": {}
      },
      "source": [
        "#splitting the dataset into dependent and independent variables.\n",
        "x2 = data[independent_a]\n",
        "y2 = data[dependent]"
      ],
      "execution_count": null,
      "outputs": []
    },
    {
      "cell_type": "code",
      "metadata": {
        "id": "Y6GbQ9d4kVkO",
        "colab_type": "code",
        "colab": {}
      },
      "source": [
        "#fitting the quantile regression.\n",
        "quant_mod = smf.quantreg('y2 ~ x2', data)\n",
        "res = quant_mod.fit(q = 0.5)\n",
        "print(res.summary())"
      ],
      "execution_count": null,
      "outputs": []
    },
    {
      "cell_type": "code",
      "metadata": {
        "id": "cBbRZiDEq1OJ",
        "colab_type": "code",
        "colab": {}
      },
      "source": [
        "#creating a fuction for perfomance of the different models and looping through the models with a for loop while storing the parameters to a created dataframe.\n",
        "quantiles = np.arange(0.1, 1, 0.1)\n",
        "def fit_model(q):\n",
        "    res = quant_mod.fit(q=q)\n",
        "    models.append(res)\n",
        "    return [q, res.params['Intercept'], res.params['x2[0]']] + res.conf_int().loc['x2[0]'].tolist()\n",
        "\n",
        "models = [fit_model(x) for x in quantiles]\n",
        "params = pd.DataFrame(data = models, columns=['qt', 'intercept', 'x2_coef', 'cf_lower_bound', 'cf_upper_bound'])\n",
        "print(params)"
      ],
      "execution_count": null,
      "outputs": []
    },
    {
      "cell_type": "code",
      "metadata": {
        "id": "zEpAuLfPslN9",
        "colab_type": "code",
        "colab": {}
      },
      "source": [
        "#calculating for the mean squared error.\n",
        "y2_pred = quant_mod.fit(q=.5).predict(x2)\n",
        "quant_reg_mse = (mean_squared_error(y2, y2_pred))\n",
        "print(\"The mean squared error for the quantile regression is:\",quant_reg_mse)"
      ],
      "execution_count": null,
      "outputs": []
    },
    {
      "cell_type": "markdown",
      "metadata": {
        "id": "kdYGYEoavfSU",
        "colab_type": "text"
      },
      "source": [
        "The mean squared error for the quantile regression is still huge and this shows that it is also not accurate for prediction"
      ]
    },
    {
      "cell_type": "markdown",
      "metadata": {
        "id": "zTp3bQRczMlJ",
        "colab_type": "text"
      },
      "source": [
        "## **Ridge Regression**"
      ]
    },
    {
      "cell_type": "code",
      "metadata": {
        "id": "T5CTi_xvzIvQ",
        "colab_type": "code",
        "colab": {}
      },
      "source": [
        "x3 = data[independent]\n",
        "y3 = data[dependent]"
      ],
      "execution_count": null,
      "outputs": []
    },
    {
      "cell_type": "code",
      "metadata": {
        "id": "i4-OuGag2lrK",
        "colab_type": "code",
        "colab": {}
      },
      "source": [
        "rid_reg = Ridge(normalize=True)\n",
        "search = GridSearchCV(estimator=rid_reg,param_grid={'alpha':np.logspace(-5,2,8)},scoring='neg_mean_squared_error',n_jobs=1,refit=True,cv=10)"
      ],
      "execution_count": null,
      "outputs": []
    },
    {
      "cell_type": "code",
      "metadata": {
        "id": "sEwy2zOV3dqX",
        "colab_type": "code",
        "colab": {}
      },
      "source": [
        "search.fit(x3,y3)\n",
        "print(search.best_params_)\n",
        "abs(search.best_score_) "
      ],
      "execution_count": null,
      "outputs": []
    },
    {
      "cell_type": "code",
      "metadata": {
        "id": "eqm7WeMI3jbV",
        "colab_type": "code",
        "colab": {}
      },
      "source": [
        "rid_reg = Ridge(normalize=True,alpha=0.01)\n",
        "rid_reg.fit(x3,y3)\n",
        "y3_pred = rid_reg.predict(x3)\n",
        "rid_mod = (mean_squared_error(y3,y3_pred))\n",
        "print(\"The mean squared error for the ridge regression model is:\",rid_mod)"
      ],
      "execution_count": null,
      "outputs": []
    },
    {
      "cell_type": "code",
      "metadata": {
        "id": "vP1WyUQt5xbD",
        "colab_type": "code",
        "colab": {}
      },
      "source": [
        "coef_dict_baseline = {}\n",
        "for coef, feat in zip(rid_reg.coef_,x3.columns):\n",
        "    coef_dict_baseline[feat] = coef\n",
        "coef_dict_baseline"
      ],
      "execution_count": null,
      "outputs": []
    },
    {
      "cell_type": "code",
      "metadata": {
        "id": "zKGM2sss63X_",
        "colab_type": "code",
        "colab": {}
      },
      "source": [
        "coef_dict_baseline = {}\n",
        "for coef, feat in zip(lin_reg.coef_,x3.columns):\n",
        "    coef_dict_baseline[feat] = coef\n",
        "coef_dict_baseline"
      ],
      "execution_count": null,
      "outputs": []
    },
    {
      "cell_type": "markdown",
      "metadata": {
        "id": "Wg3Mz7W_9y8X",
        "colab_type": "text"
      },
      "source": [
        "## **Lasso Regression**"
      ]
    },
    {
      "cell_type": "code",
      "metadata": {
        "id": "Cm_BMg5c-UjY",
        "colab_type": "code",
        "colab": {}
      },
      "source": [
        "x4 = data[independent]\n",
        "y4 = data[dependent]"
      ],
      "execution_count": null,
      "outputs": []
    },
    {
      "cell_type": "code",
      "metadata": {
        "id": "ui-nr9PN7Ycp",
        "colab_type": "code",
        "colab": {}
      },
      "source": [
        "scaler = StandardScaler()\n",
        "scaler.fit(x4)\n",
        "x4 = scaler.transform(x4)"
      ],
      "execution_count": null,
      "outputs": []
    },
    {
      "cell_type": "code",
      "metadata": {
        "id": "MhA8-PMb-c0Y",
        "colab_type": "code",
        "colab": {}
      },
      "source": [
        "las_reg = linear_model.Lasso() \n",
        "las_reg.fit(x4, y4) \n",
        "\n",
        "# Print scores, MSE, and coefficients\n",
        "# \n",
        "print(\"lasso score:\", las_reg.score(x4, y4)) \n",
        "print(\"lasso MSE:\", mean_squared_error(y4, las_reg.predict(x4))) \n",
        "print(\"lasso coef:\", las_reg.coef_) "
      ],
      "execution_count": null,
      "outputs": []
    },
    {
      "cell_type": "code",
      "metadata": {
        "id": "6oJdX_ke-_FU",
        "colab_type": "code",
        "colab": {}
      },
      "source": [
        "import warnings\n",
        "warnings.filterwarnings(\"ignore\")\n",
        "\n",
        "x4_train, x4_test, y4_train, y4_test = train_test_split(x4, y4, test_size=0.2, random_state=100)\n",
        "parameters = {'alpha': np.concatenate((np.arange(0.1,2,0.1), np.arange(2, 5, 0.5), np.arange(5, 25, 1)))}\n",
        "\n",
        "#linear = linear_model.LinearRegression()\n",
        "#lasso = linear_model.Lasso() \n",
        "grid_las_reg = GridSearchCV(las_reg, parameters, scoring ='r2') \n",
        "\n",
        "# Fitting models and print the best parameters, R-squared scores, MSE, and coefficients\n",
        "grid_las_reg.fit(x4_train, y4_train) \n",
        "lin_reg.fit(x4_train, y4_train) \n",
        "print(\"lasso best parameters:\", grid_las_reg.best_params_) \n",
        "print(\"lasso score:\", grid_las_reg.score(x4_test, y4_test))\n",
        "print(\"lasso MSE:\", mean_squared_error(y4_test, grid_las_reg.predict(x4_test)))\n",
        "print(\"lasso best estimator coef:\", grid_las_reg.best_estimator_.coef_)"
      ],
      "execution_count": null,
      "outputs": []
    },
    {
      "cell_type": "code",
      "metadata": {
        "id": "IWMyVe6IABGi",
        "colab_type": "code",
        "colab": {}
      },
      "source": [
        "las_reg = linear_model.Lasso(alpha=0.1) \n",
        "las_reg.fit(x4, y4) \n",
        "print(\"The Lasso regression score is:\", las_reg.score(x4, y4)) \n"
      ],
      "execution_count": null,
      "outputs": []
    },
    {
      "cell_type": "code",
      "metadata": {
        "id": "aAS4ShEuCJmF",
        "colab_type": "code",
        "colab": {}
      },
      "source": [
        "y4_pred = las_reg.predict(x4)\n",
        "las_reg_mse = mean_squared_error(y4, y4_pred)\n",
        "print(\"The mean squared error for the Lasso Regression is :\", las_reg_mse)"
      ],
      "execution_count": null,
      "outputs": []
    },
    {
      "cell_type": "code",
      "metadata": {
        "id": "BKWvnAz7DgZl",
        "colab_type": "code",
        "colab": {}
      },
      "source": [
        "print(\"The best estimator coefficient:\", grid_las_reg.best_estimator_.coef_)"
      ],
      "execution_count": null,
      "outputs": []
    },
    {
      "cell_type": "markdown",
      "metadata": {
        "id": "W40uCbLu6zkU",
        "colab_type": "text"
      },
      "source": [
        "The Lasso regression does not reduce any coefficients to zero and this shows that it has failed as it cannot predict the most influential factors within the variables.\n",
        "\n",
        "The mean squared error too is just a bit higher and thus it is not better compared to the linear model."
      ]
    },
    {
      "cell_type": "markdown",
      "metadata": {
        "id": "OsdhsDL1FoLS",
        "colab_type": "text"
      },
      "source": [
        "## **Elastic Net regression**"
      ]
    },
    {
      "cell_type": "code",
      "metadata": {
        "id": "9xbtE_QXDjxB",
        "colab_type": "code",
        "colab": {}
      },
      "source": [
        "#splitting our independent and dependent variables\n",
        "x5 = data[independent]\n",
        "y5 = data[dependent]"
      ],
      "execution_count": null,
      "outputs": []
    },
    {
      "cell_type": "code",
      "metadata": {
        "id": "upDyEWq9FwEG",
        "colab_type": "code",
        "colab": {}
      },
      "source": [
        "#normalizing our data and creating a grid.\n",
        "ela_reg=ElasticNet(normalize=True)\n",
        "search=GridSearchCV(estimator=ela_reg,param_grid={'alpha':np.logspace(-5,2,8),'l1_ratio':[.2,.4,.6,.8]},scoring='neg_mean_squared_error',n_jobs=1,refit=True,cv=10)"
      ],
      "execution_count": null,
      "outputs": []
    },
    {
      "cell_type": "code",
      "metadata": {
        "id": "AM84VeKPGIRv",
        "colab_type": "code",
        "colab": {}
      },
      "source": [
        "#fitting our data and displaying the appropriate parameters.\n",
        "search.fit(x5,y5)\n",
        "abs(search.best_score_)\n",
        "print(search.best_params_)"
      ],
      "execution_count": null,
      "outputs": []
    },
    {
      "cell_type": "code",
      "metadata": {
        "id": "9Im3_kVYGVBi",
        "colab_type": "code",
        "colab": {}
      },
      "source": [
        "#substituting our parameters into the models and fitting it.\n",
        "#finding the mean squared error for the model\n",
        "ela_reg=ElasticNet(normalize=True,alpha=0.00001,l1_ratio=0.8)\n",
        "ela_reg.fit(x5,y5)\n",
        "y5_pred = ela_reg.predict(x5)\n",
        "ela_reg_mse=(mean_squared_error(y5,y5_pred))\n",
        "print(\"The mean squared error for the elastic net regression is:\",ela_reg_mse)"
      ],
      "execution_count": null,
      "outputs": []
    },
    {
      "cell_type": "code",
      "metadata": {
        "id": "kG-YhVKbHIpT",
        "colab_type": "code",
        "colab": {}
      },
      "source": [
        "coef_dict_baseline = {}\n",
        "for coef, feat in zip(ela_reg.coef_,x5.columns):\n",
        "    coef_dict_baseline[feat] = coef\n",
        "coef_dict_baseline"
      ],
      "execution_count": null,
      "outputs": []
    },
    {
      "cell_type": "markdown",
      "metadata": {
        "id": "xe4kz-b06KHy",
        "colab_type": "text"
      },
      "source": [
        "From our coefficients, we can see that latitude, longitude and waterfront highly affect the house price and this infers that the the three are huge determinants for the price of the house."
      ]
    },
    {
      "cell_type": "markdown",
      "metadata": {
        "id": "2RtWlHg1w5r_",
        "colab_type": "text"
      },
      "source": [
        "# **Conclusion and Recommendation**"
      ]
    },
    {
      "cell_type": "code",
      "metadata": {
        "id": "4eYhslxdw_ie",
        "colab_type": "code",
        "colab": {}
      },
      "source": [
        "print(\"The mean Squared Error for the linear model is:\",lin_mod_mse)\n",
        "print(\"The mean squared error for the quantile regression is:\",quant_reg_mse)\n",
        "print(\"The mean squared error for the ridge regression model is:\",rid_mod)\n",
        "print(\"The mean squared error for the Lasso Regression is :\", las_reg_mse)\n",
        "print(\"The mean squared error for the elastic net regression is:\",ela_reg_mse)"
      ],
      "execution_count": null,
      "outputs": []
    },
    {
      "cell_type": "markdown",
      "metadata": {
        "id": "Fjtd6zoZyuuw",
        "colab_type": "text"
      },
      "source": [
        "* We Can see that the linear model potrays the lowest mean squared error and this shows that it has the highest accuracy compared to the other models.\n",
        "* From the elastic net model, we can derive that longitude, latitude and waterfront highly influence the price of the house.\n",
        "* "
      ]
    },
    {
      "cell_type": "markdown",
      "metadata": {
        "id": "fTC8srhpyuff",
        "colab_type": "text"
      },
      "source": [
        ""
      ]
    }
  ]
}